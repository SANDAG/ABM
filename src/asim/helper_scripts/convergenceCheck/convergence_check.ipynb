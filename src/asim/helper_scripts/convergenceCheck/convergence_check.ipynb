{
 "cells": [
  {
   "cell_type": "code",
   "execution_count": 1,
   "metadata": {},
   "outputs": [],
   "source": [
    "import pandas as pd\n",
    "import numpy as np\n",
    "import openmatrix as omx\n",
    "import matplotlib.pyplot as plt"
   ]
  },
  {
   "cell_type": "markdown",
   "metadata": {},
   "source": [
    "### Link volume check"
   ]
  },
  {
   "cell_type": "code",
   "execution_count": null,
   "metadata": {},
   "outputs": [],
   "source": [
    "# the volume files below are exported from the loaded network in EMME\n",
    "\n",
    "volume_am = pd.read_csv(r\"C:\\abm_runs\\alie\\tasks\\convergence\\volume\\AM.csv\", delimiter='\\t')\n",
    "volume_pm = pd.read_csv(r\"C:\\abm_runs\\alie\\tasks\\convergence\\volume\\PM.csv\", delimiter='\\t')"
   ]
  },
  {
   "cell_type": "code",
   "execution_count": null,
   "metadata": {},
   "outputs": [],
   "source": [
    "link_type = {\"freeway\": [1], \"Arterial\": [2,3], \"Collector\":[4,5,6], \"Local/Other\": [7,8,9]}\n",
    "\n",
    "volume_by_type = {}\n",
    "for type, code in link_type.items():\n",
    "    volume_by_type[type] = volume_pm[volume_pm.type.isin(code)&(volume_am.lanes>0)]\n",
    "\n",
    "for type, _ in link_type.items():\n",
    "       \n",
    "    volume_by_type[type]['diff'] = volume_by_type[type]['@autovol_iter_2'] - volume_by_type[type]['@autovol_iter_3']\n",
    "    volume_by_type[type]['diff_percent'] = volume_by_type[type]['diff'] / volume_by_type[type]['@autovol_iter_2']*100\n",
    "    volume_by_type[type]['diff_percent'].replace([np.inf, -np.inf], 0, inplace=True)\n",
    "    # do a bar plot\n",
    "    # plt.figure()\n",
    "    # plt.hist(volume_by_type[type]['diff_percent'], bins=100)\n",
    "    # plt.title(type)\n",
    "    # plt.xlabel('Difference in Volume (%)')\n",
    "    # plt.ylabel('Number of Links')\n",
    "    # plt.show()\n",
    "\n",
    "    #compute and print share of links with abs difference in volume <5%\n",
    "    print(type)\n",
    "    print('Share of links with abs difference in volume <5%:', len(volume_by_type[type][abs(volume_by_type[type]['diff_percent'])<5])/len(volume_by_type[type]))\n",
    "    print('Share of links with abs difference in volume <10%:', len(volume_by_type[type][(5<abs(volume_by_type[type]['diff_percent'])) & (abs(volume_by_type[type]['diff_percent'])<10)])/len(volume_by_type[type]))\n",
    "    print('Share of links with abs difference in volume <25%:', len(volume_by_type[type][(10<abs(volume_by_type[type]['diff_percent'])) & (abs(volume_by_type[type]['diff_percent'])<25)])/len(volume_by_type[type]))\n",
    "    print('Share of links with abs difference in volume >25%:', len(volume_by_type[type][abs(volume_by_type[type]['diff_percent'])>25])/len(volume_by_type[type]))\n",
    "    print('-------------------------------------------------')\n",
    "\n"
   ]
  },
  {
   "cell_type": "code",
   "execution_count": null,
   "metadata": {},
   "outputs": [],
   "source": [
    "results = {}\n",
    "for type, _ in link_type.items():\n",
    "       \n",
    "    volume_by_type[type]['diff'] = volume_by_type[type]['@autovol_iter_3'] - volume_by_type[type]['@auto_volume']\n",
    "    volume_by_type[type]['diff_percent'] = volume_by_type[type]['diff'] / volume_by_type[type]['@autovol_iter_3']*100\n",
    "    volume_by_type[type]['diff_percent'].replace([np.inf, -np.inf], 0, inplace=True)\n",
    "    # do a bar plot\n",
    "    # plt.figure()\n",
    "    # plt.hist(volume_by_type[type]['diff_percent'], bins=100)\n",
    "    # plt.title(type)\n",
    "    # plt.xlabel('Difference in Volume (%)')\n",
    "    # plt.ylabel('Number of Links')\n",
    "    # plt.show()\n",
    "\n",
    "    #compute and print share of links with abs difference in volume <5%\n",
    "    print(type)\n",
    "    print('Share of links with abs difference in volume <5%:', len(volume_by_type[type][abs(volume_by_type[type]['diff_percent'])<5])/len(volume_by_type[type]))\n",
    "    print('Share of links with abs difference in volume <10%:', len(volume_by_type[type][(5<abs(volume_by_type[type]['diff_percent'])) & (abs(volume_by_type[type]['diff_percent'])<10)])/len(volume_by_type[type]))\n",
    "    print('Share of links with abs difference in volume <25%:', len(volume_by_type[type][(10<abs(volume_by_type[type]['diff_percent'])) & (abs(volume_by_type[type]['diff_percent'])<25)])/len(volume_by_type[type]))\n",
    "    print('Share of links with abs difference in volume >25%:', len(volume_by_type[type][abs(volume_by_type[type]['diff_percent'])>25])/len(volume_by_type[type]))\n",
    "    print('-------------------------------------------------')\n",
    "    results[type] = {\n",
    "    '<5%': len(volume_by_type[type][abs(volume_by_type[type]['diff_percent'])<5])/len(volume_by_type[type]),\n",
    "    '5-10%': len(volume_by_type[type][(5<=abs(volume_by_type[type]['diff_percent'])) & (abs(volume_by_type[type]['diff_percent'])<10)])/len(volume_by_type[type]),\n",
    "    '10-15%': len(volume_by_type[type][(10<=abs(volume_by_type[type]['diff_percent'])) & (abs(volume_by_type[type]['diff_percent'])<15)])/len(volume_by_type[type]),\n",
    "    '15-25%':len(volume_by_type[type][(10<abs(volume_by_type[type]['diff_percent'])) & (abs(volume_by_type[type]['diff_percent'])<25)])/len(volume_by_type[type]),\n",
    "    '>25%': len(volume_by_type[type][abs(volume_by_type[type]['diff_percent'])>=25])/len(volume_by_type[type])}\n",
    "\n"
   ]
  },
  {
   "cell_type": "markdown",
   "metadata": {},
   "source": [
    "### Skim Check\n"
   ]
  },
  {
   "cell_type": "code",
   "execution_count": null,
   "metadata": {},
   "outputs": [],
   "source": [
    "skim_am = {}\n",
    "for iter in [1,2,3,4]:\n",
    "    skim_am[iter] = {}\n",
    "skim_pm = {}\n",
    "for iter in [1,2,3,4]:\n",
    "    skim_pm[iter] = {}\n",
    "\n",
    "\n",
    "for iter in [1,2,3,4]:\n",
    "    skim = omx.open_file(rf\"C:\\abm_runs\\alie\\output\\ITERATIONS\\skims_iter_{iter}\\traffic_skims_AM.omx\")\n",
    "    skim_am[iter]['SOV_M_TIME'] = np.array(skim['SOV_NT_M_TIME__AM'])\n",
    "    skim_am[iter]['HOV2_M_TIME'] = np.array(skim['HOV2_M_TIME__AM'])\n",
    "    skim_am[iter]['HOV3_M_TIME'] = np.array(skim['HOV3_M_TIME__AM'])\n",
    "    skim.close()\n",
    "    skim = omx.open_file(rf\"C:\\abm_runs\\alie\\output\\ITERATIONS\\skims_iter_{iter}\\traffic_skims_PM.omx\")\n",
    "    skim_pm[iter]['SOV_M_TIME'] = np.array(skim['SOV_NT_M_TIME__PM'])\n",
    "    skim_pm[iter]['HOV2_M_TIME'] = np.array(skim['HOV2_M_TIME__PM'])\n",
    "    skim_pm[iter]['HOV3_M_TIME'] = np.array(skim['HOV3_M_TIME__PM'])\n",
    "    skim.close()\n"
   ]
  },
  {
   "cell_type": "code",
   "execution_count": null,
   "metadata": {},
   "outputs": [],
   "source": [
    "# compute rmse between two numpy arrays\n",
    "def rmse(predictions, targets):\n",
    "    return np.sqrt(((predictions - targets) ** 2).mean())\n",
    "\n",
    "iter = 3\n",
    "for core in ['SOV_M_TIME', 'HOV2_M_TIME', 'HOV3_M_TIME']:\n",
    "    print(core)\n",
    "    print(f\"am: {rmse(skim_am[iter][core] , skim_am[iter-1][core])}\")\n",
    "    print(f\"pm: {rmse(skim_pm[iter][core] , skim_pm[iter-1][core])}\")\n",
    "    print('----------------------')"
   ]
  }
 ],
 "metadata": {
  "kernelspec": {
   "display_name": "abm3_baydag",
   "language": "python",
   "name": "python3"
  },
  "language_info": {
   "codemirror_mode": {
    "name": "ipython",
    "version": 3
   },
   "file_extension": ".py",
   "mimetype": "text/x-python",
   "name": "python",
   "nbconvert_exporter": "python",
   "pygments_lexer": "ipython3",
   "version": "3.9.16"
  }
 },
 "nbformat": 4,
 "nbformat_minor": 2
}
