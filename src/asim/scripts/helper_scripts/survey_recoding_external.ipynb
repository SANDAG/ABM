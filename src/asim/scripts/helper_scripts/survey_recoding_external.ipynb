{
 "cells": [
  {
   "cell_type": "code",
   "execution_count": 1,
   "id": "0e00bb93",
   "metadata": {},
   "outputs": [],
   "source": [
    "import pandas as pd\n",
    "pd.set_option(\"display.max_columns\", 100)\n",
    "import os\n",
    "import geopandas as gpd\n",
    "from shapely.geometry import Point, LineString\n",
    "from pyproj import CRS\n",
    "import numpy as np\n",
    "import openpyxl\n",
    "import datetime\n",
    "\n",
    "start_time = datetime.datetime.now()"
   ]
  },
  {
   "cell_type": "code",
   "execution_count": 2,
   "id": "4ff14980",
   "metadata": {},
   "outputs": [],
   "source": [
    "### Define working directory\n",
    "dir_path = \"E:/Projects/Clients/sandag/TO21_Recalibration/ExternalNodeProcessing/\"\n",
    "\n",
    "### Set working directory\n",
    "os.chdir(dir_path)"
   ]
  },
  {
   "cell_type": "code",
   "execution_count": null,
   "id": "328842c8",
   "metadata": {},
   "outputs": [],
   "source": []
  },
  {
   "cell_type": "markdown",
   "id": "6ddc316d",
   "metadata": {},
   "source": [
    "## Data paths or locations"
   ]
  },
  {
   "cell_type": "code",
   "execution_count": 3,
   "id": "d22fe3dd",
   "metadata": {},
   "outputs": [],
   "source": [
    "### Data from before SPA processing\n",
    "place_path = dir_path + \"SPA_before/\"\n",
    "place_files = [\"place_day1.csv\", \n",
    "               \"place_day2.csv\", \n",
    "               \"place_day3.csv\", \n",
    "               \"place_day4.csv\", \n",
    "               \"place_day5.csv\", \n",
    "               \"place_day6.csv\", \n",
    "               \"place_day7.csv\"]"
   ]
  },
  {
   "cell_type": "code",
   "execution_count": 4,
   "id": "06fedfec",
   "metadata": {},
   "outputs": [],
   "source": [
    "### Existing geocoded trips file\n",
    "trips_path = dir_path + \"SPA_geocoded/\"\n",
    "trips_file = \"trips_debug.csv\"\n",
    "\n",
    "### Existing geocoded tours file\n",
    "tours_path = dir_path + \"SPA_geocoded/\"\n",
    "tours_file = \"tours_debug.csv\""
   ]
  },
  {
   "cell_type": "code",
   "execution_count": 5,
   "id": "8c910b05",
   "metadata": {},
   "outputs": [],
   "source": [
    "### Shp file containing SANDAG TAZ layer\n",
    "taz_shp_path = dir_path + \"SANDAG_TAZ/\"\n",
    "taz_shp_file = \"SANDAG_TAZ.shp\"\n",
    "\n",
    "### Shp file containing SANDAG MAZ layer\n",
    "maz_shp_path = dir_path + \"MGRA13/\"\n",
    "maz_shp_file = \"MGRA13.shp\"\n",
    "\n",
    "### Shp file containing external stations\n",
    "ext_shp_path = dir_path + \"externalNodes/\"\n",
    "ext_shp_file = \"externalNodes.shp\""
   ]
  },
  {
   "cell_type": "code",
   "execution_count": 6,
   "id": "ced0e371",
   "metadata": {},
   "outputs": [],
   "source": [
    "### Persons file\n",
    "per_path = dir_path + \"SPA_geocoded/\"\n",
    "per_file = \"per_debug.csv\""
   ]
  },
  {
   "cell_type": "code",
   "execution_count": null,
   "id": "a948e49f",
   "metadata": {},
   "outputs": [],
   "source": []
  },
  {
   "cell_type": "code",
   "execution_count": 7,
   "id": "9fa8c7ad",
   "metadata": {},
   "outputs": [
    {
     "name": "stderr",
     "output_type": "stream",
     "text": [
      "C:\\Users\\rohan.sirupa\\AppData\\Local\\Temp\\7\\ipykernel_13620\\643300455.py:4: DtypeWarning: Columns (5,31,32,34) have mixed types. Specify dtype option on import or set low_memory=False.\n",
      "  temp_df[i] = pd.read_csv(place_path+place_files[i])\n",
      "C:\\Users\\rohan.sirupa\\AppData\\Local\\Temp\\7\\ipykernel_13620\\643300455.py:4: DtypeWarning: Columns (5,31,32,34) have mixed types. Specify dtype option on import or set low_memory=False.\n",
      "  temp_df[i] = pd.read_csv(place_path+place_files[i])\n"
     ]
    }
   ],
   "source": [
    "### Read pre-SPA place files\n",
    "temp_df = {}\n",
    "for i in range(len(place_files)):\n",
    "    temp_df[i] = pd.read_csv(place_path+place_files[i])"
   ]
  },
  {
   "cell_type": "code",
   "execution_count": 8,
   "id": "fb8f14d5",
   "metadata": {},
   "outputs": [
    {
     "name": "stdout",
     "output_type": "stream",
     "text": [
      "Place File Shape: (232420, 7)\n"
     ]
    }
   ],
   "source": [
    "### Merge 7 day place files \n",
    "place_columns = ['SAMPN', 'PERNO', 'PLANO', 'DAYNO', 'TAZ', 'MAZ']\n",
    "\n",
    "place_df = temp_df[0][place_columns]\n",
    "for i in range(1,len(place_files)):\n",
    "    place_df = pd.concat([place_df, temp_df[i][place_columns]])\n",
    "\n",
    "place_df['uid'] = place_df.SAMPN*10000+place_df.PERNO*1000+place_df.PLANO*10+place_df.DAYNO\n",
    "    \n",
    "print(\"Place File Shape:\", place_df.shape)"
   ]
  },
  {
   "cell_type": "code",
   "execution_count": 9,
   "id": "122f7689",
   "metadata": {},
   "outputs": [
    {
     "name": "stderr",
     "output_type": "stream",
     "text": [
      "C:\\Users\\rohan.sirupa\\AppData\\Local\\Temp\\7\\ipykernel_13620\\412622707.py:3: DtypeWarning: Columns (224,228,258,259,260,261,262,263,264) have mixed types. Specify dtype option on import or set low_memory=False.\n",
      "  tours_df = pd.read_csv(tours_path+tours_file)\n"
     ]
    }
   ],
   "source": [
    "### Read trip and tour files\n",
    "trips_df = pd.read_csv(trips_path+trips_file)\n",
    "tours_df = pd.read_csv(tours_path+tours_file)"
   ]
  },
  {
   "cell_type": "code",
   "execution_count": 10,
   "id": "2d2bdf42",
   "metadata": {},
   "outputs": [],
   "source": [
    "### Read shp files\n",
    "taz_gdf = gpd.read_file(taz_shp_path+taz_shp_file)\n",
    "maz_gdf = gpd.read_file(maz_shp_path+maz_shp_file)\n",
    "ext_gdf = gpd.read_file(ext_shp_path+ext_shp_file)"
   ]
  },
  {
   "cell_type": "code",
   "execution_count": 11,
   "id": "2057e78e",
   "metadata": {},
   "outputs": [],
   "source": [
    "### Read persons file\n",
    "per_df = pd.read_csv(per_path+per_file)"
   ]
  },
  {
   "cell_type": "code",
   "execution_count": null,
   "id": "1c2fded6",
   "metadata": {},
   "outputs": [],
   "source": []
  },
  {
   "cell_type": "markdown",
   "id": "1d61ba68",
   "metadata": {},
   "source": [
    "## Fix TAZ and MAZ columns for trip/tour ends and stops - Internal only"
   ]
  },
  {
   "cell_type": "code",
   "execution_count": 12,
   "id": "e4926c53",
   "metadata": {},
   "outputs": [],
   "source": [
    "def add_taz_maz(df_orig, place_col, taz_maz_cols):\n",
    "    df = df_orig.copy()\n",
    "    df['uid'] = df['HH_ID']*10000+df['PER_ID']*1000+df[place_col]*10+df['DAYNO']\n",
    "    \n",
    "    df = pd.merge(df, place_df[['uid', 'TAZ', 'MAZ']], how=\"left\", on=['uid'])\n",
    "    \n",
    "    df[taz_maz_cols] = df[['TAZ', 'MAZ']]\n",
    "    df = df.drop(['uid', 'TAZ', 'MAZ'], axis=1)\n",
    "    \n",
    "    return df"
   ]
  },
  {
   "cell_type": "code",
   "execution_count": 13,
   "id": "7969bf0c",
   "metadata": {},
   "outputs": [],
   "source": [
    "### Adding trips origin and destination TAZs and MAZs\n",
    "trips_df = add_taz_maz(trips_df, 'ORIG_PLACENO', ['OTAZ', 'OMAZ'])\n",
    "trips_df = add_taz_maz(trips_df, 'DEST_PLACENO', ['DTAZ', 'DMAZ'])\n",
    "\n",
    "### Adding tours origin and destination TAZs and MAZs\n",
    "tours_df = add_taz_maz(tours_df, 'ORIG_PLACENO', ['OTAZ', 'OMAZ'])\n",
    "tours_df = add_taz_maz(tours_df, 'DEST_PLACENO', ['DTAZ', 'DMAZ'])\n",
    "\n",
    "### Adding tours outbound stop TAZs and MAZs\n",
    "tours_df = add_taz_maz(tours_df, 'OSTOP_1_PLACENO', ['OSTOP_1_TAZ', 'OSTOP_1_MAZ'])\n",
    "tours_df = add_taz_maz(tours_df, 'OSTOP_2_PLACENO', ['OSTOP_2_TAZ', 'OSTOP_2_MAZ'])\n",
    "tours_df = add_taz_maz(tours_df, 'OSTOP_3_PLACENO', ['OSTOP_3_TAZ', 'OSTOP_3_MAZ'])\n",
    "tours_df = add_taz_maz(tours_df, 'OSTOP_4_PLACENO', ['OSTOP_4_TAZ', 'OSTOP_4_MAZ'])\n",
    "\n",
    "### Adding tours inbound stop TAZs and MAZs\n",
    "tours_df = add_taz_maz(tours_df, 'ISTOP_1_PLACENO', ['ISTOP_1_TAZ', 'ISTOP_1_MAZ'])\n",
    "tours_df = add_taz_maz(tours_df, 'ISTOP_2_PLACENO', ['ISTOP_2_TAZ', 'ISTOP_2_MAZ'])\n",
    "tours_df = add_taz_maz(tours_df, 'ISTOP_3_PLACENO', ['ISTOP_3_TAZ', 'ISTOP_3_MAZ'])\n",
    "tours_df = add_taz_maz(tours_df, 'ISTOP_4_PLACENO', ['ISTOP_4_TAZ', 'ISTOP_4_MAZ'])"
   ]
  },
  {
   "cell_type": "code",
   "execution_count": null,
   "id": "2a268f9e",
   "metadata": {},
   "outputs": [],
   "source": []
  },
  {
   "cell_type": "markdown",
   "id": "9e727e9b",
   "metadata": {},
   "source": [
    "## Processing MAZ layer for coast trips"
   ]
  },
  {
   "cell_type": "code",
   "execution_count": 14,
   "id": "26f37ef8",
   "metadata": {},
   "outputs": [
    {
     "name": "stderr",
     "output_type": "stream",
     "text": [
      "C:\\Users\\rohan.sirupa\\AppData\\Local\\Temp\\7\\ipykernel_13620\\3192837043.py:8: UserWarning: Geometry is in a geographic CRS. Results from 'centroid' are likely incorrect. Use 'GeoSeries.to_crs()' to re-project geometries to a projected CRS before this operation.\n",
      "\n",
      "  gdf['x'] = gdf.geometry.centroid.apply(lambda x: x.x)\n",
      "C:\\Users\\rohan.sirupa\\AppData\\Local\\Temp\\7\\ipykernel_13620\\3192837043.py:9: UserWarning: Geometry is in a geographic CRS. Results from 'centroid' are likely incorrect. Use 'GeoSeries.to_crs()' to re-project geometries to a projected CRS before this operation.\n",
      "\n",
      "  gdf['y'] = gdf.geometry.centroid.apply(lambda x: x.y)\n"
     ]
    }
   ],
   "source": [
    "### Extracting latitude and longitude of each TAZ centroid\n",
    "gdf = maz_gdf.copy()\n",
    "gdf = gdf.to_crs(4326)\n",
    "\n",
    "gdf['x'] = None\n",
    "gdf['y'] = None\n",
    "\n",
    "gdf['x'] = gdf.geometry.centroid.apply(lambda x: x.x)\n",
    "gdf['y'] = gdf.geometry.centroid.apply(lambda x: x.y)\n",
    "\n",
    "# gdf.head()"
   ]
  },
  {
   "cell_type": "code",
   "execution_count": 15,
   "id": "36f27b96",
   "metadata": {},
   "outputs": [],
   "source": [
    "# ### Run to save the centroids to a shp file\n",
    "# gdf = gdf.drop('geometry', axis=1)\n",
    "# gdf = gpd.GeoDataFrame(gdf, geometry=gpd.points_from_xy(gdf.x, gdf.y, crs=\"EPSG:4326\"))\n",
    "# gdf.to_file(maz_shp_path+\"MGRA13_Centroids.shp\")"
   ]
  },
  {
   "cell_type": "code",
   "execution_count": 16,
   "id": "f7e541cc",
   "metadata": {},
   "outputs": [],
   "source": [
    "### Attach latitude and longitude to TAZ layer \n",
    "maz_gdf[['longitude', 'latitude']] = gdf[['x', 'y']] \n",
    "maz_gdf = maz_gdf.rename({'MGRA': 'MAZ'}, axis=1)\n",
    "\n",
    "### Removing TAZs far from coast\n",
    "maz_gdf2 = maz_gdf[((maz_gdf.longitude<=-117.112640) & (maz_gdf.latitude<=32.690036))|\n",
    "                   ((maz_gdf.longitude<=-117.239663) & (maz_gdf.latitude<=33.01492))|\n",
    "                   ((maz_gdf.longitude<=-117.276375) & (maz_gdf.latitude<=33.138442))|\n",
    "                   (maz_gdf.longitude<=-117.32254)]\n",
    "# maz_gdf2"
   ]
  },
  {
   "cell_type": "code",
   "execution_count": null,
   "id": "bff163cb",
   "metadata": {},
   "outputs": [],
   "source": []
  },
  {
   "cell_type": "markdown",
   "id": "7d8a92d6",
   "metadata": {},
   "source": [
    "## Processing external staions shp for external trips"
   ]
  },
  {
   "cell_type": "code",
   "execution_count": 17,
   "id": "b8331f99",
   "metadata": {},
   "outputs": [],
   "source": [
    "### Extracting latitude and longitude of each external station\n",
    "gdf1 = ext_gdf.copy()\n",
    "gdf1 = gdf1.to_crs(4326)\n",
    "\n",
    "gdf1['x'] = None\n",
    "gdf1['y'] = None\n",
    "\n",
    "gdf1['x'] = gdf1.geometry.apply(lambda x: x.x)\n",
    "gdf1['y'] = gdf1.geometry.apply(lambda x: x.y)\n",
    "\n",
    "# gdf1.head()"
   ]
  },
  {
   "cell_type": "code",
   "execution_count": 18,
   "id": "6947abc9",
   "metadata": {},
   "outputs": [],
   "source": [
    "### Attach latitude and longitude to TAZ layer \n",
    "ext_gdf[['longitude', 'latitude']] = gdf1[['x', 'y']] \n",
    "ext_gdf = ext_gdf.rename({'ID': 'TAZ'}, axis=1)\n",
    "# ext_gdf"
   ]
  },
  {
   "cell_type": "code",
   "execution_count": null,
   "id": "3590be85",
   "metadata": {},
   "outputs": [],
   "source": []
  },
  {
   "cell_type": "markdown",
   "id": "64078ace",
   "metadata": {},
   "source": [
    "## Defining functions used to identify and assign nearest MAZ/TAZ"
   ]
  },
  {
   "cell_type": "code",
   "execution_count": 19,
   "id": "6e2315f6",
   "metadata": {},
   "outputs": [],
   "source": [
    "def get_dist(a,b,c,d):\n",
    "    R = 3958.8\n",
    "\n",
    "    a = np.repeat(a, len(c))\n",
    "    b = np.repeat(b, len(c))\n",
    "    \n",
    "    lat1 = np.deg2rad(a)\n",
    "    lon1 = np.deg2rad(b)\n",
    "    lat2 = np.deg2rad(c)\n",
    "    lon2 = np.deg2rad(d)\n",
    "\n",
    "    dlon = lon2 - lon1\n",
    "    dlat = lat2 - lat1\n",
    "\n",
    "    a = (np.sin(dlat/2))**2 + np.cos(lat1) * np.cos(lat2) * (np.sin(dlon/2))**2\n",
    "    c = 2 * np.arctan2(np.sqrt(a), np.sqrt(1-a))\n",
    "    distance = R * c\n",
    "    return distance"
   ]
  },
  {
   "cell_type": "code",
   "execution_count": 20,
   "id": "72d4f12b",
   "metadata": {},
   "outputs": [],
   "source": [
    "def closest_maz(pt_lat, pt_lon, lat_col, lon_col, gdf):\n",
    "    gdf = gdf.copy()\n",
    "    gdf['distance'] = get_dist(pt_lat, pt_lon, gdf[lat_col], gdf[lon_col])\n",
    "    \n",
    "    short_gdf = gdf[gdf['distance'] == gdf['distance'].min()]\n",
    "    short_gdf = short_gdf.reset_index()\n",
    "    \n",
    "    return short_gdf.loc[0, 'MAZ']"
   ]
  },
  {
   "cell_type": "code",
   "execution_count": 21,
   "id": "500709f0",
   "metadata": {},
   "outputs": [],
   "source": [
    "def closest_taz(pt_lat, pt_lon, lat_col, lon_col, gdf):\n",
    "    gdf = gdf.copy()\n",
    "    gdf['distance'] = get_dist(pt_lat, pt_lon, gdf[lat_col], gdf[lon_col])\n",
    "    \n",
    "    short_gdf = gdf[gdf['distance'] == gdf['distance'].min()]\n",
    "    short_gdf = short_gdf.reset_index()\n",
    "    \n",
    "    return short_gdf.loc[0, 'TAZ']"
   ]
  },
  {
   "cell_type": "code",
   "execution_count": 22,
   "id": "6f005de8",
   "metadata": {},
   "outputs": [],
   "source": [
    "def assign_coast_maz(columns, df):\n",
    "    df1 = df[columns]\n",
    "    df1.columns = ['MAZ', 'XCORD', 'YCORD']\n",
    "    \n",
    "    df1 = df1[df1['MAZ'].isna()&\n",
    "              (df1.XCORD>=-117.389)&\n",
    "              (df1.XCORD<=-117.136)&\n",
    "              (df1.YCORD>=32.579)&\n",
    "              (df1.YCORD<=33.195)]\n",
    "\n",
    "    df1['MAZ'] = df1.apply(lambda x: (closest_maz(pt_lat=x.YCORD, \n",
    "                                                  pt_lon=x.XCORD, \n",
    "                                                  lat_col='latitude', \n",
    "                                                  lon_col='longitude', \n",
    "                                                  gdf=maz_gdf2)), axis=1)\n",
    "    \n",
    "    df.loc[df1.index, columns[0]] = df1['MAZ']\n",
    "    \n",
    "    return df"
   ]
  },
  {
   "cell_type": "code",
   "execution_count": 23,
   "id": "b6ad9531",
   "metadata": {},
   "outputs": [],
   "source": [
    "def assign_ext_taz(columns, df):\n",
    "    df1 = df[columns]\n",
    "    if columns[1] in ['ORIG_X', 'DEST_X'] or 'STOP' in columns[0]:\n",
    "        df1 = df1[df1[columns[1]].notna()]\n",
    "    \n",
    "    df1.columns = ['TAZ', 'XCORD', 'YCORD']\n",
    "    \n",
    "    df1 = df1[df1['TAZ'].isna()]\n",
    "\n",
    "    df1['TAZ'] = df1.apply(lambda x: (closest_taz(pt_lat=x.YCORD, \n",
    "                                                  pt_lon=x.XCORD, \n",
    "                                                  lat_col='latitude', \n",
    "                                                  lon_col='longitude', \n",
    "                                                  gdf=ext_gdf)), axis=1)\n",
    "    \n",
    "    df.loc[df1.index, columns[0]] = df1['TAZ']\n",
    "    \n",
    "    return df"
   ]
  },
  {
   "cell_type": "code",
   "execution_count": 24,
   "id": "a757a2c0",
   "metadata": {},
   "outputs": [],
   "source": [
    "def update_taz_from_maz(df, maz_col, taz_col):\n",
    "    df = pd.merge(df, maz_gdf[['MAZ', 'TAZ']], left_on=maz_col, right_on='MAZ', how='left')\n",
    "    df[taz_col] = df['TAZ']\n",
    "    return df.drop(['MAZ', 'TAZ'], axis=1)"
   ]
  },
  {
   "cell_type": "code",
   "execution_count": null,
   "id": "e68e1248",
   "metadata": {},
   "outputs": [],
   "source": []
  },
  {
   "cell_type": "markdown",
   "id": "a98a0ea0",
   "metadata": {},
   "source": [
    "## Processing Trips to update coast MAZs and TAZs"
   ]
  },
  {
   "cell_type": "code",
   "execution_count": 25,
   "id": "1e309c96",
   "metadata": {},
   "outputs": [],
   "source": [
    "### Update MAZs for coast trip ends\n",
    "trips_df1 = trips_df.copy()\n",
    "trips_df1 = assign_coast_maz(columns=['OMAZ','O_XCORD', 'O_YCORD'], df=trips_df1)\n",
    "trips_df1 = assign_coast_maz(columns=['DMAZ','D_XCORD', 'D_YCORD'], df=trips_df1)\n",
    "\n",
    "### Update TAZs from assigned MAZs\n",
    "trips_df1 = update_taz_from_maz(trips_df1, 'OMAZ', 'OTAZ')\n",
    "trips_df1 = update_taz_from_maz(trips_df1, 'DMAZ', 'DTAZ')"
   ]
  },
  {
   "cell_type": "code",
   "execution_count": 26,
   "id": "847a8501",
   "metadata": {},
   "outputs": [
    {
     "name": "stdout",
     "output_type": "stream",
     "text": [
      "Original Trips File Size: (141136, 127)\n",
      "Modified Trips File Size: (141136, 127)\n"
     ]
    }
   ],
   "source": [
    "print(\"Original Trips File Size:\", trips_df.shape)\n",
    "print(\"Modified Trips File Size:\", trips_df1.shape)"
   ]
  },
  {
   "cell_type": "code",
   "execution_count": 27,
   "id": "15bbbbcc",
   "metadata": {},
   "outputs": [],
   "source": [
    "# trips_df1.to_csv(trips_path+\"trips_debug_coast.csv\", index=False)"
   ]
  },
  {
   "cell_type": "code",
   "execution_count": null,
   "id": "1edb94bd",
   "metadata": {},
   "outputs": [],
   "source": []
  },
  {
   "cell_type": "markdown",
   "id": "b78e0124",
   "metadata": {},
   "source": [
    "## Processing Tours to update coast TAZs"
   ]
  },
  {
   "cell_type": "code",
   "execution_count": 28,
   "id": "b246ffb7",
   "metadata": {},
   "outputs": [],
   "source": [
    "### Update MAZs for coast tour ends\n",
    "tours_df1 = tours_df.copy()\n",
    "tours_df1 = assign_coast_maz(columns=['OMAZ','ORIG_X', 'ORIG_Y'], df=tours_df1)\n",
    "tours_df1 = assign_coast_maz(columns=['DMAZ','DEST_X', 'DEST_Y'], df=tours_df1)\n",
    "\n",
    "### Update TAZs from assigned MAZs\n",
    "tours_df1 = update_taz_from_maz(tours_df1, 'OMAZ', 'OTAZ')\n",
    "tours_df1 = update_taz_from_maz(tours_df1, 'DMAZ', 'DTAZ')"
   ]
  },
  {
   "cell_type": "code",
   "execution_count": 29,
   "id": "b6e9c1ce",
   "metadata": {},
   "outputs": [
    {
     "name": "stdout",
     "output_type": "stream",
     "text": [
      "Original Tours File Size: (52883, 267)\n",
      "Modified Tours File Size: (52883, 267)\n"
     ]
    }
   ],
   "source": [
    "print(\"Original Tours File Size:\", tours_df.shape)\n",
    "print(\"Modified Tours File Size:\", tours_df1.shape)"
   ]
  },
  {
   "cell_type": "code",
   "execution_count": null,
   "id": "09e68146",
   "metadata": {},
   "outputs": [],
   "source": []
  },
  {
   "cell_type": "code",
   "execution_count": 30,
   "id": "21c0bb12",
   "metadata": {},
   "outputs": [],
   "source": [
    "### Update zones for outbound and inbound coast stops\n",
    "\n",
    "for i in ['OSTOP', 'ISTOP']:\n",
    "    for j in ['1', '2', '3', '4']:\n",
    "        stop_lbl = i+'_'+j\n",
    "        if stop_lbl == 'OSTOP_3': \n",
    "            continue ### Skipping Outbound Stop-3 because there are no coast stops here\n",
    "                     ### if you run it in any case, it will cause error\n",
    "        \n",
    "        ### Update MAZs for coast stops\n",
    "        tours_df1 = assign_coast_maz(columns=[stop_lbl+'_MAZ',stop_lbl+'_X', stop_lbl+'_Y'], df=tours_df1)\n",
    "\n",
    "        ### Update TAZs from assigned MAZs\n",
    "        tours_df1 = update_taz_from_maz(tours_df1, stop_lbl+'_MAZ', stop_lbl+'_TAZ')"
   ]
  },
  {
   "cell_type": "code",
   "execution_count": 31,
   "id": "4e80d7a5",
   "metadata": {},
   "outputs": [
    {
     "name": "stdout",
     "output_type": "stream",
     "text": [
      "Original Tours File Size: (52883, 267)\n",
      "Modified Tours File Size: (52883, 267)\n"
     ]
    }
   ],
   "source": [
    "print(\"Original Tours File Size:\", tours_df.shape)\n",
    "print(\"Modified Tours File Size:\", tours_df1.shape)"
   ]
  },
  {
   "cell_type": "code",
   "execution_count": 32,
   "id": "73166ec2",
   "metadata": {},
   "outputs": [],
   "source": [
    "# tours_df1.to_csv(tours_path+\"tours_debug_coast.csv\", index=False)"
   ]
  },
  {
   "cell_type": "code",
   "execution_count": null,
   "id": "1df9b088",
   "metadata": {},
   "outputs": [],
   "source": []
  },
  {
   "cell_type": "markdown",
   "id": "cf4c3e98",
   "metadata": {},
   "source": [
    "## Processing Trips to update external TAZs"
   ]
  },
  {
   "cell_type": "code",
   "execution_count": 33,
   "id": "c7f75e28",
   "metadata": {},
   "outputs": [],
   "source": [
    "trips_df1 = assign_ext_taz(columns=['OTAZ','O_XCORD', 'O_YCORD'], df=trips_df1)\n",
    "trips_df1 = assign_ext_taz(columns=['DTAZ','D_XCORD', 'D_YCORD'], df=trips_df1)"
   ]
  },
  {
   "cell_type": "code",
   "execution_count": 34,
   "id": "198f243b",
   "metadata": {},
   "outputs": [
    {
     "name": "stdout",
     "output_type": "stream",
     "text": [
      "Original Trips File Size: (141136, 127)\n",
      "Modified Trips File Size: (141136, 127)\n"
     ]
    }
   ],
   "source": [
    "print(\"Original Trips File Size:\", trips_df.shape)\n",
    "print(\"Modified Trips File Size:\", trips_df1.shape)"
   ]
  },
  {
   "cell_type": "code",
   "execution_count": 35,
   "id": "342361a9",
   "metadata": {},
   "outputs": [],
   "source": [
    "# trips_df1.to_csv(trips_path+\"trips_debug_external.csv\", index=False)"
   ]
  },
  {
   "cell_type": "code",
   "execution_count": null,
   "id": "2b87fe68",
   "metadata": {},
   "outputs": [],
   "source": []
  },
  {
   "cell_type": "markdown",
   "id": "ba97a1d1",
   "metadata": {},
   "source": [
    "## Processing Tours to update external TAZs"
   ]
  },
  {
   "cell_type": "code",
   "execution_count": 36,
   "id": "b5b70daf",
   "metadata": {},
   "outputs": [],
   "source": [
    "tours_df1 = assign_ext_taz(columns=['OTAZ','ORIG_X', 'ORIG_Y'], df=tours_df1)\n",
    "tours_df1 = assign_ext_taz(columns=['DTAZ','DEST_X', 'DEST_Y'], df=tours_df1)"
   ]
  },
  {
   "cell_type": "code",
   "execution_count": 37,
   "id": "0aaa7f3a",
   "metadata": {},
   "outputs": [
    {
     "name": "stdout",
     "output_type": "stream",
     "text": [
      "Original Tours File Size: (52883, 267)\n",
      "Modified Tours File Size: (52883, 267)\n"
     ]
    }
   ],
   "source": [
    "print(\"Original Tours File Size:\", tours_df.shape)\n",
    "print(\"Modified Tours File Size:\", tours_df1.shape)"
   ]
  },
  {
   "cell_type": "code",
   "execution_count": null,
   "id": "f910187f",
   "metadata": {},
   "outputs": [],
   "source": []
  },
  {
   "cell_type": "code",
   "execution_count": 38,
   "id": "f8e457c6",
   "metadata": {
    "scrolled": false
   },
   "outputs": [],
   "source": [
    "### Update TAZs for outbound and inbound external stops\n",
    "\n",
    "for i in ['OSTOP', 'ISTOP']:\n",
    "    for j in ['1', '2', '3', '4']:\n",
    "        stop_lbl = i+'_'+j\n",
    "        \n",
    "        ### Update TAZS for external stops\n",
    "        tours_df1 = assign_ext_taz(columns=[stop_lbl+'_TAZ',stop_lbl+'_X', stop_lbl+'_Y'], df=tours_df1)"
   ]
  },
  {
   "cell_type": "code",
   "execution_count": 39,
   "id": "7eada87f",
   "metadata": {},
   "outputs": [
    {
     "name": "stdout",
     "output_type": "stream",
     "text": [
      "Original Tours File Size: (52883, 267)\n",
      "Modified Tours File Size: (52883, 267)\n"
     ]
    }
   ],
   "source": [
    "print(\"Original Tours File Size:\", tours_df.shape)\n",
    "print(\"Modified Tours File Size:\", tours_df1.shape)"
   ]
  },
  {
   "cell_type": "code",
   "execution_count": 40,
   "id": "677ff51a",
   "metadata": {},
   "outputs": [],
   "source": [
    "# tours_df1.to_csv(tours_path+\"tours_debug_external.csv\", index=False)"
   ]
  },
  {
   "cell_type": "code",
   "execution_count": null,
   "id": "80d837ed",
   "metadata": {},
   "outputs": [],
   "source": []
  },
  {
   "cell_type": "markdown",
   "id": "b17f6bf7",
   "metadata": {},
   "source": [
    "## Flag external trip records"
   ]
  },
  {
   "cell_type": "code",
   "execution_count": 41,
   "id": "28be0683",
   "metadata": {},
   "outputs": [
    {
     "data": {
      "text/plain": [
       "[1, 2, 3, 4, 5, 6, 7, 8, 9, 10, 11, 12]"
      ]
     },
     "execution_count": 41,
     "metadata": {},
     "output_type": "execute_result"
    }
   ],
   "source": [
    "ext_tazs = [i for i in range(1, 13)]\n",
    "ext_tazs"
   ]
  },
  {
   "cell_type": "code",
   "execution_count": 42,
   "id": "25ca4c22",
   "metadata": {},
   "outputs": [],
   "source": [
    "trips_df1['OTAZ_ext'] = 0\n",
    "trips_df1.loc[trips_df1['OTAZ'].isin(ext_tazs), 'OTAZ_ext'] = 1\n",
    "\n",
    "trips_df1['DTAZ_ext'] = 0\n",
    "trips_df1.loc[trips_df1['DTAZ'].isin(ext_tazs), 'DTAZ_ext'] = 1\n",
    "\n",
    "trips_df1['external'] = trips_df1['OTAZ_ext'] + trips_df1['DTAZ_ext']"
   ]
  },
  {
   "cell_type": "code",
   "execution_count": 43,
   "id": "5757ae91",
   "metadata": {},
   "outputs": [
    {
     "data": {
      "text/plain": [
       "0    135976\n",
       "1      5160\n",
       "Name: OTAZ_ext, dtype: int64"
      ]
     },
     "execution_count": 43,
     "metadata": {},
     "output_type": "execute_result"
    }
   ],
   "source": [
    "trips_df1['OTAZ_ext'].value_counts()"
   ]
  },
  {
   "cell_type": "code",
   "execution_count": 44,
   "id": "c6e26fb1",
   "metadata": {},
   "outputs": [
    {
     "data": {
      "text/plain": [
       "0    135884\n",
       "1      5252\n",
       "Name: DTAZ_ext, dtype: int64"
      ]
     },
     "execution_count": 44,
     "metadata": {},
     "output_type": "execute_result"
    }
   ],
   "source": [
    "trips_df1['DTAZ_ext'].value_counts()"
   ]
  },
  {
   "cell_type": "code",
   "execution_count": 45,
   "id": "fae7ba11",
   "metadata": {},
   "outputs": [
    {
     "data": {
      "text/plain": [
       "0    135163\n",
       "2      4439\n",
       "1      1534\n",
       "Name: external, dtype: int64"
      ]
     },
     "execution_count": 45,
     "metadata": {},
     "output_type": "execute_result"
    }
   ],
   "source": [
    "trips_df1['external'].value_counts()"
   ]
  },
  {
   "cell_type": "code",
   "execution_count": null,
   "id": "70d63c46",
   "metadata": {},
   "outputs": [],
   "source": []
  },
  {
   "cell_type": "markdown",
   "id": "6e4295f9",
   "metadata": {},
   "source": [
    "## Code External-Type variable for each tour record "
   ]
  },
  {
   "cell_type": "code",
   "execution_count": 46,
   "id": "4b070c4e",
   "metadata": {},
   "outputs": [],
   "source": [
    "### Coding external origins\n",
    "tours_df1['orig_ext'] = 0\n",
    "tours_df1.loc[tours_df1['OTAZ'].isin(ext_tazs), 'orig_ext'] = 1\n",
    "\n",
    "### Coding external destinations\n",
    "tours_df1['dest_ext'] = 0\n",
    "tours_df1.loc[tours_df1['DTAZ'].isin(ext_tazs), 'dest_ext'] = 1\n",
    "\n",
    "### Coding external outbound stops\n",
    "tours_df1['outbound_ext'] = 0\n",
    "tours_df1.loc[tours_df1['OSTOP_1_TAZ'].isin(ext_tazs)|\n",
    "              tours_df1['OSTOP_2_TAZ'].isin(ext_tazs)|\n",
    "              tours_df1['OSTOP_3_TAZ'].isin(ext_tazs)|\n",
    "              tours_df1['OSTOP_4_TAZ'].isin(ext_tazs), 'outbound_ext'] = 1\n",
    "\n",
    "### Coding external inbound stops\n",
    "tours_df1['inbound_ext'] = 0\n",
    "tours_df1.loc[tours_df1['ISTOP_1_TAZ'].isin(ext_tazs)|\n",
    "              tours_df1['ISTOP_2_TAZ'].isin(ext_tazs)|\n",
    "              tours_df1['ISTOP_3_TAZ'].isin(ext_tazs)|\n",
    "              tours_df1['ISTOP_4_TAZ'].isin(ext_tazs), 'inbound_ext'] = 1"
   ]
  },
  {
   "cell_type": "code",
   "execution_count": 47,
   "id": "1775a9c8",
   "metadata": {},
   "outputs": [
    {
     "data": {
      "text/plain": [
       "0    52096\n",
       "1      787\n",
       "Name: orig_ext, dtype: int64"
      ]
     },
     "execution_count": 47,
     "metadata": {},
     "output_type": "execute_result"
    }
   ],
   "source": [
    "tours_df1['orig_ext'].value_counts()"
   ]
  },
  {
   "cell_type": "code",
   "execution_count": 48,
   "id": "5e8a8f8e",
   "metadata": {},
   "outputs": [
    {
     "data": {
      "text/plain": [
       "0    51257\n",
       "1     1626\n",
       "Name: dest_ext, dtype: int64"
      ]
     },
     "execution_count": 48,
     "metadata": {},
     "output_type": "execute_result"
    }
   ],
   "source": [
    "tours_df1['dest_ext'].value_counts()"
   ]
  },
  {
   "cell_type": "code",
   "execution_count": 49,
   "id": "81e02f69",
   "metadata": {},
   "outputs": [
    {
     "data": {
      "text/plain": [
       "0    52206\n",
       "1      677\n",
       "Name: outbound_ext, dtype: int64"
      ]
     },
     "execution_count": 49,
     "metadata": {},
     "output_type": "execute_result"
    }
   ],
   "source": [
    "tours_df1['outbound_ext'].value_counts()"
   ]
  },
  {
   "cell_type": "code",
   "execution_count": 50,
   "id": "11acae6b",
   "metadata": {},
   "outputs": [
    {
     "data": {
      "text/plain": [
       "0    52367\n",
       "1      516\n",
       "Name: inbound_ext, dtype: int64"
      ]
     },
     "execution_count": 50,
     "metadata": {},
     "output_type": "execute_result"
    }
   ],
   "source": [
    "tours_df1['inbound_ext'].value_counts()"
   ]
  },
  {
   "cell_type": "code",
   "execution_count": 51,
   "id": "017225f0",
   "metadata": {},
   "outputs": [],
   "source": [
    "## Three external type tours: II, II-Ext, EE\n",
    "### II - Fully internal tour\n",
    "### II-Ext - Starts and ends internally but has atleast one external stop\n",
    "### EE - Fully external tour\n",
    "\n",
    "tours_df1['external_type'] = np.nan\n",
    "tours_df1.loc[(tours_df1['orig_ext']==0), 'external_type'] = 'II'\n",
    "tours_df1.loc[(tours_df1['orig_ext']==0)&\n",
    "              ((tours_df1['dest_ext']==1)|\n",
    "              (tours_df1['outbound_ext']==1)|\n",
    "              (tours_df1['inbound_ext']==1)), 'external_type'] = 'II-Ext'\n",
    "tours_df1.loc[(tours_df1['orig_ext']==1), 'external_type'] = 'EE'\n"
   ]
  },
  {
   "cell_type": "code",
   "execution_count": 52,
   "id": "6a77b943",
   "metadata": {},
   "outputs": [
    {
     "data": {
      "text/plain": [
       "II        51079\n",
       "II-Ext     1017\n",
       "EE          787\n",
       "Name: external_type, dtype: int64"
      ]
     },
     "execution_count": 52,
     "metadata": {},
     "output_type": "execute_result"
    }
   ],
   "source": [
    "tours_df1['external_type'].value_counts()"
   ]
  },
  {
   "cell_type": "code",
   "execution_count": null,
   "id": "5412c47e",
   "metadata": {},
   "outputs": [],
   "source": []
  },
  {
   "cell_type": "markdown",
   "id": "5f7f3574",
   "metadata": {},
   "source": [
    "## Identify II-Ext Trips Traveling more than 360 miles"
   ]
  },
  {
   "cell_type": "code",
   "execution_count": 53,
   "id": "b5af8aaf",
   "metadata": {},
   "outputs": [],
   "source": [
    "def get_dist2(a,b,c,d):\n",
    "    R = 3958.8\n",
    "    \n",
    "    lat1 = np.deg2rad(a)\n",
    "    lon1 = np.deg2rad(b)\n",
    "    lat2 = np.deg2rad(c)\n",
    "    lon2 = np.deg2rad(d)\n",
    "\n",
    "    dlon = lon2 - lon1\n",
    "    dlat = lat2 - lat1\n",
    "\n",
    "    a = (np.sin(dlat/2))**2 + np.cos(lat1) * np.cos(lat2) * (np.sin(dlon/2))**2\n",
    "    c = 2 * np.arctan2(np.sqrt(a), np.sqrt(1-a))\n",
    "    distance = R * c\n",
    "    return distance"
   ]
  },
  {
   "cell_type": "code",
   "execution_count": 54,
   "id": "74c1f792",
   "metadata": {},
   "outputs": [],
   "source": [
    "def ie_distance(taz_col, dist_col, XCORD, YCORD, df_orig, gdf=ext_gdf):\n",
    "#     df_orig = df_orig.copy()\n",
    "    df1 = df_orig[df_orig.external_type==\"II-Ext\"]\n",
    "\n",
    "    df1 = pd.merge(df1, gdf[['TAZ', 'longitude', 'latitude']], left_on=taz_col, right_on='TAZ', how='left')\n",
    "\n",
    "    df1.index = df_orig[df_orig.external_type==\"II-Ext\"].index\n",
    "\n",
    "    df1.loc[df1.TAZ<13, dist_col] = df1[df1.TAZ<13].apply(lambda x: (get_dist2(a=x[YCORD], \n",
    "                                                                               b=x[XCORD], \n",
    "                                                                               c=x.latitude, \n",
    "                                                                               d=x.longitude)), axis=1)\n",
    "\n",
    "    df_orig.loc[df_orig.external_type=='II-Ext', dist_col] = df1[dist_col]\n",
    "\n",
    "    return df_orig"
   ]
  },
  {
   "cell_type": "code",
   "execution_count": 55,
   "id": "ab11eb75",
   "metadata": {},
   "outputs": [],
   "source": [
    "tours_df1 = ie_distance('DTAZ', 'DEST_Dist', 'DEST_X', 'DEST_Y', df_orig=tours_df1.copy(), gdf=ext_gdf)\n",
    "\n",
    "tours_df1 = ie_distance('OSTOP_1_TAZ', 'OSTOP_1_Dist', 'OSTOP_1_X', 'OSTOP_1_Y', df_orig=tours_df1.copy(), gdf=ext_gdf)\n",
    "tours_df1 = ie_distance('OSTOP_2_TAZ', 'OSTOP_2_Dist', 'OSTOP_2_X', 'OSTOP_2_Y', df_orig=tours_df1.copy(), gdf=ext_gdf)\n",
    "tours_df1 = ie_distance('OSTOP_3_TAZ', 'OSTOP_3_Dist', 'OSTOP_3_X', 'OSTOP_3_Y', df_orig=tours_df1.copy(), gdf=ext_gdf)\n",
    "tours_df1 = ie_distance('OSTOP_4_TAZ', 'OSTOP_4_Dist', 'OSTOP_4_X', 'OSTOP_4_Y', df_orig=tours_df1.copy(), gdf=ext_gdf)\n",
    "\n",
    "tours_df1 = ie_distance('ISTOP_1_TAZ', 'ISTOP_1_Dist', 'ISTOP_1_X', 'ISTOP_1_Y', df_orig=tours_df1.copy(), gdf=ext_gdf)\n",
    "tours_df1 = ie_distance('ISTOP_2_TAZ', 'ISTOP_2_Dist', 'ISTOP_2_X', 'ISTOP_2_Y', df_orig=tours_df1.copy(), gdf=ext_gdf)\n",
    "tours_df1 = ie_distance('ISTOP_3_TAZ', 'ISTOP_3_Dist', 'ISTOP_3_X', 'ISTOP_3_Y', df_orig=tours_df1.copy(), gdf=ext_gdf)\n",
    "tours_df1 = ie_distance('ISTOP_4_TAZ', 'ISTOP_4_Dist', 'ISTOP_4_X', 'ISTOP_4_Y', df_orig=tours_df1.copy(), gdf=ext_gdf)"
   ]
  },
  {
   "cell_type": "code",
   "execution_count": null,
   "id": "41953bd6",
   "metadata": {},
   "outputs": [],
   "source": []
  },
  {
   "cell_type": "code",
   "execution_count": 56,
   "id": "61f4e2a9",
   "metadata": {},
   "outputs": [],
   "source": [
    "tours_df1['IE_open_jaw'] = 0\n",
    "tours_df1.loc[tours_df1['DEST_Dist']>360, 'IE_open_jaw'] = 1\n",
    "tours_df1.loc[tours_df1['OSTOP_1_Dist']>360, 'IE_open_jaw'] = 1\n",
    "tours_df1.loc[tours_df1['OSTOP_2_Dist']>360, 'IE_open_jaw'] = 1\n",
    "tours_df1.loc[tours_df1['OSTOP_3_Dist']>360, 'IE_open_jaw'] = 1\n",
    "tours_df1.loc[tours_df1['OSTOP_4_Dist']>360, 'IE_open_jaw'] = 1\n",
    "tours_df1.loc[tours_df1['ISTOP_1_Dist']>360, 'IE_open_jaw'] = 1\n",
    "tours_df1.loc[tours_df1['ISTOP_2_Dist']>360, 'IE_open_jaw'] = 1\n",
    "tours_df1.loc[tours_df1['ISTOP_3_Dist']>360, 'IE_open_jaw'] = 1\n",
    "tours_df1.loc[tours_df1['ISTOP_4_Dist']>360, 'IE_open_jaw'] = 1\n",
    "\n",
    "tours_df1.loc[tours_df1.IE_open_jaw==1, 'external_type'] = 'IE'"
   ]
  },
  {
   "cell_type": "code",
   "execution_count": 57,
   "id": "bf686ce9",
   "metadata": {},
   "outputs": [
    {
     "data": {
      "text/plain": [
       "II        51079\n",
       "II-Ext      825\n",
       "EE          787\n",
       "IE          192\n",
       "Name: external_type, dtype: int64"
      ]
     },
     "execution_count": 57,
     "metadata": {},
     "output_type": "execute_result"
    }
   ],
   "source": [
    "tours_df1['external_type'].value_counts()"
   ]
  },
  {
   "cell_type": "code",
   "execution_count": null,
   "id": "db4b558a",
   "metadata": {},
   "outputs": [],
   "source": []
  },
  {
   "cell_type": "markdown",
   "id": "3677b134",
   "metadata": {},
   "source": [
    "## II-Ext Tours whose Primary Destination is Internal"
   ]
  },
  {
   "cell_type": "code",
   "execution_count": 58,
   "id": "b31cbf32",
   "metadata": {},
   "outputs": [],
   "source": [
    "tours_df1['II-Ext_internal_dest'] = 0\n",
    "tours_df1.loc[tours_df1.external_type=='II-Ext', 'II-Ext_internal_dest'] = 1\n",
    "tours_df1.loc[(tours_df1.external_type=='II-Ext')&(tours_df1.DTAZ>12), 'II-Ext_internal_dest'] = 2"
   ]
  },
  {
   "cell_type": "code",
   "execution_count": 59,
   "id": "1e5b02a0",
   "metadata": {},
   "outputs": [
    {
     "data": {
      "text/plain": [
       "0    52058\n",
       "1      754\n",
       "2       71\n",
       "Name: II-Ext_internal_dest, dtype: int64"
      ]
     },
     "execution_count": 59,
     "metadata": {},
     "output_type": "execute_result"
    }
   ],
   "source": [
    "tours_df1['II-Ext_internal_dest'].value_counts()"
   ]
  },
  {
   "cell_type": "code",
   "execution_count": null,
   "id": "6c3b1315",
   "metadata": {},
   "outputs": [],
   "source": []
  },
  {
   "cell_type": "markdown",
   "id": "a9cf0ddd",
   "metadata": {},
   "source": [
    "## Reset Primary Destination of II-Ext tours with internal destination"
   ]
  },
  {
   "cell_type": "code",
   "execution_count": 60,
   "id": "b1ea429d",
   "metadata": {},
   "outputs": [],
   "source": [
    "def most_frequent(List):\n",
    "    counter = 0\n",
    "    num = List[0]\n",
    "     \n",
    "    for i in List:\n",
    "        curr_frequency = List.count(i)\n",
    "        if(curr_frequency> counter)&(i != 0):\n",
    "            counter = curr_frequency\n",
    "            num = i\n",
    " \n",
    "    return num"
   ]
  },
  {
   "cell_type": "code",
   "execution_count": 61,
   "id": "5d390e9e",
   "metadata": {},
   "outputs": [],
   "source": [
    "stop_taz_cols = ['DTAZ', \n",
    "                 'OSTOP_1_TAZ', 'OSTOP_2_TAZ', 'OSTOP_3_TAZ', 'OSTOP_4_TAZ', \n",
    "                 'ISTOP_1_TAZ', 'ISTOP_2_TAZ', 'ISTOP_3_TAZ', 'ISTOP_4_TAZ']\n",
    "temp_df = tours_df1.loc[tours_df1['II-Ext_internal_dest']==2, stop_taz_cols[1:]]\n",
    "\n",
    "for i in temp_df.columns:\n",
    "    temp_df.loc[temp_df[i]>12, i] = 0\n",
    "temp_df = temp_df.fillna(0)\n",
    "\n",
    "temp_df['most_frequent'] = 0\n",
    "for i in temp_df.index:\n",
    "    List = temp_df[stop_taz_cols[1:]].loc[i].to_list()\n",
    "    temp_df.loc[i, 'most_frequent'] = most_frequent(List)\n",
    "\n",
    "# temp_df"
   ]
  },
  {
   "cell_type": "code",
   "execution_count": 62,
   "id": "7dedb0ea",
   "metadata": {},
   "outputs": [],
   "source": [
    "tours_df1.loc[tours_df1['II-Ext_internal_dest']==2, 'DTAZ'] = temp_df['most_frequent']"
   ]
  },
  {
   "cell_type": "code",
   "execution_count": null,
   "id": "8c6117cf",
   "metadata": {},
   "outputs": [],
   "source": []
  },
  {
   "cell_type": "markdown",
   "id": "9811bedb",
   "metadata": {},
   "source": [
    "## Remove External Stops in Outbound and Inbound Direction"
   ]
  },
  {
   "cell_type": "code",
   "execution_count": 63,
   "id": "a6709bbc",
   "metadata": {},
   "outputs": [],
   "source": [
    "### Processing outbound stop TAZs\n",
    "### Remove external TAZs\n",
    "df1 = tours_df1[(tours_df1['external_type']=='II-Ext')&(tours_df1['outbound_ext']==1)]\n",
    "\n",
    "outstop_taz_cols = ['OSTOP_1_TAZ', 'OSTOP_2_TAZ', 'OSTOP_3_TAZ', 'OSTOP_4_TAZ']\n",
    "\n",
    "for i in range(1,5):\n",
    "    edit_stop_cols = ['OSTOP_'+str(j)+'_TAZ' for j in range(i,5)]\n",
    "\n",
    "    df1.loc[df1['OSTOP_'+str(i)+'_TAZ']<=12, edit_stop_cols] = np.nan\n",
    "\n",
    "# df1.loc[:, outstop_taz_cols]"
   ]
  },
  {
   "cell_type": "code",
   "execution_count": 64,
   "id": "87c068d8",
   "metadata": {},
   "outputs": [],
   "source": [
    "### Merge the changes made above with tours dataframe\n",
    "tours_df1.loc[df1.index, outstop_taz_cols] = df1.loc[:, outstop_taz_cols]"
   ]
  },
  {
   "cell_type": "code",
   "execution_count": null,
   "id": "b8bc4268",
   "metadata": {},
   "outputs": [],
   "source": []
  },
  {
   "cell_type": "code",
   "execution_count": 65,
   "id": "db2acfeb",
   "metadata": {},
   "outputs": [],
   "source": [
    "### Processing inbound stop TAZs\n",
    "### Remove external TAZs and move internal stops in sequence \n",
    "df2 = tours_df1[(tours_df1['external_type']=='II-Ext')&(tours_df1['inbound_ext']==1)]\n",
    "\n",
    "instop_taz_cols = ['ISTOP_1_TAZ', 'ISTOP_2_TAZ', 'ISTOP_3_TAZ', 'ISTOP_4_TAZ']\n",
    "\n",
    "for i in range(4,0,-1):\n",
    "    edit_stop_cols = ['ISTOP_'+str(j)+'_TAZ' for j in range(i,0,-1)]\n",
    "\n",
    "    df2.loc[df2['ISTOP_'+str(i)+'_TAZ']<=12, edit_stop_cols] = np.nan\n",
    "\n",
    "    if i!=4:\n",
    "        df3 = df2[df2['ISTOP_'+str(i)+'_TAZ'].isna()&df2['ISTOP_'+str(i+1)+'_TAZ'].notna()].copy()\n",
    "\n",
    "        if i==3:\n",
    "            df3[['ISTOP_1_TAZ']] = df3[['ISTOP_4_TAZ']]\n",
    "            df3[['ISTOP_4_TAZ']] = np.nan\n",
    "        elif i==2:\n",
    "            df3[['ISTOP_1_TAZ', 'ISTOP_2_TAZ']] = df3[['ISTOP_3_TAZ', 'ISTOP_4_TAZ']]\n",
    "            df3[['ISTOP_3_TAZ', 'ISTOP_4_TAZ']] = np.nan\n",
    "        elif i==1:\n",
    "            df3[['ISTOP_1_TAZ', 'ISTOP_2_TAZ', 'ISTOP_3_TAZ']] = df3[['ISTOP_2_TAZ', 'ISTOP_3_TAZ', 'ISTOP_4_TAZ']]\n",
    "            df3['ISTOP_4_TAZ'] = np.nan\n",
    "\n",
    "        df2.loc[df3.index, instop_taz_cols] = df3.loc[:, instop_taz_cols]\n",
    "\n",
    "# df2.loc[:, instop_taz_cols]"
   ]
  },
  {
   "cell_type": "code",
   "execution_count": 66,
   "id": "e8737650",
   "metadata": {},
   "outputs": [],
   "source": [
    "### Merge the changes made above with tours dataframe\n",
    "tours_df1.loc[df2.index, instop_taz_cols] = df2.loc[:, instop_taz_cols]"
   ]
  },
  {
   "cell_type": "code",
   "execution_count": null,
   "id": "4bfb3660",
   "metadata": {},
   "outputs": [],
   "source": []
  },
  {
   "cell_type": "code",
   "execution_count": 67,
   "id": "c080622a",
   "metadata": {},
   "outputs": [],
   "source": [
    "### Coding new external outbound stops\n",
    "tours_df1['outbound_ext2'] = 0\n",
    "tours_df1.loc[tours_df1['OSTOP_1_TAZ'].isin(ext_tazs)|\n",
    "              tours_df1['OSTOP_2_TAZ'].isin(ext_tazs)|\n",
    "              tours_df1['OSTOP_3_TAZ'].isin(ext_tazs)|\n",
    "              tours_df1['OSTOP_4_TAZ'].isin(ext_tazs), 'outbound_ext2'] = 1\n",
    "\n",
    "### Coding new external inbound stops\n",
    "tours_df1['inbound_ext2'] = 0\n",
    "tours_df1.loc[tours_df1['ISTOP_1_TAZ'].isin(ext_tazs)|\n",
    "              tours_df1['ISTOP_2_TAZ'].isin(ext_tazs)|\n",
    "              tours_df1['ISTOP_3_TAZ'].isin(ext_tazs)|\n",
    "              tours_df1['ISTOP_4_TAZ'].isin(ext_tazs), 'inbound_ext2'] = 1"
   ]
  },
  {
   "cell_type": "code",
   "execution_count": null,
   "id": "0e132abb",
   "metadata": {},
   "outputs": [],
   "source": []
  },
  {
   "cell_type": "code",
   "execution_count": 68,
   "id": "ef7cde0b",
   "metadata": {},
   "outputs": [],
   "source": [
    "### Re-counting outbound and inbound stops\n",
    "tours_df1[['outbound_stops', 'inbound_stops']] = tours_df1[['OUTBOUND_STOPS', 'INBOUND_STOPS']]\n",
    "\n",
    "tours_df1.loc[~(tours_df1['OSTOP_1_TAZ'].isna())&(tours_df1['external_type']=='II-Ext'), 'outbound_stops'] = 1\n",
    "tours_df1.loc[~(tours_df1['OSTOP_2_TAZ'].isna())&(tours_df1['external_type']=='II-Ext'), 'outbound_stops'] = 2\n",
    "tours_df1.loc[~(tours_df1['OSTOP_3_TAZ'].isna())&(tours_df1['external_type']=='II-Ext'), 'outbound_stops'] = 3\n",
    "tours_df1.loc[~(tours_df1['OSTOP_4_TAZ'].isna())&(tours_df1['external_type']=='II-Ext'), 'outbound_stops'] = 4\n",
    "\n",
    "tours_df1.loc[~(tours_df1['ISTOP_1_TAZ'].isna())&(tours_df1['external_type']=='II-Ext'), 'inbound_stops'] = 1\n",
    "tours_df1.loc[~(tours_df1['ISTOP_2_TAZ'].isna())&(tours_df1['external_type']=='II-Ext'), 'inbound_stops'] = 2\n",
    "tours_df1.loc[~(tours_df1['ISTOP_3_TAZ'].isna())&(tours_df1['external_type']=='II-Ext'), 'inbound_stops'] = 3\n",
    "tours_df1.loc[~(tours_df1['ISTOP_4_TAZ'].isna())&(tours_df1['external_type']=='II-Ext'), 'inbound_stops'] = 4"
   ]
  },
  {
   "cell_type": "code",
   "execution_count": null,
   "id": "79512e78",
   "metadata": {},
   "outputs": [],
   "source": []
  },
  {
   "cell_type": "markdown",
   "id": "1ff0c32e",
   "metadata": {},
   "source": [
    "## Add Expansion Factors from Persons File"
   ]
  },
  {
   "cell_type": "code",
   "execution_count": 69,
   "id": "fbd5795a",
   "metadata": {},
   "outputs": [],
   "source": [
    "trips_df1['personid'] = trips_df1['HH_ID']*100+trips_df1['PER_ID']\n",
    "tours_df1['personid'] = tours_df1['HH_ID']*100+tours_df1['PER_ID']\n",
    "\n",
    "trips_df1 = pd.merge(trips_df1, per_df[['personid', 'finalweight']], on='personid', how='left')\n",
    "tours_df1 = pd.merge(tours_df1, per_df[['personid', 'finalweight']], on='personid', how='left')"
   ]
  },
  {
   "cell_type": "code",
   "execution_count": null,
   "id": "6770852e",
   "metadata": {},
   "outputs": [],
   "source": []
  },
  {
   "cell_type": "markdown",
   "id": "04f32d45",
   "metadata": {},
   "source": [
    "## External Type and Purpose Tables"
   ]
  },
  {
   "cell_type": "code",
   "execution_count": 70,
   "id": "f9237c43",
   "metadata": {},
   "outputs": [],
   "source": [
    "tour_purpose_name = {     \n",
    "    0: 'Home',\n",
    "    1: 'Work',\n",
    "    2: 'University',\n",
    "    3: 'School',\n",
    "    4: 'Escort',\n",
    "    5: 'Shopping',\n",
    "    6: 'Maintenance',\n",
    "    7: 'Eat Out',\n",
    "    8: 'Social/Visit',\n",
    "    9: 'Discretionary',\n",
    "    10: 'Work-Related',\n",
    "    11: 'Loop',\n",
    "    12: 'Change Mode',\n",
    "    13: 'Other'\n",
    "}\n",
    "tours_df1['tour_purpose'] = tours_df1['TOURPURP'].map(tour_purpose_name)\n",
    "\n",
    "# tours_df1['tour_purpose'].value_counts().rename_axis('Purpose').reset_index(name='Tour Counts')"
   ]
  },
  {
   "cell_type": "code",
   "execution_count": 71,
   "id": "8751b137",
   "metadata": {},
   "outputs": [
    {
     "data": {
      "text/html": [
       "<div>\n",
       "<style scoped>\n",
       "    .dataframe tbody tr th:only-of-type {\n",
       "        vertical-align: middle;\n",
       "    }\n",
       "\n",
       "    .dataframe tbody tr th {\n",
       "        vertical-align: top;\n",
       "    }\n",
       "\n",
       "    .dataframe thead th {\n",
       "        text-align: right;\n",
       "    }\n",
       "</style>\n",
       "<table border=\"1\" class=\"dataframe\">\n",
       "  <thead>\n",
       "    <tr style=\"text-align: right;\">\n",
       "      <th></th>\n",
       "      <th>Counts</th>\n",
       "    </tr>\n",
       "    <tr>\n",
       "      <th>external_type</th>\n",
       "      <th></th>\n",
       "    </tr>\n",
       "  </thead>\n",
       "  <tbody>\n",
       "    <tr>\n",
       "      <th>EE</th>\n",
       "      <td>787</td>\n",
       "    </tr>\n",
       "    <tr>\n",
       "      <th>IE</th>\n",
       "      <td>192</td>\n",
       "    </tr>\n",
       "    <tr>\n",
       "      <th>II</th>\n",
       "      <td>51079</td>\n",
       "    </tr>\n",
       "    <tr>\n",
       "      <th>II-Ext</th>\n",
       "      <td>825</td>\n",
       "    </tr>\n",
       "    <tr>\n",
       "      <th>Total</th>\n",
       "      <td>52883</td>\n",
       "    </tr>\n",
       "  </tbody>\n",
       "</table>\n",
       "</div>"
      ],
      "text/plain": [
       "               Counts\n",
       "external_type        \n",
       "EE                787\n",
       "IE                192\n",
       "II              51079\n",
       "II-Ext            825\n",
       "Total           52883"
      ]
     },
     "execution_count": 71,
     "metadata": {},
     "output_type": "execute_result"
    }
   ],
   "source": [
    "tours_exttype = pd.pivot_table(tours_df1, \n",
    "                               index='external_type', \n",
    "                               values='finalweight_y', \n",
    "                               aggfunc='count', \n",
    "                               margins=True, margins_name='Total').rename({'finalweight_y': 'Counts'}, axis=1)\n",
    "tours_exttype"
   ]
  },
  {
   "cell_type": "code",
   "execution_count": 72,
   "id": "f28d2027",
   "metadata": {},
   "outputs": [
    {
     "data": {
      "text/html": [
       "<div>\n",
       "<style scoped>\n",
       "    .dataframe tbody tr th:only-of-type {\n",
       "        vertical-align: middle;\n",
       "    }\n",
       "\n",
       "    .dataframe tbody tr th {\n",
       "        vertical-align: top;\n",
       "    }\n",
       "\n",
       "    .dataframe thead th {\n",
       "        text-align: right;\n",
       "    }\n",
       "</style>\n",
       "<table border=\"1\" class=\"dataframe\">\n",
       "  <thead>\n",
       "    <tr style=\"text-align: right;\">\n",
       "      <th></th>\n",
       "      <th>Weighted Counts</th>\n",
       "    </tr>\n",
       "    <tr>\n",
       "      <th>external_type</th>\n",
       "      <th></th>\n",
       "    </tr>\n",
       "  </thead>\n",
       "  <tbody>\n",
       "    <tr>\n",
       "      <th>EE</th>\n",
       "      <td>112274</td>\n",
       "    </tr>\n",
       "    <tr>\n",
       "      <th>IE</th>\n",
       "      <td>25767</td>\n",
       "    </tr>\n",
       "    <tr>\n",
       "      <th>II</th>\n",
       "      <td>11231709</td>\n",
       "    </tr>\n",
       "    <tr>\n",
       "      <th>II-Ext</th>\n",
       "      <td>177411</td>\n",
       "    </tr>\n",
       "    <tr>\n",
       "      <th>Total</th>\n",
       "      <td>11547161</td>\n",
       "    </tr>\n",
       "  </tbody>\n",
       "</table>\n",
       "</div>"
      ],
      "text/plain": [
       "               Weighted Counts\n",
       "external_type                 \n",
       "EE                      112274\n",
       "IE                       25767\n",
       "II                    11231709\n",
       "II-Ext                  177411\n",
       "Total                 11547161"
      ]
     },
     "execution_count": 72,
     "metadata": {},
     "output_type": "execute_result"
    }
   ],
   "source": [
    "tours_exttype_expd = pd.pivot_table(tours_df1, \n",
    "                                    index='external_type', \n",
    "                                    values='finalweight_y', \n",
    "                                    aggfunc=np.sum, \n",
    "                                    margins=True, \n",
    "                                    margins_name='Total').round().astype(int).rename({'finalweight_y': 'Weighted Counts'}, axis=1)\n",
    "tours_exttype_expd"
   ]
  },
  {
   "cell_type": "code",
   "execution_count": 73,
   "id": "9636d274",
   "metadata": {},
   "outputs": [
    {
     "data": {
      "text/html": [
       "<div>\n",
       "<style scoped>\n",
       "    .dataframe tbody tr th:only-of-type {\n",
       "        vertical-align: middle;\n",
       "    }\n",
       "\n",
       "    .dataframe tbody tr th {\n",
       "        vertical-align: top;\n",
       "    }\n",
       "\n",
       "    .dataframe thead th {\n",
       "        text-align: right;\n",
       "    }\n",
       "</style>\n",
       "<table border=\"1\" class=\"dataframe\">\n",
       "  <thead>\n",
       "    <tr style=\"text-align: right;\">\n",
       "      <th>external_type</th>\n",
       "      <th>EE</th>\n",
       "      <th>IE</th>\n",
       "      <th>II</th>\n",
       "      <th>II-Ext</th>\n",
       "      <th>Total</th>\n",
       "    </tr>\n",
       "    <tr>\n",
       "      <th>tour_purpose</th>\n",
       "      <th></th>\n",
       "      <th></th>\n",
       "      <th></th>\n",
       "      <th></th>\n",
       "      <th></th>\n",
       "    </tr>\n",
       "  </thead>\n",
       "  <tbody>\n",
       "    <tr>\n",
       "      <th>Change Mode</th>\n",
       "      <td>18</td>\n",
       "      <td>22</td>\n",
       "      <td>169</td>\n",
       "      <td>10</td>\n",
       "      <td>219</td>\n",
       "    </tr>\n",
       "    <tr>\n",
       "      <th>Discretionary</th>\n",
       "      <td>145</td>\n",
       "      <td>46</td>\n",
       "      <td>5511</td>\n",
       "      <td>176</td>\n",
       "      <td>5878</td>\n",
       "    </tr>\n",
       "    <tr>\n",
       "      <th>Eat Out</th>\n",
       "      <td>103</td>\n",
       "      <td>14</td>\n",
       "      <td>3373</td>\n",
       "      <td>49</td>\n",
       "      <td>3539</td>\n",
       "    </tr>\n",
       "    <tr>\n",
       "      <th>Escort</th>\n",
       "      <td>23</td>\n",
       "      <td>2</td>\n",
       "      <td>4058</td>\n",
       "      <td>34</td>\n",
       "      <td>4117</td>\n",
       "    </tr>\n",
       "    <tr>\n",
       "      <th>Loop</th>\n",
       "      <td>105</td>\n",
       "      <td>0</td>\n",
       "      <td>6163</td>\n",
       "      <td>8</td>\n",
       "      <td>6276</td>\n",
       "    </tr>\n",
       "    <tr>\n",
       "      <th>Maintenance</th>\n",
       "      <td>21</td>\n",
       "      <td>1</td>\n",
       "      <td>3689</td>\n",
       "      <td>49</td>\n",
       "      <td>3760</td>\n",
       "    </tr>\n",
       "    <tr>\n",
       "      <th>Missing</th>\n",
       "      <td>57</td>\n",
       "      <td>0</td>\n",
       "      <td>3303</td>\n",
       "      <td>10</td>\n",
       "      <td>3370</td>\n",
       "    </tr>\n",
       "    <tr>\n",
       "      <th>Other</th>\n",
       "      <td>79</td>\n",
       "      <td>40</td>\n",
       "      <td>1417</td>\n",
       "      <td>89</td>\n",
       "      <td>1625</td>\n",
       "    </tr>\n",
       "    <tr>\n",
       "      <th>School</th>\n",
       "      <td>0</td>\n",
       "      <td>0</td>\n",
       "      <td>3312</td>\n",
       "      <td>2</td>\n",
       "      <td>3314</td>\n",
       "    </tr>\n",
       "    <tr>\n",
       "      <th>Shopping</th>\n",
       "      <td>55</td>\n",
       "      <td>10</td>\n",
       "      <td>4425</td>\n",
       "      <td>42</td>\n",
       "      <td>4532</td>\n",
       "    </tr>\n",
       "    <tr>\n",
       "      <th>Social/Visit</th>\n",
       "      <td>31</td>\n",
       "      <td>16</td>\n",
       "      <td>1186</td>\n",
       "      <td>71</td>\n",
       "      <td>1304</td>\n",
       "    </tr>\n",
       "    <tr>\n",
       "      <th>University</th>\n",
       "      <td>21</td>\n",
       "      <td>2</td>\n",
       "      <td>1238</td>\n",
       "      <td>8</td>\n",
       "      <td>1269</td>\n",
       "    </tr>\n",
       "    <tr>\n",
       "      <th>Work</th>\n",
       "      <td>129</td>\n",
       "      <td>39</td>\n",
       "      <td>13235</td>\n",
       "      <td>277</td>\n",
       "      <td>13680</td>\n",
       "    </tr>\n",
       "    <tr>\n",
       "      <th>Total</th>\n",
       "      <td>787</td>\n",
       "      <td>192</td>\n",
       "      <td>51079</td>\n",
       "      <td>825</td>\n",
       "      <td>52883</td>\n",
       "    </tr>\n",
       "  </tbody>\n",
       "</table>\n",
       "</div>"
      ],
      "text/plain": [
       "external_type   EE   IE     II  II-Ext  Total\n",
       "tour_purpose                                 \n",
       "Change Mode     18   22    169      10    219\n",
       "Discretionary  145   46   5511     176   5878\n",
       "Eat Out        103   14   3373      49   3539\n",
       "Escort          23    2   4058      34   4117\n",
       "Loop           105    0   6163       8   6276\n",
       "Maintenance     21    1   3689      49   3760\n",
       "Missing         57    0   3303      10   3370\n",
       "Other           79   40   1417      89   1625\n",
       "School           0    0   3312       2   3314\n",
       "Shopping        55   10   4425      42   4532\n",
       "Social/Visit    31   16   1186      71   1304\n",
       "University      21    2   1238       8   1269\n",
       "Work           129   39  13235     277  13680\n",
       "Total          787  192  51079     825  52883"
      ]
     },
     "execution_count": 73,
     "metadata": {},
     "output_type": "execute_result"
    }
   ],
   "source": [
    "tours_purp_exttype = pd.crosstab(tours_df1['tour_purpose'].fillna('Missing'), \n",
    "                                 tours_df1['external_type'].fillna('Missing'), \n",
    "                                 margins=True, margins_name='Total').round()\n",
    "tours_purp_exttype"
   ]
  },
  {
   "cell_type": "code",
   "execution_count": 74,
   "id": "1ad6709e",
   "metadata": {},
   "outputs": [
    {
     "data": {
      "text/html": [
       "<div>\n",
       "<style scoped>\n",
       "    .dataframe tbody tr th:only-of-type {\n",
       "        vertical-align: middle;\n",
       "    }\n",
       "\n",
       "    .dataframe tbody tr th {\n",
       "        vertical-align: top;\n",
       "    }\n",
       "\n",
       "    .dataframe thead th {\n",
       "        text-align: right;\n",
       "    }\n",
       "</style>\n",
       "<table border=\"1\" class=\"dataframe\">\n",
       "  <thead>\n",
       "    <tr style=\"text-align: right;\">\n",
       "      <th>external_type</th>\n",
       "      <th>EE</th>\n",
       "      <th>IE</th>\n",
       "      <th>II</th>\n",
       "      <th>II-Ext</th>\n",
       "      <th>Total</th>\n",
       "    </tr>\n",
       "    <tr>\n",
       "      <th>tour_purpose</th>\n",
       "      <th></th>\n",
       "      <th></th>\n",
       "      <th></th>\n",
       "      <th></th>\n",
       "      <th></th>\n",
       "    </tr>\n",
       "  </thead>\n",
       "  <tbody>\n",
       "    <tr>\n",
       "      <th>Change Mode</th>\n",
       "      <td>2465</td>\n",
       "      <td>3358</td>\n",
       "      <td>34926</td>\n",
       "      <td>497</td>\n",
       "      <td>41245</td>\n",
       "    </tr>\n",
       "    <tr>\n",
       "      <th>Discretionary</th>\n",
       "      <td>13728</td>\n",
       "      <td>2535</td>\n",
       "      <td>1100208</td>\n",
       "      <td>23623</td>\n",
       "      <td>1140095</td>\n",
       "    </tr>\n",
       "    <tr>\n",
       "      <th>Eat Out</th>\n",
       "      <td>15463</td>\n",
       "      <td>3517</td>\n",
       "      <td>681606</td>\n",
       "      <td>9910</td>\n",
       "      <td>710496</td>\n",
       "    </tr>\n",
       "    <tr>\n",
       "      <th>Escort</th>\n",
       "      <td>1814</td>\n",
       "      <td>355</td>\n",
       "      <td>1231656</td>\n",
       "      <td>12302</td>\n",
       "      <td>1246128</td>\n",
       "    </tr>\n",
       "    <tr>\n",
       "      <th>Loop</th>\n",
       "      <td>17763</td>\n",
       "      <td>0</td>\n",
       "      <td>1197468</td>\n",
       "      <td>479</td>\n",
       "      <td>1215709</td>\n",
       "    </tr>\n",
       "    <tr>\n",
       "      <th>Maintenance</th>\n",
       "      <td>2266</td>\n",
       "      <td>380</td>\n",
       "      <td>705096</td>\n",
       "      <td>11099</td>\n",
       "      <td>718841</td>\n",
       "    </tr>\n",
       "    <tr>\n",
       "      <th>Missing</th>\n",
       "      <td>5751</td>\n",
       "      <td>0</td>\n",
       "      <td>651850</td>\n",
       "      <td>2343</td>\n",
       "      <td>659945</td>\n",
       "    </tr>\n",
       "    <tr>\n",
       "      <th>Other</th>\n",
       "      <td>12341</td>\n",
       "      <td>4920</td>\n",
       "      <td>287679</td>\n",
       "      <td>19119</td>\n",
       "      <td>324060</td>\n",
       "    </tr>\n",
       "    <tr>\n",
       "      <th>School</th>\n",
       "      <td>0</td>\n",
       "      <td>0</td>\n",
       "      <td>1049044</td>\n",
       "      <td>85</td>\n",
       "      <td>1049129</td>\n",
       "    </tr>\n",
       "    <tr>\n",
       "      <th>Shopping</th>\n",
       "      <td>5455</td>\n",
       "      <td>1650</td>\n",
       "      <td>905148</td>\n",
       "      <td>8303</td>\n",
       "      <td>920556</td>\n",
       "    </tr>\n",
       "    <tr>\n",
       "      <th>Social/Visit</th>\n",
       "      <td>4011</td>\n",
       "      <td>1513</td>\n",
       "      <td>233013</td>\n",
       "      <td>17479</td>\n",
       "      <td>256016</td>\n",
       "    </tr>\n",
       "    <tr>\n",
       "      <th>University</th>\n",
       "      <td>8362</td>\n",
       "      <td>333</td>\n",
       "      <td>348596</td>\n",
       "      <td>3143</td>\n",
       "      <td>360434</td>\n",
       "    </tr>\n",
       "    <tr>\n",
       "      <th>Work</th>\n",
       "      <td>22855</td>\n",
       "      <td>7206</td>\n",
       "      <td>2805417</td>\n",
       "      <td>69028</td>\n",
       "      <td>2904506</td>\n",
       "    </tr>\n",
       "    <tr>\n",
       "      <th>Total</th>\n",
       "      <td>112274</td>\n",
       "      <td>25767</td>\n",
       "      <td>11231709</td>\n",
       "      <td>177411</td>\n",
       "      <td>11547161</td>\n",
       "    </tr>\n",
       "  </tbody>\n",
       "</table>\n",
       "</div>"
      ],
      "text/plain": [
       "external_type      EE     IE        II  II-Ext     Total\n",
       "tour_purpose                                            \n",
       "Change Mode      2465   3358     34926     497     41245\n",
       "Discretionary   13728   2535   1100208   23623   1140095\n",
       "Eat Out         15463   3517    681606    9910    710496\n",
       "Escort           1814    355   1231656   12302   1246128\n",
       "Loop            17763      0   1197468     479   1215709\n",
       "Maintenance      2266    380    705096   11099    718841\n",
       "Missing          5751      0    651850    2343    659945\n",
       "Other           12341   4920    287679   19119    324060\n",
       "School              0      0   1049044      85   1049129\n",
       "Shopping         5455   1650    905148    8303    920556\n",
       "Social/Visit     4011   1513    233013   17479    256016\n",
       "University       8362    333    348596    3143    360434\n",
       "Work            22855   7206   2805417   69028   2904506\n",
       "Total          112274  25767  11231709  177411  11547161"
      ]
     },
     "execution_count": 74,
     "metadata": {},
     "output_type": "execute_result"
    }
   ],
   "source": [
    "tours_purp_exttype_expd = pd.crosstab(tours_df1['tour_purpose'].fillna('Missing'), \n",
    "                                      tours_df1['external_type'].fillna('Missing'), \n",
    "                                      values=tours_df1['finalweight_y'], \n",
    "                                      aggfunc=np.sum, \n",
    "                                      margins = True, margins_name='Total').round().fillna(0).astype(int)\n",
    "tours_purp_exttype_expd"
   ]
  },
  {
   "cell_type": "code",
   "execution_count": null,
   "id": "3b0f84bc",
   "metadata": {},
   "outputs": [],
   "source": []
  },
  {
   "cell_type": "markdown",
   "id": "881bc6a1",
   "metadata": {},
   "source": [
    "## External Station and Purpose Tables"
   ]
  },
  {
   "cell_type": "code",
   "execution_count": 75,
   "id": "eb448a5e",
   "metadata": {},
   "outputs": [],
   "source": [
    "external_taz_dict={\n",
    "1: \"San Ysidro\",\n",
    "2: \"Otay Mesa\",\n",
    "3: \"East Otay Mesa\",\n",
    "4: \"Tecate\",\n",
    "5: \"Jacumba\",\n",
    "6: \"I-8\",\n",
    "7: \"SR78\",\n",
    "8: \"SR79\",\n",
    "9: \"Pala Road\",\n",
    "10: \"I-15\",\n",
    "11: \"Foothill Tollway\",\n",
    "12: \"I-5\"\n",
    "}\n",
    "\n",
    "tours_ext_df = tours_df1.loc[tours_df1['external_type']=='II-Ext'].copy()\n",
    "tours_ext_df['external_station'] = tours_ext_df['DTAZ'].map(external_taz_dict)"
   ]
  },
  {
   "cell_type": "code",
   "execution_count": 76,
   "id": "26631e9f",
   "metadata": {},
   "outputs": [
    {
     "data": {
      "text/html": [
       "<div>\n",
       "<style scoped>\n",
       "    .dataframe tbody tr th:only-of-type {\n",
       "        vertical-align: middle;\n",
       "    }\n",
       "\n",
       "    .dataframe tbody tr th {\n",
       "        vertical-align: top;\n",
       "    }\n",
       "\n",
       "    .dataframe thead th {\n",
       "        text-align: right;\n",
       "    }\n",
       "</style>\n",
       "<table border=\"1\" class=\"dataframe\">\n",
       "  <thead>\n",
       "    <tr style=\"text-align: right;\">\n",
       "      <th></th>\n",
       "      <th>Counts</th>\n",
       "    </tr>\n",
       "    <tr>\n",
       "      <th>external_station</th>\n",
       "      <th></th>\n",
       "    </tr>\n",
       "  </thead>\n",
       "  <tbody>\n",
       "    <tr>\n",
       "      <th>East Otay Mesa</th>\n",
       "      <td>11</td>\n",
       "    </tr>\n",
       "    <tr>\n",
       "      <th>Foothill Tollway</th>\n",
       "      <td>472</td>\n",
       "    </tr>\n",
       "    <tr>\n",
       "      <th>I-15</th>\n",
       "      <td>115</td>\n",
       "    </tr>\n",
       "    <tr>\n",
       "      <th>I-5</th>\n",
       "      <td>19</td>\n",
       "    </tr>\n",
       "    <tr>\n",
       "      <th>I-8</th>\n",
       "      <td>17</td>\n",
       "    </tr>\n",
       "    <tr>\n",
       "      <th>Jacumba</th>\n",
       "      <td>1</td>\n",
       "    </tr>\n",
       "    <tr>\n",
       "      <th>Otay Mesa</th>\n",
       "      <td>12</td>\n",
       "    </tr>\n",
       "    <tr>\n",
       "      <th>Pala Road</th>\n",
       "      <td>34</td>\n",
       "    </tr>\n",
       "    <tr>\n",
       "      <th>SR78</th>\n",
       "      <td>29</td>\n",
       "    </tr>\n",
       "    <tr>\n",
       "      <th>SR79</th>\n",
       "      <td>70</td>\n",
       "    </tr>\n",
       "    <tr>\n",
       "      <th>San Ysidro</th>\n",
       "      <td>37</td>\n",
       "    </tr>\n",
       "    <tr>\n",
       "      <th>Tecate</th>\n",
       "      <td>8</td>\n",
       "    </tr>\n",
       "    <tr>\n",
       "      <th>Total</th>\n",
       "      <td>825</td>\n",
       "    </tr>\n",
       "  </tbody>\n",
       "</table>\n",
       "</div>"
      ],
      "text/plain": [
       "                  Counts\n",
       "external_station        \n",
       "East Otay Mesa        11\n",
       "Foothill Tollway     472\n",
       "I-15                 115\n",
       "I-5                   19\n",
       "I-8                   17\n",
       "Jacumba                1\n",
       "Otay Mesa             12\n",
       "Pala Road             34\n",
       "SR78                  29\n",
       "SR79                  70\n",
       "San Ysidro            37\n",
       "Tecate                 8\n",
       "Total                825"
      ]
     },
     "execution_count": 76,
     "metadata": {},
     "output_type": "execute_result"
    }
   ],
   "source": [
    "tours_extstat = pd.pivot_table(tours_ext_df, \n",
    "                               index='external_station', \n",
    "                               values='finalweight_y', \n",
    "                               aggfunc='count', \n",
    "                               margins=True, margins_name='Total').rename({'finalweight_y': 'Counts'}, axis=1)\n",
    "tours_extstat"
   ]
  },
  {
   "cell_type": "code",
   "execution_count": 77,
   "id": "7e12ee34",
   "metadata": {},
   "outputs": [
    {
     "data": {
      "text/html": [
       "<div>\n",
       "<style scoped>\n",
       "    .dataframe tbody tr th:only-of-type {\n",
       "        vertical-align: middle;\n",
       "    }\n",
       "\n",
       "    .dataframe tbody tr th {\n",
       "        vertical-align: top;\n",
       "    }\n",
       "\n",
       "    .dataframe thead th {\n",
       "        text-align: right;\n",
       "    }\n",
       "</style>\n",
       "<table border=\"1\" class=\"dataframe\">\n",
       "  <thead>\n",
       "    <tr style=\"text-align: right;\">\n",
       "      <th></th>\n",
       "      <th>Weighted Counts</th>\n",
       "    </tr>\n",
       "    <tr>\n",
       "      <th>external_station</th>\n",
       "      <th></th>\n",
       "    </tr>\n",
       "  </thead>\n",
       "  <tbody>\n",
       "    <tr>\n",
       "      <th>East Otay Mesa</th>\n",
       "      <td>7886</td>\n",
       "    </tr>\n",
       "    <tr>\n",
       "      <th>Foothill Tollway</th>\n",
       "      <td>94738</td>\n",
       "    </tr>\n",
       "    <tr>\n",
       "      <th>I-15</th>\n",
       "      <td>27796</td>\n",
       "    </tr>\n",
       "    <tr>\n",
       "      <th>I-5</th>\n",
       "      <td>5044</td>\n",
       "    </tr>\n",
       "    <tr>\n",
       "      <th>I-8</th>\n",
       "      <td>1704</td>\n",
       "    </tr>\n",
       "    <tr>\n",
       "      <th>Jacumba</th>\n",
       "      <td>65</td>\n",
       "    </tr>\n",
       "    <tr>\n",
       "      <th>Otay Mesa</th>\n",
       "      <td>759</td>\n",
       "    </tr>\n",
       "    <tr>\n",
       "      <th>Pala Road</th>\n",
       "      <td>12806</td>\n",
       "    </tr>\n",
       "    <tr>\n",
       "      <th>SR78</th>\n",
       "      <td>5334</td>\n",
       "    </tr>\n",
       "    <tr>\n",
       "      <th>SR79</th>\n",
       "      <td>9350</td>\n",
       "    </tr>\n",
       "    <tr>\n",
       "      <th>San Ysidro</th>\n",
       "      <td>9075</td>\n",
       "    </tr>\n",
       "    <tr>\n",
       "      <th>Tecate</th>\n",
       "      <td>2854</td>\n",
       "    </tr>\n",
       "    <tr>\n",
       "      <th>Total</th>\n",
       "      <td>177411</td>\n",
       "    </tr>\n",
       "  </tbody>\n",
       "</table>\n",
       "</div>"
      ],
      "text/plain": [
       "                  Weighted Counts\n",
       "external_station                 \n",
       "East Otay Mesa               7886\n",
       "Foothill Tollway            94738\n",
       "I-15                        27796\n",
       "I-5                          5044\n",
       "I-8                          1704\n",
       "Jacumba                        65\n",
       "Otay Mesa                     759\n",
       "Pala Road                   12806\n",
       "SR78                         5334\n",
       "SR79                         9350\n",
       "San Ysidro                   9075\n",
       "Tecate                       2854\n",
       "Total                      177411"
      ]
     },
     "execution_count": 77,
     "metadata": {},
     "output_type": "execute_result"
    }
   ],
   "source": [
    "tours_extstat_expd = pd.pivot_table(tours_ext_df, \n",
    "                                    index='external_station', \n",
    "                                    values='finalweight_y', \n",
    "                                    aggfunc=np.sum, \n",
    "                                    margins=True, \n",
    "                                    margins_name='Total').round().astype(int).rename({'finalweight_y': 'Weighted Counts'}, axis=1)\n",
    "tours_extstat_expd"
   ]
  },
  {
   "cell_type": "code",
   "execution_count": 78,
   "id": "d5eb504f",
   "metadata": {},
   "outputs": [
    {
     "data": {
      "text/html": [
       "<div>\n",
       "<style scoped>\n",
       "    .dataframe tbody tr th:only-of-type {\n",
       "        vertical-align: middle;\n",
       "    }\n",
       "\n",
       "    .dataframe tbody tr th {\n",
       "        vertical-align: top;\n",
       "    }\n",
       "\n",
       "    .dataframe thead th {\n",
       "        text-align: right;\n",
       "    }\n",
       "</style>\n",
       "<table border=\"1\" class=\"dataframe\">\n",
       "  <thead>\n",
       "    <tr style=\"text-align: right;\">\n",
       "      <th>external_station</th>\n",
       "      <th>East Otay Mesa</th>\n",
       "      <th>Foothill Tollway</th>\n",
       "      <th>I-15</th>\n",
       "      <th>I-5</th>\n",
       "      <th>I-8</th>\n",
       "      <th>Jacumba</th>\n",
       "      <th>Otay Mesa</th>\n",
       "      <th>Pala Road</th>\n",
       "      <th>SR78</th>\n",
       "      <th>SR79</th>\n",
       "      <th>San Ysidro</th>\n",
       "      <th>Tecate</th>\n",
       "      <th>Total</th>\n",
       "    </tr>\n",
       "    <tr>\n",
       "      <th>tour_purpose</th>\n",
       "      <th></th>\n",
       "      <th></th>\n",
       "      <th></th>\n",
       "      <th></th>\n",
       "      <th></th>\n",
       "      <th></th>\n",
       "      <th></th>\n",
       "      <th></th>\n",
       "      <th></th>\n",
       "      <th></th>\n",
       "      <th></th>\n",
       "      <th></th>\n",
       "      <th></th>\n",
       "    </tr>\n",
       "  </thead>\n",
       "  <tbody>\n",
       "    <tr>\n",
       "      <th>Change Mode</th>\n",
       "      <td>0</td>\n",
       "      <td>6</td>\n",
       "      <td>0</td>\n",
       "      <td>0</td>\n",
       "      <td>0</td>\n",
       "      <td>0</td>\n",
       "      <td>1</td>\n",
       "      <td>0</td>\n",
       "      <td>2</td>\n",
       "      <td>0</td>\n",
       "      <td>1</td>\n",
       "      <td>0</td>\n",
       "      <td>10</td>\n",
       "    </tr>\n",
       "    <tr>\n",
       "      <th>Discretionary</th>\n",
       "      <td>0</td>\n",
       "      <td>95</td>\n",
       "      <td>5</td>\n",
       "      <td>4</td>\n",
       "      <td>7</td>\n",
       "      <td>1</td>\n",
       "      <td>4</td>\n",
       "      <td>6</td>\n",
       "      <td>5</td>\n",
       "      <td>40</td>\n",
       "      <td>6</td>\n",
       "      <td>3</td>\n",
       "      <td>176</td>\n",
       "    </tr>\n",
       "    <tr>\n",
       "      <th>Eat Out</th>\n",
       "      <td>0</td>\n",
       "      <td>32</td>\n",
       "      <td>4</td>\n",
       "      <td>0</td>\n",
       "      <td>3</td>\n",
       "      <td>0</td>\n",
       "      <td>0</td>\n",
       "      <td>3</td>\n",
       "      <td>3</td>\n",
       "      <td>2</td>\n",
       "      <td>1</td>\n",
       "      <td>1</td>\n",
       "      <td>49</td>\n",
       "    </tr>\n",
       "    <tr>\n",
       "      <th>Escort</th>\n",
       "      <td>0</td>\n",
       "      <td>21</td>\n",
       "      <td>6</td>\n",
       "      <td>0</td>\n",
       "      <td>0</td>\n",
       "      <td>0</td>\n",
       "      <td>1</td>\n",
       "      <td>4</td>\n",
       "      <td>0</td>\n",
       "      <td>0</td>\n",
       "      <td>2</td>\n",
       "      <td>0</td>\n",
       "      <td>34</td>\n",
       "    </tr>\n",
       "    <tr>\n",
       "      <th>Loop</th>\n",
       "      <td>0</td>\n",
       "      <td>1</td>\n",
       "      <td>3</td>\n",
       "      <td>0</td>\n",
       "      <td>0</td>\n",
       "      <td>0</td>\n",
       "      <td>0</td>\n",
       "      <td>0</td>\n",
       "      <td>0</td>\n",
       "      <td>0</td>\n",
       "      <td>4</td>\n",
       "      <td>0</td>\n",
       "      <td>8</td>\n",
       "    </tr>\n",
       "    <tr>\n",
       "      <th>Maintenance</th>\n",
       "      <td>0</td>\n",
       "      <td>25</td>\n",
       "      <td>9</td>\n",
       "      <td>1</td>\n",
       "      <td>0</td>\n",
       "      <td>0</td>\n",
       "      <td>0</td>\n",
       "      <td>2</td>\n",
       "      <td>2</td>\n",
       "      <td>1</td>\n",
       "      <td>8</td>\n",
       "      <td>1</td>\n",
       "      <td>49</td>\n",
       "    </tr>\n",
       "    <tr>\n",
       "      <th>Missing</th>\n",
       "      <td>2</td>\n",
       "      <td>2</td>\n",
       "      <td>3</td>\n",
       "      <td>0</td>\n",
       "      <td>0</td>\n",
       "      <td>0</td>\n",
       "      <td>1</td>\n",
       "      <td>0</td>\n",
       "      <td>0</td>\n",
       "      <td>2</td>\n",
       "      <td>0</td>\n",
       "      <td>0</td>\n",
       "      <td>10</td>\n",
       "    </tr>\n",
       "    <tr>\n",
       "      <th>Other</th>\n",
       "      <td>0</td>\n",
       "      <td>39</td>\n",
       "      <td>13</td>\n",
       "      <td>3</td>\n",
       "      <td>1</td>\n",
       "      <td>0</td>\n",
       "      <td>1</td>\n",
       "      <td>6</td>\n",
       "      <td>12</td>\n",
       "      <td>11</td>\n",
       "      <td>3</td>\n",
       "      <td>0</td>\n",
       "      <td>89</td>\n",
       "    </tr>\n",
       "    <tr>\n",
       "      <th>School</th>\n",
       "      <td>0</td>\n",
       "      <td>0</td>\n",
       "      <td>2</td>\n",
       "      <td>0</td>\n",
       "      <td>0</td>\n",
       "      <td>0</td>\n",
       "      <td>0</td>\n",
       "      <td>0</td>\n",
       "      <td>0</td>\n",
       "      <td>0</td>\n",
       "      <td>0</td>\n",
       "      <td>0</td>\n",
       "      <td>2</td>\n",
       "    </tr>\n",
       "    <tr>\n",
       "      <th>Shopping</th>\n",
       "      <td>0</td>\n",
       "      <td>20</td>\n",
       "      <td>15</td>\n",
       "      <td>1</td>\n",
       "      <td>0</td>\n",
       "      <td>0</td>\n",
       "      <td>0</td>\n",
       "      <td>2</td>\n",
       "      <td>0</td>\n",
       "      <td>1</td>\n",
       "      <td>2</td>\n",
       "      <td>1</td>\n",
       "      <td>42</td>\n",
       "    </tr>\n",
       "    <tr>\n",
       "      <th>Social/Visit</th>\n",
       "      <td>6</td>\n",
       "      <td>47</td>\n",
       "      <td>6</td>\n",
       "      <td>0</td>\n",
       "      <td>1</td>\n",
       "      <td>0</td>\n",
       "      <td>0</td>\n",
       "      <td>4</td>\n",
       "      <td>2</td>\n",
       "      <td>3</td>\n",
       "      <td>2</td>\n",
       "      <td>0</td>\n",
       "      <td>71</td>\n",
       "    </tr>\n",
       "    <tr>\n",
       "      <th>University</th>\n",
       "      <td>0</td>\n",
       "      <td>5</td>\n",
       "      <td>1</td>\n",
       "      <td>0</td>\n",
       "      <td>0</td>\n",
       "      <td>0</td>\n",
       "      <td>0</td>\n",
       "      <td>2</td>\n",
       "      <td>0</td>\n",
       "      <td>0</td>\n",
       "      <td>0</td>\n",
       "      <td>0</td>\n",
       "      <td>8</td>\n",
       "    </tr>\n",
       "    <tr>\n",
       "      <th>Work</th>\n",
       "      <td>3</td>\n",
       "      <td>179</td>\n",
       "      <td>48</td>\n",
       "      <td>10</td>\n",
       "      <td>5</td>\n",
       "      <td>0</td>\n",
       "      <td>4</td>\n",
       "      <td>5</td>\n",
       "      <td>3</td>\n",
       "      <td>10</td>\n",
       "      <td>8</td>\n",
       "      <td>2</td>\n",
       "      <td>277</td>\n",
       "    </tr>\n",
       "    <tr>\n",
       "      <th>Total</th>\n",
       "      <td>11</td>\n",
       "      <td>472</td>\n",
       "      <td>115</td>\n",
       "      <td>19</td>\n",
       "      <td>17</td>\n",
       "      <td>1</td>\n",
       "      <td>12</td>\n",
       "      <td>34</td>\n",
       "      <td>29</td>\n",
       "      <td>70</td>\n",
       "      <td>37</td>\n",
       "      <td>8</td>\n",
       "      <td>825</td>\n",
       "    </tr>\n",
       "  </tbody>\n",
       "</table>\n",
       "</div>"
      ],
      "text/plain": [
       "external_station  East Otay Mesa  Foothill Tollway  I-15  I-5  I-8  Jacumba  \\\n",
       "tour_purpose                                                                  \n",
       "Change Mode                    0                 6     0    0    0        0   \n",
       "Discretionary                  0                95     5    4    7        1   \n",
       "Eat Out                        0                32     4    0    3        0   \n",
       "Escort                         0                21     6    0    0        0   \n",
       "Loop                           0                 1     3    0    0        0   \n",
       "Maintenance                    0                25     9    1    0        0   \n",
       "Missing                        2                 2     3    0    0        0   \n",
       "Other                          0                39    13    3    1        0   \n",
       "School                         0                 0     2    0    0        0   \n",
       "Shopping                       0                20    15    1    0        0   \n",
       "Social/Visit                   6                47     6    0    1        0   \n",
       "University                     0                 5     1    0    0        0   \n",
       "Work                           3               179    48   10    5        0   \n",
       "Total                         11               472   115   19   17        1   \n",
       "\n",
       "external_station  Otay Mesa  Pala Road  SR78  SR79  San Ysidro  Tecate  Total  \n",
       "tour_purpose                                                                   \n",
       "Change Mode               1          0     2     0           1       0     10  \n",
       "Discretionary             4          6     5    40           6       3    176  \n",
       "Eat Out                   0          3     3     2           1       1     49  \n",
       "Escort                    1          4     0     0           2       0     34  \n",
       "Loop                      0          0     0     0           4       0      8  \n",
       "Maintenance               0          2     2     1           8       1     49  \n",
       "Missing                   1          0     0     2           0       0     10  \n",
       "Other                     1          6    12    11           3       0     89  \n",
       "School                    0          0     0     0           0       0      2  \n",
       "Shopping                  0          2     0     1           2       1     42  \n",
       "Social/Visit              0          4     2     3           2       0     71  \n",
       "University                0          2     0     0           0       0      8  \n",
       "Work                      4          5     3    10           8       2    277  \n",
       "Total                    12         34    29    70          37       8    825  "
      ]
     },
     "execution_count": 78,
     "metadata": {},
     "output_type": "execute_result"
    }
   ],
   "source": [
    "tours_extstat_purp = pd.crosstab(tours_ext_df['tour_purpose'].fillna('Missing'), \n",
    "                                 tours_ext_df['external_station'].fillna('Missing'), \n",
    "                                 margins=True, margins_name='Total').round()\n",
    "tours_extstat_purp"
   ]
  },
  {
   "cell_type": "code",
   "execution_count": 79,
   "id": "9cb434aa",
   "metadata": {},
   "outputs": [
    {
     "data": {
      "text/html": [
       "<div>\n",
       "<style scoped>\n",
       "    .dataframe tbody tr th:only-of-type {\n",
       "        vertical-align: middle;\n",
       "    }\n",
       "\n",
       "    .dataframe tbody tr th {\n",
       "        vertical-align: top;\n",
       "    }\n",
       "\n",
       "    .dataframe thead th {\n",
       "        text-align: right;\n",
       "    }\n",
       "</style>\n",
       "<table border=\"1\" class=\"dataframe\">\n",
       "  <thead>\n",
       "    <tr style=\"text-align: right;\">\n",
       "      <th>external_station</th>\n",
       "      <th>East Otay Mesa</th>\n",
       "      <th>Foothill Tollway</th>\n",
       "      <th>I-15</th>\n",
       "      <th>I-5</th>\n",
       "      <th>I-8</th>\n",
       "      <th>Jacumba</th>\n",
       "      <th>Otay Mesa</th>\n",
       "      <th>Pala Road</th>\n",
       "      <th>SR78</th>\n",
       "      <th>SR79</th>\n",
       "      <th>San Ysidro</th>\n",
       "      <th>Tecate</th>\n",
       "      <th>Total</th>\n",
       "    </tr>\n",
       "    <tr>\n",
       "      <th>tour_purpose</th>\n",
       "      <th></th>\n",
       "      <th></th>\n",
       "      <th></th>\n",
       "      <th></th>\n",
       "      <th></th>\n",
       "      <th></th>\n",
       "      <th></th>\n",
       "      <th></th>\n",
       "      <th></th>\n",
       "      <th></th>\n",
       "      <th></th>\n",
       "      <th></th>\n",
       "      <th></th>\n",
       "    </tr>\n",
       "  </thead>\n",
       "  <tbody>\n",
       "    <tr>\n",
       "      <th>Change Mode</th>\n",
       "      <td>0</td>\n",
       "      <td>217</td>\n",
       "      <td>0</td>\n",
       "      <td>0</td>\n",
       "      <td>0</td>\n",
       "      <td>0</td>\n",
       "      <td>210</td>\n",
       "      <td>0</td>\n",
       "      <td>39</td>\n",
       "      <td>0</td>\n",
       "      <td>31</td>\n",
       "      <td>0</td>\n",
       "      <td>497</td>\n",
       "    </tr>\n",
       "    <tr>\n",
       "      <th>Discretionary</th>\n",
       "      <td>0</td>\n",
       "      <td>14287</td>\n",
       "      <td>1012</td>\n",
       "      <td>599</td>\n",
       "      <td>1006</td>\n",
       "      <td>65</td>\n",
       "      <td>144</td>\n",
       "      <td>1722</td>\n",
       "      <td>317</td>\n",
       "      <td>3954</td>\n",
       "      <td>323</td>\n",
       "      <td>195</td>\n",
       "      <td>23623</td>\n",
       "    </tr>\n",
       "    <tr>\n",
       "      <th>Eat Out</th>\n",
       "      <td>0</td>\n",
       "      <td>6075</td>\n",
       "      <td>1275</td>\n",
       "      <td>0</td>\n",
       "      <td>104</td>\n",
       "      <td>0</td>\n",
       "      <td>0</td>\n",
       "      <td>309</td>\n",
       "      <td>627</td>\n",
       "      <td>171</td>\n",
       "      <td>54</td>\n",
       "      <td>1295</td>\n",
       "      <td>9910</td>\n",
       "    </tr>\n",
       "    <tr>\n",
       "      <th>Escort</th>\n",
       "      <td>0</td>\n",
       "      <td>5355</td>\n",
       "      <td>1676</td>\n",
       "      <td>0</td>\n",
       "      <td>0</td>\n",
       "      <td>0</td>\n",
       "      <td>65</td>\n",
       "      <td>2878</td>\n",
       "      <td>0</td>\n",
       "      <td>0</td>\n",
       "      <td>2329</td>\n",
       "      <td>0</td>\n",
       "      <td>12302</td>\n",
       "    </tr>\n",
       "    <tr>\n",
       "      <th>Loop</th>\n",
       "      <td>0</td>\n",
       "      <td>65</td>\n",
       "      <td>196</td>\n",
       "      <td>0</td>\n",
       "      <td>0</td>\n",
       "      <td>0</td>\n",
       "      <td>0</td>\n",
       "      <td>0</td>\n",
       "      <td>0</td>\n",
       "      <td>0</td>\n",
       "      <td>217</td>\n",
       "      <td>0</td>\n",
       "      <td>479</td>\n",
       "    </tr>\n",
       "    <tr>\n",
       "      <th>Maintenance</th>\n",
       "      <td>0</td>\n",
       "      <td>5404</td>\n",
       "      <td>1909</td>\n",
       "      <td>980</td>\n",
       "      <td>0</td>\n",
       "      <td>0</td>\n",
       "      <td>0</td>\n",
       "      <td>130</td>\n",
       "      <td>39</td>\n",
       "      <td>65</td>\n",
       "      <td>1907</td>\n",
       "      <td>666</td>\n",
       "      <td>11099</td>\n",
       "    </tr>\n",
       "    <tr>\n",
       "      <th>Missing</th>\n",
       "      <td>387</td>\n",
       "      <td>100</td>\n",
       "      <td>1661</td>\n",
       "      <td>0</td>\n",
       "      <td>0</td>\n",
       "      <td>0</td>\n",
       "      <td>65</td>\n",
       "      <td>0</td>\n",
       "      <td>0</td>\n",
       "      <td>131</td>\n",
       "      <td>0</td>\n",
       "      <td>0</td>\n",
       "      <td>2343</td>\n",
       "    </tr>\n",
       "    <tr>\n",
       "      <th>Other</th>\n",
       "      <td>0</td>\n",
       "      <td>8419</td>\n",
       "      <td>2720</td>\n",
       "      <td>59</td>\n",
       "      <td>20</td>\n",
       "      <td>0</td>\n",
       "      <td>65</td>\n",
       "      <td>1759</td>\n",
       "      <td>2047</td>\n",
       "      <td>1657</td>\n",
       "      <td>2374</td>\n",
       "      <td>0</td>\n",
       "      <td>19119</td>\n",
       "    </tr>\n",
       "    <tr>\n",
       "      <th>School</th>\n",
       "      <td>0</td>\n",
       "      <td>0</td>\n",
       "      <td>85</td>\n",
       "      <td>0</td>\n",
       "      <td>0</td>\n",
       "      <td>0</td>\n",
       "      <td>0</td>\n",
       "      <td>0</td>\n",
       "      <td>0</td>\n",
       "      <td>0</td>\n",
       "      <td>0</td>\n",
       "      <td>0</td>\n",
       "      <td>85</td>\n",
       "    </tr>\n",
       "    <tr>\n",
       "      <th>Shopping</th>\n",
       "      <td>0</td>\n",
       "      <td>3297</td>\n",
       "      <td>2166</td>\n",
       "      <td>1277</td>\n",
       "      <td>0</td>\n",
       "      <td>0</td>\n",
       "      <td>0</td>\n",
       "      <td>117</td>\n",
       "      <td>0</td>\n",
       "      <td>20</td>\n",
       "      <td>1104</td>\n",
       "      <td>321</td>\n",
       "      <td>8303</td>\n",
       "    </tr>\n",
       "    <tr>\n",
       "      <th>Social/Visit</th>\n",
       "      <td>6317</td>\n",
       "      <td>7826</td>\n",
       "      <td>633</td>\n",
       "      <td>0</td>\n",
       "      <td>46</td>\n",
       "      <td>0</td>\n",
       "      <td>0</td>\n",
       "      <td>297</td>\n",
       "      <td>2032</td>\n",
       "      <td>196</td>\n",
       "      <td>132</td>\n",
       "      <td>0</td>\n",
       "      <td>17479</td>\n",
       "    </tr>\n",
       "    <tr>\n",
       "      <th>University</th>\n",
       "      <td>0</td>\n",
       "      <td>711</td>\n",
       "      <td>20</td>\n",
       "      <td>0</td>\n",
       "      <td>0</td>\n",
       "      <td>0</td>\n",
       "      <td>0</td>\n",
       "      <td>2412</td>\n",
       "      <td>0</td>\n",
       "      <td>0</td>\n",
       "      <td>0</td>\n",
       "      <td>0</td>\n",
       "      <td>3143</td>\n",
       "    </tr>\n",
       "    <tr>\n",
       "      <th>Work</th>\n",
       "      <td>1183</td>\n",
       "      <td>42983</td>\n",
       "      <td>14442</td>\n",
       "      <td>2130</td>\n",
       "      <td>529</td>\n",
       "      <td>0</td>\n",
       "      <td>209</td>\n",
       "      <td>3182</td>\n",
       "      <td>233</td>\n",
       "      <td>3156</td>\n",
       "      <td>605</td>\n",
       "      <td>377</td>\n",
       "      <td>69028</td>\n",
       "    </tr>\n",
       "    <tr>\n",
       "      <th>Total</th>\n",
       "      <td>7886</td>\n",
       "      <td>94738</td>\n",
       "      <td>27796</td>\n",
       "      <td>5044</td>\n",
       "      <td>1704</td>\n",
       "      <td>65</td>\n",
       "      <td>759</td>\n",
       "      <td>12806</td>\n",
       "      <td>5334</td>\n",
       "      <td>9350</td>\n",
       "      <td>9075</td>\n",
       "      <td>2854</td>\n",
       "      <td>177411</td>\n",
       "    </tr>\n",
       "  </tbody>\n",
       "</table>\n",
       "</div>"
      ],
      "text/plain": [
       "external_station  East Otay Mesa  Foothill Tollway   I-15   I-5   I-8  \\\n",
       "tour_purpose                                                            \n",
       "Change Mode                    0               217      0     0     0   \n",
       "Discretionary                  0             14287   1012   599  1006   \n",
       "Eat Out                        0              6075   1275     0   104   \n",
       "Escort                         0              5355   1676     0     0   \n",
       "Loop                           0                65    196     0     0   \n",
       "Maintenance                    0              5404   1909   980     0   \n",
       "Missing                      387               100   1661     0     0   \n",
       "Other                          0              8419   2720    59    20   \n",
       "School                         0                 0     85     0     0   \n",
       "Shopping                       0              3297   2166  1277     0   \n",
       "Social/Visit                6317              7826    633     0    46   \n",
       "University                     0               711     20     0     0   \n",
       "Work                        1183             42983  14442  2130   529   \n",
       "Total                       7886             94738  27796  5044  1704   \n",
       "\n",
       "external_station  Jacumba  Otay Mesa  Pala Road  SR78  SR79  San Ysidro  \\\n",
       "tour_purpose                                                              \n",
       "Change Mode             0        210          0    39     0          31   \n",
       "Discretionary          65        144       1722   317  3954         323   \n",
       "Eat Out                 0          0        309   627   171          54   \n",
       "Escort                  0         65       2878     0     0        2329   \n",
       "Loop                    0          0          0     0     0         217   \n",
       "Maintenance             0          0        130    39    65        1907   \n",
       "Missing                 0         65          0     0   131           0   \n",
       "Other                   0         65       1759  2047  1657        2374   \n",
       "School                  0          0          0     0     0           0   \n",
       "Shopping                0          0        117     0    20        1104   \n",
       "Social/Visit            0          0        297  2032   196         132   \n",
       "University              0          0       2412     0     0           0   \n",
       "Work                    0        209       3182   233  3156         605   \n",
       "Total                  65        759      12806  5334  9350        9075   \n",
       "\n",
       "external_station  Tecate   Total  \n",
       "tour_purpose                      \n",
       "Change Mode            0     497  \n",
       "Discretionary        195   23623  \n",
       "Eat Out             1295    9910  \n",
       "Escort                 0   12302  \n",
       "Loop                   0     479  \n",
       "Maintenance          666   11099  \n",
       "Missing                0    2343  \n",
       "Other                  0   19119  \n",
       "School                 0      85  \n",
       "Shopping             321    8303  \n",
       "Social/Visit           0   17479  \n",
       "University             0    3143  \n",
       "Work                 377   69028  \n",
       "Total               2854  177411  "
      ]
     },
     "execution_count": 79,
     "metadata": {},
     "output_type": "execute_result"
    }
   ],
   "source": [
    "tours_extstat_purp_expd = pd.crosstab(tours_ext_df['tour_purpose'].fillna('Missing'), \n",
    "                                      tours_ext_df['external_station'].fillna('Missing'), \n",
    "                                      values=tours_ext_df['finalweight_y'], \n",
    "                                      aggfunc=np.sum, \n",
    "                                      margins=True, margins_name='Total').fillna(0).round().astype(int)\n",
    "tours_extstat_purp_expd"
   ]
  },
  {
   "cell_type": "code",
   "execution_count": null,
   "id": "cd67e78f",
   "metadata": {},
   "outputs": [],
   "source": []
  },
  {
   "cell_type": "markdown",
   "id": "fbb12309",
   "metadata": {},
   "source": [
    "## Save External Activity Summaries"
   ]
  },
  {
   "cell_type": "code",
   "execution_count": 80,
   "id": "915cbe25",
   "metadata": {},
   "outputs": [],
   "source": [
    "### Opening Excel Workbook for summaries\n",
    "writer = pd.ExcelWriter(tours_path+'external_activity_summaries.xlsx', engine = 'xlsxwriter')\n",
    "workbook = writer.book"
   ]
  },
  {
   "cell_type": "code",
   "execution_count": 81,
   "id": "863f6ac8",
   "metadata": {},
   "outputs": [],
   "source": [
    "### Writing linehaul-by-access mode summary matrices\n",
    "worksheet = workbook.add_worksheet('External Activity')\n",
    "writer.sheets['External Activity'] = worksheet\n",
    "\n",
    "worksheet.write_string(0, 0, 'External-Type Tour Counts')\n",
    "start = 2\n",
    "tours_exttype.to_excel(writer, sheet_name = 'External Activity', startrow = start, startcol = 0)\n",
    "\n",
    "column = tours_exttype.shape[1] + 3\n",
    "worksheet.write_string(0, column, 'External-Type Tour Counts - Weighted')\n",
    "tours_exttype_expd.to_excel(writer, sheet_name = 'External Activity', startrow = start, startcol = column)\n",
    "\n",
    "start += tours_exttype_expd.shape[0] + 5\n",
    "worksheet.write_string(start-2, 0, 'External-Type vs Tour Purpose Counts')\n",
    "tours_purp_exttype.to_excel(writer, sheet_name = 'External Activity', startrow = start, startcol = 0)\n",
    "\n",
    "column = tours_purp_exttype.shape[1] + 3\n",
    "worksheet.write_string(start-2, column, 'External-Type vs Tour Purpose Counts - Weighted')\n",
    "tours_purp_exttype_expd.to_excel(writer, sheet_name = 'External Activity', startrow = start, startcol = column)\n",
    "\n",
    "start += tours_purp_exttype_expd.shape[0] + 5\n",
    "worksheet.write_string(start-2, 0, 'External Station Tour Counts')\n",
    "tours_extstat.to_excel(writer, sheet_name = 'External Activity', startrow = start, startcol = 0)\n",
    "\n",
    "column = tours_extstat.shape[1] + 3\n",
    "worksheet.write_string(start-2, column, 'External Station Tour Counts - Weighted')\n",
    "tours_extstat_expd.to_excel(writer, sheet_name = 'External Activity', startrow = start, startcol = column)\n",
    "\n",
    "start += tours_extstat_expd.shape[0] + 5\n",
    "worksheet.write_string(start-2, 0, 'External Station vs Tour Purpose Counts')\n",
    "tours_extstat_purp.to_excel(writer, sheet_name = 'External Activity', startrow = start, startcol = 0)\n",
    "\n",
    "column = tours_extstat_purp.shape[1] + 3\n",
    "worksheet.write_string(start-2, column, 'External Station vs Tour Purpose Counts - Weighted')\n",
    "tours_extstat_purp_expd.to_excel(writer, sheet_name = 'External Activity', startrow = start, startcol = column)\n",
    "\n",
    "# writer.save()\n",
    "writer.close()"
   ]
  },
  {
   "cell_type": "code",
   "execution_count": null,
   "id": "43683b2f",
   "metadata": {},
   "outputs": [],
   "source": []
  },
  {
   "cell_type": "markdown",
   "id": "f4ffdc02",
   "metadata": {},
   "source": [
    "## Save Trip and Tour Files"
   ]
  },
  {
   "cell_type": "code",
   "execution_count": 82,
   "id": "319000fe",
   "metadata": {},
   "outputs": [],
   "source": [
    "trips_df1.to_csv(trips_path+\"trips_debug_external.csv\", index=False)\n",
    "tours_df1.to_csv(tours_path+\"tours_debug_external.csv\", index=False)"
   ]
  },
  {
   "cell_type": "code",
   "execution_count": null,
   "id": "353ebd9a",
   "metadata": {},
   "outputs": [],
   "source": []
  },
  {
   "cell_type": "code",
   "execution_count": 83,
   "id": "e279706c",
   "metadata": {},
   "outputs": [
    {
     "name": "stdout",
     "output_type": "stream",
     "text": [
      "Start Time: 2022-09-07 16:02:12.427978\n",
      "End Time: 2022-09-07 16:04:59.930280\n",
      "Run Time: 167.502 sec\n"
     ]
    }
   ],
   "source": [
    "end_time = datetime.datetime.now()\n",
    "print(\"Start Time:\", start_time)\n",
    "print(\"End Time:\", end_time)\n",
    "print(\"Run Time:\", round(end_time.timestamp()-start_time.timestamp(), 3), \"sec\")"
   ]
  },
  {
   "cell_type": "code",
   "execution_count": null,
   "id": "d06dfec3",
   "metadata": {},
   "outputs": [],
   "source": []
  }
 ],
 "metadata": {
  "kernelspec": {
   "display_name": "Python 3 (ipykernel)",
   "language": "python",
   "name": "python3"
  },
  "language_info": {
   "codemirror_mode": {
    "name": "ipython",
    "version": 3
   },
   "file_extension": ".py",
   "mimetype": "text/x-python",
   "name": "python",
   "nbconvert_exporter": "python",
   "pygments_lexer": "ipython3",
   "version": "3.9.12"
  }
 },
 "nbformat": 4,
 "nbformat_minor": 5
}
