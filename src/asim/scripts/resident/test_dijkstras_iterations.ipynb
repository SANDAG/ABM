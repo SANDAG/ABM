{
 "cells": [
  {
   "cell_type": "code",
   "execution_count": 196,
   "metadata": {},
   "outputs": [
    {
     "data": {
      "text/plain": [
       "<module 'bike_route_choice' from 't:\\\\ABM\\\\user\\\\aber\\\\bike_route_choice\\\\bike_route_choice.py'>"
      ]
     },
     "execution_count": 196,
     "metadata": {},
     "output_type": "execute_result"
    }
   ],
   "source": [
    "import importlib\n",
    "import bike_route_choice\n",
    "\n",
    "# Make changes to my_module.py\n",
    "\n",
    "importlib.reload(bike_route_choice)"
   ]
  },
  {
   "cell_type": "code",
   "execution_count": 197,
   "metadata": {},
   "outputs": [],
   "source": [
    "from bike_route_choice import *"
   ]
  },
  {
   "cell_type": "code",
   "execution_count": 3,
   "metadata": {},
   "outputs": [],
   "source": [
    "cost_limit_mgra = 4\n",
    "# zone_level = 'mgra'\n",
    "cost_limit_taz = 36\n",
    "# zone_level = 'taz'"
   ]
  },
  {
   "cell_type": "code",
   "execution_count": 4,
   "metadata": {},
   "outputs": [],
   "source": [
    "random_scale = 0.5"
   ]
  },
  {
   "cell_type": "code",
   "execution_count": 5,
   "metadata": {},
   "outputs": [
    {
     "name": "stdout",
     "output_type": "stream",
     "text": [
      "Reading network data from  T:\\ABM\\user\\aber\\bike_route_choice\\network\n",
      "Nodes: (154569, 7) Edges: (366199, 13) Traversals: (724008, 11)\n",
      "Time taken: 1.22 seconds\n"
     ]
    }
   ],
   "source": [
    "start_time = time.time()\n",
    "nodes, edges, traversals = read_bike_network_data(zone_level='taz')\n",
    "end_time = time.time()\n",
    "elapsed_time = end_time - start_time\n",
    "print(f\"Time taken: {elapsed_time:.2f} seconds\")"
   ]
  },
  {
   "cell_type": "code",
   "execution_count": 6,
   "metadata": {},
   "outputs": [],
   "source": [
    "num_iterations = 5"
   ]
  },
  {
   "cell_type": "code",
   "execution_count": 7,
   "metadata": {},
   "outputs": [
    {
     "name": "stdout",
     "output_type": "stream",
     "text": [
      "Randomizing network costs\n",
      "Time taken: 0.07 seconds\n",
      "Need to calculate Dijkstra's on 4947 centroids with 1 processors\n",
      "Processing Dijkstra's on 4947 centroids with limit=36...\n",
      "Time taken: 166.20 seconds\n",
      "Processing paths without numba...\n",
      "Time taken: 357.32 seconds\n",
      "Randomizing network costs\n",
      "Time taken: 0.06 seconds\n",
      "Need to calculate Dijkstra's on 4947 centroids with 1 processors\n",
      "Processing Dijkstra's on 4947 centroids with limit=36...\n",
      "Time taken: 157.02 seconds\n",
      "Processing paths without numba...\n",
      "Time taken: 339.78 seconds\n",
      "Randomizing network costs\n",
      "Time taken: 0.06 seconds\n",
      "Need to calculate Dijkstra's on 4947 centroids with 1 processors\n",
      "Processing Dijkstra's on 4947 centroids with limit=36...\n",
      "Time taken: 158.10 seconds\n",
      "Processing paths without numba...\n",
      "Time taken: 350.21 seconds\n",
      "Randomizing network costs\n",
      "Time taken: 0.19 seconds\n",
      "Need to calculate Dijkstra's on 4947 centroids with 1 processors\n",
      "Processing Dijkstra's on 4947 centroids with limit=36...\n",
      "Time taken: 159.59 seconds\n",
      "Processing paths without numba...\n",
      "Time taken: 310.81 seconds\n",
      "Randomizing network costs\n",
      "Time taken: 0.18 seconds\n",
      "Need to calculate Dijkstra's on 4947 centroids with 1 processors\n",
      "Processing Dijkstra's on 4947 centroids with limit=36...\n",
      "Time taken: 158.66 seconds\n",
      "Processing paths without numba...\n",
      "Time taken: 304.19 seconds\n"
     ]
    }
   ],
   "source": [
    "# link_num_paths = None\n",
    "\n",
    "all_paths = []\n",
    "\n",
    "for i in range(num_iterations):\n",
    "    # randomize costs\n",
    "    start_time = time.time()\n",
    "    edges_rand, traversals_rand = randomize_network_cost(edges, traversals, random_scale)\n",
    "    end_time = time.time()\n",
    "    elapsed_time = end_time - start_time\n",
    "    print(f\"Time taken: {elapsed_time:.2f} seconds\")\n",
    "\n",
    "    # run dijkstra's\n",
    "    start_time = time.time()\n",
    "    centroids, distances, predecessors, node_mapping = perform_dijkstras_algorithm(nodes, edges_rand, limit=cost_limit_taz, zone_level='taz', num_processors=NUM_PRCESSORS)\n",
    "    end_time = time.time()\n",
    "    elapsed_time = end_time - start_time\n",
    "    print(f\"Time taken: {elapsed_time:.2f} seconds\")\n",
    "\n",
    "    # process paths\n",
    "    start_time = time.time()\n",
    "    # all_paths.append(process_paths_new(centroids, predecessors) + (i,))\n",
    "    paths = process_paths_new(centroids, predecessors)\n",
    "    all_paths.append(paths + (np.full_like(paths[0],i,dtype=np.uint8),))\n",
    "    end_time = time.time()\n",
    "    elapsed_time = end_time - start_time\n",
    "    print(f\"Time taken: {elapsed_time:.2f} seconds\")\n",
    "\n",
    "\n",
    "\n",
    "    # # calculate path size\n",
    "    # start_time = time.time()\n",
    "    # print(\"Calculating path size and creating dataframe...\")\n",
    "    # paths_df =  calculate_path_size(centroids, nodes, edges_rand, node_mapping, link_num_paths, *paths)\n",
    "    # end_time = time.time()\n",
    "    # elapsed_time = end_time - start_time\n",
    "    # print(f\"Time taken: {elapsed_time:.2f} seconds\")\n"
   ]
  },
  {
   "cell_type": "code",
   "execution_count": 10,
   "metadata": {},
   "outputs": [
    {
     "name": "stdout",
     "output_type": "stream",
     "text": [
      "Time taken: 0.00 seconds\n"
     ]
    }
   ],
   "source": [
    "start_time = time.time()\n",
    "all_paths_concat = map(np.concatenate,zip(*all_paths))\n",
    "end_time = time.time()\n",
    "elapsed_time = end_time - start_time\n",
    "print(f\"Time taken: {elapsed_time:.2f} seconds\")"
   ]
  },
  {
   "cell_type": "code",
   "execution_count": 11,
   "metadata": {},
   "outputs": [],
   "source": [
    "all_paths_orig, all_paths_dest, all_paths_from_node, all_paths_to_node, all_paths_iteration = all_paths_concat"
   ]
  },
  {
   "cell_type": "code",
   "execution_count": 198,
   "metadata": {},
   "outputs": [
    {
     "name": "stderr",
     "output_type": "stream",
     "text": [
      "t:\\ABM\\user\\aber\\bike_route_choice\\bike_route_choice.py:476: RuntimeWarning: invalid value encountered in divide\n",
      "  od_iter_path_size = np.bincount(paths_od_iter_ravel,all_paths_size_component) / od_iter_length_total\n"
     ]
    },
    {
     "name": "stdout",
     "output_type": "stream",
     "text": [
      "Time taken: 3435.62 seconds\n"
     ]
    }
   ],
   "source": [
    "start_time = time.time()\n",
    "paths_df = calculate_final_logsums(centroids, nodes, edges, node_mapping, all_paths_orig, all_paths_dest, all_paths_from_node, all_paths_to_node, all_paths_iteration, num_iterations)\n",
    "end_time = time.time()\n",
    "elapsed_time = end_time - start_time\n",
    "print(f\"Time taken: {elapsed_time:.2f} seconds\")"
   ]
  },
  {
   "cell_type": "code",
   "execution_count": null,
   "metadata": {},
   "outputs": [],
   "source": [
    "paths_df = paths_df.merge(nodes,how='left',left_on='origin',right_on='id')\n",
    "paths_df = paths_df.merge(nodes, how='left', left_on = 'destination', right_on = 'id', suffixes = ('_orig','_dest'))"
   ]
  },
  {
   "cell_type": "code",
   "execution_count": null,
   "metadata": {},
   "outputs": [],
   "source": [
    "paths_df[['taz_orig','taz_dest','logsum']].rename(columns={'taz_orig':'i','taz_dest':'j'}).to_csv(r'T:\\ABM\\user\\aber\\bike_route_choice\\bikeTazLogsum_python_5paths.csv')"
   ]
  }
 ],
 "metadata": {
  "kernelspec": {
   "display_name": "Python 3",
   "language": "python",
   "name": "python3"
  },
  "language_info": {
   "codemirror_mode": {
    "name": "ipython",
    "version": 3
   },
   "file_extension": ".py",
   "mimetype": "text/x-python",
   "name": "python",
   "nbconvert_exporter": "python",
   "pygments_lexer": "ipython3",
   "version": "3.10.16"
  }
 },
 "nbformat": 4,
 "nbformat_minor": 2
}
