{
 "cells": [
  {
   "cell_type": "markdown",
   "id": "dd43b031",
   "metadata": {
    "toc": true
   },
   "source": [
    "<h1>Table of Contents<span class=\"tocSkip\"></span></h1>\n",
    "<div class=\"toc\"><ul class=\"toc-item\"><li><span><a href=\"#1.-initialize-TVPB-(all-tap-tap)\" data-toc-modified-id=\"1.-initialize-TVPB-(all-tap-tap)-1\"><span class=\"toc-item-num\">1&nbsp;&nbsp;</span>1. initialize TVPB (all tap-tap)</a></span><ul class=\"toc-item\"><li><span><a href=\"#unique-ASC-sequentially-defined-values-by-set\" data-toc-modified-id=\"unique-ASC-sequentially-defined-values-by-set-1.1\"><span class=\"toc-item-num\">1.1&nbsp;&nbsp;</span>unique ASC sequentially-defined values by set</a></span><ul class=\"toc-item\"><li><span><a href=\"#set-1\" data-toc-modified-id=\"set-1-1.1.1\"><span class=\"toc-item-num\">1.1.1&nbsp;&nbsp;</span>set 1</a></span></li><li><span><a href=\"#set-2\" data-toc-modified-id=\"set-2-1.1.2\"><span class=\"toc-item-num\">1.1.2&nbsp;&nbsp;</span>set 2</a></span></li><li><span><a href=\"#set-3\" data-toc-modified-id=\"set-3-1.1.3\"><span class=\"toc-item-num\">1.1.3&nbsp;&nbsp;</span>set 3</a></span></li></ul></li></ul></li><li><span><a href=\"#2.-TVPB-ASC's:-Trip-Mode-Choice-(trace-hh-id-=-15)\" data-toc-modified-id=\"2.-TVPB-ASC's:-Trip-Mode-Choice-(trace-hh-id-=-15)-2\"><span class=\"toc-item-num\">2&nbsp;&nbsp;</span>2. TVPB ASC's: Trip Mode Choice (trace hh id = 15)</a></span><ul class=\"toc-item\"><li><span><a href=\"#Unique-ASC-sequences-by-set-(preprocessor)\" data-toc-modified-id=\"Unique-ASC-sequences-by-set-(preprocessor)-2.1\"><span class=\"toc-item-num\">2.1&nbsp;&nbsp;</span>Unique ASC sequences by set (preprocessor)</a></span></li><li><span><a href=\"#utility-df's-by-set\" data-toc-modified-id=\"utility-df's-by-set-2.2\"><span class=\"toc-item-num\">2.2&nbsp;&nbsp;</span>utility df's by set</a></span></li><li><span><a href=\"#Merge-unique-ASC-sequences-(preprocessor)-with-utility-df's\" data-toc-modified-id=\"Merge-unique-ASC-sequences-(preprocessor)-with-utility-df's-2.3\"><span class=\"toc-item-num\">2.3&nbsp;&nbsp;</span>Merge unique ASC sequences (preprocessor) with utility df's</a></span><ul class=\"toc-item\"><li><span><a href=\"#set-1\" data-toc-modified-id=\"set-1-2.3.1\"><span class=\"toc-item-num\">2.3.1&nbsp;&nbsp;</span>set 1</a></span></li><li><span><a href=\"#set-2\" data-toc-modified-id=\"set-2-2.3.2\"><span class=\"toc-item-num\">2.3.2&nbsp;&nbsp;</span>set 2</a></span></li><li><span><a href=\"#set-3\" data-toc-modified-id=\"set-3-2.3.3\"><span class=\"toc-item-num\">2.3.3&nbsp;&nbsp;</span>set 3</a></span></li></ul></li></ul></li><li><span><a href=\"#exploration\" data-toc-modified-id=\"exploration-3\"><span class=\"toc-item-num\">3&nbsp;&nbsp;</span>exploration</a></span></li></ul></div>"
   ]
  },
  {
   "cell_type": "code",
   "execution_count": 1,
   "id": "4de7407f",
   "metadata": {},
   "outputs": [],
   "source": [
    "import pandas as pd"
   ]
  },
  {
   "cell_type": "markdown",
   "id": "123faa9a",
   "metadata": {},
   "source": [
    "## 1. initialize TVPB (all tap-tap)"
   ]
  },
  {
   "cell_type": "code",
   "execution_count": 2,
   "id": "dd66f61f",
   "metadata": {},
   "outputs": [],
   "source": [
    "df = pd.read_csv(\n",
    "    '../output/trace.initialize_tvpb.offset0.compute_utils.tap_tap_w_preprocessor_expr_vals.csv'\n",
    ")"
   ]
  },
  {
   "cell_type": "markdown",
   "id": "ab0ea550",
   "metadata": {},
   "source": [
    "### unique ASC sequentially-defined values by set"
   ]
  },
  {
   "cell_type": "markdown",
   "id": "4250b375",
   "metadata": {},
   "source": [
    "#### set 1"
   ]
  },
  {
   "cell_type": "code",
   "execution_count": 3,
   "id": "1ae1239a",
   "metadata": {},
   "outputs": [
    {
     "data": {
      "text/html": [
       "<div>\n",
       "<style scoped>\n",
       "    .dataframe tbody tr th:only-of-type {\n",
       "        vertical-align: middle;\n",
       "    }\n",
       "\n",
       "    .dataframe tbody tr th {\n",
       "        vertical-align: top;\n",
       "    }\n",
       "\n",
       "    .dataframe thead th {\n",
       "        text-align: right;\n",
       "    }\n",
       "</style>\n",
       "<table border=\"1\" class=\"dataframe\">\n",
       "  <thead>\n",
       "    <tr style=\"text-align: right;\">\n",
       "      <th></th>\n",
       "      <th>asc_cr_set1</th>\n",
       "      <th>asc_lrt_set1</th>\n",
       "      <th>asc_brt_set1</th>\n",
       "      <th>asc_eb_set1</th>\n",
       "    </tr>\n",
       "  </thead>\n",
       "  <tbody>\n",
       "    <tr>\n",
       "      <th>0</th>\n",
       "      <td>0.0</td>\n",
       "      <td>0.0</td>\n",
       "      <td>0.0</td>\n",
       "      <td>0.0</td>\n",
       "    </tr>\n",
       "  </tbody>\n",
       "</table>\n",
       "</div>"
      ],
      "text/plain": [
       "   asc_cr_set1  asc_lrt_set1  asc_brt_set1  asc_eb_set1\n",
       "0          0.0           0.0           0.0          0.0"
      ]
     },
     "execution_count": 3,
     "metadata": {},
     "output_type": "execute_result"
    }
   ],
   "source": [
    "df[[col for col in df.columns if 'asc' in col and 'set1' in col]].drop_duplicates()"
   ]
  },
  {
   "cell_type": "markdown",
   "id": "4c3d7b8e",
   "metadata": {},
   "source": [
    "#### set 2"
   ]
  },
  {
   "cell_type": "code",
   "execution_count": 4,
   "id": "6fee807a",
   "metadata": {},
   "outputs": [
    {
     "data": {
      "text/html": [
       "<div>\n",
       "<style scoped>\n",
       "    .dataframe tbody tr th:only-of-type {\n",
       "        vertical-align: middle;\n",
       "    }\n",
       "\n",
       "    .dataframe tbody tr th {\n",
       "        vertical-align: top;\n",
       "    }\n",
       "\n",
       "    .dataframe thead th {\n",
       "        text-align: right;\n",
       "    }\n",
       "</style>\n",
       "<table border=\"1\" class=\"dataframe\">\n",
       "  <thead>\n",
       "    <tr style=\"text-align: right;\">\n",
       "      <th></th>\n",
       "      <th>asc_cr_set2</th>\n",
       "      <th>asc_lrt_set2</th>\n",
       "      <th>asc_brt_set2</th>\n",
       "      <th>asc_eb_set2</th>\n",
       "    </tr>\n",
       "  </thead>\n",
       "  <tbody>\n",
       "    <tr>\n",
       "      <th>0</th>\n",
       "      <td>0.0</td>\n",
       "      <td>0.0</td>\n",
       "      <td>0.0</td>\n",
       "      <td>0.0</td>\n",
       "    </tr>\n",
       "    <tr>\n",
       "      <th>8674</th>\n",
       "      <td>0.0</td>\n",
       "      <td>0.0</td>\n",
       "      <td>0.3</td>\n",
       "      <td>0.3</td>\n",
       "    </tr>\n",
       "    <tr>\n",
       "      <th>8806</th>\n",
       "      <td>0.0</td>\n",
       "      <td>0.6</td>\n",
       "      <td>0.6</td>\n",
       "      <td>0.6</td>\n",
       "    </tr>\n",
       "    <tr>\n",
       "      <th>24432</th>\n",
       "      <td>-0.0</td>\n",
       "      <td>0.0</td>\n",
       "      <td>0.0</td>\n",
       "      <td>-0.3</td>\n",
       "    </tr>\n",
       "  </tbody>\n",
       "</table>\n",
       "</div>"
      ],
      "text/plain": [
       "       asc_cr_set2  asc_lrt_set2  asc_brt_set2  asc_eb_set2\n",
       "0              0.0           0.0           0.0          0.0\n",
       "8674           0.0           0.0           0.3          0.3\n",
       "8806           0.0           0.6           0.6          0.6\n",
       "24432         -0.0           0.0           0.0         -0.3"
      ]
     },
     "execution_count": 4,
     "metadata": {},
     "output_type": "execute_result"
    }
   ],
   "source": [
    "df[[col for col in df.columns if 'asc' in col and 'set2' in col]].drop_duplicates()"
   ]
  },
  {
   "cell_type": "markdown",
   "id": "c0cc9a60",
   "metadata": {},
   "source": [
    "#### set 3"
   ]
  },
  {
   "cell_type": "code",
   "execution_count": 5,
   "id": "b6b36aa0",
   "metadata": {},
   "outputs": [
    {
     "data": {
      "text/html": [
       "<div>\n",
       "<style scoped>\n",
       "    .dataframe tbody tr th:only-of-type {\n",
       "        vertical-align: middle;\n",
       "    }\n",
       "\n",
       "    .dataframe tbody tr th {\n",
       "        vertical-align: top;\n",
       "    }\n",
       "\n",
       "    .dataframe thead th {\n",
       "        text-align: right;\n",
       "    }\n",
       "</style>\n",
       "<table border=\"1\" class=\"dataframe\">\n",
       "  <thead>\n",
       "    <tr style=\"text-align: right;\">\n",
       "      <th></th>\n",
       "      <th>asc_cr_set3</th>\n",
       "      <th>asc_lrt_set3</th>\n",
       "      <th>asc_brt_set3</th>\n",
       "      <th>asc_eb_set3</th>\n",
       "    </tr>\n",
       "  </thead>\n",
       "  <tbody>\n",
       "    <tr>\n",
       "      <th>0</th>\n",
       "      <td>0.0</td>\n",
       "      <td>0.0</td>\n",
       "      <td>0.0</td>\n",
       "      <td>0.0</td>\n",
       "    </tr>\n",
       "    <tr>\n",
       "      <th>1</th>\n",
       "      <td>0.0</td>\n",
       "      <td>0.6</td>\n",
       "      <td>0.6</td>\n",
       "      <td>0.6</td>\n",
       "    </tr>\n",
       "    <tr>\n",
       "      <th>3</th>\n",
       "      <td>0.0</td>\n",
       "      <td>0.0</td>\n",
       "      <td>0.0</td>\n",
       "      <td>-0.3</td>\n",
       "    </tr>\n",
       "    <tr>\n",
       "      <th>5</th>\n",
       "      <td>0.0</td>\n",
       "      <td>0.0</td>\n",
       "      <td>0.3</td>\n",
       "      <td>0.3</td>\n",
       "    </tr>\n",
       "  </tbody>\n",
       "</table>\n",
       "</div>"
      ],
      "text/plain": [
       "   asc_cr_set3  asc_lrt_set3  asc_brt_set3  asc_eb_set3\n",
       "0          0.0           0.0           0.0          0.0\n",
       "1          0.0           0.6           0.6          0.6\n",
       "3          0.0           0.0           0.0         -0.3\n",
       "5          0.0           0.0           0.3          0.3"
      ]
     },
     "execution_count": 5,
     "metadata": {},
     "output_type": "execute_result"
    }
   ],
   "source": [
    "df[[col for col in df.columns if 'asc' in col and 'set3' in col]].drop_duplicates()"
   ]
  },
  {
   "cell_type": "markdown",
   "id": "c1cf2dd5",
   "metadata": {},
   "source": [
    "## 2. TVPB ASC's: Trip Mode Choice (trace hh id = 15)"
   ]
  },
  {
   "cell_type": "markdown",
   "id": "6c52dd09",
   "metadata": {},
   "source": [
    "### Unique ASC sequences by set (preprocessor)"
   ]
  },
  {
   "cell_type": "code",
   "execution_count": 30,
   "id": "53ebd729",
   "metadata": {},
   "outputs": [],
   "source": [
    "df = pd.read_csv(\n",
    "    '../output/trace.trip_mode_choice.tvpb_logsum_odt.work.WTW.build_virtual_path.compute_tap_tap_utils.compute_utils.tap_tap_w_preprocessor_expr_vals.csv',\n",
    "    index_col=0,\n",
    ")"
   ]
  },
  {
   "cell_type": "code",
   "execution_count": 31,
   "id": "3b6820e3",
   "metadata": {},
   "outputs": [
    {
     "data": {
      "text/plain": [
       "Index(['btap', 'atap', 'tod', 'demographic_segment', 'set1_available',\n",
       "       'transfers_set1', 'cr_ivt_set1', 'lrt_ivt_set1', 'brt_red_ivt_set1',\n",
       "       'brt_yel_ivt_set1', 'eb_ivt_set1', 'ltd_ivt_set1', 'lb_ivt_set1',\n",
       "       'asc_cr_set1', 'asc_lrt_set1', 'asc_brt_set1', 'asc_eb_set1',\n",
       "       'set2_available', 'transfers_set2', 'cr_ivt_set2', 'lrt_ivt_set2',\n",
       "       'brt_red_ivt_set2', 'brt_yel_ivt_set2', 'eb_ivt_set2', 'ltd_ivt_set2',\n",
       "       'lb_ivt_set2', 'asc_cr_set2', 'asc_lrt_set2', 'asc_brt_set2',\n",
       "       'asc_eb_set2', 'set3_available', 'transfers_set3', 'cr_ivt_set3',\n",
       "       'lrt_ivt_set3', 'brt_red_ivt_set3', 'brt_yel_ivt_set3', 'eb_ivt_set3',\n",
       "       'ltd_ivt_set3', 'lb_ivt_set3', 'asc_cr_set3', 'asc_lrt_set3',\n",
       "       'asc_brt_set3', 'asc_eb_set3'],\n",
       "      dtype='object')"
      ]
     },
     "execution_count": 31,
     "metadata": {},
     "output_type": "execute_result"
    }
   ],
   "source": [
    "df.columns"
   ]
  },
  {
   "cell_type": "code",
   "execution_count": 32,
   "id": "9d75184e",
   "metadata": {},
   "outputs": [],
   "source": [
    "set1_tap_tap_uniq_asc = df.set_index(['btap','atap','tod'])[[col for col in df.columns if ('asc' in col or 'ivt' in col) and ('set1' in col)]].drop_duplicates([col for col in df.columns if 'asc' in col and 'set1' in col])\n",
    "set2_tap_tap_uniq_asc = df.set_index(['btap','atap','tod'])[[col for col in df.columns if ('asc' in col or 'ivt' in col) and ('set2' in col)]].drop_duplicates([col for col in df.columns if 'asc' in col and 'set2' in col])\n",
    "set3_tap_tap_uniq_asc = df.set_index(['btap','atap','tod'])[[col for col in df.columns if ('asc' in col or 'ivt' in col) and ('set3' in col)]].drop_duplicates([col for col in df.columns if 'asc' in col and 'set3' in col])"
   ]
  },
  {
   "cell_type": "markdown",
   "id": "72af06c4",
   "metadata": {},
   "source": [
    "### utility df's by set"
   ]
  },
  {
   "cell_type": "code",
   "execution_count": 33,
   "id": "5204d88e",
   "metadata": {},
   "outputs": [],
   "source": [
    "util_df = pd.read_csv(\n",
    "    '../output/trace.trip_mode_choice.tvpb_logsum_odt.work.WTW.build_virtual_path.compute_tap_tap_utils.compute_utils.tap_tap_w_preprocessor_expr_vals.eval_utils.expression_values.csv',\n",
    "    index_col=0, header=None, \n",
    ")"
   ]
  },
  {
   "cell_type": "code",
   "execution_count": 34,
   "id": "58181a5b",
   "metadata": {},
   "outputs": [],
   "source": [
    "util_df.loc[util_df[1].isnull(), 1] = util_df.index.values[util_df[1].isnull()]\n",
    "util_df.set_index(1, inplace=True)\n",
    "util_df = util_df.T"
   ]
  },
  {
   "cell_type": "code",
   "execution_count": 35,
   "id": "2818171f",
   "metadata": {},
   "outputs": [],
   "source": [
    "util_df['btap'] = util_df['btap'].astype(int)\n",
    "util_df['atap'] = util_df['atap'].astype(int)\n",
    "util_df = util_df.set_index(['btap','atap','tod'])"
   ]
  },
  {
   "cell_type": "code",
   "execution_count": 36,
   "id": "9e116630",
   "metadata": {},
   "outputs": [],
   "source": [
    "set1_util_df = util_df[[col for col in util_df.columns if 'set1' in col]].astype(float)\n",
    "set2_util_df = util_df[[col for col in util_df.columns if 'set2' in col]].astype(float)\n",
    "set3_util_df = util_df[[col for col in util_df.columns if 'set3' in col]].astype(float)"
   ]
  },
  {
   "cell_type": "markdown",
   "id": "b0d3a7ed",
   "metadata": {},
   "source": [
    "### Merge unique ASC sequences (preprocessor) with utility df's"
   ]
  },
  {
   "cell_type": "markdown",
   "id": "102010c2",
   "metadata": {},
   "source": [
    "#### set 1"
   ]
  },
  {
   "cell_type": "code",
   "execution_count": 37,
   "id": "5e9e5e95",
   "metadata": {},
   "outputs": [
    {
     "data": {
      "text/html": [
       "<div>\n",
       "<style scoped>\n",
       "    .dataframe tbody tr th:only-of-type {\n",
       "        vertical-align: middle;\n",
       "    }\n",
       "\n",
       "    .dataframe tbody tr th {\n",
       "        vertical-align: top;\n",
       "    }\n",
       "\n",
       "    .dataframe thead th {\n",
       "        text-align: right;\n",
       "    }\n",
       "</style>\n",
       "<table border=\"1\" class=\"dataframe\">\n",
       "  <thead>\n",
       "    <tr style=\"text-align: right;\">\n",
       "      <th></th>\n",
       "      <th>btap</th>\n",
       "      <th>atap</th>\n",
       "      <th>tod</th>\n",
       "      <th>cr_ivt_set1</th>\n",
       "      <th>lrt_ivt_set1</th>\n",
       "      <th>brt_red_ivt_set1</th>\n",
       "      <th>brt_yel_ivt_set1</th>\n",
       "      <th>eb_ivt_set1</th>\n",
       "      <th>ltd_ivt_set1</th>\n",
       "      <th>lb_ivt_set1</th>\n",
       "      <th>asc_cr_set1</th>\n",
       "      <th>asc_lrt_set1</th>\n",
       "      <th>asc_brt_set1</th>\n",
       "      <th>asc_eb_set1</th>\n",
       "      <th>set1_total_ivt</th>\n",
       "      <th>set1_ASC</th>\n",
       "    </tr>\n",
       "  </thead>\n",
       "  <tbody>\n",
       "    <tr>\n",
       "      <th>0</th>\n",
       "      <td>2477</td>\n",
       "      <td>1238</td>\n",
       "      <td>MD</td>\n",
       "      <td>0.0</td>\n",
       "      <td>0.0</td>\n",
       "      <td>0.0</td>\n",
       "      <td>0.0</td>\n",
       "      <td>0.0</td>\n",
       "      <td>0.0</td>\n",
       "      <td>0.0</td>\n",
       "      <td>0.0</td>\n",
       "      <td>0.0</td>\n",
       "      <td>0.0</td>\n",
       "      <td>0.0</td>\n",
       "      <td>-0.0</td>\n",
       "      <td>0.0</td>\n",
       "    </tr>\n",
       "  </tbody>\n",
       "</table>\n",
       "</div>"
      ],
      "text/plain": [
       "   btap  atap tod  cr_ivt_set1  lrt_ivt_set1  brt_red_ivt_set1  \\\n",
       "0  2477  1238  MD          0.0           0.0               0.0   \n",
       "\n",
       "   brt_yel_ivt_set1  eb_ivt_set1  ltd_ivt_set1  lb_ivt_set1  asc_cr_set1  \\\n",
       "0               0.0          0.0           0.0          0.0          0.0   \n",
       "\n",
       "   asc_lrt_set1  asc_brt_set1  asc_eb_set1  set1_total_ivt  set1_ASC  \n",
       "0           0.0           0.0          0.0            -0.0       0.0  "
      ]
     },
     "execution_count": 37,
     "metadata": {},
     "output_type": "execute_result"
    }
   ],
   "source": [
    "set1_merged = pd.merge(set1_tap_tap_uniq_asc, set1_util_df, left_index=True, right_index=True)\n",
    "set1_merged[[col for col in set1_merged if 'asc' in col or 'ASC' in col or 'ivt' in col]].reset_index()"
   ]
  },
  {
   "cell_type": "markdown",
   "id": "8f2419e9",
   "metadata": {},
   "source": [
    "#### set 2"
   ]
  },
  {
   "cell_type": "code",
   "execution_count": 38,
   "id": "cf0cbfcd",
   "metadata": {},
   "outputs": [
    {
     "data": {
      "text/html": [
       "<div>\n",
       "<style scoped>\n",
       "    .dataframe tbody tr th:only-of-type {\n",
       "        vertical-align: middle;\n",
       "    }\n",
       "\n",
       "    .dataframe tbody tr th {\n",
       "        vertical-align: top;\n",
       "    }\n",
       "\n",
       "    .dataframe thead th {\n",
       "        text-align: right;\n",
       "    }\n",
       "</style>\n",
       "<table border=\"1\" class=\"dataframe\">\n",
       "  <thead>\n",
       "    <tr style=\"text-align: right;\">\n",
       "      <th></th>\n",
       "      <th>btap</th>\n",
       "      <th>atap</th>\n",
       "      <th>tod</th>\n",
       "      <th>cr_ivt_set2</th>\n",
       "      <th>lrt_ivt_set2</th>\n",
       "      <th>brt_red_ivt_set2</th>\n",
       "      <th>brt_yel_ivt_set2</th>\n",
       "      <th>eb_ivt_set2</th>\n",
       "      <th>ltd_ivt_set2</th>\n",
       "      <th>lb_ivt_set2</th>\n",
       "      <th>asc_cr_set2</th>\n",
       "      <th>asc_lrt_set2</th>\n",
       "      <th>asc_brt_set2</th>\n",
       "      <th>asc_eb_set2</th>\n",
       "      <th>set2_total_ivt</th>\n",
       "      <th>set2_ASC</th>\n",
       "    </tr>\n",
       "  </thead>\n",
       "  <tbody>\n",
       "    <tr>\n",
       "      <th>0</th>\n",
       "      <td>2477</td>\n",
       "      <td>1238</td>\n",
       "      <td>MD</td>\n",
       "      <td>0.0</td>\n",
       "      <td>30.241358</td>\n",
       "      <td>0.0</td>\n",
       "      <td>29.653587</td>\n",
       "      <td>11.722699</td>\n",
       "      <td>0.0</td>\n",
       "      <td>0.0</td>\n",
       "      <td>0.0</td>\n",
       "      <td>0.56</td>\n",
       "      <td>0.56</td>\n",
       "      <td>0.56</td>\n",
       "      <td>-1.625899</td>\n",
       "      <td>0.56</td>\n",
       "    </tr>\n",
       "    <tr>\n",
       "      <th>1</th>\n",
       "      <td>2477</td>\n",
       "      <td>1551</td>\n",
       "      <td>MD</td>\n",
       "      <td>0.0</td>\n",
       "      <td>0.000000</td>\n",
       "      <td>0.0</td>\n",
       "      <td>0.000000</td>\n",
       "      <td>0.000000</td>\n",
       "      <td>0.0</td>\n",
       "      <td>0.0</td>\n",
       "      <td>0.0</td>\n",
       "      <td>0.00</td>\n",
       "      <td>0.00</td>\n",
       "      <td>0.00</td>\n",
       "      <td>-0.000000</td>\n",
       "      <td>0.00</td>\n",
       "    </tr>\n",
       "  </tbody>\n",
       "</table>\n",
       "</div>"
      ],
      "text/plain": [
       "   btap  atap tod  cr_ivt_set2  lrt_ivt_set2  brt_red_ivt_set2  \\\n",
       "0  2477  1238  MD          0.0     30.241358               0.0   \n",
       "1  2477  1551  MD          0.0      0.000000               0.0   \n",
       "\n",
       "   brt_yel_ivt_set2  eb_ivt_set2  ltd_ivt_set2  lb_ivt_set2  asc_cr_set2  \\\n",
       "0         29.653587    11.722699           0.0          0.0          0.0   \n",
       "1          0.000000     0.000000           0.0          0.0          0.0   \n",
       "\n",
       "   asc_lrt_set2  asc_brt_set2  asc_eb_set2  set2_total_ivt  set2_ASC  \n",
       "0          0.56          0.56         0.56       -1.625899      0.56  \n",
       "1          0.00          0.00         0.00       -0.000000      0.00  "
      ]
     },
     "execution_count": 38,
     "metadata": {},
     "output_type": "execute_result"
    }
   ],
   "source": [
    "set2_merged = pd.merge(set2_tap_tap_uniq_asc, set2_util_df, left_index=True, right_index=True)\n",
    "set2_merged[[col for col in set2_merged if 'asc' in col or 'ASC' in col or 'ivt' in col]].reset_index()"
   ]
  },
  {
   "cell_type": "markdown",
   "id": "7230148c",
   "metadata": {},
   "source": [
    "#### set 3"
   ]
  },
  {
   "cell_type": "code",
   "execution_count": 39,
   "id": "7d222ca3",
   "metadata": {},
   "outputs": [
    {
     "data": {
      "text/html": [
       "<div>\n",
       "<style scoped>\n",
       "    .dataframe tbody tr th:only-of-type {\n",
       "        vertical-align: middle;\n",
       "    }\n",
       "\n",
       "    .dataframe tbody tr th {\n",
       "        vertical-align: top;\n",
       "    }\n",
       "\n",
       "    .dataframe thead th {\n",
       "        text-align: right;\n",
       "    }\n",
       "</style>\n",
       "<table border=\"1\" class=\"dataframe\">\n",
       "  <thead>\n",
       "    <tr style=\"text-align: right;\">\n",
       "      <th></th>\n",
       "      <th></th>\n",
       "      <th></th>\n",
       "      <th>cr_ivt_set3</th>\n",
       "      <th>lrt_ivt_set3</th>\n",
       "      <th>brt_red_ivt_set3</th>\n",
       "      <th>brt_yel_ivt_set3</th>\n",
       "      <th>eb_ivt_set3</th>\n",
       "      <th>ltd_ivt_set3</th>\n",
       "      <th>lb_ivt_set3</th>\n",
       "      <th>asc_cr_set3</th>\n",
       "      <th>asc_lrt_set3</th>\n",
       "      <th>asc_brt_set3</th>\n",
       "      <th>asc_eb_set3</th>\n",
       "      <th>set3_fare</th>\n",
       "      <th>set3_total_ivt</th>\n",
       "      <th>set3_ASC</th>\n",
       "    </tr>\n",
       "    <tr>\n",
       "      <th>btap</th>\n",
       "      <th>atap</th>\n",
       "      <th>tod</th>\n",
       "      <th></th>\n",
       "      <th></th>\n",
       "      <th></th>\n",
       "      <th></th>\n",
       "      <th></th>\n",
       "      <th></th>\n",
       "      <th></th>\n",
       "      <th></th>\n",
       "      <th></th>\n",
       "      <th></th>\n",
       "      <th></th>\n",
       "      <th></th>\n",
       "      <th></th>\n",
       "      <th></th>\n",
       "    </tr>\n",
       "  </thead>\n",
       "  <tbody>\n",
       "    <tr>\n",
       "      <th rowspan=\"3\" valign=\"top\">2477</th>\n",
       "      <th>1238</th>\n",
       "      <th>MD</th>\n",
       "      <td>0.0</td>\n",
       "      <td>0.000000</td>\n",
       "      <td>0.0</td>\n",
       "      <td>0.0</td>\n",
       "      <td>0.000000</td>\n",
       "      <td>0.0</td>\n",
       "      <td>0.000000</td>\n",
       "      <td>0.0</td>\n",
       "      <td>0.00</td>\n",
       "      <td>0.00</td>\n",
       "      <td>0.00</td>\n",
       "      <td>-0.0000</td>\n",
       "      <td>-0.000000</td>\n",
       "      <td>0.00</td>\n",
       "    </tr>\n",
       "    <tr>\n",
       "      <th>1551</th>\n",
       "      <th>MD</th>\n",
       "      <td>0.0</td>\n",
       "      <td>14.718996</td>\n",
       "      <td>0.0</td>\n",
       "      <td>0.0</td>\n",
       "      <td>11.722699</td>\n",
       "      <td>0.0</td>\n",
       "      <td>43.615883</td>\n",
       "      <td>0.0</td>\n",
       "      <td>0.56</td>\n",
       "      <td>0.56</td>\n",
       "      <td>0.56</td>\n",
       "      <td>-0.2497</td>\n",
       "      <td>-1.817366</td>\n",
       "      <td>0.28</td>\n",
       "    </tr>\n",
       "    <tr>\n",
       "      <th>2402</th>\n",
       "      <th>MD</th>\n",
       "      <td>0.0</td>\n",
       "      <td>0.000000</td>\n",
       "      <td>0.0</td>\n",
       "      <td>0.0</td>\n",
       "      <td>7.251040</td>\n",
       "      <td>0.0</td>\n",
       "      <td>17.066542</td>\n",
       "      <td>0.0</td>\n",
       "      <td>0.00</td>\n",
       "      <td>0.00</td>\n",
       "      <td>-0.28</td>\n",
       "      <td>-0.2497</td>\n",
       "      <td>-0.680892</td>\n",
       "      <td>-0.28</td>\n",
       "    </tr>\n",
       "  </tbody>\n",
       "</table>\n",
       "</div>"
      ],
      "text/plain": [
       "               cr_ivt_set3  lrt_ivt_set3  brt_red_ivt_set3  brt_yel_ivt_set3  \\\n",
       "btap atap tod                                                                  \n",
       "2477 1238 MD           0.0      0.000000               0.0               0.0   \n",
       "     1551 MD           0.0     14.718996               0.0               0.0   \n",
       "     2402 MD           0.0      0.000000               0.0               0.0   \n",
       "\n",
       "               eb_ivt_set3  ltd_ivt_set3  lb_ivt_set3  asc_cr_set3  \\\n",
       "btap atap tod                                                        \n",
       "2477 1238 MD      0.000000           0.0     0.000000          0.0   \n",
       "     1551 MD     11.722699           0.0    43.615883          0.0   \n",
       "     2402 MD      7.251040           0.0    17.066542          0.0   \n",
       "\n",
       "               asc_lrt_set3  asc_brt_set3  asc_eb_set3  set3_fare  \\\n",
       "btap atap tod                                                       \n",
       "2477 1238 MD           0.00          0.00         0.00    -0.0000   \n",
       "     1551 MD           0.56          0.56         0.56    -0.2497   \n",
       "     2402 MD           0.00          0.00        -0.28    -0.2497   \n",
       "\n",
       "               set3_total_ivt  set3_ASC  \n",
       "btap atap tod                            \n",
       "2477 1238 MD        -0.000000      0.00  \n",
       "     1551 MD        -1.817366      0.28  \n",
       "     2402 MD        -0.680892     -0.28  "
      ]
     },
     "execution_count": 39,
     "metadata": {},
     "output_type": "execute_result"
    }
   ],
   "source": [
    "set3_merged = pd.merge(set3_tap_tap_uniq_asc, set3_util_df, left_index=True, right_index=True)\n",
    "set3_merged[[col for col in set3_merged if 'asc' in col or 'ASC' in col or 'ivt' in col or 'fare' in col]]"
   ]
  },
  {
   "cell_type": "markdown",
   "id": "55ed97b5",
   "metadata": {},
   "source": [
    "## exploration"
   ]
  },
  {
   "cell_type": "markdown",
   "id": "2a7965a8",
   "metadata": {},
   "source": [
    "w/ c_cost = -0.0011"
   ]
  },
  {
   "cell_type": "code",
   "execution_count": 40,
   "id": "e03f1cff",
   "metadata": {},
   "outputs": [
    {
     "data": {
      "text/plain": [
       "<AxesSubplot:>"
      ]
     },
     "execution_count": 40,
     "metadata": {},
     "output_type": "execute_result"
    },
    {
     "data": {
      "image/png": "[encoded data removed]",
      "text/plain": [
       "<Figure size 432x288 with 1 Axes>"
      ]
     },
     "metadata": {
      "needs_background": "light"
     },
     "output_type": "display_data"
    }
   ],
   "source": [
    "set3_util_df['set3_fare'].hist(bins=35)"
   ]
  },
  {
   "cell_type": "markdown",
   "id": "9e5ea9bc",
   "metadata": {},
   "source": [
    "w/ c_cost= -0.0003"
   ]
  },
  {
   "cell_type": "code",
   "execution_count": 29,
   "id": "38b562f3",
   "metadata": {},
   "outputs": [
    {
     "data": {
      "text/plain": [
       "<AxesSubplot:>"
      ]
     },
     "execution_count": 29,
     "metadata": {},
     "output_type": "execute_result"
    },
    {
     "data": {
      "image/png": "[encoded data removed]",
      "text/plain": [
       "<Figure size 432x288 with 1 Axes>"
      ]
     },
     "metadata": {
      "needs_background": "light"
     },
     "output_type": "display_data"
    }
   ],
   "source": [
    "set3_util_df['set3_fare'].hist(bins=35)"
   ]
  },
  {
   "cell_type": "code",
   "execution_count": null,
   "id": "779a74c0",
   "metadata": {},
   "outputs": [],
   "source": []
  }
 ],
 "metadata": {
  "hide_input": false,
  "kernelspec": {
   "display_name": "Python [conda env:activitysim] *",
   "language": "python",
   "name": "conda-env-activitysim-py"
  },
  "language_info": {
   "codemirror_mode": {
    "name": "ipython",
    "version": 3
   },
   "file_extension": ".py",
   "mimetype": "text/x-python",
   "name": "python",
   "nbconvert_exporter": "python",
   "pygments_lexer": "ipython3",
   "version": "3.8.5"
  },
  "toc": {
   "base_numbering": 1,
   "nav_menu": {},
   "number_sections": true,
   "sideBar": true,
   "skip_h1_title": false,
   "title_cell": "Table of Contents",
   "title_sidebar": "Contents",
   "toc_cell": true,
   "toc_position": {},
   "toc_section_display": true,
   "toc_window_display": false
  }
 },
 "nbformat": 4,
 "nbformat_minor": 5
}
