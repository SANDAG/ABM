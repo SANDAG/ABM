{
 "cells": [
  {
   "cell_type": "code",
   "execution_count": 248,
   "id": "6d7f363b",
   "metadata": {},
   "outputs": [],
   "source": [
    "import pandas as pd\n",
    "import seaborn as sns\n",
    "from matplotlib import pyplot as plt\n",
    "import numpy as np\n",
    "import openmatrix as omx\n",
    "%matplotlib inline"
   ]
  },
  {
   "cell_type": "code",
   "execution_count": 102,
   "id": "4391f4b6",
   "metadata": {},
   "outputs": [],
   "source": [
    "mazs = pd.read_csv('data/mazs_xborder.csv')\n",
    "maz_to_pmsa = mazs[['MAZ','pseudomsa']].set_index('MAZ').pseudomsa\n",
    "maz_to_taz = mazs[['MAZ','TAZ']].set_index('MAZ').TAZ\n",
    "ext_maz_to_maz = mazs[['MAZ','original_MAZ']].set_index('MAZ').original_MAZ"
   ]
  },
  {
   "cell_type": "code",
   "execution_count": 39,
   "id": "1ef4cfc8",
   "metadata": {},
   "outputs": [
    {
     "data": {
      "text/html": [
       "<div>\n",
       "<style scoped>\n",
       "    .dataframe tbody tr th:only-of-type {\n",
       "        vertical-align: middle;\n",
       "    }\n",
       "\n",
       "    .dataframe tbody tr th {\n",
       "        vertical-align: top;\n",
       "    }\n",
       "\n",
       "    .dataframe thead th {\n",
       "        text-align: right;\n",
       "    }\n",
       "</style>\n",
       "<table border=\"1\" class=\"dataframe\">\n",
       "  <thead>\n",
       "    <tr style=\"text-align: right;\">\n",
       "      <th></th>\n",
       "      <th>MAZ</th>\n",
       "      <th>TAZ</th>\n",
       "      <th>hs</th>\n",
       "      <th>hs_sf</th>\n",
       "      <th>hs_mf</th>\n",
       "      <th>hs_mh</th>\n",
       "      <th>hh</th>\n",
       "      <th>hh_sf</th>\n",
       "      <th>hh_mf</th>\n",
       "      <th>hh_mh</th>\n",
       "      <th>...</th>\n",
       "      <th>ped_wait_22</th>\n",
       "      <th>ped_wait_24</th>\n",
       "      <th>ped_wait_26</th>\n",
       "      <th>ped_wait_28</th>\n",
       "      <th>ped_wait_30</th>\n",
       "      <th>ped_wait_32</th>\n",
       "      <th>ped_wait_34</th>\n",
       "      <th>ped_wait_36</th>\n",
       "      <th>ped_wait_38</th>\n",
       "      <th>ped_wait_40</th>\n",
       "    </tr>\n",
       "  </thead>\n",
       "  <tbody>\n",
       "    <tr>\n",
       "      <th>7065</th>\n",
       "      <td>7066</td>\n",
       "      <td>4989</td>\n",
       "      <td>0</td>\n",
       "      <td>0</td>\n",
       "      <td>0</td>\n",
       "      <td>0</td>\n",
       "      <td>0</td>\n",
       "      <td>0</td>\n",
       "      <td>0</td>\n",
       "      <td>0</td>\n",
       "      <td>...</td>\n",
       "      <td>7.7</td>\n",
       "      <td>7.3</td>\n",
       "      <td>7.0</td>\n",
       "      <td>7.1</td>\n",
       "      <td>6.2</td>\n",
       "      <td>3.9</td>\n",
       "      <td>1.6</td>\n",
       "      <td>2.1</td>\n",
       "      <td>3.9</td>\n",
       "      <td>1.7</td>\n",
       "    </tr>\n",
       "    <tr>\n",
       "      <th>7089</th>\n",
       "      <td>7090</td>\n",
       "      <td>4993</td>\n",
       "      <td>0</td>\n",
       "      <td>0</td>\n",
       "      <td>0</td>\n",
       "      <td>0</td>\n",
       "      <td>0</td>\n",
       "      <td>0</td>\n",
       "      <td>0</td>\n",
       "      <td>0</td>\n",
       "      <td>...</td>\n",
       "      <td>37.7</td>\n",
       "      <td>30.7</td>\n",
       "      <td>28.6</td>\n",
       "      <td>24.5</td>\n",
       "      <td>23.3</td>\n",
       "      <td>16.4</td>\n",
       "      <td>10.0</td>\n",
       "      <td>7.0</td>\n",
       "      <td>2.3</td>\n",
       "      <td>1.7</td>\n",
       "    </tr>\n",
       "    <tr>\n",
       "      <th>21894</th>\n",
       "      <td>21895</td>\n",
       "      <td>4831</td>\n",
       "      <td>0</td>\n",
       "      <td>0</td>\n",
       "      <td>0</td>\n",
       "      <td>0</td>\n",
       "      <td>0</td>\n",
       "      <td>0</td>\n",
       "      <td>0</td>\n",
       "      <td>0</td>\n",
       "      <td>...</td>\n",
       "      <td>1.8</td>\n",
       "      <td>1.6</td>\n",
       "      <td>1.3</td>\n",
       "      <td>1.1</td>\n",
       "      <td>1.2</td>\n",
       "      <td>0.9</td>\n",
       "      <td>0.9</td>\n",
       "      <td>0.8</td>\n",
       "      <td>3.0</td>\n",
       "      <td>999.0</td>\n",
       "    </tr>\n",
       "  </tbody>\n",
       "</table>\n",
       "<p>3 rows × 176 columns</p>\n",
       "</div>"
      ],
      "text/plain": [
       "         MAZ   TAZ  hs  hs_sf  hs_mf  hs_mh  hh  hh_sf  hh_mf  hh_mh  ...  \\\n",
       "7065    7066  4989   0      0      0      0   0      0      0      0  ...   \n",
       "7089    7090  4993   0      0      0      0   0      0      0      0  ...   \n",
       "21894  21895  4831   0      0      0      0   0      0      0      0  ...   \n",
       "\n",
       "       ped_wait_22  ped_wait_24  ped_wait_26  ped_wait_28  ped_wait_30  \\\n",
       "7065           7.7          7.3          7.0          7.1          6.2   \n",
       "7089          37.7         30.7         28.6         24.5         23.3   \n",
       "21894          1.8          1.6          1.3          1.1          1.2   \n",
       "\n",
       "       ped_wait_32  ped_wait_34  ped_wait_36  ped_wait_38  ped_wait_40  \n",
       "7065           3.9          1.6          2.1          3.9          1.7  \n",
       "7089          16.4         10.0          7.0          2.3          1.7  \n",
       "21894          0.9          0.9          0.8          3.0        999.0  \n",
       "\n",
       "[3 rows x 176 columns]"
      ]
     },
     "execution_count": 39,
     "metadata": {},
     "output_type": "execute_result"
    }
   ],
   "source": [
    "mazs[mazs['external_TAZ'] > 0]"
   ]
  },
  {
   "cell_type": "markdown",
   "id": "1d910046",
   "metadata": {},
   "source": [
    "### presampling alts "
   ]
  },
  {
   "cell_type": "code",
   "execution_count": 151,
   "id": "e33ba569",
   "metadata": {},
   "outputs": [],
   "source": [
    "presamp_alts = pd.read_csv('output/trace.tour_od_choice.sample.work.presample.interaction_sample.chunk_1.alternatives.csv')\n",
    "presamp_alts['pseudomsa'] = presamp_alts['orig_MAZ'].map(maz_to_pmsa)"
   ]
  },
  {
   "cell_type": "code",
   "execution_count": 180,
   "id": "6c2a4d46",
   "metadata": {},
   "outputs": [
    {
     "data": {
      "text/html": [
       "<div>\n",
       "<style scoped>\n",
       "    .dataframe tbody tr th:only-of-type {\n",
       "        vertical-align: middle;\n",
       "    }\n",
       "\n",
       "    .dataframe tbody tr th {\n",
       "        vertical-align: top;\n",
       "    }\n",
       "\n",
       "    .dataframe thead th {\n",
       "        text-align: right;\n",
       "    }\n",
       "</style>\n",
       "<table border=\"1\" class=\"dataframe\">\n",
       "  <thead>\n",
       "    <tr style=\"text-align: right;\">\n",
       "      <th></th>\n",
       "      <th>orig_MAZ_dest_TAZ</th>\n",
       "      <th>dest_TAZ</th>\n",
       "      <th>size_term</th>\n",
       "      <th>orig_MAZ</th>\n",
       "      <th>poe_id</th>\n",
       "      <th>colonia_pop_accessibility</th>\n",
       "      <th>original_MAZ</th>\n",
       "      <th>external_TAZ</th>\n",
       "      <th>external_MAZ</th>\n",
       "      <th>orig_TAZ</th>\n",
       "      <th>pseudomsa</th>\n",
       "    </tr>\n",
       "  </thead>\n",
       "  <tbody>\n",
       "    <tr>\n",
       "      <th>0</th>\n",
       "      <td>7066_13</td>\n",
       "      <td>13</td>\n",
       "      <td>165.406</td>\n",
       "      <td>7066</td>\n",
       "      <td>1</td>\n",
       "      <td>12.773032</td>\n",
       "      <td>-1</td>\n",
       "      <td>2</td>\n",
       "      <td>23004</td>\n",
       "      <td>4989</td>\n",
       "      <td>4</td>\n",
       "    </tr>\n",
       "    <tr>\n",
       "      <th>1</th>\n",
       "      <td>7090_13</td>\n",
       "      <td>13</td>\n",
       "      <td>165.406</td>\n",
       "      <td>7090</td>\n",
       "      <td>0</td>\n",
       "      <td>12.926537</td>\n",
       "      <td>-1</td>\n",
       "      <td>1</td>\n",
       "      <td>23003</td>\n",
       "      <td>4993</td>\n",
       "      <td>4</td>\n",
       "    </tr>\n",
       "    <tr>\n",
       "      <th>2</th>\n",
       "      <td>21895_13</td>\n",
       "      <td>13</td>\n",
       "      <td>165.406</td>\n",
       "      <td>21895</td>\n",
       "      <td>2</td>\n",
       "      <td>11.124192</td>\n",
       "      <td>-1</td>\n",
       "      <td>4</td>\n",
       "      <td>23005</td>\n",
       "      <td>4831</td>\n",
       "      <td>8</td>\n",
       "    </tr>\n",
       "    <tr>\n",
       "      <th>3</th>\n",
       "      <td>7066_14</td>\n",
       "      <td>14</td>\n",
       "      <td>45.822</td>\n",
       "      <td>7066</td>\n",
       "      <td>1</td>\n",
       "      <td>12.773032</td>\n",
       "      <td>-1</td>\n",
       "      <td>2</td>\n",
       "      <td>23004</td>\n",
       "      <td>4989</td>\n",
       "      <td>4</td>\n",
       "    </tr>\n",
       "    <tr>\n",
       "      <th>4</th>\n",
       "      <td>7090_14</td>\n",
       "      <td>14</td>\n",
       "      <td>45.822</td>\n",
       "      <td>7090</td>\n",
       "      <td>0</td>\n",
       "      <td>12.926537</td>\n",
       "      <td>-1</td>\n",
       "      <td>1</td>\n",
       "      <td>23003</td>\n",
       "      <td>4993</td>\n",
       "      <td>4</td>\n",
       "    </tr>\n",
       "    <tr>\n",
       "      <th>...</th>\n",
       "      <td>...</td>\n",
       "      <td>...</td>\n",
       "      <td>...</td>\n",
       "      <td>...</td>\n",
       "      <td>...</td>\n",
       "      <td>...</td>\n",
       "      <td>...</td>\n",
       "      <td>...</td>\n",
       "      <td>...</td>\n",
       "      <td>...</td>\n",
       "      <td>...</td>\n",
       "    </tr>\n",
       "    <tr>\n",
       "      <th>13669</th>\n",
       "      <td>7090_4995</td>\n",
       "      <td>4995</td>\n",
       "      <td>1013.420</td>\n",
       "      <td>7090</td>\n",
       "      <td>0</td>\n",
       "      <td>12.926537</td>\n",
       "      <td>-1</td>\n",
       "      <td>1</td>\n",
       "      <td>23003</td>\n",
       "      <td>4993</td>\n",
       "      <td>4</td>\n",
       "    </tr>\n",
       "    <tr>\n",
       "      <th>13670</th>\n",
       "      <td>21895_4995</td>\n",
       "      <td>4995</td>\n",
       "      <td>1013.420</td>\n",
       "      <td>21895</td>\n",
       "      <td>2</td>\n",
       "      <td>11.124192</td>\n",
       "      <td>-1</td>\n",
       "      <td>4</td>\n",
       "      <td>23005</td>\n",
       "      <td>4831</td>\n",
       "      <td>8</td>\n",
       "    </tr>\n",
       "    <tr>\n",
       "      <th>13671</th>\n",
       "      <td>7066_4996</td>\n",
       "      <td>4996</td>\n",
       "      <td>73.000</td>\n",
       "      <td>7066</td>\n",
       "      <td>1</td>\n",
       "      <td>12.773032</td>\n",
       "      <td>-1</td>\n",
       "      <td>2</td>\n",
       "      <td>23004</td>\n",
       "      <td>4989</td>\n",
       "      <td>4</td>\n",
       "    </tr>\n",
       "    <tr>\n",
       "      <th>13672</th>\n",
       "      <td>7090_4996</td>\n",
       "      <td>4996</td>\n",
       "      <td>73.000</td>\n",
       "      <td>7090</td>\n",
       "      <td>0</td>\n",
       "      <td>12.926537</td>\n",
       "      <td>-1</td>\n",
       "      <td>1</td>\n",
       "      <td>23003</td>\n",
       "      <td>4993</td>\n",
       "      <td>4</td>\n",
       "    </tr>\n",
       "    <tr>\n",
       "      <th>13673</th>\n",
       "      <td>21895_4996</td>\n",
       "      <td>4996</td>\n",
       "      <td>73.000</td>\n",
       "      <td>21895</td>\n",
       "      <td>2</td>\n",
       "      <td>11.124192</td>\n",
       "      <td>-1</td>\n",
       "      <td>4</td>\n",
       "      <td>23005</td>\n",
       "      <td>4831</td>\n",
       "      <td>8</td>\n",
       "    </tr>\n",
       "  </tbody>\n",
       "</table>\n",
       "<p>13674 rows × 11 columns</p>\n",
       "</div>"
      ],
      "text/plain": [
       "      orig_MAZ_dest_TAZ  dest_TAZ  size_term  orig_MAZ  poe_id  \\\n",
       "0               7066_13        13    165.406      7066       1   \n",
       "1               7090_13        13    165.406      7090       0   \n",
       "2              21895_13        13    165.406     21895       2   \n",
       "3               7066_14        14     45.822      7066       1   \n",
       "4               7090_14        14     45.822      7090       0   \n",
       "...                 ...       ...        ...       ...     ...   \n",
       "13669         7090_4995      4995   1013.420      7090       0   \n",
       "13670        21895_4995      4995   1013.420     21895       2   \n",
       "13671         7066_4996      4996     73.000      7066       1   \n",
       "13672         7090_4996      4996     73.000      7090       0   \n",
       "13673        21895_4996      4996     73.000     21895       2   \n",
       "\n",
       "       colonia_pop_accessibility  original_MAZ  external_TAZ  external_MAZ  \\\n",
       "0                      12.773032            -1             2         23004   \n",
       "1                      12.926537            -1             1         23003   \n",
       "2                      11.124192            -1             4         23005   \n",
       "3                      12.773032            -1             2         23004   \n",
       "4                      12.926537            -1             1         23003   \n",
       "...                          ...           ...           ...           ...   \n",
       "13669                  12.926537            -1             1         23003   \n",
       "13670                  11.124192            -1             4         23005   \n",
       "13671                  12.773032            -1             2         23004   \n",
       "13672                  12.926537            -1             1         23003   \n",
       "13673                  11.124192            -1             4         23005   \n",
       "\n",
       "       orig_TAZ  pseudomsa  \n",
       "0          4989          4  \n",
       "1          4993          4  \n",
       "2          4831          8  \n",
       "3          4989          4  \n",
       "4          4993          4  \n",
       "...         ...        ...  \n",
       "13669      4993          4  \n",
       "13670      4831          8  \n",
       "13671      4989          4  \n",
       "13672      4993          4  \n",
       "13673      4831          8  \n",
       "\n",
       "[13674 rows x 11 columns]"
      ]
     },
     "execution_count": 180,
     "metadata": {},
     "output_type": "execute_result"
    }
   ],
   "source": [
    "presamp_alts"
   ]
  },
  {
   "cell_type": "code",
   "execution_count": 152,
   "id": "5ecaa797",
   "metadata": {},
   "outputs": [
    {
     "data": {
      "text/plain": [
       "<AxesSubplot:xlabel='pseudo-MSA', ylabel='proportion'>"
      ]
     },
     "execution_count": 152,
     "metadata": {},
     "output_type": "execute_result"
    },
    {
     "data": {
      "image/png": "[encoded data removed]",
      "text/plain": [
       "<Figure size 1080x360 with 1 Axes>"
      ]
     },
     "metadata": {
      "needs_background": "light"
     },
     "output_type": "display_data"
    }
   ],
   "source": [
    "fig, ax = plt.subplots(figsize=(15,5))\n",
    "presampled_alts_pct = presamp_alts['pseudomsa'].value_counts() / len(presamp_alts)\n",
    "presampled_alts_pct = presampled_alts_pct.reset_index()\n",
    "presampled_alts_pct.columns = ['pseudo-MSA', 'proportion']\n",
    "presampled_alts_pct['source'] = 'tour origins'\n",
    "all_maz_pct = mazs['pseudomsa'].value_counts() / len(mazs)\n",
    "all_maz_pct = all_maz_pct.reset_index()\n",
    "all_maz_pct.columns = ['pseudo-MSA', 'proportion']\n",
    "all_maz_pct['source'] = 'all MAZ'\n",
    "maz_pct = pd.concat((presampled_alts_pct, all_maz_pct))\n",
    "sns.barplot(data=maz_pct, x='pseudo-MSA', y='proportion', hue='source',ax=ax)"
   ]
  },
  {
   "cell_type": "code",
   "execution_count": 206,
   "id": "bb082bd3",
   "metadata": {},
   "outputs": [],
   "source": [
    "presamp_eval = pd.read_csv(\n",
    "    'output/trace.tour_od_choice.sample.work.presample.interaction_sample.chunk_1.eval.household_id.15.csv',\n",
    "    index_col=0, header=None).T\n",
    "presamp_eval['total utility'] = presamp_eval['total utility'].astype(float)\n",
    "\n",
    "for col in ['orig_MAZ','orig_TAZ', 'dest_TAZ','external_TAZ']:\n",
    "    presamp_eval[col] = presamp_eval[col].astype(int)\n",
    "presamp_eval['pseudomsa'] = presamp_eval['orig_MAZ'].map(maz_to_pmsa)"
   ]
  },
  {
   "cell_type": "code",
   "execution_count": 154,
   "id": "3d20ae6f",
   "metadata": {},
   "outputs": [
    {
     "data": {
      "text/plain": [
       "<AxesSubplot:xlabel='total utility', ylabel='Density'>"
      ]
     },
     "execution_count": 154,
     "metadata": {},
     "output_type": "execute_result"
    },
    {
     "data": {
      "image/png": "[encoded data removed]",
      "text/plain": [
       "<Figure size 432x288 with 1 Axes>"
      ]
     },
     "metadata": {
      "needs_background": "light"
     },
     "output_type": "display_data"
    }
   ],
   "source": [
    "sns.kdeplot(data=presamp_eval, x='total utility', hue='pseudomsa', fill=True)"
   ]
  },
  {
   "cell_type": "code",
   "execution_count": 155,
   "id": "693d66d7",
   "metadata": {},
   "outputs": [
    {
     "data": {
      "text/plain": [
       "<AxesSubplot:xlabel='total utility', ylabel='Density'>"
      ]
     },
     "execution_count": 155,
     "metadata": {},
     "output_type": "execute_result"
    },
    {
     "data": {
      "image/png": "[encoded data removed]",
      "text/plain": [
       "<Figure size 432x288 with 1 Axes>"
      ]
     },
     "metadata": {
      "needs_background": "light"
     },
     "output_type": "display_data"
    }
   ],
   "source": [
    "sns.kdeplot(data=presamp_eval, x='total utility', hue='orig_MAZ', fill=True)"
   ]
  },
  {
   "cell_type": "code",
   "execution_count": 207,
   "id": "11174e91",
   "metadata": {},
   "outputs": [
    {
     "data": {
      "text/html": [
       "<div>\n",
       "<style scoped>\n",
       "    .dataframe tbody tr th:only-of-type {\n",
       "        vertical-align: middle;\n",
       "    }\n",
       "\n",
       "    .dataframe tbody tr th {\n",
       "        vertical-align: top;\n",
       "    }\n",
       "\n",
       "    .dataframe thead th {\n",
       "        text-align: right;\n",
       "    }\n",
       "</style>\n",
       "<table border=\"1\" class=\"dataframe\">\n",
       "  <thead>\n",
       "    <tr style=\"text-align: right;\">\n",
       "      <th></th>\n",
       "      <th>orig_MAZ</th>\n",
       "      <th>orig_TAZ</th>\n",
       "      <th>dest_TAZ</th>\n",
       "      <th>_DIST@skims[('SOV_NT_M_DIST','MD')]</th>\n",
       "    </tr>\n",
       "  </thead>\n",
       "  <tbody>\n",
       "    <tr>\n",
       "      <th>3911</th>\n",
       "      <td>21895</td>\n",
       "      <td>4831</td>\n",
       "      <td>4831</td>\n",
       "      <td>0.6252217292785645</td>\n",
       "    </tr>\n",
       "    <tr>\n",
       "      <th>8606</th>\n",
       "      <td>7066</td>\n",
       "      <td>4989</td>\n",
       "      <td>4989</td>\n",
       "      <td>0.15224646031856537</td>\n",
       "    </tr>\n",
       "    <tr>\n",
       "      <th>13169</th>\n",
       "      <td>7090</td>\n",
       "      <td>4993</td>\n",
       "      <td>4993</td>\n",
       "      <td>0.1870305836200714</td>\n",
       "    </tr>\n",
       "  </tbody>\n",
       "</table>\n",
       "</div>"
      ],
      "text/plain": [
       "0      orig_MAZ  orig_TAZ  dest_TAZ _DIST@skims[('SOV_NT_M_DIST','MD')]\n",
       "3911      21895      4831      4831                  0.6252217292785645\n",
       "8606       7066      4989      4989                 0.15224646031856537\n",
       "13169      7090      4993      4993                  0.1870305836200714"
      ]
     },
     "execution_count": 207,
     "metadata": {},
     "output_type": "execute_result"
    }
   ],
   "source": [
    "presamp_eval.loc[presamp_eval['orig_TAZ'] == presamp_eval['dest_TAZ'],[\"orig_MAZ\",\"orig_TAZ\",\"dest_TAZ\",\"_DIST@skims[('SOV_NT_M_DIST','MD')]\"]]"
   ]
  },
  {
   "cell_type": "code",
   "execution_count": 208,
   "id": "666f4697",
   "metadata": {},
   "outputs": [],
   "source": [
    "presamp_dest_maz = pd.read_csv(\n",
    "    'output/trace.tour_od_choice.sample.work.presample.choose_MAZ_for_TAZ.taz_choices.csv'\n",
    ")"
   ]
  },
  {
   "cell_type": "code",
   "execution_count": 209,
   "id": "bc2a7be1",
   "metadata": {},
   "outputs": [],
   "source": [
    "presamp_eval = pd.merge(presamp_eval, presamp_dest_maz, on=['dest_TAZ','orig_MAZ'])"
   ]
  },
  {
   "cell_type": "markdown",
   "id": "bcb2065b",
   "metadata": {},
   "source": [
    "### Logsums"
   ]
  },
  {
   "cell_type": "code",
   "execution_count": 157,
   "id": "00325c4a",
   "metadata": {},
   "outputs": [],
   "source": [
    "logsum_choosers = pd.read_csv(\n",
    "    'output/trace.tour_od_choice.logsums.work.compute_logsums.simple_simulate_logsums.chunk_2.eval_nl_logsums.choosers.csv',\n",
    "    index_col=0\n",
    ").transpose()\n",
    "logsum_choosers['destination'] = logsum_choosers['destination'].astype(int)"
   ]
  },
  {
   "cell_type": "markdown",
   "id": "9cae6c6d",
   "metadata": {},
   "source": [
    "#### origins"
   ]
  },
  {
   "cell_type": "code",
   "execution_count": 158,
   "id": "10e61c5a",
   "metadata": {},
   "outputs": [
    {
     "data": {
      "text/plain": [
       "<AxesSubplot:xlabel='origin', ylabel='count'>"
      ]
     },
     "execution_count": 158,
     "metadata": {},
     "output_type": "execute_result"
    },
    {
     "data": {
      "image/png": "[encoded data removed]",
      "text/plain": [
       "<Figure size 432x288 with 1 Axes>"
      ]
     },
     "metadata": {
      "needs_background": "light"
     },
     "output_type": "display_data"
    }
   ],
   "source": [
    "sns.countplot(data=logsum_choosers, x='origin')"
   ]
  },
  {
   "cell_type": "markdown",
   "id": "4e48c822",
   "metadata": {},
   "source": [
    "#### destination pMSA's "
   ]
  },
  {
   "cell_type": "code",
   "execution_count": 159,
   "id": "606f2788",
   "metadata": {},
   "outputs": [],
   "source": [
    "logsum_choosers['pseudomsa'] = logsum_choosers['destination'].map(maz_to_pmsa)"
   ]
  },
  {
   "cell_type": "markdown",
   "id": "78132f1b",
   "metadata": {},
   "source": [
    "No pMSA 4 tour destinations!"
   ]
  },
  {
   "cell_type": "code",
   "execution_count": 160,
   "id": "d805e219",
   "metadata": {},
   "outputs": [
    {
     "data": {
      "text/plain": [
       "<AxesSubplot:xlabel='pseudomsa', ylabel='count'>"
      ]
     },
     "execution_count": 160,
     "metadata": {},
     "output_type": "execute_result"
    },
    {
     "data": {
      "image/png": "[encoded data removed]",
      "text/plain": [
       "<Figure size 432x288 with 1 Axes>"
      ]
     },
     "metadata": {
      "needs_background": "light"
     },
     "output_type": "display_data"
    }
   ],
   "source": [
    "sns.countplot(data=logsum_choosers, x='pseudomsa')"
   ]
  },
  {
   "cell_type": "code",
   "execution_count": 161,
   "id": "8319d340",
   "metadata": {},
   "outputs": [],
   "source": [
    "for col in ['logsum_DRIVEALONE_outbound', 'logsum_DRIVEALONE_inbound',\n",
    "       'logsum_SHARED2_outbound', 'logsum_SHARED2_inbound',\n",
    "       'logsum_SHARED3_outbound', 'logsum_SHARED3_inbound',\n",
    "       'logsum_WALK_outbound', 'logsum_WALK_inbound']:\n",
    "    logsum_choosers[col] = logsum_choosers[col].astype(float)"
   ]
  },
  {
   "cell_type": "code",
   "execution_count": 162,
   "id": "8ef99ca8",
   "metadata": {},
   "outputs": [],
   "source": [
    "mean_pmsa_logsums_by_tour_mode = logsum_choosers.groupby(['origin','pseudomsa']).mean()\n",
    "mean_pmsa_logsums_by_tour_mode = mean_pmsa_logsums_by_tour_mode[[col for col in mean_pmsa_logsums_by_tour_mode.columns if col not in ['destination','MAZ']]]"
   ]
  },
  {
   "cell_type": "code",
   "execution_count": 163,
   "id": "1b5bb2e5",
   "metadata": {},
   "outputs": [],
   "source": [
    "mean_pmsa_logsums_by_tour_mode = mean_pmsa_logsums_by_tour_mode.reset_index().melt(\n",
    "    id_vars=['origin','pseudomsa'], var_name='mode',value_name='logsum')"
   ]
  },
  {
   "cell_type": "code",
   "execution_count": 164,
   "id": "677ee78d",
   "metadata": {},
   "outputs": [
    {
     "data": {
      "text/plain": [
       "<seaborn.axisgrid.FacetGrid at 0x16cc1999ee0>"
      ]
     },
     "execution_count": 164,
     "metadata": {},
     "output_type": "execute_result"
    },
    {
     "data": {
      "image/png": "[encoded data removed]",
      "text/plain": [
       "<Figure size 1274.25x360 with 3 Axes>"
      ]
     },
     "metadata": {
      "needs_background": "light"
     },
     "output_type": "display_data"
    }
   ],
   "source": [
    "sns.catplot(data=mean_pmsa_logsums_by_tour_mode, x='pseudomsa',y='logsum',hue='mode',col='origin', kind='bar')"
   ]
  },
  {
   "cell_type": "code",
   "execution_count": 165,
   "id": "1d4a5e06",
   "metadata": {},
   "outputs": [],
   "source": [
    "sampled_alts = pd.read_csv('output/trace.tour_od_choice.sample.work.presample.choose_MAZ_for_TAZ.taz_choices.csv')"
   ]
  },
  {
   "cell_type": "code",
   "execution_count": 166,
   "id": "52d9f997",
   "metadata": {},
   "outputs": [],
   "source": [
    "sampled_alts = pd.merge(sampled_alts, mazs[['MAZ', 'pseudomsa']], left_on='dest_MAZ',right_on='MAZ')"
   ]
  },
  {
   "cell_type": "code",
   "execution_count": 167,
   "id": "b382907b",
   "metadata": {},
   "outputs": [
    {
     "data": {
      "text/plain": [
       "<AxesSubplot:xlabel='pseudo-MSA', ylabel='proportion'>"
      ]
     },
     "execution_count": 167,
     "metadata": {},
     "output_type": "execute_result"
    },
    {
     "data": {
      "image/png": "[encoded data removed]",
      "text/plain": [
       "<Figure size 1080x360 with 1 Axes>"
      ]
     },
     "metadata": {
      "needs_background": "light"
     },
     "output_type": "display_data"
    }
   ],
   "source": [
    "fig, ax = plt.subplots(figsize=(15,5))\n",
    "sampled_alts_pct = sampled_alts['pseudomsa'].value_counts().reset_index()/len(sampled_alts)\n",
    "sampled_alts_pct.columns = ['pseudo-MSA', 'proportion']\n",
    "sampled_alts_pct['pseudo-MSA'] = sampled_alts_pct['pseudo-MSA'] * len(sampled_alts)\n",
    "sampled_alts_pct['source'] = 'tour OD sampled alts'\n",
    "all_maz_pct = mazs['pseudomsa'].value_counts().reset_index() / len(mazs)\n",
    "all_maz_pct.columns = ['pseudo-MSA', 'proportion']\n",
    "all_maz_pct['pseudo-MSA'] = all_maz_pct['pseudo-MSA'] * len(mazs)\n",
    "all_maz_pct['source'] = 'all MAZ'\n",
    "maz_pct = pd.concat((sampled_alts_pct, all_maz_pct))\n",
    "sns.barplot(data=maz_pct, x='pseudo-MSA', y='proportion',hue='source',ax=ax)"
   ]
  },
  {
   "cell_type": "code",
   "execution_count": 17,
   "id": "6ec41a4e",
   "metadata": {},
   "outputs": [],
   "source": [
    "taz_size_terms = presamp_alts[['dest_TAZ','size_term']].drop_duplicates()"
   ]
  },
  {
   "cell_type": "code",
   "execution_count": 18,
   "id": "1f29a872",
   "metadata": {},
   "outputs": [
    {
     "data": {
      "text/html": [
       "<div>\n",
       "<style scoped>\n",
       "    .dataframe tbody tr th:only-of-type {\n",
       "        vertical-align: middle;\n",
       "    }\n",
       "\n",
       "    .dataframe tbody tr th {\n",
       "        vertical-align: top;\n",
       "    }\n",
       "\n",
       "    .dataframe thead th {\n",
       "        text-align: right;\n",
       "    }\n",
       "</style>\n",
       "<table border=\"1\" class=\"dataframe\">\n",
       "  <thead>\n",
       "    <tr style=\"text-align: right;\">\n",
       "      <th></th>\n",
       "      <th>dest_TAZ</th>\n",
       "      <th>size_term</th>\n",
       "    </tr>\n",
       "  </thead>\n",
       "  <tbody>\n",
       "    <tr>\n",
       "      <th>0</th>\n",
       "      <td>13</td>\n",
       "      <td>165.406</td>\n",
       "    </tr>\n",
       "    <tr>\n",
       "      <th>3</th>\n",
       "      <td>14</td>\n",
       "      <td>45.822</td>\n",
       "    </tr>\n",
       "    <tr>\n",
       "      <th>6</th>\n",
       "      <td>15</td>\n",
       "      <td>7458.031</td>\n",
       "    </tr>\n",
       "    <tr>\n",
       "      <th>9</th>\n",
       "      <td>16</td>\n",
       "      <td>748.143</td>\n",
       "    </tr>\n",
       "    <tr>\n",
       "      <th>12</th>\n",
       "      <td>17</td>\n",
       "      <td>8.951</td>\n",
       "    </tr>\n",
       "    <tr>\n",
       "      <th>...</th>\n",
       "      <td>...</td>\n",
       "      <td>...</td>\n",
       "    </tr>\n",
       "    <tr>\n",
       "      <th>13770</th>\n",
       "      <td>4992</td>\n",
       "      <td>329.059</td>\n",
       "    </tr>\n",
       "    <tr>\n",
       "      <th>13773</th>\n",
       "      <td>4993</td>\n",
       "      <td>736.096</td>\n",
       "    </tr>\n",
       "    <tr>\n",
       "      <th>13776</th>\n",
       "      <td>4994</td>\n",
       "      <td>67.366</td>\n",
       "    </tr>\n",
       "    <tr>\n",
       "      <th>13779</th>\n",
       "      <td>4995</td>\n",
       "      <td>1013.420</td>\n",
       "    </tr>\n",
       "    <tr>\n",
       "      <th>13782</th>\n",
       "      <td>4996</td>\n",
       "      <td>73.000</td>\n",
       "    </tr>\n",
       "  </tbody>\n",
       "</table>\n",
       "<p>4558 rows × 2 columns</p>\n",
       "</div>"
      ],
      "text/plain": [
       "       dest_TAZ  size_term\n",
       "0            13    165.406\n",
       "3            14     45.822\n",
       "6            15   7458.031\n",
       "9            16    748.143\n",
       "12           17      8.951\n",
       "...         ...        ...\n",
       "13770      4992    329.059\n",
       "13773      4993    736.096\n",
       "13776      4994     67.366\n",
       "13779      4995   1013.420\n",
       "13782      4996     73.000\n",
       "\n",
       "[4558 rows x 2 columns]"
      ]
     },
     "execution_count": 18,
     "metadata": {},
     "output_type": "execute_result"
    }
   ],
   "source": [
    "taz_size_terms"
   ]
  },
  {
   "cell_type": "code",
   "execution_count": 19,
   "id": "65738f41",
   "metadata": {},
   "outputs": [
    {
     "data": {
      "text/plain": [
       "<AxesSubplot:xlabel='pseudomsa'>"
      ]
     },
     "execution_count": 19,
     "metadata": {},
     "output_type": "execute_result"
    },
    {
     "data": {
      "image/png": "[encoded data removed]",
      "text/plain": [
       "<Figure size 432x288 with 1 Axes>"
      ]
     },
     "metadata": {
      "needs_background": "light"
     },
     "output_type": "display_data"
    }
   ],
   "source": [
    "presamp_alts.groupby('pseudomsa')['size_term'].sum().plot(kind='bar')"
   ]
  },
  {
   "cell_type": "code",
   "execution_count": 20,
   "id": "e4ffb147",
   "metadata": {},
   "outputs": [
    {
     "data": {
      "text/plain": [
       "<AxesSubplot:xlabel='pseudomsa'>"
      ]
     },
     "execution_count": 20,
     "metadata": {},
     "output_type": "execute_result"
    },
    {
     "data": {
      "image/png": "[encoded data removed]",
      "text/plain": [
       "<Figure size 432x288 with 1 Axes>"
      ]
     },
     "metadata": {
      "needs_background": "light"
     },
     "output_type": "display_data"
    }
   ],
   "source": [
    "presamp_alts.groupby('pseudomsa')['size_term'].mean().plot(kind='bar')"
   ]
  },
  {
   "cell_type": "markdown",
   "id": "6f9365f9",
   "metadata": {},
   "source": [
    "### Simulation "
   ]
  },
  {
   "cell_type": "code",
   "execution_count": 168,
   "id": "e31ca4fb",
   "metadata": {},
   "outputs": [],
   "source": [
    "simulate_eval = pd.read_csv(\n",
    "    'output/trace.tour_od_choice.simulate.work.interaction_sample_simulate.chunk_1.eval.household_id.15.csv',\n",
    "    index_col=0, header=None).T"
   ]
  },
  {
   "cell_type": "code",
   "execution_count": 169,
   "id": "e8773b7a",
   "metadata": {},
   "outputs": [],
   "source": [
    "simulate_eval['original_MAZ'] = simulate_eval['origin'].astype(int).map(ext_maz_to_maz)\n",
    "simulate_eval['pseudomsa'] = simulate_eval['original_MAZ'].map(maz_to_pmsa)"
   ]
  },
  {
   "cell_type": "code",
   "execution_count": 170,
   "id": "fe260150",
   "metadata": {},
   "outputs": [
    {
     "data": {
      "text/plain": [
       "<AxesSubplot:xlabel='pseudo-MSA', ylabel='proportion'>"
      ]
     },
     "execution_count": 170,
     "metadata": {},
     "output_type": "execute_result"
    },
    {
     "data": {
      "image/png": "[encoded data removed]",
      "text/plain": [
       "<Figure size 1080x360 with 1 Axes>"
      ]
     },
     "metadata": {
      "needs_background": "light"
     },
     "output_type": "display_data"
    }
   ],
   "source": [
    "fig, ax = plt.subplots(figsize=(15,5))\n",
    "simulated_alts_pct = simulate_eval['pseudomsa'].value_counts() / len(simulate_eval)\n",
    "simulated_alts_pct = simulated_alts_pct.reset_index()\n",
    "simulated_alts_pct.columns = ['pseudo-MSA', 'proportion']\n",
    "simulated_alts_pct['source'] = 'tour origins'\n",
    "all_maz_pct = mazs['pseudomsa'].value_counts() / len(mazs)\n",
    "all_maz_pct = all_maz_pct.reset_index()\n",
    "all_maz_pct.columns = ['pseudo-MSA', 'proportion']\n",
    "all_maz_pct['source'] = 'all MAZ'\n",
    "maz_pct = pd.concat((simulated_alts_pct, all_maz_pct))\n",
    "sns.barplot(data=maz_pct, x='pseudo-MSA', y='proportion', hue='source',ax=ax)"
   ]
  },
  {
   "cell_type": "markdown",
   "id": "9af79a9b",
   "metadata": {},
   "source": [
    "### Compare sampling vs. simulation distances"
   ]
  },
  {
   "cell_type": "code",
   "execution_count": 224,
   "id": "c029fb0f",
   "metadata": {},
   "outputs": [],
   "source": [
    "skims_am = omx.open_file('data/traffic_skims_xborder_AM.omx')\n",
    "skims_md = omx.open_file('data/traffic_skims_xborder_MD.omx')"
   ]
  },
  {
   "cell_type": "code",
   "execution_count": 210,
   "id": "2028678a",
   "metadata": {},
   "outputs": [],
   "source": [
    "simulate_eval['orig_TAZ'] = simulate_eval['origin'].astype(int).map(maz_to_taz)\n",
    "simulate_eval['dest_TAZ'] = simulate_eval['destination'].astype(int).map(maz_to_taz)"
   ]
  },
  {
   "cell_type": "code",
   "execution_count": 240,
   "id": "a001752f",
   "metadata": {},
   "outputs": [],
   "source": [
    "simulate_eval.rename(columns={'origin':'orig_MAZ', 'destination':'dest_MAZ',\"_DIST@skims[('SOV_NT_M_DIST','AM')]\":'sov_dist'}, inplace=True)"
   ]
  },
  {
   "cell_type": "code",
   "execution_count": 242,
   "id": "8c5b161c",
   "metadata": {},
   "outputs": [],
   "source": [
    "presamp_eval.rename(columns={\"_DIST@skims[('SOV_NT_M_DIST','MD')]\":'sov_dist'}, inplace=True)"
   ]
  },
  {
   "cell_type": "code",
   "execution_count": 243,
   "id": "29ebfcc8",
   "metadata": {},
   "outputs": [],
   "source": [
    "merged = pd.merge(presamp_eval,simulate_eval, \n",
    "                   left_on=['dest_TAZ','external_TAZ'],right_on=['dest_TAZ','orig_TAZ'],\n",
    "                  suffixes=('_samp','_sim'))"
   ]
  },
  {
   "cell_type": "code",
   "execution_count": 244,
   "id": "e7243347",
   "metadata": {},
   "outputs": [],
   "source": [
    "merged = merged[[\n",
    "    'orig_MAZ_samp','orig_MAZ_sim','orig_TAZ_samp','external_TAZ_samp','orig_TAZ_sim',\n",
    "    'dest_MAZ_samp','dest_MAZ_sim','dest_TAZ',\n",
    "    'sov_dist_samp','sov_dist_sim']]"
   ]
  },
  {
   "cell_type": "code",
   "execution_count": 260,
   "id": "9c99c4a7",
   "metadata": {},
   "outputs": [
    {
     "data": {
      "text/html": [
       "<div>\n",
       "<style scoped>\n",
       "    .dataframe tbody tr th:only-of-type {\n",
       "        vertical-align: middle;\n",
       "    }\n",
       "\n",
       "    .dataframe tbody tr th {\n",
       "        vertical-align: top;\n",
       "    }\n",
       "\n",
       "    .dataframe thead th {\n",
       "        text-align: right;\n",
       "    }\n",
       "</style>\n",
       "<table border=\"1\" class=\"dataframe\">\n",
       "  <thead>\n",
       "    <tr style=\"text-align: right;\">\n",
       "      <th></th>\n",
       "      <th>orig_MAZ_samp</th>\n",
       "      <th>orig_MAZ_sim</th>\n",
       "      <th>orig_TAZ_samp</th>\n",
       "      <th>external_TAZ_samp</th>\n",
       "      <th>orig_TAZ_sim</th>\n",
       "      <th>dest_MAZ_samp</th>\n",
       "      <th>dest_MAZ_sim</th>\n",
       "      <th>dest_TAZ</th>\n",
       "      <th>sov_dist_samp</th>\n",
       "      <th>sov_dist_sim</th>\n",
       "      <th>sov_dist_md_int_TAZ</th>\n",
       "      <th>sov_dist_md_ext_TAZ</th>\n",
       "    </tr>\n",
       "  </thead>\n",
       "  <tbody>\n",
       "    <tr>\n",
       "      <th>0</th>\n",
       "      <td>21895</td>\n",
       "      <td>23005</td>\n",
       "      <td>4831</td>\n",
       "      <td>4</td>\n",
       "      <td>4</td>\n",
       "      <td>11244</td>\n",
       "      <td>11244</td>\n",
       "      <td>1980</td>\n",
       "      <td>41.69432067871094</td>\n",
       "      <td>41.963584899902344</td>\n",
       "      <td>41.694321</td>\n",
       "      <td>41.963585</td>\n",
       "    </tr>\n",
       "    <tr>\n",
       "      <th>1</th>\n",
       "      <td>21895</td>\n",
       "      <td>23005</td>\n",
       "      <td>4831</td>\n",
       "      <td>4</td>\n",
       "      <td>4</td>\n",
       "      <td>5599</td>\n",
       "      <td>5599</td>\n",
       "      <td>2512</td>\n",
       "      <td>44.85908126831055</td>\n",
       "      <td>46.13188171386719</td>\n",
       "      <td>44.859081</td>\n",
       "      <td>45.128345</td>\n",
       "    </tr>\n",
       "    <tr>\n",
       "      <th>2</th>\n",
       "      <td>21895</td>\n",
       "      <td>23005</td>\n",
       "      <td>4831</td>\n",
       "      <td>4</td>\n",
       "      <td>4</td>\n",
       "      <td>5599</td>\n",
       "      <td>5599</td>\n",
       "      <td>2512</td>\n",
       "      <td>44.85908126831055</td>\n",
       "      <td>46.13188171386719</td>\n",
       "      <td>44.859081</td>\n",
       "      <td>45.128345</td>\n",
       "    </tr>\n",
       "    <tr>\n",
       "      <th>3</th>\n",
       "      <td>21895</td>\n",
       "      <td>23005</td>\n",
       "      <td>4831</td>\n",
       "      <td>4</td>\n",
       "      <td>4</td>\n",
       "      <td>6738</td>\n",
       "      <td>6738</td>\n",
       "      <td>2746</td>\n",
       "      <td>33.604190826416016</td>\n",
       "      <td>33.87345504760742</td>\n",
       "      <td>33.604191</td>\n",
       "      <td>33.873455</td>\n",
       "    </tr>\n",
       "    <tr>\n",
       "      <th>4</th>\n",
       "      <td>21895</td>\n",
       "      <td>23005</td>\n",
       "      <td>4831</td>\n",
       "      <td>4</td>\n",
       "      <td>4</td>\n",
       "      <td>9414</td>\n",
       "      <td>9414</td>\n",
       "      <td>3577</td>\n",
       "      <td>32.06199645996094</td>\n",
       "      <td>32.331260681152344</td>\n",
       "      <td>32.061996</td>\n",
       "      <td>32.331261</td>\n",
       "    </tr>\n",
       "  </tbody>\n",
       "</table>\n",
       "</div>"
      ],
      "text/plain": [
       "   orig_MAZ_samp orig_MAZ_sim  orig_TAZ_samp  external_TAZ_samp  orig_TAZ_sim  \\\n",
       "0          21895        23005           4831                  4             4   \n",
       "1          21895        23005           4831                  4             4   \n",
       "2          21895        23005           4831                  4             4   \n",
       "3          21895        23005           4831                  4             4   \n",
       "4          21895        23005           4831                  4             4   \n",
       "\n",
       "   dest_MAZ_samp dest_MAZ_sim  dest_TAZ       sov_dist_samp  \\\n",
       "0          11244        11244      1980   41.69432067871094   \n",
       "1           5599         5599      2512   44.85908126831055   \n",
       "2           5599         5599      2512   44.85908126831055   \n",
       "3           6738         6738      2746  33.604190826416016   \n",
       "4           9414         9414      3577   32.06199645996094   \n",
       "\n",
       "         sov_dist_sim  sov_dist_md_int_TAZ  sov_dist_md_ext_TAZ  \n",
       "0  41.963584899902344            41.694321            41.963585  \n",
       "1   46.13188171386719            44.859081            45.128345  \n",
       "2   46.13188171386719            44.859081            45.128345  \n",
       "3   33.87345504760742            33.604191            33.873455  \n",
       "4  32.331260681152344            32.061996            32.331261  "
      ]
     },
     "execution_count": 260,
     "metadata": {},
     "output_type": "execute_result"
    }
   ],
   "source": [
    "merged.head()"
   ]
  },
  {
   "cell_type": "code",
   "execution_count": 245,
   "id": "7beb8505",
   "metadata": {},
   "outputs": [],
   "source": [
    "merged['sov_dist_md_int_TAZ'] = skims_md['SOV_NT_M_DIST__MD'][merged['orig_TAZ_samp'].values - 1, merged['dest_TAZ'].values - 1]\n",
    "merged['sov_dist_md_ext_TAZ'] = skims_md['SOV_NT_M_DIST__MD'][merged['external_TAZ_samp'].values - 1, merged['dest_TAZ'].values - 1]\n",
    "merged['sov_dist_am_ext_TAZ'] = skims_am['SOV_NT_M_DIST__AM'][merged['orig_TAZ_sim'].values - 1, merged['dest_TAZ'].values - 1]"
   ]
  },
  {
   "cell_type": "markdown",
   "id": "73b4bb54",
   "metadata": {},
   "source": [
    "Sampling distances should match internal TAZ distances (the CTRAMP \"bug\") and not external TAZ distances"
   ]
  },
  {
   "cell_type": "code",
   "execution_count": 258,
   "id": "c06e59a9",
   "metadata": {},
   "outputs": [],
   "source": [
    "assert np.allclose(merged['sov_dist_samp'].astype(float), merged['sov_dist_md_int_TAZ'].astype('float'))"
   ]
  },
  {
   "cell_type": "code",
   "execution_count": 259,
   "id": "8c51f184",
   "metadata": {},
   "outputs": [],
   "source": [
    "assert not np.allclose(merged['sov_dist_samp'].astype(float), merged['sov_dist_md_ext_TAZ'].astype('float'))"
   ]
  },
  {
   "cell_type": "markdown",
   "id": "ecc6bd92",
   "metadata": {},
   "source": [
    "But simulation distances should match external TAZ distances rather than internal TAZ distances"
   ]
  },
  {
   "cell_type": "code",
   "execution_count": 264,
   "id": "50042d91",
   "metadata": {},
   "outputs": [],
   "source": [
    "assert np.allclose(merged['sov_dist_sim'].astype(float), merged['sov_dist_am_ext_TAZ'].astype('float'))"
   ]
  },
  {
   "cell_type": "code",
   "execution_count": 265,
   "id": "86fbfffd",
   "metadata": {},
   "outputs": [],
   "source": [
    "assert not np.allclose(merged['sov_dist_sim'].astype(float), merged['sov_dist_md_int_TAZ'].astype('float'))"
   ]
  },
  {
   "cell_type": "code",
   "execution_count": 246,
   "id": "9b3649b0",
   "metadata": {},
   "outputs": [
    {
     "data": {
      "text/html": [
       "<div>\n",
       "<style scoped>\n",
       "    .dataframe tbody tr th:only-of-type {\n",
       "        vertical-align: middle;\n",
       "    }\n",
       "\n",
       "    .dataframe tbody tr th {\n",
       "        vertical-align: top;\n",
       "    }\n",
       "\n",
       "    .dataframe thead th {\n",
       "        text-align: right;\n",
       "    }\n",
       "</style>\n",
       "<table border=\"1\" class=\"dataframe\">\n",
       "  <thead>\n",
       "    <tr style=\"text-align: right;\">\n",
       "      <th></th>\n",
       "      <th>orig_TAZ_samp</th>\n",
       "      <th>external_TAZ_samp</th>\n",
       "      <th>dest_TAZ</th>\n",
       "      <th>sov_dist_samp</th>\n",
       "      <th>sov_dist_md_int_TAZ</th>\n",
       "      <th>sov_dist_sim</th>\n",
       "      <th>sov_dist_md_ext_TAZ</th>\n",
       "    </tr>\n",
       "  </thead>\n",
       "  <tbody>\n",
       "    <tr>\n",
       "      <th>0</th>\n",
       "      <td>4831</td>\n",
       "      <td>4</td>\n",
       "      <td>1980</td>\n",
       "      <td>41.69432067871094</td>\n",
       "      <td>41.694321</td>\n",
       "      <td>41.963584899902344</td>\n",
       "      <td>41.963585</td>\n",
       "    </tr>\n",
       "    <tr>\n",
       "      <th>1</th>\n",
       "      <td>4831</td>\n",
       "      <td>4</td>\n",
       "      <td>2512</td>\n",
       "      <td>44.85908126831055</td>\n",
       "      <td>44.859081</td>\n",
       "      <td>46.13188171386719</td>\n",
       "      <td>45.128345</td>\n",
       "    </tr>\n",
       "    <tr>\n",
       "      <th>2</th>\n",
       "      <td>4831</td>\n",
       "      <td>4</td>\n",
       "      <td>2512</td>\n",
       "      <td>44.85908126831055</td>\n",
       "      <td>44.859081</td>\n",
       "      <td>46.13188171386719</td>\n",
       "      <td>45.128345</td>\n",
       "    </tr>\n",
       "    <tr>\n",
       "      <th>3</th>\n",
       "      <td>4831</td>\n",
       "      <td>4</td>\n",
       "      <td>2746</td>\n",
       "      <td>33.604190826416016</td>\n",
       "      <td>33.604191</td>\n",
       "      <td>33.87345504760742</td>\n",
       "      <td>33.873455</td>\n",
       "    </tr>\n",
       "    <tr>\n",
       "      <th>4</th>\n",
       "      <td>4831</td>\n",
       "      <td>4</td>\n",
       "      <td>3577</td>\n",
       "      <td>32.06199645996094</td>\n",
       "      <td>32.061996</td>\n",
       "      <td>32.331260681152344</td>\n",
       "      <td>32.331261</td>\n",
       "    </tr>\n",
       "    <tr>\n",
       "      <th>5</th>\n",
       "      <td>4989</td>\n",
       "      <td>2</td>\n",
       "      <td>2512</td>\n",
       "      <td>27.756315231323242</td>\n",
       "      <td>27.756315</td>\n",
       "      <td>28.827980041503906</td>\n",
       "      <td>28.827980</td>\n",
       "    </tr>\n",
       "    <tr>\n",
       "      <th>6</th>\n",
       "      <td>4989</td>\n",
       "      <td>2</td>\n",
       "      <td>2620</td>\n",
       "      <td>29.19895362854004</td>\n",
       "      <td>29.198954</td>\n",
       "      <td>30.270618438720703</td>\n",
       "      <td>30.270618</td>\n",
       "    </tr>\n",
       "    <tr>\n",
       "      <th>7</th>\n",
       "      <td>4989</td>\n",
       "      <td>2</td>\n",
       "      <td>2639</td>\n",
       "      <td>26.82597541809082</td>\n",
       "      <td>26.825975</td>\n",
       "      <td>27.897640228271484</td>\n",
       "      <td>27.897640</td>\n",
       "    </tr>\n",
       "    <tr>\n",
       "      <th>8</th>\n",
       "      <td>4989</td>\n",
       "      <td>2</td>\n",
       "      <td>3169</td>\n",
       "      <td>26.707792282104492</td>\n",
       "      <td>26.707792</td>\n",
       "      <td>27.779457092285156</td>\n",
       "      <td>27.779457</td>\n",
       "    </tr>\n",
       "    <tr>\n",
       "      <th>9</th>\n",
       "      <td>4989</td>\n",
       "      <td>2</td>\n",
       "      <td>3383</td>\n",
       "      <td>21.85386848449707</td>\n",
       "      <td>21.853868</td>\n",
       "      <td>22.925533294677734</td>\n",
       "      <td>22.925533</td>\n",
       "    </tr>\n",
       "    <tr>\n",
       "      <th>10</th>\n",
       "      <td>4989</td>\n",
       "      <td>2</td>\n",
       "      <td>4090</td>\n",
       "      <td>21.16780662536621</td>\n",
       "      <td>21.167807</td>\n",
       "      <td>22.239471435546875</td>\n",
       "      <td>22.239471</td>\n",
       "    </tr>\n",
       "    <tr>\n",
       "      <th>11</th>\n",
       "      <td>4989</td>\n",
       "      <td>2</td>\n",
       "      <td>4330</td>\n",
       "      <td>18.071474075317383</td>\n",
       "      <td>18.071474</td>\n",
       "      <td>19.143138885498047</td>\n",
       "      <td>19.143139</td>\n",
       "    </tr>\n",
       "    <tr>\n",
       "      <th>12</th>\n",
       "      <td>4989</td>\n",
       "      <td>2</td>\n",
       "      <td>4341</td>\n",
       "      <td>17.801424026489258</td>\n",
       "      <td>17.801424</td>\n",
       "      <td>18.873088836669922</td>\n",
       "      <td>18.873089</td>\n",
       "    </tr>\n",
       "    <tr>\n",
       "      <th>13</th>\n",
       "      <td>4989</td>\n",
       "      <td>2</td>\n",
       "      <td>4384</td>\n",
       "      <td>17.18675422668457</td>\n",
       "      <td>17.186754</td>\n",
       "      <td>18.514541625976562</td>\n",
       "      <td>18.258419</td>\n",
       "    </tr>\n",
       "    <tr>\n",
       "      <th>14</th>\n",
       "      <td>4989</td>\n",
       "      <td>2</td>\n",
       "      <td>4601</td>\n",
       "      <td>13.076547622680664</td>\n",
       "      <td>13.076548</td>\n",
       "      <td>14.148210525512695</td>\n",
       "      <td>14.148211</td>\n",
       "    </tr>\n",
       "    <tr>\n",
       "      <th>15</th>\n",
       "      <td>4989</td>\n",
       "      <td>2</td>\n",
       "      <td>4664</td>\n",
       "      <td>7.073028087615967</td>\n",
       "      <td>7.073028</td>\n",
       "      <td>8.384522438049316</td>\n",
       "      <td>8.384522</td>\n",
       "    </tr>\n",
       "    <tr>\n",
       "      <th>16</th>\n",
       "      <td>4989</td>\n",
       "      <td>2</td>\n",
       "      <td>4742</td>\n",
       "      <td>12.909248352050781</td>\n",
       "      <td>12.909248</td>\n",
       "      <td>13.980911254882812</td>\n",
       "      <td>13.980911</td>\n",
       "    </tr>\n",
       "    <tr>\n",
       "      <th>17</th>\n",
       "      <td>4989</td>\n",
       "      <td>2</td>\n",
       "      <td>4821</td>\n",
       "      <td>9.72061538696289</td>\n",
       "      <td>9.720615</td>\n",
       "      <td>10.792278289794922</td>\n",
       "      <td>10.792278</td>\n",
       "    </tr>\n",
       "    <tr>\n",
       "      <th>18</th>\n",
       "      <td>4989</td>\n",
       "      <td>2</td>\n",
       "      <td>4905</td>\n",
       "      <td>11.238089561462402</td>\n",
       "      <td>11.238090</td>\n",
       "      <td>12.309752464294434</td>\n",
       "      <td>12.309752</td>\n",
       "    </tr>\n",
       "    <tr>\n",
       "      <th>19</th>\n",
       "      <td>4989</td>\n",
       "      <td>2</td>\n",
       "      <td>4921</td>\n",
       "      <td>3.4004874229431152</td>\n",
       "      <td>3.400487</td>\n",
       "      <td>4.472151279449463</td>\n",
       "      <td>4.472151</td>\n",
       "    </tr>\n",
       "    <tr>\n",
       "      <th>20</th>\n",
       "      <td>4989</td>\n",
       "      <td>2</td>\n",
       "      <td>4921</td>\n",
       "      <td>3.4004874229431152</td>\n",
       "      <td>3.400487</td>\n",
       "      <td>4.472151279449463</td>\n",
       "      <td>4.472151</td>\n",
       "    </tr>\n",
       "    <tr>\n",
       "      <th>21</th>\n",
       "      <td>4993</td>\n",
       "      <td>1</td>\n",
       "      <td>2590</td>\n",
       "      <td>22.504478454589844</td>\n",
       "      <td>22.504478</td>\n",
       "      <td>23.736644744873047</td>\n",
       "      <td>23.736645</td>\n",
       "    </tr>\n",
       "    <tr>\n",
       "      <th>22</th>\n",
       "      <td>4993</td>\n",
       "      <td>1</td>\n",
       "      <td>2902</td>\n",
       "      <td>25.04346466064453</td>\n",
       "      <td>25.043465</td>\n",
       "      <td>26.275630950927734</td>\n",
       "      <td>26.275631</td>\n",
       "    </tr>\n",
       "    <tr>\n",
       "      <th>23</th>\n",
       "      <td>4993</td>\n",
       "      <td>1</td>\n",
       "      <td>4070</td>\n",
       "      <td>16.79822540283203</td>\n",
       "      <td>16.798225</td>\n",
       "      <td>18.030391693115234</td>\n",
       "      <td>18.030392</td>\n",
       "    </tr>\n",
       "    <tr>\n",
       "      <th>24</th>\n",
       "      <td>4993</td>\n",
       "      <td>1</td>\n",
       "      <td>4384</td>\n",
       "      <td>11.570755004882812</td>\n",
       "      <td>11.570755</td>\n",
       "      <td>13.059043884277344</td>\n",
       "      <td>12.802923</td>\n",
       "    </tr>\n",
       "    <tr>\n",
       "      <th>25</th>\n",
       "      <td>4993</td>\n",
       "      <td>1</td>\n",
       "      <td>4522</td>\n",
       "      <td>9.048233032226562</td>\n",
       "      <td>9.048233</td>\n",
       "      <td>10.280401229858398</td>\n",
       "      <td>10.280401</td>\n",
       "    </tr>\n",
       "    <tr>\n",
       "      <th>26</th>\n",
       "      <td>4993</td>\n",
       "      <td>1</td>\n",
       "      <td>4716</td>\n",
       "      <td>7.336296558380127</td>\n",
       "      <td>7.336297</td>\n",
       "      <td>8.568463325500488</td>\n",
       "      <td>8.568463</td>\n",
       "    </tr>\n",
       "    <tr>\n",
       "      <th>27</th>\n",
       "      <td>4993</td>\n",
       "      <td>1</td>\n",
       "      <td>4773</td>\n",
       "      <td>6.411491870880127</td>\n",
       "      <td>6.411492</td>\n",
       "      <td>7.643658638000488</td>\n",
       "      <td>7.643659</td>\n",
       "    </tr>\n",
       "    <tr>\n",
       "      <th>28</th>\n",
       "      <td>4993</td>\n",
       "      <td>1</td>\n",
       "      <td>4833</td>\n",
       "      <td>6.250660419464111</td>\n",
       "      <td>6.250660</td>\n",
       "      <td>7.482827186584473</td>\n",
       "      <td>7.482827</td>\n",
       "    </tr>\n",
       "    <tr>\n",
       "      <th>29</th>\n",
       "      <td>4993</td>\n",
       "      <td>1</td>\n",
       "      <td>4957</td>\n",
       "      <td>7.384071350097656</td>\n",
       "      <td>7.384071</td>\n",
       "      <td>8.61623764038086</td>\n",
       "      <td>8.616238</td>\n",
       "    </tr>\n",
       "  </tbody>\n",
       "</table>\n",
       "</div>"
      ],
      "text/plain": [
       "    orig_TAZ_samp  external_TAZ_samp  dest_TAZ       sov_dist_samp  \\\n",
       "0            4831                  4      1980   41.69432067871094   \n",
       "1            4831                  4      2512   44.85908126831055   \n",
       "2            4831                  4      2512   44.85908126831055   \n",
       "3            4831                  4      2746  33.604190826416016   \n",
       "4            4831                  4      3577   32.06199645996094   \n",
       "5            4989                  2      2512  27.756315231323242   \n",
       "6            4989                  2      2620   29.19895362854004   \n",
       "7            4989                  2      2639   26.82597541809082   \n",
       "8            4989                  2      3169  26.707792282104492   \n",
       "9            4989                  2      3383   21.85386848449707   \n",
       "10           4989                  2      4090   21.16780662536621   \n",
       "11           4989                  2      4330  18.071474075317383   \n",
       "12           4989                  2      4341  17.801424026489258   \n",
       "13           4989                  2      4384   17.18675422668457   \n",
       "14           4989                  2      4601  13.076547622680664   \n",
       "15           4989                  2      4664   7.073028087615967   \n",
       "16           4989                  2      4742  12.909248352050781   \n",
       "17           4989                  2      4821    9.72061538696289   \n",
       "18           4989                  2      4905  11.238089561462402   \n",
       "19           4989                  2      4921  3.4004874229431152   \n",
       "20           4989                  2      4921  3.4004874229431152   \n",
       "21           4993                  1      2590  22.504478454589844   \n",
       "22           4993                  1      2902   25.04346466064453   \n",
       "23           4993                  1      4070   16.79822540283203   \n",
       "24           4993                  1      4384  11.570755004882812   \n",
       "25           4993                  1      4522   9.048233032226562   \n",
       "26           4993                  1      4716   7.336296558380127   \n",
       "27           4993                  1      4773   6.411491870880127   \n",
       "28           4993                  1      4833   6.250660419464111   \n",
       "29           4993                  1      4957   7.384071350097656   \n",
       "\n",
       "    sov_dist_md_int_TAZ        sov_dist_sim  sov_dist_md_ext_TAZ  \n",
       "0             41.694321  41.963584899902344            41.963585  \n",
       "1             44.859081   46.13188171386719            45.128345  \n",
       "2             44.859081   46.13188171386719            45.128345  \n",
       "3             33.604191   33.87345504760742            33.873455  \n",
       "4             32.061996  32.331260681152344            32.331261  \n",
       "5             27.756315  28.827980041503906            28.827980  \n",
       "6             29.198954  30.270618438720703            30.270618  \n",
       "7             26.825975  27.897640228271484            27.897640  \n",
       "8             26.707792  27.779457092285156            27.779457  \n",
       "9             21.853868  22.925533294677734            22.925533  \n",
       "10            21.167807  22.239471435546875            22.239471  \n",
       "11            18.071474  19.143138885498047            19.143139  \n",
       "12            17.801424  18.873088836669922            18.873089  \n",
       "13            17.186754  18.514541625976562            18.258419  \n",
       "14            13.076548  14.148210525512695            14.148211  \n",
       "15             7.073028   8.384522438049316             8.384522  \n",
       "16            12.909248  13.980911254882812            13.980911  \n",
       "17             9.720615  10.792278289794922            10.792278  \n",
       "18            11.238090  12.309752464294434            12.309752  \n",
       "19             3.400487   4.472151279449463             4.472151  \n",
       "20             3.400487   4.472151279449463             4.472151  \n",
       "21            22.504478  23.736644744873047            23.736645  \n",
       "22            25.043465  26.275630950927734            26.275631  \n",
       "23            16.798225  18.030391693115234            18.030392  \n",
       "24            11.570755  13.059043884277344            12.802923  \n",
       "25             9.048233  10.280401229858398            10.280401  \n",
       "26             7.336297   8.568463325500488             8.568463  \n",
       "27             6.411492   7.643658638000488             7.643659  \n",
       "28             6.250660   7.482827186584473             7.482827  \n",
       "29             7.384071    8.61623764038086             8.616238  "
      ]
     },
     "execution_count": 246,
     "metadata": {},
     "output_type": "execute_result"
    }
   ],
   "source": [
    "merged[['orig_TAZ_samp','external_TAZ_samp','dest_TAZ','sov_dist_samp','sov_dist_md_int_TAZ','sov_dist_sim','sov_dist_md_ext_TAZ']]"
   ]
  },
  {
   "cell_type": "code",
   "execution_count": 236,
   "id": "47d00eda",
   "metadata": {},
   "outputs": [
    {
     "data": {
      "text/plain": [
       "0.1870305836200714"
      ]
     },
     "execution_count": 236,
     "metadata": {},
     "output_type": "execute_result"
    }
   ],
   "source": [
    "skims_md['SOV_NT_M_DIST__MD'][4993-1][4993-1]"
   ]
  },
  {
   "cell_type": "code",
   "execution_count": 237,
   "id": "610ea809",
   "metadata": {},
   "outputs": [
    {
     "data": {
      "text/plain": [
       "1.5756943225860596"
      ]
     },
     "execution_count": 237,
     "metadata": {},
     "output_type": "execute_result"
    }
   ],
   "source": [
    "skims_md['SOV_NT_M_DIST__MD'][1-1][4993-1]"
   ]
  },
  {
   "cell_type": "code",
   "execution_count": 238,
   "id": "1239407d",
   "metadata": {},
   "outputs": [
    {
     "data": {
      "text/plain": [
       "6.411491870880127"
      ]
     },
     "execution_count": 238,
     "metadata": {},
     "output_type": "execute_result"
    }
   ],
   "source": [
    "skims_md['SOV_NT_M_DIST__MD'][4993-1][4773-1]"
   ]
  },
  {
   "cell_type": "code",
   "execution_count": 239,
   "id": "39e358ae",
   "metadata": {},
   "outputs": [
    {
     "data": {
      "text/plain": [
       "7.643658638000488"
      ]
     },
     "execution_count": 239,
     "metadata": {},
     "output_type": "execute_result"
    }
   ],
   "source": [
    "skims_md['SOV_NT_M_DIST__MD'][1-1][4773-1]"
   ]
  },
  {
   "cell_type": "code",
   "execution_count": null,
   "id": "cce5aa34",
   "metadata": {},
   "outputs": [],
   "source": []
  }
 ],
 "metadata": {
  "hide_input": false,
  "kernelspec": {
   "display_name": "Python [conda env:activitysim] *",
   "language": "python",
   "name": "conda-env-activitysim-py"
  },
  "language_info": {
   "codemirror_mode": {
    "name": "ipython",
    "version": 3
   },
   "file_extension": ".py",
   "mimetype": "text/x-python",
   "name": "python",
   "nbconvert_exporter": "python",
   "pygments_lexer": "ipython3",
   "version": "3.8.5"
  },
  "toc": {
   "base_numbering": 1,
   "nav_menu": {},
   "number_sections": true,
   "sideBar": true,
   "skip_h1_title": false,
   "title_cell": "Table of Contents",
   "title_sidebar": "Contents",
   "toc_cell": false,
   "toc_position": {},
   "toc_section_display": true,
   "toc_window_display": false
  }
 },
 "nbformat": 4,
 "nbformat_minor": 5
}
