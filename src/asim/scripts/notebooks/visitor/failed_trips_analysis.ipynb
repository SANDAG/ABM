{
 "cells": [
  {
   "cell_type": "code",
   "execution_count": 3,
   "metadata": {},
   "outputs": [],
   "source": [
    "import os\n",
    "import pandas as pd\n",
    "import openmatrix as omx\n",
    "import seaborn as sns\n",
    "\n",
    "failed_trips = pd.read_csv('../../output/trace.trip_destination_failed_trips.csv')\n",
    "tours = pd.read_csv('../../output/final_tours.csv')\n",
    "land_use = pd.read_csv('C:/abm_runs/rsg/abm3_dev/run_dir/data_full/land_use.csv')\n",
    "skims = omx.open_file('C:/abm_runs/rsg/abm3_dev/run_dir/data_full/traffic_skims_processed_AM.omx')"
   ]
  },
  {
   "cell_type": "code",
   "execution_count": 6,
   "metadata": {
    "scrolled": true
   },
   "outputs": [],
   "source": [
    "failed_tours = tours[tours.tour_id.isin(failed_trips.tour_id)]\n",
    "failed_od = pd.DataFrame(zip(failed_tours.origin, failed_tours.destination, failed_tours.tour_mode), \n",
    "                         columns = ['o', 'd', 'mode'])"
   ]
  },
  {
   "cell_type": "code",
   "execution_count": 7,
   "metadata": {},
   "outputs": [
    {
     "data": {
      "text/html": [
       "<div>\n",
       "<style scoped>\n",
       "    .dataframe tbody tr th:only-of-type {\n",
       "        vertical-align: middle;\n",
       "    }\n",
       "\n",
       "    .dataframe tbody tr th {\n",
       "        vertical-align: top;\n",
       "    }\n",
       "\n",
       "    .dataframe thead th {\n",
       "        text-align: right;\n",
       "    }\n",
       "</style>\n",
       "<table border=\"1\" class=\"dataframe\">\n",
       "  <thead>\n",
       "    <tr style=\"text-align: right;\">\n",
       "      <th></th>\n",
       "      <th>o</th>\n",
       "      <th>d</th>\n",
       "      <th>mode</th>\n",
       "      <th>o_taz</th>\n",
       "      <th>d_taz</th>\n",
       "    </tr>\n",
       "  </thead>\n",
       "  <tbody>\n",
       "    <tr>\n",
       "      <th>0</th>\n",
       "      <td>2</td>\n",
       "      <td>21486</td>\n",
       "      <td>BIKE</td>\n",
       "      <td>3331</td>\n",
       "      <td>31</td>\n",
       "    </tr>\n",
       "    <tr>\n",
       "      <th>1</th>\n",
       "      <td>8</td>\n",
       "      <td>21897</td>\n",
       "      <td>BIKE</td>\n",
       "      <td>3407</td>\n",
       "      <td>2326</td>\n",
       "    </tr>\n",
       "    <tr>\n",
       "      <th>2</th>\n",
       "      <td>14</td>\n",
       "      <td>21353</td>\n",
       "      <td>BIKE</td>\n",
       "      <td>3407</td>\n",
       "      <td>194</td>\n",
       "    </tr>\n",
       "    <tr>\n",
       "      <th>3</th>\n",
       "      <td>19</td>\n",
       "      <td>21368</td>\n",
       "      <td>BIKE</td>\n",
       "      <td>3385</td>\n",
       "      <td>194</td>\n",
       "    </tr>\n",
       "    <tr>\n",
       "      <th>4</th>\n",
       "      <td>19</td>\n",
       "      <td>14713</td>\n",
       "      <td>BIKE</td>\n",
       "      <td>3385</td>\n",
       "      <td>670</td>\n",
       "    </tr>\n",
       "    <tr>\n",
       "      <th>...</th>\n",
       "      <td>...</td>\n",
       "      <td>...</td>\n",
       "      <td>...</td>\n",
       "      <td>...</td>\n",
       "      <td>...</td>\n",
       "    </tr>\n",
       "    <tr>\n",
       "      <th>20383</th>\n",
       "      <td>22985</td>\n",
       "      <td>21392</td>\n",
       "      <td>BIKE</td>\n",
       "      <td>1254</td>\n",
       "      <td>810</td>\n",
       "    </tr>\n",
       "    <tr>\n",
       "      <th>20384</th>\n",
       "      <td>22986</td>\n",
       "      <td>22337</td>\n",
       "      <td>BIKE</td>\n",
       "      <td>1255</td>\n",
       "      <td>4565</td>\n",
       "    </tr>\n",
       "    <tr>\n",
       "      <th>20385</th>\n",
       "      <td>22988</td>\n",
       "      <td>20994</td>\n",
       "      <td>BIKE</td>\n",
       "      <td>1255</td>\n",
       "      <td>154</td>\n",
       "    </tr>\n",
       "    <tr>\n",
       "      <th>20386</th>\n",
       "      <td>22989</td>\n",
       "      <td>21897</td>\n",
       "      <td>BIKE</td>\n",
       "      <td>1256</td>\n",
       "      <td>2326</td>\n",
       "    </tr>\n",
       "    <tr>\n",
       "      <th>20387</th>\n",
       "      <td>22993</td>\n",
       "      <td>21410</td>\n",
       "      <td>BIKE</td>\n",
       "      <td>1254</td>\n",
       "      <td>810</td>\n",
       "    </tr>\n",
       "  </tbody>\n",
       "</table>\n",
       "<p>20388 rows × 5 columns</p>\n",
       "</div>"
      ],
      "text/plain": [
       "           o      d  mode  o_taz  d_taz\n",
       "0          2  21486  BIKE   3331     31\n",
       "1          8  21897  BIKE   3407   2326\n",
       "2         14  21353  BIKE   3407    194\n",
       "3         19  21368  BIKE   3385    194\n",
       "4         19  14713  BIKE   3385    670\n",
       "...      ...    ...   ...    ...    ...\n",
       "20383  22985  21392  BIKE   1254    810\n",
       "20384  22986  22337  BIKE   1255   4565\n",
       "20385  22988  20994  BIKE   1255    154\n",
       "20386  22989  21897  BIKE   1256   2326\n",
       "20387  22993  21410  BIKE   1254    810\n",
       "\n",
       "[20388 rows x 5 columns]"
      ]
     },
     "execution_count": 7,
     "metadata": {},
     "output_type": "execute_result"
    }
   ],
   "source": [
    "#MAZ to TAZ\n",
    "maz2taz = land_use.set_index('MAZ', inplace=False)['TAZ']\n",
    "failed_od['o_taz'] = failed_od.o.apply(lambda x: maz2taz[x])\n",
    "failed_od['d_taz'] = failed_od.d.apply(lambda x: maz2taz[x])\n",
    "failed_od"
   ]
  },
  {
   "cell_type": "code",
   "execution_count": 8,
   "metadata": {},
   "outputs": [
    {
     "name": "stdout",
     "output_type": "stream",
     "text": [
      "(4996, 4996)\n"
     ]
    },
    {
     "data": {
      "text/plain": [
       "[(14, 4994), (13, 4996)]"
      ]
     },
     "execution_count": 8,
     "metadata": {},
     "output_type": "execute_result"
    }
   ],
   "source": [
    "print(skims['DIST'].shape)\n",
    "[(failed_od[x].min(), failed_od[x].max()) for x in ['o_taz', 'd_taz']]"
   ]
  },
  {
   "cell_type": "code",
   "execution_count": 9,
   "metadata": {},
   "outputs": [
    {
     "data": {
      "text/plain": [
       "18.257915496826172"
      ]
     },
     "execution_count": 9,
     "metadata": {},
     "output_type": "execute_result"
    }
   ],
   "source": [
    "failed_od['dist'] = [skims['DIST'][o-1][d-1] for i, o, d in failed_od[['o_taz','d_taz']].itertuples()]\n",
    "min(failed_od.dist)"
   ]
  },
  {
   "cell_type": "code",
   "execution_count": 11,
   "metadata": {},
   "outputs": [
    {
     "data": {
      "text/plain": [
       "<matplotlib.axes._subplots.AxesSubplot at 0xfe98c74748>"
      ]
     },
     "execution_count": 11,
     "metadata": {},
     "output_type": "execute_result"
    },
    {
     "data": {
      "image/png": "[encoded data removed]",
      "text/plain": [
       "<Figure size 432x288 with 1 Axes>"
      ]
     },
     "metadata": {
      "needs_background": "light"
     },
     "output_type": "display_data"
    }
   ],
   "source": [
    "sns.histplot(data=failed_od, x='dist', hue='mode')"
   ]
  }
 ],
 "metadata": {
  "anaconda-cloud": {},
  "kernelspec": {
   "display_name": "Python 3",
   "language": "python",
   "name": "python3"
  },
  "language_info": {
   "codemirror_mode": {
    "name": "ipython",
    "version": 3
   },
   "file_extension": ".py",
   "mimetype": "text/x-python",
   "name": "python",
   "nbconvert_exporter": "python",
   "pygments_lexer": "ipython3",
   "version": "3.7.4"
  }
 },
 "nbformat": 4,
 "nbformat_minor": 5
}
