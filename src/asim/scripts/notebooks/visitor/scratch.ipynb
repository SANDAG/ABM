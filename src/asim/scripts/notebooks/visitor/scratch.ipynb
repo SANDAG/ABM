{
 "cells": [
  {
   "cell_type": "code",
   "execution_count": 9,
   "outputs": [
    {
     "data": {
      "text/plain": "array([-0.0037, -0.0017, -0.001 , -0.0017, -0.001 , -0.0004, -0.0004])"
     },
     "execution_count": 9,
     "metadata": {},
     "output_type": "execute_result"
    }
   ],
   "source": [
    "import numpy as np\n",
    "import pandas as pd\n",
    "\n",
    "coef_costlow\t= -0.0037\n",
    "coef_costmed\t= -0.0017\n",
    "coef_costhigh\t= -0.001\n",
    "coef_costvhigh\t= -0.0004\n",
    "\n",
    "df = pd.DataFrame({'income': [0,1,2,1,2,3,4]})\n",
    "condlist = [df.income == 0, df.income == 1, df.income == 2, df.income > 2]\n",
    "choicelist = [coef_costlow, coef_costmed, coef_costhigh, coef_costvhigh]\n",
    "\n",
    "df['coef'] = np.select(condlist, choicelist)\n",
    "np.select([df.income == 0, df.income == 1, df.income == 2, df.income > 2],\n",
    "          [coef_costlow, coef_costmed, coef_costhigh, coef_costvhigh])"
   ],
   "metadata": {
    "collapsed": false,
    "pycharm": {
     "name": "#%%\n"
    }
   }
  }
 ],
 "metadata": {
  "kernelspec": {
   "display_name": "Python 3",
   "language": "python",
   "name": "python3"
  },
  "language_info": {
   "codemirror_mode": {
    "name": "ipython",
    "version": 2
   },
   "file_extension": ".py",
   "mimetype": "text/x-python",
   "name": "python",
   "nbconvert_exporter": "python",
   "pygments_lexer": "ipython2",
   "version": "2.7.6"
  }
 },
 "nbformat": 4,
 "nbformat_minor": 0
}