{
 "cells": [
  {
   "attachments": {},
   "cell_type": "markdown",
   "metadata": {
    "colab_type": "text",
    "id": "knOigRU1UJ9Y"
   },
   "source": [
    "# Estimating Stop Frequency\n",
    "\n",
    "This notebook illustrates how to re-estimate a single model component for ActivitySim.  This process \n",
    "includes running ActivitySim in estimation mode to read household travel survey files and write out\n",
    "the estimation data bundles used in this notebook.  To review how to do so, please visit the other\n",
    "notebooks in this directory."
   ]
  },
  {
   "attachments": {},
   "cell_type": "markdown",
   "metadata": {},
   "source": [
    "# Load libraries"
   ]
  },
  {
   "cell_type": "code",
   "execution_count": 1,
   "metadata": {
    "colab": {
     "base_uri": "https://localhost:8080/",
     "height": 34
    },
    "colab_type": "code",
    "id": "s53VwlPwtNnr",
    "outputId": "d1208b7a-c1f2-4b0b-c439-bf312fe12be0"
   },
   "outputs": [],
   "source": [
    "import os\n",
    "import larch  # !conda install larch -c conda-forge # for estimation\n",
    "import pandas as pd"
   ]
  },
  {
   "attachments": {},
   "cell_type": "markdown",
   "metadata": {},
   "source": [
    "We'll work in our `test` directory, where ActivitySim has saved the estimation data bundles."
   ]
  },
  {
   "cell_type": "code",
   "execution_count": 2,
   "metadata": {},
   "outputs": [],
   "source": [
    "os.chdir('C:\\ABM3_dev\\outputs')"
   ]
  },
  {
   "attachments": {},
   "cell_type": "markdown",
   "metadata": {},
   "source": [
    "# Load data and prep model for estimation"
   ]
  },
  {
   "cell_type": "code",
   "execution_count": 3,
   "metadata": {},
   "outputs": [
    {
     "name": "stderr",
     "output_type": "stream",
     "text": [
      "c:\\abm3_dev\\activitysim\\activitysim\\estimation\\larch\\stop_frequency.py:114: DtypeWarning: Columns (34,35,48) have mixed types. Specify dtype option on import or set low_memory=False.\n",
      "  chooser_data = pd.read_csv(\n",
      "c:\\abm3_dev\\activitysim\\activitysim\\estimation\\larch\\stop_frequency.py:114: DtypeWarning: Columns (57) have mixed types. Specify dtype option on import or set low_memory=False.\n",
      "  chooser_data = pd.read_csv(\n",
      "c:\\abm3_dev\\activitysim\\activitysim\\estimation\\larch\\stop_frequency.py:114: DtypeWarning: Columns (54) have mixed types. Specify dtype option on import or set low_memory=False.\n",
      "  chooser_data = pd.read_csv(\n",
      "c:\\abm3_dev\\activitysim\\activitysim\\estimation\\larch\\general.py:324: UserWarning: coefficient dataframe missing 'constrain' column, setting all to 'F'\n",
      "  warnings.warn(\n"
     ]
    }
   ],
   "source": [
    "modelname = \"stop_frequency\"\n",
    "\n",
    "from activitysim.estimation.larch import component_model\n",
    "model, data = component_model(modelname, return_data=True)"
   ]
  },
  {
   "attachments": {},
   "cell_type": "markdown",
   "metadata": {},
   "source": [
    "# Review data loaded from the EDB\n",
    "\n",
    "The next step is to read the EDB, including the coefficients, model settings, utilities specification, and chooser and alternative data."
   ]
  },
  {
   "cell_type": "code",
   "execution_count": 4,
   "metadata": {},
   "outputs": [
    {
     "data": {
      "text/plain": [
       "['work',\n",
       " 'school',\n",
       " 'univ',\n",
       " 'social',\n",
       " 'shopping',\n",
       " 'eatout',\n",
       " 'escort',\n",
       " 'othmaint',\n",
       " 'othdiscr',\n",
       " 'atwork']"
      ]
     },
     "execution_count": 4,
     "metadata": {},
     "output_type": "execute_result"
    }
   ],
   "source": [
    "spec_segments = [i.primary_purpose for i in data.settings.SPEC_SEGMENTS]\n",
    "spec_segments"
   ]
  },
  {
   "attachments": {},
   "cell_type": "markdown",
   "metadata": {},
   "source": [
    "## Coefficients\n",
    "\n",
    "There is one meta-coefficients dataframe for this component, which contains\n",
    "parameters for all the matching coefficients in the various segmented \n",
    "files. When different segments have the same named coefficient with the same\n",
    "value, it is assumed they should be estimated jointly.  If they have the same name\n",
    "but different values in the coefficient files, then they are re-estimated\n",
    "independently."
   ]
  },
  {
   "cell_type": "code",
   "execution_count": 5,
   "metadata": {},
   "outputs": [
    {
     "data": {
      "text/html": [
       "<div>\n",
       "<style scoped>\n",
       "    .dataframe tbody tr th:only-of-type {\n",
       "        vertical-align: middle;\n",
       "    }\n",
       "\n",
       "    .dataframe tbody tr th {\n",
       "        vertical-align: top;\n",
       "    }\n",
       "\n",
       "    .dataframe thead th {\n",
       "        text-align: right;\n",
       "    }\n",
       "</style>\n",
       "<table border=\"1\" class=\"dataframe\">\n",
       "  <thead>\n",
       "    <tr style=\"text-align: right;\">\n",
       "      <th></th>\n",
       "      <th>value</th>\n",
       "      <th>constrain</th>\n",
       "    </tr>\n",
       "    <tr>\n",
       "      <th>coefficient_name</th>\n",
       "      <th></th>\n",
       "      <th></th>\n",
       "    </tr>\n",
       "  </thead>\n",
       "  <tbody>\n",
       "    <tr>\n",
       "      <th>coef_constants_for_outbound_trips_1out0in</th>\n",
       "      <td>-1.748000</td>\n",
       "      <td>F</td>\n",
       "    </tr>\n",
       "    <tr>\n",
       "      <th>coef_constants_for_outbound_trips_1out1in</th>\n",
       "      <td>-1.748000</td>\n",
       "      <td>F</td>\n",
       "    </tr>\n",
       "    <tr>\n",
       "      <th>coef_constants_for_outbound_trips_1out2in</th>\n",
       "      <td>-1.748000</td>\n",
       "      <td>F</td>\n",
       "    </tr>\n",
       "    <tr>\n",
       "      <th>coef_constants_for_outbound_trips_1out3in</th>\n",
       "      <td>-1.748000</td>\n",
       "      <td>F</td>\n",
       "    </tr>\n",
       "    <tr>\n",
       "      <th>coef_constants_for_outbound_trips_2out0in</th>\n",
       "      <td>-3.979000</td>\n",
       "      <td>F</td>\n",
       "    </tr>\n",
       "    <tr>\n",
       "      <th>...</th>\n",
       "      <td>...</td>\n",
       "      <td>...</td>\n",
       "    </tr>\n",
       "    <tr>\n",
       "      <th>coef_abm2_calibration_alternative_specific_constant_adjustment_1out0in_atwork</th>\n",
       "      <td>0.462488</td>\n",
       "      <td>F</td>\n",
       "    </tr>\n",
       "    <tr>\n",
       "      <th>coef_abm2_calibration_alternative_specific_constant_adjustment_1out1in_atwork</th>\n",
       "      <td>-0.576300</td>\n",
       "      <td>F</td>\n",
       "    </tr>\n",
       "    <tr>\n",
       "      <th>coef_abm2_calibration_alternative_specific_constant_adjustment_1out2in_atwork</th>\n",
       "      <td>-1.384033</td>\n",
       "      <td>F</td>\n",
       "    </tr>\n",
       "    <tr>\n",
       "      <th>coef_abm2_calibration_alternative_specific_constant_adjustment_2out0in_atwork</th>\n",
       "      <td>1.339067</td>\n",
       "      <td>F</td>\n",
       "    </tr>\n",
       "    <tr>\n",
       "      <th>coef_abm2_calibration_alternative_specific_constant_adjustment_3out0in_atwork</th>\n",
       "      <td>1.927947</td>\n",
       "      <td>F</td>\n",
       "    </tr>\n",
       "  </tbody>\n",
       "</table>\n",
       "<p>1918 rows × 2 columns</p>\n",
       "</div>"
      ],
      "text/plain": [
       "                                                       value constrain\n",
       "coefficient_name                                                      \n",
       "coef_constants_for_outbound_trips_1out0in          -1.748000         F\n",
       "coef_constants_for_outbound_trips_1out1in          -1.748000         F\n",
       "coef_constants_for_outbound_trips_1out2in          -1.748000         F\n",
       "coef_constants_for_outbound_trips_1out3in          -1.748000         F\n",
       "coef_constants_for_outbound_trips_2out0in          -3.979000         F\n",
       "...                                                      ...       ...\n",
       "coef_abm2_calibration_alternative_specific_cons...  0.462488         F\n",
       "coef_abm2_calibration_alternative_specific_cons... -0.576300         F\n",
       "coef_abm2_calibration_alternative_specific_cons... -1.384033         F\n",
       "coef_abm2_calibration_alternative_specific_cons...  1.339067         F\n",
       "coef_abm2_calibration_alternative_specific_cons...  1.927947         F\n",
       "\n",
       "[1918 rows x 2 columns]"
      ]
     },
     "execution_count": 5,
     "metadata": {},
     "output_type": "execute_result"
    }
   ],
   "source": [
    "data.coefficients"
   ]
  },
  {
   "attachments": {},
   "cell_type": "markdown",
   "metadata": {},
   "source": [
    "## Utility specification\n",
    "\n",
    "The utility spec files are unique to each segment model.  The estimation mode larch pre-processor\n",
    "for the stop frequency model modifies the spec files to account for jointly re-estimated\n",
    "parameters."
   ]
  },
  {
   "cell_type": "code",
   "execution_count": 6,
   "metadata": {},
   "outputs": [],
   "source": [
    "# data.spec[0]"
   ]
  },
  {
   "attachments": {},
   "cell_type": "markdown",
   "metadata": {},
   "source": [
    "## Chooser data\n",
    "\n",
    "The chooser data is unique to each segment model. "
   ]
  },
  {
   "cell_type": "code",
   "execution_count": 7,
   "metadata": {},
   "outputs": [],
   "source": [
    "# data.chooser_data[0]"
   ]
  },
  {
   "attachments": {},
   "cell_type": "markdown",
   "metadata": {},
   "source": [
    "# Estimate\n",
    "\n",
    "With the model setup for estimation, the next step is to estimate the model coefficients.  Make sure to use a sufficiently large enough household sample and set of zones to avoid an over-specified model, which does not have a numerically stable likelihood maximizing solution.  Larch has a built-in estimation methods including BHHH, and also offers access to more advanced general purpose non-linear optimizers in the `scipy` package, including SLSQP, which allows for bounds and constraints on parameters.  BHHH is the default and typically runs faster, but does not follow constraints on parameters."
   ]
  },
  {
   "cell_type": "code",
   "execution_count": 8,
   "metadata": {},
   "outputs": [
    {
     "data": {
      "text/plain": [
       "work    9535\n",
       "Name: primary_purpose, dtype: int64"
      ]
     },
     "execution_count": 8,
     "metadata": {},
     "output_type": "execute_result"
    }
   ],
   "source": [
    "data.chooser_data[0].primary_purpose.value_counts()"
   ]
  },
  {
   "cell_type": "code",
   "execution_count": 9,
   "metadata": {},
   "outputs": [
    {
     "name": "stdout",
     "output_type": "stream",
     "text": [
      "model 0 is purpose work\n",
      "model 1 is purpose school\n",
      "model 2 is purpose univ\n",
      "model 3 is purpose social\n",
      "model 4 is purpose shopping\n",
      "model 5 is purpose eatout\n",
      "model 6 is purpose escort\n",
      "model 7 is purpose othmaint\n",
      "model 8 is purpose othdiscr\n",
      "model 9 is purpose atwork\n"
     ]
    }
   ],
   "source": [
    "for i in range(0, len(data.chooser_data)):\n",
    "    print(f\"model {i} is purpose {data.chooser_data[i].primary_purpose.value_counts().idxmax()}\")"
   ]
  },
  {
   "cell_type": "code",
   "execution_count": 12,
   "metadata": {},
   "outputs": [
    {
     "name": "stderr",
     "output_type": "stream",
     "text": [
      "req_data does not request avail_ca or avail_co but it is set and being provided\n",
      "req_data does not request avail_ca or avail_co but it is set and being provided\n",
      "req_data does not request avail_ca or avail_co but it is set and being provided\n",
      "req_data does not request avail_ca or avail_co but it is set and being provided\n",
      "req_data does not request avail_ca or avail_co but it is set and being provided\n",
      "req_data does not request avail_ca or avail_co but it is set and being provided\n",
      "req_data does not request avail_ca or avail_co but it is set and being provided\n",
      "req_data does not request avail_ca or avail_co but it is set and being provided\n",
      "req_data does not request avail_ca or avail_co but it is set and being provided\n",
      "req_data does not request avail_ca or avail_co but it is set and being provided\n"
     ]
    },
    {
     "data": {
      "text/html": [
       "<h3>Larch Model Dashboard</h3>"
      ],
      "text/plain": [
       "<IPython.core.display.HTML object>"
      ]
     },
     "metadata": {},
     "output_type": "display_data"
    },
    {
     "data": {
      "text/html": [
       "<p>LL = ...</p>"
      ],
      "text/plain": [
       "<IPython.core.display.HTML object>"
      ]
     },
     "metadata": {},
     "output_type": "display_data"
    },
    {
     "data": {
      "text/html": [
       "<div>\n",
       "<style scoped>\n",
       "    .dataframe tbody tr th:only-of-type {\n",
       "        vertical-align: middle;\n",
       "    }\n",
       "\n",
       "    .dataframe tbody tr th {\n",
       "        vertical-align: top;\n",
       "    }\n",
       "\n",
       "    .dataframe thead th {\n",
       "        text-align: right;\n",
       "    }\n",
       "</style>\n",
       "<table border=\"1\" class=\"dataframe\">\n",
       "  <thead>\n",
       "    <tr style=\"text-align: right;\">\n",
       "      <th></th>\n",
       "      <th>value</th>\n",
       "      <th>initvalue</th>\n",
       "      <th>nullvalue</th>\n",
       "      <th>minimum</th>\n",
       "      <th>maximum</th>\n",
       "      <th>holdfast</th>\n",
       "      <th>note</th>\n",
       "      <th>std_err</th>\n",
       "      <th>t_stat</th>\n",
       "      <th>robust_std_err</th>\n",
       "      <th>robust_t_stat</th>\n",
       "      <th>unconstrained_std_err</th>\n",
       "      <th>unconstrained_t_stat</th>\n",
       "      <th>likelihood_ratio</th>\n",
       "      <th>best</th>\n",
       "    </tr>\n",
       "  </thead>\n",
       "  <tbody>\n",
       "    <tr>\n",
       "      <th>coef_abm2_calibration__alternative_specific_constant_adjustment_0out1in</th>\n",
       "      <td>1.884660e+03</td>\n",
       "      <td>0.224980</td>\n",
       "      <td>0.0</td>\n",
       "      <td>NaN</td>\n",
       "      <td>NaN</td>\n",
       "      <td>0</td>\n",
       "      <td></td>\n",
       "      <td>NaN</td>\n",
       "      <td>NaN</td>\n",
       "      <td>NaN</td>\n",
       "      <td>NaN</td>\n",
       "      <td>NaN</td>\n",
       "      <td>NaN</td>\n",
       "      <td>NaN</td>\n",
       "      <td>NaN</td>\n",
       "    </tr>\n",
       "    <tr>\n",
       "      <th>coef_abm2_calibration__alternative_specific_constant_adjustment_0out2in</th>\n",
       "      <td>-4.798115e+03</td>\n",
       "      <td>0.731748</td>\n",
       "      <td>0.0</td>\n",
       "      <td>NaN</td>\n",
       "      <td>NaN</td>\n",
       "      <td>0</td>\n",
       "      <td></td>\n",
       "      <td>NaN</td>\n",
       "      <td>NaN</td>\n",
       "      <td>NaN</td>\n",
       "      <td>NaN</td>\n",
       "      <td>NaN</td>\n",
       "      <td>NaN</td>\n",
       "      <td>NaN</td>\n",
       "      <td>NaN</td>\n",
       "    </tr>\n",
       "    <tr>\n",
       "      <th>coef_abm2_calibration__alternative_specific_constant_adjustment_0out3in</th>\n",
       "      <td>1.852926e+03</td>\n",
       "      <td>1.537128</td>\n",
       "      <td>0.0</td>\n",
       "      <td>NaN</td>\n",
       "      <td>NaN</td>\n",
       "      <td>0</td>\n",
       "      <td></td>\n",
       "      <td>NaN</td>\n",
       "      <td>NaN</td>\n",
       "      <td>NaN</td>\n",
       "      <td>NaN</td>\n",
       "      <td>NaN</td>\n",
       "      <td>NaN</td>\n",
       "      <td>NaN</td>\n",
       "      <td>NaN</td>\n",
       "    </tr>\n",
       "    <tr>\n",
       "      <th>coef_abm2_calibration__alternative_specific_constant_adjustment_1out0in</th>\n",
       "      <td>-5.712700e+03</td>\n",
       "      <td>-0.281447</td>\n",
       "      <td>0.0</td>\n",
       "      <td>NaN</td>\n",
       "      <td>NaN</td>\n",
       "      <td>0</td>\n",
       "      <td></td>\n",
       "      <td>NaN</td>\n",
       "      <td>NaN</td>\n",
       "      <td>NaN</td>\n",
       "      <td>NaN</td>\n",
       "      <td>NaN</td>\n",
       "      <td>NaN</td>\n",
       "      <td>NaN</td>\n",
       "      <td>NaN</td>\n",
       "    </tr>\n",
       "    <tr>\n",
       "      <th>coef_abm2_calibration__alternative_specific_constant_adjustment_1out1in</th>\n",
       "      <td>8.818440e+03</td>\n",
       "      <td>-0.772998</td>\n",
       "      <td>0.0</td>\n",
       "      <td>NaN</td>\n",
       "      <td>NaN</td>\n",
       "      <td>0</td>\n",
       "      <td></td>\n",
       "      <td>NaN</td>\n",
       "      <td>NaN</td>\n",
       "      <td>NaN</td>\n",
       "      <td>NaN</td>\n",
       "      <td>NaN</td>\n",
       "      <td>NaN</td>\n",
       "      <td>NaN</td>\n",
       "      <td>NaN</td>\n",
       "    </tr>\n",
       "    <tr>\n",
       "      <th>...</th>\n",
       "      <td>...</td>\n",
       "      <td>...</td>\n",
       "      <td>...</td>\n",
       "      <td>...</td>\n",
       "      <td>...</td>\n",
       "      <td>...</td>\n",
       "      <td>...</td>\n",
       "      <td>...</td>\n",
       "      <td>...</td>\n",
       "      <td>...</td>\n",
       "      <td>...</td>\n",
       "      <td>...</td>\n",
       "      <td>...</td>\n",
       "      <td>...</td>\n",
       "      <td>...</td>\n",
       "    </tr>\n",
       "    <tr>\n",
       "      <th>coef_tour_duration_in_hours_2out3in_atwork</th>\n",
       "      <td>7.635355e+06</td>\n",
       "      <td>0.471195</td>\n",
       "      <td>0.0</td>\n",
       "      <td>NaN</td>\n",
       "      <td>NaN</td>\n",
       "      <td>0</td>\n",
       "      <td></td>\n",
       "      <td>NaN</td>\n",
       "      <td>NaN</td>\n",
       "      <td>NaN</td>\n",
       "      <td>NaN</td>\n",
       "      <td>NaN</td>\n",
       "      <td>NaN</td>\n",
       "      <td>NaN</td>\n",
       "      <td>NaN</td>\n",
       "    </tr>\n",
       "    <tr>\n",
       "      <th>coef_tour_duration_in_hours_3out0in_atwork</th>\n",
       "      <td>-4.260076e+03</td>\n",
       "      <td>0.471195</td>\n",
       "      <td>0.0</td>\n",
       "      <td>NaN</td>\n",
       "      <td>NaN</td>\n",
       "      <td>0</td>\n",
       "      <td></td>\n",
       "      <td>NaN</td>\n",
       "      <td>NaN</td>\n",
       "      <td>NaN</td>\n",
       "      <td>NaN</td>\n",
       "      <td>NaN</td>\n",
       "      <td>NaN</td>\n",
       "      <td>NaN</td>\n",
       "      <td>NaN</td>\n",
       "    </tr>\n",
       "    <tr>\n",
       "      <th>coef_tour_duration_in_hours_3out1in_atwork</th>\n",
       "      <td>4.491385e+06</td>\n",
       "      <td>0.471195</td>\n",
       "      <td>0.0</td>\n",
       "      <td>NaN</td>\n",
       "      <td>NaN</td>\n",
       "      <td>0</td>\n",
       "      <td></td>\n",
       "      <td>NaN</td>\n",
       "      <td>NaN</td>\n",
       "      <td>NaN</td>\n",
       "      <td>NaN</td>\n",
       "      <td>NaN</td>\n",
       "      <td>NaN</td>\n",
       "      <td>NaN</td>\n",
       "      <td>NaN</td>\n",
       "    </tr>\n",
       "    <tr>\n",
       "      <th>coef_tour_duration_in_hours_3out2in_atwork</th>\n",
       "      <td>6.737082e+05</td>\n",
       "      <td>0.471195</td>\n",
       "      <td>0.0</td>\n",
       "      <td>NaN</td>\n",
       "      <td>NaN</td>\n",
       "      <td>0</td>\n",
       "      <td></td>\n",
       "      <td>NaN</td>\n",
       "      <td>NaN</td>\n",
       "      <td>NaN</td>\n",
       "      <td>NaN</td>\n",
       "      <td>NaN</td>\n",
       "      <td>NaN</td>\n",
       "      <td>NaN</td>\n",
       "      <td>NaN</td>\n",
       "    </tr>\n",
       "    <tr>\n",
       "      <th>coef_tour_duration_in_hours_3out3in_atwork</th>\n",
       "      <td>1.594442e+07</td>\n",
       "      <td>0.471195</td>\n",
       "      <td>0.0</td>\n",
       "      <td>NaN</td>\n",
       "      <td>NaN</td>\n",
       "      <td>0</td>\n",
       "      <td></td>\n",
       "      <td>NaN</td>\n",
       "      <td>NaN</td>\n",
       "      <td>NaN</td>\n",
       "      <td>NaN</td>\n",
       "      <td>NaN</td>\n",
       "      <td>NaN</td>\n",
       "      <td>NaN</td>\n",
       "      <td>NaN</td>\n",
       "    </tr>\n",
       "  </tbody>\n",
       "</table>\n",
       "<p>1863 rows × 15 columns</p>\n",
       "</div>"
      ],
      "text/plain": [
       "                                                           value  initvalue  \\\n",
       "coef_abm2_calibration__alternative_specific_con...  1.884660e+03   0.224980   \n",
       "coef_abm2_calibration__alternative_specific_con... -4.798115e+03   0.731748   \n",
       "coef_abm2_calibration__alternative_specific_con...  1.852926e+03   1.537128   \n",
       "coef_abm2_calibration__alternative_specific_con... -5.712700e+03  -0.281447   \n",
       "coef_abm2_calibration__alternative_specific_con...  8.818440e+03  -0.772998   \n",
       "...                                                          ...        ...   \n",
       "coef_tour_duration_in_hours_2out3in_atwork          7.635355e+06   0.471195   \n",
       "coef_tour_duration_in_hours_3out0in_atwork         -4.260076e+03   0.471195   \n",
       "coef_tour_duration_in_hours_3out1in_atwork          4.491385e+06   0.471195   \n",
       "coef_tour_duration_in_hours_3out2in_atwork          6.737082e+05   0.471195   \n",
       "coef_tour_duration_in_hours_3out3in_atwork          1.594442e+07   0.471195   \n",
       "\n",
       "                                                    nullvalue  minimum  \\\n",
       "coef_abm2_calibration__alternative_specific_con...        0.0      NaN   \n",
       "coef_abm2_calibration__alternative_specific_con...        0.0      NaN   \n",
       "coef_abm2_calibration__alternative_specific_con...        0.0      NaN   \n",
       "coef_abm2_calibration__alternative_specific_con...        0.0      NaN   \n",
       "coef_abm2_calibration__alternative_specific_con...        0.0      NaN   \n",
       "...                                                       ...      ...   \n",
       "coef_tour_duration_in_hours_2out3in_atwork                0.0      NaN   \n",
       "coef_tour_duration_in_hours_3out0in_atwork                0.0      NaN   \n",
       "coef_tour_duration_in_hours_3out1in_atwork                0.0      NaN   \n",
       "coef_tour_duration_in_hours_3out2in_atwork                0.0      NaN   \n",
       "coef_tour_duration_in_hours_3out3in_atwork                0.0      NaN   \n",
       "\n",
       "                                                    maximum  holdfast note  \\\n",
       "coef_abm2_calibration__alternative_specific_con...      NaN         0        \n",
       "coef_abm2_calibration__alternative_specific_con...      NaN         0        \n",
       "coef_abm2_calibration__alternative_specific_con...      NaN         0        \n",
       "coef_abm2_calibration__alternative_specific_con...      NaN         0        \n",
       "coef_abm2_calibration__alternative_specific_con...      NaN         0        \n",
       "...                                                     ...       ...  ...   \n",
       "coef_tour_duration_in_hours_2out3in_atwork              NaN         0        \n",
       "coef_tour_duration_in_hours_3out0in_atwork              NaN         0        \n",
       "coef_tour_duration_in_hours_3out1in_atwork              NaN         0        \n",
       "coef_tour_duration_in_hours_3out2in_atwork              NaN         0        \n",
       "coef_tour_duration_in_hours_3out3in_atwork              NaN         0        \n",
       "\n",
       "                                                    std_err  t_stat  \\\n",
       "coef_abm2_calibration__alternative_specific_con...      NaN     NaN   \n",
       "coef_abm2_calibration__alternative_specific_con...      NaN     NaN   \n",
       "coef_abm2_calibration__alternative_specific_con...      NaN     NaN   \n",
       "coef_abm2_calibration__alternative_specific_con...      NaN     NaN   \n",
       "coef_abm2_calibration__alternative_specific_con...      NaN     NaN   \n",
       "...                                                     ...     ...   \n",
       "coef_tour_duration_in_hours_2out3in_atwork              NaN     NaN   \n",
       "coef_tour_duration_in_hours_3out0in_atwork              NaN     NaN   \n",
       "coef_tour_duration_in_hours_3out1in_atwork              NaN     NaN   \n",
       "coef_tour_duration_in_hours_3out2in_atwork              NaN     NaN   \n",
       "coef_tour_duration_in_hours_3out3in_atwork              NaN     NaN   \n",
       "\n",
       "                                                    robust_std_err  \\\n",
       "coef_abm2_calibration__alternative_specific_con...             NaN   \n",
       "coef_abm2_calibration__alternative_specific_con...             NaN   \n",
       "coef_abm2_calibration__alternative_specific_con...             NaN   \n",
       "coef_abm2_calibration__alternative_specific_con...             NaN   \n",
       "coef_abm2_calibration__alternative_specific_con...             NaN   \n",
       "...                                                            ...   \n",
       "coef_tour_duration_in_hours_2out3in_atwork                     NaN   \n",
       "coef_tour_duration_in_hours_3out0in_atwork                     NaN   \n",
       "coef_tour_duration_in_hours_3out1in_atwork                     NaN   \n",
       "coef_tour_duration_in_hours_3out2in_atwork                     NaN   \n",
       "coef_tour_duration_in_hours_3out3in_atwork                     NaN   \n",
       "\n",
       "                                                    robust_t_stat  \\\n",
       "coef_abm2_calibration__alternative_specific_con...            NaN   \n",
       "coef_abm2_calibration__alternative_specific_con...            NaN   \n",
       "coef_abm2_calibration__alternative_specific_con...            NaN   \n",
       "coef_abm2_calibration__alternative_specific_con...            NaN   \n",
       "coef_abm2_calibration__alternative_specific_con...            NaN   \n",
       "...                                                           ...   \n",
       "coef_tour_duration_in_hours_2out3in_atwork                    NaN   \n",
       "coef_tour_duration_in_hours_3out0in_atwork                    NaN   \n",
       "coef_tour_duration_in_hours_3out1in_atwork                    NaN   \n",
       "coef_tour_duration_in_hours_3out2in_atwork                    NaN   \n",
       "coef_tour_duration_in_hours_3out3in_atwork                    NaN   \n",
       "\n",
       "                                                    unconstrained_std_err  \\\n",
       "coef_abm2_calibration__alternative_specific_con...                    NaN   \n",
       "coef_abm2_calibration__alternative_specific_con...                    NaN   \n",
       "coef_abm2_calibration__alternative_specific_con...                    NaN   \n",
       "coef_abm2_calibration__alternative_specific_con...                    NaN   \n",
       "coef_abm2_calibration__alternative_specific_con...                    NaN   \n",
       "...                                                                   ...   \n",
       "coef_tour_duration_in_hours_2out3in_atwork                            NaN   \n",
       "coef_tour_duration_in_hours_3out0in_atwork                            NaN   \n",
       "coef_tour_duration_in_hours_3out1in_atwork                            NaN   \n",
       "coef_tour_duration_in_hours_3out2in_atwork                            NaN   \n",
       "coef_tour_duration_in_hours_3out3in_atwork                            NaN   \n",
       "\n",
       "                                                    unconstrained_t_stat  \\\n",
       "coef_abm2_calibration__alternative_specific_con...                   NaN   \n",
       "coef_abm2_calibration__alternative_specific_con...                   NaN   \n",
       "coef_abm2_calibration__alternative_specific_con...                   NaN   \n",
       "coef_abm2_calibration__alternative_specific_con...                   NaN   \n",
       "coef_abm2_calibration__alternative_specific_con...                   NaN   \n",
       "...                                                                  ...   \n",
       "coef_tour_duration_in_hours_2out3in_atwork                           NaN   \n",
       "coef_tour_duration_in_hours_3out0in_atwork                           NaN   \n",
       "coef_tour_duration_in_hours_3out1in_atwork                           NaN   \n",
       "coef_tour_duration_in_hours_3out2in_atwork                           NaN   \n",
       "coef_tour_duration_in_hours_3out3in_atwork                           NaN   \n",
       "\n",
       "                                                    likelihood_ratio  best  \n",
       "coef_abm2_calibration__alternative_specific_con...               NaN   NaN  \n",
       "coef_abm2_calibration__alternative_specific_con...               NaN   NaN  \n",
       "coef_abm2_calibration__alternative_specific_con...               NaN   NaN  \n",
       "coef_abm2_calibration__alternative_specific_con...               NaN   NaN  \n",
       "coef_abm2_calibration__alternative_specific_con...               NaN   NaN  \n",
       "...                                                              ...   ...  \n",
       "coef_tour_duration_in_hours_2out3in_atwork                       NaN   NaN  \n",
       "coef_tour_duration_in_hours_3out0in_atwork                       NaN   NaN  \n",
       "coef_tour_duration_in_hours_3out1in_atwork                       NaN   NaN  \n",
       "coef_tour_duration_in_hours_3out2in_atwork                       NaN   NaN  \n",
       "coef_tour_duration_in_hours_3out3in_atwork                       NaN   NaN  \n",
       "\n",
       "[1863 rows x 15 columns]"
      ]
     },
     "metadata": {},
     "output_type": "display_data"
    },
    {
     "ename": "",
     "evalue": "",
     "output_type": "error",
     "traceback": [
      "\u001b[1;31mCanceled future for execute_request message before replies were done"
     ]
    },
    {
     "ename": "",
     "evalue": "",
     "output_type": "error",
     "traceback": [
      "\u001b[1;31mThe Kernel crashed while executing code in the the current cell or a previous cell. Please review the code in the cell(s) to identify a possible cause of the failure. Click <a href='https://aka.ms/vscodeJupyterKernelCrash'>here</a> for more info. View Jupyter <a href='command:jupyter.viewOutput'>log</a> for further details."
     ]
    }
   ],
   "source": [
    "# model[0].estimate(method='BHHH') # can also estimate models one at a time\n",
    "model.estimate(method='SLSQP', options={\"maxiter\": 1000})"
   ]
  },
  {
   "attachments": {},
   "cell_type": "markdown",
   "metadata": {},
   "source": [
    "### Estimated coefficients"
   ]
  },
  {
   "cell_type": "code",
   "execution_count": 1,
   "metadata": {},
   "outputs": [],
   "source": [
    "# model.parameter_summary()"
   ]
  },
  {
   "attachments": {},
   "cell_type": "markdown",
   "metadata": {
    "colab_type": "text",
    "id": "TojXWivZsx7M"
   },
   "source": [
    "# Output Estimation Results\n",
    "\n",
    "The stop frequency model include seperate coefficient file for each segment,\n",
    "and has a special writer method to seperate the coefficient by segment\n",
    "after estimation."
   ]
  },
  {
   "cell_type": "code",
   "execution_count": null,
   "metadata": {},
   "outputs": [],
   "source": [
    "from activitysim.estimation.larch.stop_frequency import update_segment_coefficients\n",
    "result_dir = data.edb_directory/\"estimated\"\n",
    "update_segment_coefficients(\n",
    "    model, data, result_dir,\n",
    "    output_file=\"stop_frequency_coefficients_{segment_name}_revised.csv\",\n",
    ");"
   ]
  },
  {
   "attachments": {},
   "cell_type": "markdown",
   "metadata": {},
   "source": [
    "### Write the model estimation report, including coefficient t-statistic and log likelihood"
   ]
  },
  {
   "cell_type": "code",
   "execution_count": null,
   "metadata": {},
   "outputs": [],
   "source": [
    "for m, segment in zip(model, data.segments):\n",
    "    m.to_xlsx(\n",
    "        result_dir/f\"{modelname}_{segment}_model_estimation.xlsx\", \n",
    "        data_statistics=False,\n",
    "    )"
   ]
  },
  {
   "attachments": {},
   "cell_type": "markdown",
   "metadata": {},
   "source": [
    "# Next Steps\n",
    "\n",
    "The final step is to either manually or automatically copy the `stop_frequency_coefficients_*_revised.csv` files to the configs folder, rename them to `stop_frequency_coefficients_*.csv`, and run ActivitySim in simulation mode."
   ]
  },
  {
   "cell_type": "code",
   "execution_count": null,
   "metadata": {},
   "outputs": [],
   "source": [
    "pd.read_csv(result_dir/\"stop_frequency_coefficients_work_revised.csv\")"
   ]
  }
 ],
 "metadata": {
  "colab": {
   "name": "asim_tutorial.ipynb",
   "provenance": [],
   "toc_visible": true
  },
  "kernelspec": {
   "display_name": "Python 3",
   "language": "python",
   "name": "python3"
  },
  "language_info": {
   "codemirror_mode": {
    "name": "ipython",
    "version": 3
   },
   "file_extension": ".py",
   "mimetype": "text/x-python",
   "name": "python",
   "nbconvert_exporter": "python",
   "pygments_lexer": "ipython3",
   "version": "3.9.16"
  },
  "toc": {
   "base_numbering": 1,
   "nav_menu": {},
   "number_sections": true,
   "sideBar": true,
   "skip_h1_title": false,
   "title_cell": "Table of Contents",
   "title_sidebar": "Contents",
   "toc_cell": false,
   "toc_position": {},
   "toc_section_display": true,
   "toc_window_display": true
  }
 },
 "nbformat": 4,
 "nbformat_minor": 1
}
