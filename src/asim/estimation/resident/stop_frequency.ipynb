{
 "cells": [
  {
   "attachments": {},
   "cell_type": "markdown",
   "metadata": {
    "colab_type": "text",
    "id": "knOigRU1UJ9Y"
   },
   "source": [
    "# Estimating Stop Frequency\n",
    "\n",
    "This notebook illustrates how to re-estimate a single model component for ActivitySim.  This process \n",
    "includes running ActivitySim in estimation mode to read household travel survey files and write out\n",
    "the estimation data bundles used in this notebook.  To review how to do so, please visit the other\n",
    "notebooks in this directory."
   ]
  },
  {
   "attachments": {},
   "cell_type": "markdown",
   "metadata": {},
   "source": [
    "# Load libraries"
   ]
  },
  {
   "cell_type": "code",
   "execution_count": null,
   "metadata": {
    "colab": {
     "base_uri": "https://localhost:8080/",
     "height": 34
    },
    "colab_type": "code",
    "id": "s53VwlPwtNnr",
    "outputId": "d1208b7a-c1f2-4b0b-c439-bf312fe12be0"
   },
   "outputs": [],
   "source": [
    "import os\n",
    "import larch  # !conda install larch -c conda-forge # for estimation\n",
    "import pandas as pd"
   ]
  },
  {
   "cell_type": "code",
   "execution_count": null,
   "metadata": {},
   "outputs": [],
   "source": [
    "# update path to stop frequency estimation data bunldes!\n",
    "path_to_stop_freq_EDBs = r'C:\\ABM3_dev\\outputs\\output\\estimation_data_bundle\\stop_frequency'\n",
    "\n",
    "for purpose in ['school', 'work', 'escort']:\n",
    "    # ---- first creating backup of chooser file\n",
    "    # creating paths for actual and backup\n",
    "    orig_df_path = os.path.join(path_to_stop_freq_EDBs, purpose, 'stop_frequency_values_combined_orig.csv')\n",
    "    actual_df_path = os.path.join(path_to_stop_freq_EDBs, purpose, 'stop_frequency_values_combined.csv')\n",
    "\n",
    "    # if backup does not exist, create it. Otherwise, just read backup\n",
    "    if ~os.path.exists(orig_df_path):\n",
    "        df = pd.read_csv(actual_df_path)\n",
    "        df.to_csv(orig_df_path, index=False)\n",
    "    else:\n",
    "        df = pd.read_csv(orig_df_path)\n",
    "\n",
    "    # ---- updating stop frequency override_choice to remove trips on school escort tours\n",
    "    def remove_stops_if_school_escorting(row):\n",
    "        choices = row['override_choice'].split('_')\n",
    "        out_choice = choices[0]\n",
    "        in_choice = choices[1]\n",
    "        if row['school_esc_outbound'] in ['ride_share', 'pure_escort']:\n",
    "            out_choice = '0out'\n",
    "        if row['school_esc_inbound'] in ['ride_share', 'pure_escort']:\n",
    "            in_choice = '0in'\n",
    "        return out_choice + '_' + in_choice\n",
    "\n",
    "\n",
    "    # setting choice to 0 stops if half-tour includes school escorting\n",
    "    df['override_choice'] = df.apply(lambda row: remove_stops_if_school_escorting(row), axis=1)\n",
    "\n",
    "    # saving file to it is read in by rest of notebook\n",
    "    df.to_csv(actual_df_path, index=False)\n",
    "\n"
   ]
  },
  {
   "cell_type": "code",
   "execution_count": null,
   "metadata": {},
   "outputs": [],
   "source": [
    "pd.crosstab(df.override_choice, df.school_esc_inbound, margins=True)"
   ]
  },
  {
   "cell_type": "code",
   "execution_count": null,
   "metadata": {},
   "outputs": [],
   "source": [
    "# writing code to create coefficients automatically based on what is in the stop_frequency files\n",
    "tour_purposes = ['atwork', 'work', 'univ', 'school', 'eatout', 'social', 'othdiscr', 'othmaint', 'escort', 'shopping']\n",
    "file_location = r'C:\\ABM3_dev\\ABM\\src\\asim\\configs\\estimation'\n",
    "overwrite_all = True\n",
    "\n",
    "for purpose in tour_purposes:\n",
    "    spec_path = os.path.join(file_location, f'stop_frequency_{purpose}.csv')\n",
    "    coefs_path = os.path.join(file_location, f'stop_frequency_coefficients_{purpose}.csv')\n",
    "\n",
    "    spec = pd.read_csv(spec_path)\n",
    "    coefs = pd.DataFrame(columns=['value', 'constrain', 'coefficient_name']).set_index('coefficient_name')\n",
    "    coefs.loc['coef_unavailable'] = (-999, 'T')\n",
    "    \n",
    "    for index, row in spec.iterrows():\n",
    "        util_name = row['Label']\n",
    "        if util_name.startswith('#'):\n",
    "            continue\n",
    "        \n",
    "        for col in spec.columns[4:]:\n",
    "            old_coef_name = row[col]\n",
    "            if old_coef_name == 'coef_unavailable':\n",
    "                continue\n",
    "            if ((old_coef_name is None) | overwrite_all):\n",
    "                coef_name = util_name.replace('util', 'coef')\n",
    "                coef_name = f'{coef_name}_{col}_{purpose}' \n",
    "            else:\n",
    "                coef_name = old_coef_name\n",
    "            spec.loc[index, col] = coef_name\n",
    "            coefs.loc[coef_name] = (0.0, 'F')\n",
    "\n",
    "    spec.to_csv(spec_path, index=False)\n",
    "    coefs.to_csv(coefs_path, index=True)\n",
    "\n",
    "# display(spec)\n",
    "# display(coefs)\n"
   ]
  },
  {
   "attachments": {},
   "cell_type": "markdown",
   "metadata": {},
   "source": [
    "We'll work in our `test` directory, where ActivitySim has saved the estimation data bundles."
   ]
  },
  {
   "cell_type": "code",
   "execution_count": null,
   "metadata": {},
   "outputs": [],
   "source": [
    "os.chdir('C:\\ABM3_dev\\outputs')"
   ]
  },
  {
   "attachments": {},
   "cell_type": "markdown",
   "metadata": {},
   "source": [
    "# Load data and prep model for estimation"
   ]
  },
  {
   "cell_type": "code",
   "execution_count": null,
   "metadata": {},
   "outputs": [],
   "source": [
    "modelname = \"stop_frequency\"\n",
    "\n",
    "from activitysim.estimation.larch import component_model\n",
    "model, data = component_model(modelname, return_data=True)"
   ]
  },
  {
   "attachments": {},
   "cell_type": "markdown",
   "metadata": {},
   "source": [
    "# Review data loaded from the EDB\n",
    "\n",
    "The next step is to read the EDB, including the coefficients, model settings, utilities specification, and chooser and alternative data."
   ]
  },
  {
   "cell_type": "code",
   "execution_count": null,
   "metadata": {},
   "outputs": [],
   "source": [
    "spec_segments = [i.primary_purpose for i in data.settings.SPEC_SEGMENTS]\n",
    "spec_segments"
   ]
  },
  {
   "attachments": {},
   "cell_type": "markdown",
   "metadata": {},
   "source": [
    "## Coefficients\n",
    "\n",
    "There is one meta-coefficients dataframe for this component, which contains\n",
    "parameters for all the matching coefficients in the various segmented \n",
    "files. When different segments have the same named coefficient with the same\n",
    "value, it is assumed they should be estimated jointly.  If they have the same name\n",
    "but different values in the coefficient files, then they are re-estimated\n",
    "independently."
   ]
  },
  {
   "cell_type": "code",
   "execution_count": null,
   "metadata": {},
   "outputs": [],
   "source": [
    "data.coefficients"
   ]
  },
  {
   "attachments": {},
   "cell_type": "markdown",
   "metadata": {},
   "source": [
    "## Utility specification\n",
    "\n",
    "The utility spec files are unique to each segment model.  The estimation mode larch pre-processor\n",
    "for the stop frequency model modifies the spec files to account for jointly re-estimated\n",
    "parameters."
   ]
  },
  {
   "cell_type": "code",
   "execution_count": null,
   "metadata": {},
   "outputs": [],
   "source": [
    "# data.spec[0]"
   ]
  },
  {
   "attachments": {},
   "cell_type": "markdown",
   "metadata": {},
   "source": [
    "## Chooser data\n",
    "\n",
    "The chooser data is unique to each segment model. "
   ]
  },
  {
   "cell_type": "code",
   "execution_count": null,
   "metadata": {},
   "outputs": [],
   "source": [
    "# data.chooser_data[0]"
   ]
  },
  {
   "attachments": {},
   "cell_type": "markdown",
   "metadata": {},
   "source": [
    "# Estimate\n",
    "\n",
    "With the model setup for estimation, the next step is to estimate the model coefficients.  Make sure to use a sufficiently large enough household sample and set of zones to avoid an over-specified model, which does not have a numerically stable likelihood maximizing solution.  Larch has a built-in estimation methods including BHHH, and also offers access to more advanced general purpose non-linear optimizers in the `scipy` package, including SLSQP, which allows for bounds and constraints on parameters.  BHHH is the default and typically runs faster, but does not follow constraints on parameters."
   ]
  },
  {
   "cell_type": "code",
   "execution_count": null,
   "metadata": {},
   "outputs": [],
   "source": [
    "data.chooser_data[0].primary_purpose.value_counts()"
   ]
  },
  {
   "cell_type": "code",
   "execution_count": null,
   "metadata": {},
   "outputs": [],
   "source": [
    "for i in range(0, len(data.chooser_data)):\n",
    "    print(f\"model {i} is purpose {data.chooser_data[i].primary_purpose.value_counts().idxmax()}\")"
   ]
  },
  {
   "cell_type": "code",
   "execution_count": null,
   "metadata": {},
   "outputs": [],
   "source": [
    "# model[0].estimate(method='BHHH') # can also estimate models one at a time\n",
    "model.estimate(method='SLSQP', options={\"maxiter\": 1000})"
   ]
  },
  {
   "attachments": {},
   "cell_type": "markdown",
   "metadata": {},
   "source": [
    "### Estimated coefficients"
   ]
  },
  {
   "cell_type": "code",
   "execution_count": null,
   "metadata": {},
   "outputs": [],
   "source": [
    "# model.parameter_summary()"
   ]
  },
  {
   "attachments": {},
   "cell_type": "markdown",
   "metadata": {
    "colab_type": "text",
    "id": "TojXWivZsx7M"
   },
   "source": [
    "# Output Estimation Results\n",
    "\n",
    "The stop frequency model include seperate coefficient file for each segment,\n",
    "and has a special writer method to seperate the coefficient by segment\n",
    "after estimation."
   ]
  },
  {
   "cell_type": "code",
   "execution_count": null,
   "metadata": {},
   "outputs": [],
   "source": [
    "from activitysim.estimation.larch.stop_frequency import update_segment_coefficients\n",
    "result_dir = data.edb_directory/\"estimated\"\n",
    "update_segment_coefficients(\n",
    "    model, data, result_dir,\n",
    "    output_file=\"stop_frequency_coefficients_{segment_name}_revised.csv\",\n",
    ");"
   ]
  },
  {
   "attachments": {},
   "cell_type": "markdown",
   "metadata": {},
   "source": [
    "### Write the model estimation report, including coefficient t-statistic and log likelihood"
   ]
  },
  {
   "cell_type": "code",
   "execution_count": null,
   "metadata": {},
   "outputs": [],
   "source": [
    "for m, segment in zip(model, data.segments):\n",
    "    m.to_xlsx(\n",
    "        result_dir/f\"{modelname}_{segment}_model_estimation.xlsx\", \n",
    "        data_statistics=False,\n",
    "    )"
   ]
  },
  {
   "attachments": {},
   "cell_type": "markdown",
   "metadata": {},
   "source": [
    "# Next Steps\n",
    "\n",
    "The final step is to either manually or automatically copy the `stop_frequency_coefficients_*_revised.csv` files to the configs folder, rename them to `stop_frequency_coefficients_*.csv`, and run ActivitySim in simulation mode."
   ]
  },
  {
   "cell_type": "code",
   "execution_count": null,
   "metadata": {},
   "outputs": [],
   "source": [
    "pd.read_csv(result_dir/\"stop_frequency_coefficients_work_revised.csv\")"
   ]
  }
 ],
 "metadata": {
  "colab": {
   "name": "asim_tutorial.ipynb",
   "provenance": [],
   "toc_visible": true
  },
  "kernelspec": {
   "display_name": "Python 3",
   "language": "python",
   "name": "python3"
  },
  "language_info": {
   "codemirror_mode": {
    "name": "ipython",
    "version": 3
   },
   "file_extension": ".py",
   "mimetype": "text/x-python",
   "name": "python",
   "nbconvert_exporter": "python",
   "pygments_lexer": "ipython3",
   "version": "3.9.16"
  },
  "toc": {
   "base_numbering": 1,
   "nav_menu": {},
   "number_sections": true,
   "sideBar": true,
   "skip_h1_title": false,
   "title_cell": "Table of Contents",
   "title_sidebar": "Contents",
   "toc_cell": false,
   "toc_position": {},
   "toc_section_display": true,
   "toc_window_display": true
  }
 },
 "nbformat": 4,
 "nbformat_minor": 1
}
