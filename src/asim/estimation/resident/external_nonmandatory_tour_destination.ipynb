{
 "cells": [
  {
   "cell_type": "markdown",
   "metadata": {
    "colab_type": "text",
    "id": "knOigRU1UJ9Y"
   },
   "source": [
    "# Estimating External Worker Location Model\n",
    "\n",
    "This notebook re-estimates ActivitySim external worker location model in Larch. It predicts what external station an external worker will travel to for an external tour."
   ]
  },
  {
   "cell_type": "markdown",
   "metadata": {},
   "source": [
    "# Load libraries"
   ]
  },
  {
   "cell_type": "code",
   "execution_count": 230,
   "metadata": {
    "ExecuteTime": {
     "end_time": "2021-03-29T23:52:25.463914Z",
     "start_time": "2021-03-29T23:52:24.493719Z"
    },
    "colab": {
     "base_uri": "https://localhost:8080/",
     "height": 34
    },
    "colab_type": "code",
    "id": "s53VwlPwtNnr",
    "outputId": "d1208b7a-c1f2-4b0b-c439-bf312fe12be0"
   },
   "outputs": [],
   "source": [
    "import os\n",
    "import larch  # !conda install larch -c conda-forge # for estimation\n",
    "import pandas as pd\n",
    "import numpy as np\n",
    "from larch import P, X\n",
    "import matplotlib.pyplot as plt\n",
    "import shutil"
   ]
  },
  {
   "cell_type": "code",
   "execution_count": 231,
   "metadata": {},
   "outputs": [],
   "source": [
    "#The directory with the estimation data bundles for external worker location choice."
   ]
  },
  {
   "cell_type": "code",
   "execution_count": 232,
   "metadata": {
    "ExecuteTime": {
     "end_time": "2021-03-29T23:52:25.467575Z",
     "start_time": "2021-03-29T23:52:25.465408Z"
    }
   },
   "outputs": [],
   "source": [
    "#os.chdir('/projects/SANDAG/2017 On-Call Modeling Services/Area B/TO 05 - ABM3/estimation/output/estimation_data_bundle/external_non_mandatory_destination')"
   ]
  },
  {
   "cell_type": "code",
   "execution_count": 233,
   "metadata": {},
   "outputs": [],
   "source": [
    "# Dont need to drop any duplicates, this is a tour file"
   ]
  },
  {
   "cell_type": "code",
   "execution_count": 234,
   "metadata": {},
   "outputs": [],
   "source": [
    "#alts_combined_data = pd.read_csv(\"external_non_mandatory_destination_alternatives_combined_orig.csv\")\n",
    "#household_data = pd.read_csv(\"../override_households.csv\")\n",
    "#person_data = pd.read_csv(\"../override_persons.csv\")\n",
    "#alts_combined_data.shape"
   ]
  },
  {
   "cell_type": "code",
   "execution_count": 235,
   "metadata": {},
   "outputs": [],
   "source": [
    "#household_data.shape"
   ]
  },
  {
   "cell_type": "code",
   "execution_count": 236,
   "metadata": {},
   "outputs": [],
   "source": [
    "#merge alts_combined data with person file\n",
    "#alts_combined_per_data = pd.merge(alts_combined_data, person_data[['person_id','household_id','PNUM']], on=[\"person_id\"], how='left')\n",
    "#alts_combined_per_data.shape"
   ]
  },
  {
   "cell_type": "code",
   "execution_count": 237,
   "metadata": {},
   "outputs": [],
   "source": [
    "#merge alts_combined data (with person file) with household file\n",
    "#alts_combined_per_hh_data = pd.merge(alts_combined_per_data, household_data[['household_id','HH_ID']], on=[\"household_id\"])\n",
    "#alts_combined_per_hh_data.shape"
   ]
  },
  {
   "cell_type": "code",
   "execution_count": 238,
   "metadata": {},
   "outputs": [],
   "source": [
    "#drop duplicate person records and merged columns\n",
    "#alts_combined_new_data = alts_combined_per_hh_data.drop_duplicates(subset=['HH_ID','PNUM','variable'])\n",
    "#alts_combined_new_data = alts_combined_new_data.drop(columns=['household_id','PNUM','HH_ID'])\n",
    "#alts_combined_new_data.shape"
   ]
  },
  {
   "cell_type": "code",
   "execution_count": 239,
   "metadata": {},
   "outputs": [],
   "source": [
    "#write data to file\n",
    "#if os.path.exists(\"external_workplace_location_alternatives_combined_orig.csv\")!=True:\n",
    "#  shutil.copy2('external_workplace_location_alternatives_combined.csv','external_workplace_location_alternatives_combined_orig.csv')\n",
    "#alts_combined_new_data.to_csv(\"external_workplace_location_alternatives_combined.csv\", index=False)"
   ]
  },
  {
   "cell_type": "code",
   "execution_count": 240,
   "metadata": {},
   "outputs": [],
   "source": [
    "#choosers_combined_data = pd.read_csv(\"external_workplace_location_choosers_combined_orig.csv\")\n",
    "#choosers_combined_data.shape"
   ]
  },
  {
   "cell_type": "code",
   "execution_count": 241,
   "metadata": {},
   "outputs": [],
   "source": [
    "#merge choosers_combined data with person file\n",
    "#choosers_combined_per_data = pd.merge(choosers_combined_data, person_data[['person_id','PNUM']], on=[\"person_id\"], how='left')\n",
    "#choosers_combined_per_data.shape"
   ]
  },
  {
   "cell_type": "code",
   "execution_count": 242,
   "metadata": {},
   "outputs": [],
   "source": [
    "#merge alts_combined data (with person file) with household file\n",
    "#choosers_combined_per_hh_data = pd.merge(choosers_combined_per_data, household_data[['household_id','HH_ID']], on=[\"household_id\"])\n",
    "#choosers_combined_per_hh_data.shape"
   ]
  },
  {
   "cell_type": "code",
   "execution_count": 243,
   "metadata": {},
   "outputs": [],
   "source": [
    "#drop duplicate person records and merged columns\n",
    "#choosers_combined_new_data = choosers_combined_per_hh_data.drop_duplicates(subset=['HH_ID','PNUM'])\n",
    "#choosers_combined_new_data.shape"
   ]
  },
  {
   "cell_type": "code",
   "execution_count": 244,
   "metadata": {},
   "outputs": [],
   "source": [
    "# recode workers who chose station 24333 (TAZ 11) to 24327 (TAZ 12); coded incorrectly\n",
    "#choosers_combined_new_data['override_choice'] = np.where(choosers_combined_new_data['override_choice']==24333, 24327, choosers_combined_new_data['override_choice'])\n",
    "#choosers_combined_new_data['is_external_worker']=True"
   ]
  },
  {
   "cell_type": "code",
   "execution_count": 245,
   "metadata": {},
   "outputs": [],
   "source": [
    "#write data to file\n",
    "#if os.path.exists(\"external_workplace_location_choosers_combined_orig.csv\")!=True:\n",
    "#  shutil.copy2('external_workplace_location_choosers_combined.csv','external_workplace_location_choosers_combined_orig.csv')\n",
    "#choosers_combined_new_data.to_csv(\"external_workplace_location_choosers_combined.csv\", index=False)"
   ]
  },
  {
   "cell_type": "code",
   "execution_count": 246,
   "metadata": {
    "ExecuteTime": {
     "end_time": "2021-03-29T23:52:27.849315Z",
     "start_time": "2021-03-29T23:52:25.469525Z"
    }
   },
   "outputs": [],
   "source": [
    "os.chdir('/projects/SANDAG/2017 On-Call Modeling Services/Area B/TO 05 - ABM3/estimation')\n",
    "modelname = \"external_non_mandatory_destination\"\n",
    "\n",
    "from activitysim.estimation.larch import component_model\n",
    "model, data = component_model(modelname, return_data=True)"
   ]
  },
  {
   "cell_type": "markdown",
   "metadata": {},
   "source": [
    "# Review data loaded from the EDB\n",
    "\n",
    "The next step is to read the EDB, including the coefficients, model settings, utilities specification, and chooser and alternative data."
   ]
  },
  {
   "cell_type": "markdown",
   "metadata": {},
   "source": [
    "### Coefficients"
   ]
  },
  {
   "cell_type": "code",
   "execution_count": 247,
   "metadata": {
    "ExecuteTime": {
     "end_time": "2021-03-29T23:52:28.217583Z",
     "start_time": "2021-03-29T23:52:28.207154Z"
    }
   },
   "outputs": [
    {
     "data": {
      "text/html": [
       "<div>\n",
       "<style scoped>\n",
       "    .dataframe tbody tr th:only-of-type {\n",
       "        vertical-align: middle;\n",
       "    }\n",
       "\n",
       "    .dataframe tbody tr th {\n",
       "        vertical-align: top;\n",
       "    }\n",
       "\n",
       "    .dataframe thead th {\n",
       "        text-align: right;\n",
       "    }\n",
       "</style>\n",
       "<table border=\"1\" class=\"dataframe\">\n",
       "  <thead>\n",
       "    <tr style=\"text-align: right;\">\n",
       "      <th></th>\n",
       "      <th>value</th>\n",
       "      <th>constrain</th>\n",
       "    </tr>\n",
       "    <tr>\n",
       "      <th>coefficient_name</th>\n",
       "      <th></th>\n",
       "      <th></th>\n",
       "    </tr>\n",
       "  </thead>\n",
       "  <tbody>\n",
       "    <tr>\n",
       "      <th>coef_mode_logsum</th>\n",
       "      <td>0</td>\n",
       "      <td>F</td>\n",
       "    </tr>\n",
       "    <tr>\n",
       "      <th>coef_dist_escort</th>\n",
       "      <td>0</td>\n",
       "      <td>F</td>\n",
       "    </tr>\n",
       "    <tr>\n",
       "      <th>coef_dist_shopping</th>\n",
       "      <td>0</td>\n",
       "      <td>F</td>\n",
       "    </tr>\n",
       "    <tr>\n",
       "      <th>coef_dist_eatout</th>\n",
       "      <td>0</td>\n",
       "      <td>F</td>\n",
       "    </tr>\n",
       "    <tr>\n",
       "      <th>coef_dist_maint</th>\n",
       "      <td>0</td>\n",
       "      <td>F</td>\n",
       "    </tr>\n",
       "    <tr>\n",
       "      <th>coef_dist_social</th>\n",
       "      <td>0</td>\n",
       "      <td>F</td>\n",
       "    </tr>\n",
       "    <tr>\n",
       "      <th>coef_dist_discr</th>\n",
       "      <td>0</td>\n",
       "      <td>F</td>\n",
       "    </tr>\n",
       "    <tr>\n",
       "      <th>coef_mode_logsum</th>\n",
       "      <td>0</td>\n",
       "      <td>F</td>\n",
       "    </tr>\n",
       "    <tr>\n",
       "      <th>coef_size</th>\n",
       "      <td>1</td>\n",
       "      <td>T</td>\n",
       "    </tr>\n",
       "  </tbody>\n",
       "</table>\n",
       "</div>"
      ],
      "text/plain": [
       "                    value constrain\n",
       "coefficient_name                   \n",
       "coef_mode_logsum        0         F\n",
       "coef_dist_escort        0         F\n",
       "coef_dist_shopping      0         F\n",
       "coef_dist_eatout        0         F\n",
       "coef_dist_maint         0         F\n",
       "coef_dist_social        0         F\n",
       "coef_dist_discr         0         F\n",
       "coef_mode_logsum        0         F\n",
       "coef_size               1         T"
      ]
     },
     "execution_count": 247,
     "metadata": {},
     "output_type": "execute_result"
    }
   ],
   "source": [
    "data.coefficients"
   ]
  },
  {
   "cell_type": "markdown",
   "metadata": {},
   "source": [
    "#### Utility specification"
   ]
  },
  {
   "cell_type": "code",
   "execution_count": 248,
   "metadata": {
    "ExecuteTime": {
     "end_time": "2021-03-29T23:52:28.239125Z",
     "start_time": "2021-03-29T23:52:28.219116Z"
    }
   },
   "outputs": [
    {
     "data": {
      "text/html": [
       "<div>\n",
       "<style scoped>\n",
       "    .dataframe tbody tr th:only-of-type {\n",
       "        vertical-align: middle;\n",
       "    }\n",
       "\n",
       "    .dataframe tbody tr th {\n",
       "        vertical-align: top;\n",
       "    }\n",
       "\n",
       "    .dataframe thead th {\n",
       "        text-align: right;\n",
       "    }\n",
       "</style>\n",
       "<table border=\"1\" class=\"dataframe\">\n",
       "  <thead>\n",
       "    <tr style=\"text-align: right;\">\n",
       "      <th></th>\n",
       "      <th>Label</th>\n",
       "      <th>Description</th>\n",
       "      <th>Expression</th>\n",
       "      <th>escort</th>\n",
       "      <th>shopping</th>\n",
       "      <th>eatout</th>\n",
       "      <th>othmaint</th>\n",
       "      <th>social</th>\n",
       "      <th>othdiscr</th>\n",
       "    </tr>\n",
       "  </thead>\n",
       "  <tbody>\n",
       "    <tr>\n",
       "      <th>0</th>\n",
       "      <td>util_dist</td>\n",
       "      <td>dist</td>\n",
       "      <td>@_DIST</td>\n",
       "      <td>coef_dist_escort</td>\n",
       "      <td>coef_dist_shopping</td>\n",
       "      <td>coef_dist_eatout</td>\n",
       "      <td>coef_dist_maint</td>\n",
       "      <td>coef_dist_social</td>\n",
       "      <td>coef_dist_discr</td>\n",
       "    </tr>\n",
       "    <tr>\n",
       "      <th>1</th>\n",
       "      <td>util_size_term</td>\n",
       "      <td>Size variable</td>\n",
       "      <td>@df['size_term'].apply(np.log1p)</td>\n",
       "      <td>coef_size</td>\n",
       "      <td>coef_size</td>\n",
       "      <td>coef_size</td>\n",
       "      <td>coef_size</td>\n",
       "      <td>coef_size</td>\n",
       "      <td>coef_size</td>\n",
       "    </tr>\n",
       "    <tr>\n",
       "      <th>2</th>\n",
       "      <td>util_mode_choice_logsum</td>\n",
       "      <td>Mode choice logsum</td>\n",
       "      <td>mode_choice_logsum</td>\n",
       "      <td>coef_mode_logsum</td>\n",
       "      <td>coef_mode_logsum</td>\n",
       "      <td>coef_mode_logsum</td>\n",
       "      <td>coef_mode_logsum</td>\n",
       "      <td>coef_mode_logsum</td>\n",
       "      <td>coef_mode_logsum</td>\n",
       "    </tr>\n",
       "  </tbody>\n",
       "</table>\n",
       "</div>"
      ],
      "text/plain": [
       "                     Label         Description  \\\n",
       "0                util_dist                dist   \n",
       "1           util_size_term       Size variable   \n",
       "2  util_mode_choice_logsum  Mode choice logsum   \n",
       "\n",
       "                         Expression            escort            shopping  \\\n",
       "0                            @_DIST  coef_dist_escort  coef_dist_shopping   \n",
       "1  @df['size_term'].apply(np.log1p)         coef_size           coef_size   \n",
       "2                mode_choice_logsum  coef_mode_logsum    coef_mode_logsum   \n",
       "\n",
       "             eatout          othmaint            social          othdiscr  \n",
       "0  coef_dist_eatout   coef_dist_maint  coef_dist_social   coef_dist_discr  \n",
       "1         coef_size         coef_size         coef_size         coef_size  \n",
       "2  coef_mode_logsum  coef_mode_logsum  coef_mode_logsum  coef_mode_logsum  "
      ]
     },
     "execution_count": 248,
     "metadata": {},
     "output_type": "execute_result"
    }
   ],
   "source": [
    "data.spec"
   ]
  },
  {
   "cell_type": "markdown",
   "metadata": {},
   "source": [
    "## Explore data"
   ]
  },
  {
   "cell_type": "code",
   "execution_count": 249,
   "metadata": {
    "ExecuteTime": {
     "end_time": "2021-03-29T23:52:28.266530Z",
     "start_time": "2021-03-29T23:52:28.241888Z"
    }
   },
   "outputs": [
    {
     "data": {
      "text/html": [
       "<div>\n",
       "<style scoped>\n",
       "    .dataframe tbody tr th:only-of-type {\n",
       "        vertical-align: middle;\n",
       "    }\n",
       "\n",
       "    .dataframe tbody tr th {\n",
       "        vertical-align: top;\n",
       "    }\n",
       "\n",
       "    .dataframe thead th {\n",
       "        text-align: right;\n",
       "    }\n",
       "</style>\n",
       "<table border=\"1\" class=\"dataframe\">\n",
       "  <thead>\n",
       "    <tr style=\"text-align: right;\">\n",
       "      <th></th>\n",
       "      <th>tour_id</th>\n",
       "      <th>model_choice</th>\n",
       "      <th>override_choice</th>\n",
       "      <th>person_id</th>\n",
       "      <th>tour_type</th>\n",
       "      <th>tour_type_count</th>\n",
       "      <th>tour_type_num</th>\n",
       "      <th>age</th>\n",
       "      <th>female</th>\n",
       "      <th>home_zone_id</th>\n",
       "      <th>income</th>\n",
       "      <th>income_segment</th>\n",
       "    </tr>\n",
       "  </thead>\n",
       "  <tbody>\n",
       "    <tr>\n",
       "      <th>0</th>\n",
       "      <td>2729</td>\n",
       "      <td>24323</td>\n",
       "      <td>24326.0</td>\n",
       "      <td>54</td>\n",
       "      <td>othmaint</td>\n",
       "      <td>1</td>\n",
       "      <td>1</td>\n",
       "      <td>61</td>\n",
       "      <td>False</td>\n",
       "      <td>18011</td>\n",
       "      <td>91738.75</td>\n",
       "      <td>3</td>\n",
       "    </tr>\n",
       "    <tr>\n",
       "      <th>1</th>\n",
       "      <td>28829</td>\n",
       "      <td>24329</td>\n",
       "      <td>24327.0</td>\n",
       "      <td>576</td>\n",
       "      <td>othmaint</td>\n",
       "      <td>1</td>\n",
       "      <td>1</td>\n",
       "      <td>41</td>\n",
       "      <td>False</td>\n",
       "      <td>4040</td>\n",
       "      <td>45818.75</td>\n",
       "      <td>2</td>\n",
       "    </tr>\n",
       "    <tr>\n",
       "      <th>2</th>\n",
       "      <td>65079</td>\n",
       "      <td>24326</td>\n",
       "      <td>24328.0</td>\n",
       "      <td>1301</td>\n",
       "      <td>othmaint</td>\n",
       "      <td>1</td>\n",
       "      <td>1</td>\n",
       "      <td>35</td>\n",
       "      <td>False</td>\n",
       "      <td>8135</td>\n",
       "      <td>58526.25</td>\n",
       "      <td>2</td>\n",
       "    </tr>\n",
       "    <tr>\n",
       "      <th>3</th>\n",
       "      <td>69375</td>\n",
       "      <td>24328</td>\n",
       "      <td>24327.0</td>\n",
       "      <td>1387</td>\n",
       "      <td>othdiscr</td>\n",
       "      <td>1</td>\n",
       "      <td>1</td>\n",
       "      <td>30</td>\n",
       "      <td>True</td>\n",
       "      <td>14725</td>\n",
       "      <td>39376.25</td>\n",
       "      <td>2</td>\n",
       "    </tr>\n",
       "    <tr>\n",
       "      <th>4</th>\n",
       "      <td>71525</td>\n",
       "      <td>24325</td>\n",
       "      <td>24328.0</td>\n",
       "      <td>1430</td>\n",
       "      <td>othdiscr</td>\n",
       "      <td>1</td>\n",
       "      <td>1</td>\n",
       "      <td>71</td>\n",
       "      <td>False</td>\n",
       "      <td>1710</td>\n",
       "      <td>2125.00</td>\n",
       "      <td>1</td>\n",
       "    </tr>\n",
       "    <tr>\n",
       "      <th>...</th>\n",
       "      <td>...</td>\n",
       "      <td>...</td>\n",
       "      <td>...</td>\n",
       "      <td>...</td>\n",
       "      <td>...</td>\n",
       "      <td>...</td>\n",
       "      <td>...</td>\n",
       "      <td>...</td>\n",
       "      <td>...</td>\n",
       "      <td>...</td>\n",
       "      <td>...</td>\n",
       "      <td>...</td>\n",
       "    </tr>\n",
       "    <tr>\n",
       "      <th>277</th>\n",
       "      <td>4790529</td>\n",
       "      <td>24326</td>\n",
       "      <td>24327.0</td>\n",
       "      <td>95810</td>\n",
       "      <td>othmaint</td>\n",
       "      <td>1</td>\n",
       "      <td>1</td>\n",
       "      <td>71</td>\n",
       "      <td>True</td>\n",
       "      <td>16535</td>\n",
       "      <td>78035.00</td>\n",
       "      <td>3</td>\n",
       "    </tr>\n",
       "    <tr>\n",
       "      <th>278</th>\n",
       "      <td>4798479</td>\n",
       "      <td>24329</td>\n",
       "      <td>24326.0</td>\n",
       "      <td>95969</td>\n",
       "      <td>othmaint</td>\n",
       "      <td>1</td>\n",
       "      <td>1</td>\n",
       "      <td>68</td>\n",
       "      <td>False</td>\n",
       "      <td>13380</td>\n",
       "      <td>37012.00</td>\n",
       "      <td>2</td>\n",
       "    </tr>\n",
       "    <tr>\n",
       "      <th>279</th>\n",
       "      <td>4814629</td>\n",
       "      <td>24330</td>\n",
       "      <td>24326.0</td>\n",
       "      <td>96292</td>\n",
       "      <td>othmaint</td>\n",
       "      <td>1</td>\n",
       "      <td>1</td>\n",
       "      <td>40</td>\n",
       "      <td>True</td>\n",
       "      <td>1252</td>\n",
       "      <td>98191.00</td>\n",
       "      <td>3</td>\n",
       "    </tr>\n",
       "    <tr>\n",
       "      <th>280</th>\n",
       "      <td>4814856</td>\n",
       "      <td>24326</td>\n",
       "      <td>24327.0</td>\n",
       "      <td>96297</td>\n",
       "      <td>eatout</td>\n",
       "      <td>1</td>\n",
       "      <td>1</td>\n",
       "      <td>74</td>\n",
       "      <td>False</td>\n",
       "      <td>13105</td>\n",
       "      <td>58591.00</td>\n",
       "      <td>2</td>\n",
       "    </tr>\n",
       "    <tr>\n",
       "      <th>281</th>\n",
       "      <td>4839929</td>\n",
       "      <td>24326</td>\n",
       "      <td>24328.0</td>\n",
       "      <td>96798</td>\n",
       "      <td>othmaint</td>\n",
       "      <td>1</td>\n",
       "      <td>1</td>\n",
       "      <td>68</td>\n",
       "      <td>False</td>\n",
       "      <td>7560</td>\n",
       "      <td>34524.00</td>\n",
       "      <td>2</td>\n",
       "    </tr>\n",
       "  </tbody>\n",
       "</table>\n",
       "<p>282 rows × 12 columns</p>\n",
       "</div>"
      ],
      "text/plain": [
       "     tour_id  model_choice  override_choice  person_id tour_type  \\\n",
       "0       2729         24323          24326.0         54  othmaint   \n",
       "1      28829         24329          24327.0        576  othmaint   \n",
       "2      65079         24326          24328.0       1301  othmaint   \n",
       "3      69375         24328          24327.0       1387  othdiscr   \n",
       "4      71525         24325          24328.0       1430  othdiscr   \n",
       "..       ...           ...              ...        ...       ...   \n",
       "277  4790529         24326          24327.0      95810  othmaint   \n",
       "278  4798479         24329          24326.0      95969  othmaint   \n",
       "279  4814629         24330          24326.0      96292  othmaint   \n",
       "280  4814856         24326          24327.0      96297    eatout   \n",
       "281  4839929         24326          24328.0      96798  othmaint   \n",
       "\n",
       "     tour_type_count  tour_type_num  age  female  home_zone_id    income  \\\n",
       "0                  1              1   61   False         18011  91738.75   \n",
       "1                  1              1   41   False          4040  45818.75   \n",
       "2                  1              1   35   False          8135  58526.25   \n",
       "3                  1              1   30    True         14725  39376.25   \n",
       "4                  1              1   71   False          1710   2125.00   \n",
       "..               ...            ...  ...     ...           ...       ...   \n",
       "277                1              1   71    True         16535  78035.00   \n",
       "278                1              1   68   False         13380  37012.00   \n",
       "279                1              1   40    True          1252  98191.00   \n",
       "280                1              1   74   False         13105  58591.00   \n",
       "281                1              1   68   False          7560  34524.00   \n",
       "\n",
       "     income_segment  \n",
       "0                 3  \n",
       "1                 2  \n",
       "2                 2  \n",
       "3                 2  \n",
       "4                 1  \n",
       "..              ...  \n",
       "277               3  \n",
       "278               2  \n",
       "279               3  \n",
       "280               2  \n",
       "281               2  \n",
       "\n",
       "[282 rows x 12 columns]"
      ]
     },
     "execution_count": 249,
     "metadata": {},
     "output_type": "execute_result"
    }
   ],
   "source": [
    "data.chooser_data"
   ]
  },
  {
   "cell_type": "code",
   "execution_count": 250,
   "metadata": {},
   "outputs": [],
   "source": [
    "#pd.crosstab(data.chooser_data.closest_external_zone, data.chooser_data.override_choice, margins=True)"
   ]
  },
  {
   "cell_type": "code",
   "execution_count": 251,
   "metadata": {},
   "outputs": [],
   "source": [
    "#pd.crosstab(data.chooser_data.industry, data.chooser_data.override_choice, margins=True, normalize='index')"
   ]
  },
  {
   "cell_type": "code",
   "execution_count": 252,
   "metadata": {},
   "outputs": [],
   "source": [
    "#pd.crosstab(data.chooser_data.industry, data.chooser_data.override_choice, margins=True)"
   ]
  },
  {
   "cell_type": "code",
   "execution_count": 253,
   "metadata": {},
   "outputs": [],
   "source": [
    "#data.chooser_data['external_worker'] = np.where(data.chooser_data[\"override_choice\"]==1,0,1)"
   ]
  },
  {
   "cell_type": "code",
   "execution_count": 254,
   "metadata": {},
   "outputs": [],
   "source": [
    "#plt.hist(data.chooser_data['distance_int'],range=(0, data.chooser_data['distance_int'].max()), bins=data.chooser_data['distance_int'].max() + 1)\n",
    "#plot_df = data.chooser_data.groupby('distance_int')['external_worker'].mean().mul(100).reindex(range(data.chooser_data.distance_int.min()-1,data.chooser_data.distance_int.max()+1), fill_value=0)\n",
    "\n",
    "#ax = plot_df.plot(kind='bar',rot = 0,title='Share of External Workers by Distance to Closest External Station',ylim=[0, 30], xlabel=\"Distance (mi)\", ylabel=\"Percent\",  figsize=(20, 5))\n",
    "\n",
    "#plt.show()"
   ]
  },
  {
   "cell_type": "code",
   "execution_count": 255,
   "metadata": {},
   "outputs": [],
   "source": [
    "#chooser_data_lt1mi= data.chooser_data[data.chooser_data[\"distance_int\"]<=2]\n",
    "#pd.crosstab(chooser_data_lt1mi.closest_external_zone, chooser_data_lt1mi.override_choice, margins=True)"
   ]
  },
  {
   "cell_type": "markdown",
   "metadata": {},
   "source": [
    "# Set Coefficients"
   ]
  },
  {
   "cell_type": "code",
   "execution_count": 256,
   "metadata": {},
   "outputs": [
    {
     "name": "stdout",
     "output_type": "stream",
     "text": [
      "  P.coef_dist_shopping * X('util_dist*(tour_type=='shopping')')\n",
      "+ P.coef_size * X('util_size_term*(tour_type=='shopping')')\n",
      "+ P.coef_mode_logsum * X('util_mode_choice_logsum*(tour_type=='shopping')')\n",
      "+ P.coef_dist_maint * X('util_dist*(tour_type=='othmaint')')\n",
      "+ P.coef_size * X('util_size_term*(tour_type=='othmaint')')\n",
      "+ P.coef_mode_logsum * X('util_mode_choice_logsum*(tour_type=='othmaint')')\n",
      "+ P.coef_dist_discr * X('util_dist*(tour_type=='othdiscr')')\n",
      "+ P.coef_size * X('util_size_term*(tour_type=='othdiscr')')\n",
      "+ P.coef_mode_logsum * X('util_mode_choice_logsum*(tour_type=='othdiscr')')\n",
      "+ P.coef_dist_eatout * X('util_dist*(tour_type=='eatout')')\n",
      "+ P.coef_size * X('util_size_term*(tour_type=='eatout')')\n",
      "+ P.coef_mode_logsum * X('util_mode_choice_logsum*(tour_type=='eatout')')\n",
      "+ P.coef_dist_social * X('util_dist*(tour_type=='social')')\n",
      "+ P.coef_size * X('util_size_term*(tour_type=='social')')\n",
      "+ P.coef_mode_logsum * X('util_mode_choice_logsum*(tour_type=='social')')\n",
      "+ P.coef_dist_escort * X('util_dist*(tour_type=='escort')')\n",
      "+ P.coef_size * X('util_size_term*(tour_type=='escort')')\n",
      "+ P.coef_mode_logsum * X('util_mode_choice_logsum*(tour_type=='escort')')\n"
     ]
    }
   ],
   "source": [
    "dir(model)\n",
    "print(model.utility_ca)"
   ]
  },
  {
   "cell_type": "code",
   "execution_count": 257,
   "metadata": {},
   "outputs": [],
   "source": [
    "#capping distance at 10 miles\n",
    "#model.utility_ca =   (P.coef_dist * X('fmin(util_dist,10)*(is_external_worker==True)')\n",
    "#+ P.coef_dist_lt_2p5 * X('util_dist_lt_2p5*(is_external_worker==True)')\n",
    "#+ P.coef_dist_1_2 * X('util_dist_1_2*(is_external_worker==True)')\n",
    "#+ P.coef_dist_2_5 * X('util_dist_2_5*(is_external_worker==True)')\n",
    "#+ P.coef_dist_5_15 * X('util_dist_5_15*(is_external_worker==True)')\n",
    "#+ P.coef_dist_15_up * X('util_dist_15_up*(is_external_worker==True)')\n",
    "#+ P('-999') * X('util_no_attractions*(is_external_worker==True)')\n",
    "#+ P.coef_mode_logsum * X('mode_choice_logsum*(is_external_worker==True)'))"
   ]
  },
  {
   "cell_type": "markdown",
   "metadata": {},
   "source": [
    "# Estimate\n",
    "\n",
    "With the model setup for estimation, the next step is to estimate the model coefficients.  Make sure to use a sufficiently large enough household sample and set of zones to avoid an over-specified model, which does not have a numerically stable likelihood maximizing solution.  Larch has a built-in estimation methods including BHHH, and also offers access to more advanced general purpose non-linear optimizers in the `scipy` package, including SLSQP, which allows for bounds and constraints on parameters.  BHHH is the default and typically runs faster, but does not follow constraints on parameters."
   ]
  },
  {
   "cell_type": "code",
   "execution_count": 258,
   "metadata": {
    "ExecuteTime": {
     "end_time": "2021-03-29T23:52:29.797376Z",
     "start_time": "2021-03-29T23:52:28.268155Z"
    }
   },
   "outputs": [
    {
     "name": "stderr",
     "output_type": "stream",
     "text": [
      "req_data does not request avail_ca or avail_co but it is set and being provided\n"
     ]
    }
   ],
   "source": [
    "model.load_data()\n",
    "#model.doctor(repair_ch_av=\"-\")"
   ]
  },
  {
   "cell_type": "code",
   "execution_count": 259,
   "metadata": {
    "ExecuteTime": {
     "end_time": "2021-03-29T23:56:20.839089Z",
     "start_time": "2021-03-29T23:52:57.309044Z"
    },
    "scrolled": false
   },
   "outputs": [
    {
     "data": {
      "text/html": [
       "<h3>Iteration 016 [Optimization terminated successfully] </h3>"
      ],
      "text/plain": [
       "<IPython.core.display.HTML object>"
      ]
     },
     "metadata": {},
     "output_type": "display_data"
    },
    {
     "data": {
      "text/html": [
       "<p>Best LL = -467.8904407748654</p>"
      ],
      "text/plain": [
       "<IPython.core.display.HTML object>"
      ]
     },
     "metadata": {},
     "output_type": "display_data"
    },
    {
     "data": {
      "text/html": [
       "<div>\n",
       "<style scoped>\n",
       "    .dataframe tbody tr th:only-of-type {\n",
       "        vertical-align: middle;\n",
       "    }\n",
       "\n",
       "    .dataframe tbody tr th {\n",
       "        vertical-align: top;\n",
       "    }\n",
       "\n",
       "    .dataframe thead th {\n",
       "        text-align: right;\n",
       "    }\n",
       "</style>\n",
       "<table border=\"1\" class=\"dataframe\">\n",
       "  <thead>\n",
       "    <tr style=\"text-align: right;\">\n",
       "      <th></th>\n",
       "      <th>value</th>\n",
       "      <th>initvalue</th>\n",
       "      <th>nullvalue</th>\n",
       "      <th>minimum</th>\n",
       "      <th>maximum</th>\n",
       "      <th>holdfast</th>\n",
       "      <th>note</th>\n",
       "      <th>best</th>\n",
       "    </tr>\n",
       "  </thead>\n",
       "  <tbody>\n",
       "    <tr>\n",
       "      <th>coef_dist_discr</th>\n",
       "      <td>-0.345476</td>\n",
       "      <td>0.0</td>\n",
       "      <td>0.0</td>\n",
       "      <td>-25.0</td>\n",
       "      <td>25.0</td>\n",
       "      <td>0</td>\n",
       "      <td></td>\n",
       "      <td>-0.345476</td>\n",
       "    </tr>\n",
       "    <tr>\n",
       "      <th>coef_dist_eatout</th>\n",
       "      <td>-0.311656</td>\n",
       "      <td>0.0</td>\n",
       "      <td>0.0</td>\n",
       "      <td>-25.0</td>\n",
       "      <td>25.0</td>\n",
       "      <td>0</td>\n",
       "      <td></td>\n",
       "      <td>-0.311656</td>\n",
       "    </tr>\n",
       "    <tr>\n",
       "      <th>coef_dist_escort</th>\n",
       "      <td>-0.356001</td>\n",
       "      <td>0.0</td>\n",
       "      <td>0.0</td>\n",
       "      <td>-25.0</td>\n",
       "      <td>25.0</td>\n",
       "      <td>0</td>\n",
       "      <td></td>\n",
       "      <td>-0.356001</td>\n",
       "    </tr>\n",
       "    <tr>\n",
       "      <th>coef_dist_maint</th>\n",
       "      <td>-0.179535</td>\n",
       "      <td>0.0</td>\n",
       "      <td>0.0</td>\n",
       "      <td>-25.0</td>\n",
       "      <td>25.0</td>\n",
       "      <td>0</td>\n",
       "      <td></td>\n",
       "      <td>-0.179535</td>\n",
       "    </tr>\n",
       "    <tr>\n",
       "      <th>coef_dist_shopping</th>\n",
       "      <td>-0.420035</td>\n",
       "      <td>0.0</td>\n",
       "      <td>0.0</td>\n",
       "      <td>-25.0</td>\n",
       "      <td>25.0</td>\n",
       "      <td>0</td>\n",
       "      <td></td>\n",
       "      <td>-0.420035</td>\n",
       "    </tr>\n",
       "    <tr>\n",
       "      <th>coef_dist_social</th>\n",
       "      <td>-0.273091</td>\n",
       "      <td>0.0</td>\n",
       "      <td>0.0</td>\n",
       "      <td>-25.0</td>\n",
       "      <td>25.0</td>\n",
       "      <td>0</td>\n",
       "      <td></td>\n",
       "      <td>-0.273091</td>\n",
       "    </tr>\n",
       "    <tr>\n",
       "      <th>coef_mode_logsum</th>\n",
       "      <td>0.270403</td>\n",
       "      <td>0.0</td>\n",
       "      <td>0.0</td>\n",
       "      <td>-25.0</td>\n",
       "      <td>25.0</td>\n",
       "      <td>0</td>\n",
       "      <td></td>\n",
       "      <td>0.270403</td>\n",
       "    </tr>\n",
       "    <tr>\n",
       "      <th>coef_size</th>\n",
       "      <td>1.000000</td>\n",
       "      <td>1.0</td>\n",
       "      <td>0.0</td>\n",
       "      <td>1.0</td>\n",
       "      <td>1.0</td>\n",
       "      <td>1</td>\n",
       "      <td></td>\n",
       "      <td>1.000000</td>\n",
       "    </tr>\n",
       "    <tr>\n",
       "      <th>eatout_external_nonwork</th>\n",
       "      <td>0.000000</td>\n",
       "      <td>0.0</td>\n",
       "      <td>0.0</td>\n",
       "      <td>0.0</td>\n",
       "      <td>0.0</td>\n",
       "      <td>1</td>\n",
       "      <td></td>\n",
       "      <td>0.000000</td>\n",
       "    </tr>\n",
       "    <tr>\n",
       "      <th>escort_external_nonwork</th>\n",
       "      <td>0.000000</td>\n",
       "      <td>0.0</td>\n",
       "      <td>0.0</td>\n",
       "      <td>0.0</td>\n",
       "      <td>0.0</td>\n",
       "      <td>1</td>\n",
       "      <td></td>\n",
       "      <td>0.000000</td>\n",
       "    </tr>\n",
       "    <tr>\n",
       "      <th>othdiscr_external_nonwork</th>\n",
       "      <td>0.000000</td>\n",
       "      <td>0.0</td>\n",
       "      <td>0.0</td>\n",
       "      <td>0.0</td>\n",
       "      <td>0.0</td>\n",
       "      <td>1</td>\n",
       "      <td></td>\n",
       "      <td>0.000000</td>\n",
       "    </tr>\n",
       "    <tr>\n",
       "      <th>othmaint_external_nonwork</th>\n",
       "      <td>0.000000</td>\n",
       "      <td>0.0</td>\n",
       "      <td>0.0</td>\n",
       "      <td>0.0</td>\n",
       "      <td>0.0</td>\n",
       "      <td>1</td>\n",
       "      <td></td>\n",
       "      <td>0.000000</td>\n",
       "    </tr>\n",
       "    <tr>\n",
       "      <th>shopping_external_nonwork</th>\n",
       "      <td>0.000000</td>\n",
       "      <td>0.0</td>\n",
       "      <td>0.0</td>\n",
       "      <td>0.0</td>\n",
       "      <td>0.0</td>\n",
       "      <td>1</td>\n",
       "      <td></td>\n",
       "      <td>0.000000</td>\n",
       "    </tr>\n",
       "    <tr>\n",
       "      <th>social_external_nonwork</th>\n",
       "      <td>0.000000</td>\n",
       "      <td>0.0</td>\n",
       "      <td>0.0</td>\n",
       "      <td>0.0</td>\n",
       "      <td>0.0</td>\n",
       "      <td>1</td>\n",
       "      <td></td>\n",
       "      <td>0.000000</td>\n",
       "    </tr>\n",
       "  </tbody>\n",
       "</table>\n",
       "</div>"
      ],
      "text/plain": [
       "                              value  initvalue  nullvalue  minimum  maximum  \\\n",
       "coef_dist_discr           -0.345476        0.0        0.0    -25.0     25.0   \n",
       "coef_dist_eatout          -0.311656        0.0        0.0    -25.0     25.0   \n",
       "coef_dist_escort          -0.356001        0.0        0.0    -25.0     25.0   \n",
       "coef_dist_maint           -0.179535        0.0        0.0    -25.0     25.0   \n",
       "coef_dist_shopping        -0.420035        0.0        0.0    -25.0     25.0   \n",
       "coef_dist_social          -0.273091        0.0        0.0    -25.0     25.0   \n",
       "coef_mode_logsum           0.270403        0.0        0.0    -25.0     25.0   \n",
       "coef_size                  1.000000        1.0        0.0      1.0      1.0   \n",
       "eatout_external_nonwork    0.000000        0.0        0.0      0.0      0.0   \n",
       "escort_external_nonwork    0.000000        0.0        0.0      0.0      0.0   \n",
       "othdiscr_external_nonwork  0.000000        0.0        0.0      0.0      0.0   \n",
       "othmaint_external_nonwork  0.000000        0.0        0.0      0.0      0.0   \n",
       "shopping_external_nonwork  0.000000        0.0        0.0      0.0      0.0   \n",
       "social_external_nonwork    0.000000        0.0        0.0      0.0      0.0   \n",
       "\n",
       "                           holdfast note      best  \n",
       "coef_dist_discr                   0      -0.345476  \n",
       "coef_dist_eatout                  0      -0.311656  \n",
       "coef_dist_escort                  0      -0.356001  \n",
       "coef_dist_maint                   0      -0.179535  \n",
       "coef_dist_shopping                0      -0.420035  \n",
       "coef_dist_social                  0      -0.273091  \n",
       "coef_mode_logsum                  0       0.270403  \n",
       "coef_size                         1       1.000000  \n",
       "eatout_external_nonwork           1       0.000000  \n",
       "escort_external_nonwork           1       0.000000  \n",
       "othdiscr_external_nonwork         1       0.000000  \n",
       "othmaint_external_nonwork         1       0.000000  \n",
       "shopping_external_nonwork         1       0.000000  \n",
       "social_external_nonwork           1       0.000000  "
      ]
     },
     "metadata": {},
     "output_type": "display_data"
    },
    {
     "data": {
      "text/html": [
       "<div><table style=\"margin-top:1px;\"><tr><th>key</th><th style=\"text-align:left;\">value</th></tr><tr><td>x</td><td style=\"text-align:left;\"><table border=\"1\" class=\"dataframe\">\n",
       "  <thead>\n",
       "    <tr style=\"text-align: right;\">\n",
       "      <th></th>\n",
       "      <th>0</th>\n",
       "    </tr>\n",
       "  </thead>\n",
       "  <tbody>\n",
       "    <tr>\n",
       "      <th>coef_dist_discr</th>\n",
       "      <td>-0.345476</td>\n",
       "    </tr>\n",
       "    <tr>\n",
       "      <th>coef_dist_eatout</th>\n",
       "      <td>-0.311656</td>\n",
       "    </tr>\n",
       "    <tr>\n",
       "      <th>coef_dist_escort</th>\n",
       "      <td>-0.356001</td>\n",
       "    </tr>\n",
       "    <tr>\n",
       "      <th>coef_dist_maint</th>\n",
       "      <td>-0.179535</td>\n",
       "    </tr>\n",
       "    <tr>\n",
       "      <th>coef_dist_shopping</th>\n",
       "      <td>-0.420035</td>\n",
       "    </tr>\n",
       "    <tr>\n",
       "      <th>coef_dist_social</th>\n",
       "      <td>-0.273091</td>\n",
       "    </tr>\n",
       "    <tr>\n",
       "      <th>coef_mode_logsum</th>\n",
       "      <td>0.270403</td>\n",
       "    </tr>\n",
       "    <tr>\n",
       "      <th>coef_size</th>\n",
       "      <td>1.000000</td>\n",
       "    </tr>\n",
       "    <tr>\n",
       "      <th>eatout_external_nonwork</th>\n",
       "      <td>0.000000</td>\n",
       "    </tr>\n",
       "    <tr>\n",
       "      <th>escort_external_nonwork</th>\n",
       "      <td>0.000000</td>\n",
       "    </tr>\n",
       "    <tr>\n",
       "      <th>othdiscr_external_nonwork</th>\n",
       "      <td>0.000000</td>\n",
       "    </tr>\n",
       "    <tr>\n",
       "      <th>othmaint_external_nonwork</th>\n",
       "      <td>0.000000</td>\n",
       "    </tr>\n",
       "    <tr>\n",
       "      <th>shopping_external_nonwork</th>\n",
       "      <td>0.000000</td>\n",
       "    </tr>\n",
       "    <tr>\n",
       "      <th>social_external_nonwork</th>\n",
       "      <td>0.000000</td>\n",
       "    </tr>\n",
       "  </tbody>\n",
       "</table></td></tr><tr><td>loglike</td><td style=\"text-align:left;\">-467.8904407748654</td></tr><tr><td>d_loglike</td><td style=\"text-align:left;\"><table border=\"1\" class=\"dataframe\">\n",
       "  <thead>\n",
       "    <tr style=\"text-align: right;\">\n",
       "      <th></th>\n",
       "      <th>0</th>\n",
       "    </tr>\n",
       "  </thead>\n",
       "  <tbody>\n",
       "    <tr>\n",
       "      <th>coef_dist_discr</th>\n",
       "      <td>-0.000401</td>\n",
       "    </tr>\n",
       "    <tr>\n",
       "      <th>coef_dist_eatout</th>\n",
       "      <td>-0.000079</td>\n",
       "    </tr>\n",
       "    <tr>\n",
       "      <th>coef_dist_escort</th>\n",
       "      <td>0.000196</td>\n",
       "    </tr>\n",
       "    <tr>\n",
       "      <th>coef_dist_maint</th>\n",
       "      <td>0.004984</td>\n",
       "    </tr>\n",
       "    <tr>\n",
       "      <th>coef_dist_shopping</th>\n",
       "      <td>0.000363</td>\n",
       "    </tr>\n",
       "    <tr>\n",
       "      <th>coef_dist_social</th>\n",
       "      <td>0.003931</td>\n",
       "    </tr>\n",
       "    <tr>\n",
       "      <th>coef_mode_logsum</th>\n",
       "      <td>-0.005863</td>\n",
       "    </tr>\n",
       "    <tr>\n",
       "      <th>coef_size</th>\n",
       "      <td>0.000000</td>\n",
       "    </tr>\n",
       "    <tr>\n",
       "      <th>eatout_external_nonwork</th>\n",
       "      <td>0.000000</td>\n",
       "    </tr>\n",
       "    <tr>\n",
       "      <th>escort_external_nonwork</th>\n",
       "      <td>0.000000</td>\n",
       "    </tr>\n",
       "    <tr>\n",
       "      <th>othdiscr_external_nonwork</th>\n",
       "      <td>0.000000</td>\n",
       "    </tr>\n",
       "    <tr>\n",
       "      <th>othmaint_external_nonwork</th>\n",
       "      <td>0.000000</td>\n",
       "    </tr>\n",
       "    <tr>\n",
       "      <th>shopping_external_nonwork</th>\n",
       "      <td>0.000000</td>\n",
       "    </tr>\n",
       "    <tr>\n",
       "      <th>social_external_nonwork</th>\n",
       "      <td>0.000000</td>\n",
       "    </tr>\n",
       "  </tbody>\n",
       "</table></td></tr><tr><td>nit</td><td style=\"text-align:left;\">16</td></tr><tr><td>nfev</td><td style=\"text-align:left;\">34</td></tr><tr><td>njev</td><td style=\"text-align:left;\">16</td></tr><tr><td>status</td><td style=\"text-align:left;\">0</td></tr><tr><td>message</td><td style=\"text-align:left;\">'Optimization terminated successfully'</td></tr><tr><td>success</td><td style=\"text-align:left;\">True</td></tr><tr><td>elapsed_time</td><td style=\"text-align:left;\">0:00:00.207468</td></tr><tr><td>method</td><td style=\"text-align:left;\">'SLSQP'</td></tr><tr><td>n_cases</td><td style=\"text-align:left;\">282</td></tr><tr><td>iteration_number</td><td style=\"text-align:left;\">16</td></tr><tr><td>logloss</td><td style=\"text-align:left;\">1.6591859601945582</td></tr></table></div>"
      ],
      "text/plain": [
       "┣                x: coef_dist_discr             -0.345476\n",
       "┃                   coef_dist_eatout            -0.311656\n",
       "┃                   coef_dist_escort            -0.356001\n",
       "┃                   coef_dist_maint             -0.179535\n",
       "┃                   coef_dist_shopping          -0.420035\n",
       "┃                   coef_dist_social            -0.273091\n",
       "┃                   coef_mode_logsum             0.270403\n",
       "┃                   coef_size                    1.000000\n",
       "┃                   eatout_external_nonwork      0.000000\n",
       "┃                   escort_external_nonwork      0.000000\n",
       "┃                   othdiscr_external_nonwork    0.000000\n",
       "┃                   othmaint_external_nonwork    0.000000\n",
       "┃                   shopping_external_nonwork    0.000000\n",
       "┃                   social_external_nonwork      0.000000\n",
       "┃                   dtype: float64\n",
       "┣          loglike: -467.8904407748654\n",
       "┣        d_loglike: coef_dist_discr             -0.000401\n",
       "┃                   coef_dist_eatout            -0.000079\n",
       "┃                   coef_dist_escort             0.000196\n",
       "┃                   coef_dist_maint              0.004984\n",
       "┃                   coef_dist_shopping           0.000363\n",
       "┃                   coef_dist_social             0.003931\n",
       "┃                   coef_mode_logsum            -0.005863\n",
       "┃                   coef_size                    0.000000\n",
       "┃                   eatout_external_nonwork      0.000000\n",
       "┃                   escort_external_nonwork      0.000000\n",
       "┃                   othdiscr_external_nonwork    0.000000\n",
       "┃                   othmaint_external_nonwork    0.000000\n",
       "┃                   shopping_external_nonwork    0.000000\n",
       "┃                   social_external_nonwork      0.000000\n",
       "┃                   dtype: float64\n",
       "┣              nit: 16\n",
       "┣             nfev: 34\n",
       "┣             njev: 16\n",
       "┣           status: 0\n",
       "┣          message: 'Optimization terminated successfully'\n",
       "┣          success: True\n",
       "┣     elapsed_time: datetime.timedelta(microseconds=207468)\n",
       "┣           method: 'SLSQP'\n",
       "┣          n_cases: 282\n",
       "┣ iteration_number: 16\n",
       "┣          logloss: 1.6591859601945582"
      ]
     },
     "execution_count": 259,
     "metadata": {},
     "output_type": "execute_result"
    }
   ],
   "source": [
    "model.maximize_loglike(method=\"SLSQP\", options={\"maxiter\": 1000})\n"
   ]
  },
  {
   "cell_type": "markdown",
   "metadata": {},
   "source": [
    "### Estimated coefficients"
   ]
  },
  {
   "cell_type": "code",
   "execution_count": 260,
   "metadata": {
    "ExecuteTime": {
     "end_time": "2021-03-29T20:31:04.183101Z",
     "start_time": "2021-03-29T20:31:04.152275Z"
    }
   },
   "outputs": [
    {
     "name": "stderr",
     "output_type": "stream",
     "text": [
      "C:\\Users\\joel.freedman\\Anaconda3\\envs\\asim_est\\lib\\site-packages\\larch\\util\\excel.py:523: FutureWarning: Use of **kwargs is deprecated, use engine_kwargs instead.\n",
      "  xl = ExcelWriter(filename, engine='xlsxwriter_larch', model=model, **kwargs)\n"
     ]
    },
    {
     "data": {
      "text/plain": [
       "<larch.util.excel.ExcelWriter at 0x1de712eabb0>"
      ]
     },
     "execution_count": 260,
     "metadata": {},
     "output_type": "execute_result"
    }
   ],
   "source": [
    "model.calculate_parameter_covariance()\n",
    "result_dir='/projects/SANDAG/2017 On-Call Modeling Services/Area B/TO 05 - ABM3/estimation/'\n",
    "model.to_xlsx(\n",
    "        result_dir+\"external_nonmandatory_destination_01.xlsx\", \n",
    "        data_statistics=True,\n",
    "    )"
   ]
  },
  {
   "cell_type": "markdown",
   "metadata": {
    "colab_type": "text",
    "id": "TojXWivZsx7M"
   },
   "source": [
    "# Output Estimation Results"
   ]
  },
  {
   "cell_type": "code",
   "execution_count": 261,
   "metadata": {
    "ExecuteTime": {
     "end_time": "2021-03-29T20:31:04.194437Z",
     "start_time": "2021-03-29T20:31:04.185054Z"
    }
   },
   "outputs": [],
   "source": [
    "from activitysim.estimation.larch import update_coefficients\n",
    "model.parameter_summary().data.to_csv(data.edb_directory/'estimated/coefficient_results.csv')\n",
    "\n",
    "#result_dir = data.edb_directory/\"estimated\"\n",
    "#update_coefficients(\n",
    "#    model, data, result_dir,\n",
    "#    output_file=f\"{modelname}_coefficients_001.csv\",\n",
    "#);"
   ]
  },
  {
   "cell_type": "code",
   "execution_count": 262,
   "metadata": {},
   "outputs": [],
   "source": [
    "#larch.__version__"
   ]
  },
  {
   "cell_type": "code",
   "execution_count": 263,
   "metadata": {},
   "outputs": [],
   "source": [
    "#result_dir"
   ]
  },
  {
   "cell_type": "markdown",
   "metadata": {},
   "source": [
    "### Write the model estimation report, including coefficient t-statistic and log likelihood"
   ]
  },
  {
   "cell_type": "markdown",
   "metadata": {},
   "source": [
    "# Next Steps\n",
    "\n",
    "The final step is to either manually or automatically copy the `*_coefficients_revised.csv` file to the configs folder, rename it to `*_coefficients.csv`, and run ActivitySim in simulation mode."
   ]
  },
  {
   "cell_type": "code",
   "execution_count": 264,
   "metadata": {
    "ExecuteTime": {
     "end_time": "2021-03-29T20:31:04.342040Z",
     "start_time": "2021-03-29T20:31:04.332407Z"
    }
   },
   "outputs": [],
   "source": [
    "#pd.read_csv(result_dir/f\"{modelname}_coefficients_revised.csv\")"
   ]
  },
  {
   "cell_type": "code",
   "execution_count": null,
   "metadata": {},
   "outputs": [],
   "source": []
  },
  {
   "cell_type": "code",
   "execution_count": null,
   "metadata": {},
   "outputs": [],
   "source": []
  }
 ],
 "metadata": {
  "colab": {
   "name": "asim_tutorial.ipynb",
   "provenance": [],
   "toc_visible": true
  },
  "kernelspec": {
   "display_name": "Python 3",
   "language": "python",
   "name": "python3"
  },
  "language_info": {
   "codemirror_mode": {
    "name": "ipython",
    "version": 3
   },
   "file_extension": ".py",
   "mimetype": "text/x-python",
   "name": "python",
   "nbconvert_exporter": "python",
   "pygments_lexer": "ipython3",
   "version": "3.9.4"
  },
  "toc": {
   "base_numbering": 1,
   "nav_menu": {},
   "number_sections": true,
   "sideBar": true,
   "skip_h1_title": false,
   "title_cell": "Table of Contents",
   "title_sidebar": "Contents",
   "toc_cell": false,
   "toc_position": {},
   "toc_section_display": true,
   "toc_window_display": true
  }
 },
 "nbformat": 4,
 "nbformat_minor": 1
}
