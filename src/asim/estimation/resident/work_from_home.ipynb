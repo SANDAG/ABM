{
 "cells": [
  {
   "cell_type": "markdown",
   "metadata": {
    "colab_type": "text",
    "id": "knOigRU1UJ9Y"
   },
   "source": [
    "# Estimating Work from Home Model\n",
    "\n",
    "This notebook illustrates how to re-estimate a single model component for ActivitySim.  This process \n",
    "includes running ActivitySim in estimation mode to read household travel survey files and write out\n",
    "the estimation data bundles used in this notebook.  To review how to do so, please visit the other\n",
    "notebooks in this directory."
   ]
  },
  {
   "cell_type": "markdown",
   "metadata": {},
   "source": [
    "# Load libraries"
   ]
  },
  {
   "cell_type": "code",
   "execution_count": null,
   "metadata": {
    "colab": {
     "base_uri": "https://localhost:8080/",
     "height": 34
    },
    "colab_type": "code",
    "id": "s53VwlPwtNnr",
    "outputId": "d1208b7a-c1f2-4b0b-c439-bf312fe12be0"
   },
   "outputs": [],
   "source": [
    "import os\n",
    "import larch  # !conda install larch -c conda-forge # for estimation\n",
    "import pandas as pd\n",
    "import numpy as np\n",
    "from larch import P, X\n",
    "import matplotlib.pyplot as plt"
   ]
  },
  {
   "cell_type": "code",
   "execution_count": null,
   "metadata": {},
   "outputs": [],
   "source": [
    "os.chdir('C:/ABM3_dev/outputs')\n",
    "path_to_EDB = r'output\\estimation_data_bundle\\work_from_home'"
   ]
  },
  {
   "cell_type": "code",
   "execution_count": null,
   "metadata": {},
   "outputs": [],
   "source": [
    "# construting pseduomsa map due to data error: (currently being fixed by Ali, won't be necessary in subsequent iterations)\n",
    "old_lu_file = pd.read_csv(os.path.join(path_to_EDB, 'mgra15_based_input2019_v3.csv'))\n",
    "zone_to_pseudomsa_map = old_lu_file.set_index('mgra').pseudomsa.to_dict()"
   ]
  },
  {
   "cell_type": "code",
   "execution_count": null,
   "metadata": {},
   "outputs": [],
   "source": [
    "# adding or updating additional required variables\n",
    "chooser_data_path =  os.path.join(path_to_EDB, 'work_from_home_values_combined.csv')\n",
    "raw_path = os.path.join(path_to_EDB, 'work_from_home_values_combined_raw.csv')\n",
    "\n",
    "# save initial raw choosers table out of estimation mode\n",
    "if os.path.exists(raw_path):\n",
    "    chooser_data = pd.read_csv(raw_path)\n",
    "else:\n",
    "    chooser_data = pd.read_csv(chooser_data_path)\n",
    "    chooser_data.to_csv(raw_path, index=False)\n",
    "\n",
    "# estimation data doesn't have naics coded, only industry, so mapping required\n",
    "industry_to_naics_xwalk = {\n",
    "    'business_srv': 54,\n",
    "    'other': 0,\n",
    "    'education': 61,\n",
    "    'healthcare': 62,\n",
    "    'mgmt_srv': 55,\n",
    "    'construction': 23,\n",
    "    'retail': 0,\n",
    "    'entertainment': 71,\n",
    "    'manufacturing': 31,\n",
    "    'food_srv': 722,\n",
    "    'military': 9000,\n",
    "    '0': 0,\n",
    "    'accomodation': 721,\n",
    "    'government': 92,\n",
    "    'agriculture': 0,\n",
    "}\n",
    "\n",
    "chooser_data.drop_duplicates(subset=['HH_ID', 'PNUM'], keep='first', inplace=True)\n",
    "\n",
    "# spec has PRE_COVID flag, need to reset for estimation to be based on survey year\n",
    "chooser_data['naics_code'] = chooser_data.industry.map(industry_to_naics_xwalk)\n",
    "chooser_data['util_2016'] = np.where(chooser_data.survey_year == 2016, 1, 0)\n",
    "\n",
    "# fixing bad pseduomsa\n",
    "chooser_data['pseudomsa'] = chooser_data.home_zone_id.map(zone_to_pseudomsa_map)\n",
    "chooser_data['util_cbd'] = np.where(chooser_data.pseudomsa == 1, 1, 0)\n",
    "\n",
    "# need to recomutue utilities since naics_code re-computed\n",
    "chooser_data['util_ind_accom'] = np.where(chooser_data.naics_code==721, 1, 0)\n",
    "chooser_data['util_ind_bus_srv'] = np.where(chooser_data.naics_code==54, 1, 0)\n",
    "chooser_data['util_ind_construct'] = np.where(chooser_data.naics_code==23, 1, 0)\n",
    "chooser_data['util_ind_edu'] = np.where(chooser_data.naics_code==61, 1, 0)\n",
    "chooser_data['util_ind_enter'] = np.where(chooser_data.naics_code==71, 1, 0)\n",
    "chooser_data['util_ind_food_srv'] = np.where(chooser_data.naics_code==722, 1, 0)\n",
    "chooser_data['util_ind_gov'] = np.where(chooser_data.naics_code==92, 1, 0)\n",
    "chooser_data['util_ind_health'] = np.where(chooser_data.naics_code==62, 1, 0)\n",
    "chooser_data['util_ind_manu'] = np.where(chooser_data.naics_code.isin([31,32,33]), 1, 0)\n",
    "chooser_data['util_ind_mgmt_srv'] = np.where(chooser_data.naics_code==55, 1, 0)\n",
    "chooser_data['util_ind_mil'] = np.where(chooser_data.naics_code==9000, 1, 0)\n",
    "\n",
    "\n",
    "# constructing non-wage/salary by pseudomsa\n",
    "chooser_data['util_emp_non_ws_wfh_pseudomsa'] = chooser_data.groupby('pseudomsa').emp_non_ws_wfh.transform('sum')\n",
    "\n",
    "chooser_data.to_csv(chooser_data_path, index=False)\n"
   ]
  },
  {
   "cell_type": "code",
   "execution_count": null,
   "metadata": {},
   "outputs": [],
   "source": [
    "chooser_data.groupby('pseudomsa').emp_non_ws_wfh.sum()"
   ]
  },
  {
   "cell_type": "code",
   "execution_count": null,
   "metadata": {},
   "outputs": [],
   "source": [
    "pd.crosstab(chooser_data.util_2016, chooser_data.override_choice, margins=True)"
   ]
  },
  {
   "cell_type": "markdown",
   "metadata": {},
   "source": [
    "# Load data and prep model for estimation"
   ]
  },
  {
   "cell_type": "code",
   "execution_count": null,
   "metadata": {},
   "outputs": [],
   "source": [
    "modelname = \"work_from_home\"\n",
    "\n",
    "from activitysim.estimation.larch import component_model\n",
    "model, data = component_model(modelname, return_data=True)"
   ]
  },
  {
   "cell_type": "markdown",
   "metadata": {},
   "source": [
    "# Review data loaded from the EDB\n",
    "\n",
    "The next step is to read the EDB, including the coefficients, model settings, utilities specification, and chooser and alternative data."
   ]
  },
  {
   "cell_type": "markdown",
   "metadata": {},
   "source": [
    "### Coefficients"
   ]
  },
  {
   "cell_type": "code",
   "execution_count": null,
   "metadata": {},
   "outputs": [],
   "source": [
    "data.coefficients"
   ]
  },
  {
   "cell_type": "markdown",
   "metadata": {},
   "source": [
    "#### Utility specification"
   ]
  },
  {
   "cell_type": "code",
   "execution_count": null,
   "metadata": {},
   "outputs": [],
   "source": [
    "data.spec"
   ]
  },
  {
   "cell_type": "markdown",
   "metadata": {},
   "source": [
    "### Chooser data"
   ]
  },
  {
   "cell_type": "code",
   "execution_count": null,
   "metadata": {},
   "outputs": [],
   "source": [
    "pd.crosstab(data.chooser_data.util_2016,data.chooser_data.override_choice,margins=True)"
   ]
  },
  {
   "cell_type": "code",
   "execution_count": null,
   "metadata": {},
   "outputs": [],
   "source": [
    "data.chooser_data.util_2016.value_counts()"
   ]
  },
  {
   "cell_type": "code",
   "execution_count": null,
   "metadata": {},
   "outputs": [],
   "source": [
    "data.chooser_data.survey_year.value_counts()"
   ]
  },
  {
   "cell_type": "markdown",
   "metadata": {},
   "source": [
    "# Estimate\n",
    "\n",
    "With the model setup for estimation, the next step is to estimate the model coefficients.  Make sure to use a sufficiently large enough household sample and set of zones to avoid an over-specified model, which does not have a numerically stable likelihood maximizing solution.  Larch has a built-in estimation methods including BHHH, and also offers access to more advanced general purpose non-linear optimizers in the `scipy` package, including SLSQP, which allows for bounds and constraints on parameters.  BHHH is the default and typically runs faster, but does not follow constraints on parameters."
   ]
  },
  {
   "cell_type": "code",
   "execution_count": null,
   "metadata": {},
   "outputs": [],
   "source": [
    "model.load_data()"
   ]
  },
  {
   "cell_type": "code",
   "execution_count": null,
   "metadata": {},
   "outputs": [],
   "source": [
    "model.maximize_loglike(method=\"BHHH\")"
   ]
  },
  {
   "cell_type": "markdown",
   "metadata": {},
   "source": [
    "### Estimated coefficients"
   ]
  },
  {
   "cell_type": "code",
   "execution_count": null,
   "metadata": {},
   "outputs": [],
   "source": [
    "model.calculate_parameter_covariance()\n",
    "model.parameter_summary()"
   ]
  },
  {
   "cell_type": "markdown",
   "metadata": {
    "colab_type": "text",
    "id": "TojXWivZsx7M"
   },
   "source": [
    "# Output Estimation Results"
   ]
  },
  {
   "cell_type": "code",
   "execution_count": null,
   "metadata": {},
   "outputs": [],
   "source": [
    "from activitysim.estimation.larch import update_coefficients\n",
    "result_dir = data.edb_directory/\"estimated\"\n",
    "update_coefficients(\n",
    "    model, data, result_dir,\n",
    "    output_file=f\"{modelname}_coefficients_revised.csv\",\n",
    ");"
   ]
  },
  {
   "cell_type": "markdown",
   "metadata": {},
   "source": [
    "### Write the model estimation report, including coefficient t-statistic and log likelihood"
   ]
  },
  {
   "cell_type": "code",
   "execution_count": null,
   "metadata": {},
   "outputs": [],
   "source": [
    "# result_dir='/projects/SANDAG/2017 On-Call Modeling Services/Area B/TO 05 - ABM3/estimation/'\n",
    "model.to_xlsx(\n",
    "    os.path.join(result_dir, \"work_from_home_14.xlsx\"), \n",
    "    data_statistics=True,\n",
    ")"
   ]
  },
  {
   "cell_type": "markdown",
   "metadata": {},
   "source": [
    "# Next Steps\n",
    "\n",
    "The final step is to either manually or automatically copy the `*_coefficients_revised.csv` file to the configs folder, rename it to `*_coefficients.csv`, and run ActivitySim in simulation mode."
   ]
  },
  {
   "cell_type": "code",
   "execution_count": null,
   "metadata": {},
   "outputs": [],
   "source": [
    "pd.read_csv(result_dir/f\"{modelname}_coefficients_revised.csv\")"
   ]
  }
 ],
 "metadata": {
  "colab": {
   "name": "asim_tutorial.ipynb",
   "provenance": [],
   "toc_visible": true
  },
  "kernelspec": {
   "display_name": "Python 3",
   "language": "python",
   "name": "python3"
  },
  "language_info": {
   "codemirror_mode": {
    "name": "ipython",
    "version": 3
   },
   "file_extension": ".py",
   "mimetype": "text/x-python",
   "name": "python",
   "nbconvert_exporter": "python",
   "pygments_lexer": "ipython3",
   "version": "3.9.16"
  },
  "toc": {
   "base_numbering": 1,
   "nav_menu": {},
   "number_sections": true,
   "sideBar": true,
   "skip_h1_title": false,
   "title_cell": "Table of Contents",
   "title_sidebar": "Contents",
   "toc_cell": false,
   "toc_position": {},
   "toc_section_display": true,
   "toc_window_display": true
  }
 },
 "nbformat": 4,
 "nbformat_minor": 1
}
