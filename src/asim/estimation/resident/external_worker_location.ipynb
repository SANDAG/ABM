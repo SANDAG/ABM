{
 "cells": [
  {
   "cell_type": "markdown",
   "metadata": {
    "colab_type": "text",
    "id": "knOigRU1UJ9Y"
   },
   "source": [
    "# Estimating External Worker Location Model\n",
    "\n",
    "This notebook re-estimates ActivitySim external worker location model in Larch. It predicts what external station an external worker will travel to for an external tour."
   ]
  },
  {
   "cell_type": "markdown",
   "metadata": {},
   "source": [
    "# Load libraries"
   ]
  },
  {
   "cell_type": "code",
   "execution_count": 1,
   "metadata": {
    "ExecuteTime": {
     "end_time": "2021-03-29T23:52:25.463914Z",
     "start_time": "2021-03-29T23:52:24.493719Z"
    },
    "colab": {
     "base_uri": "https://localhost:8080/",
     "height": 34
    },
    "colab_type": "code",
    "id": "s53VwlPwtNnr",
    "outputId": "d1208b7a-c1f2-4b0b-c439-bf312fe12be0"
   },
   "outputs": [],
   "source": [
    "import os\n",
    "import larch  # !conda install larch -c conda-forge # for estimation\n",
    "import pandas as pd\n",
    "import numpy as np\n",
    "from larch import P, X\n",
    "import matplotlib.pyplot as plt\n",
    "import shutil"
   ]
  },
  {
   "cell_type": "markdown",
   "metadata": {},
   "source": [
    "The directory with the estimation data bundles for external worker location choice."
   ]
  },
  {
   "cell_type": "code",
   "execution_count": 2,
   "metadata": {
    "ExecuteTime": {
     "end_time": "2021-03-29T23:52:25.467575Z",
     "start_time": "2021-03-29T23:52:25.465408Z"
    }
   },
   "outputs": [],
   "source": [
    "os.chdir('/projects/SANDAG/2017 On-Call Modeling Services/Area B/TO 05 - ABM3/estimation/output/estimation_data_bundle/external_workplace_location')"
   ]
  },
  {
   "cell_type": "markdown",
   "metadata": {},
   "source": [
    "# Drop duplicate person records"
   ]
  },
  {
   "cell_type": "code",
   "execution_count": 3,
   "metadata": {},
   "outputs": [
    {
     "data": {
      "text/plain": [
       "(7070, 11)"
      ]
     },
     "execution_count": 3,
     "metadata": {},
     "output_type": "execute_result"
    }
   ],
   "source": [
    "alts_combined_data = pd.read_csv(\"external_workplace_location_alternatives_combined_orig.csv\")\n",
    "household_data = pd.read_csv(\"../override_households.csv\")\n",
    "person_data = pd.read_csv(\"../override_persons.csv\")\n",
    "alts_combined_data.shape"
   ]
  },
  {
   "cell_type": "code",
   "execution_count": 4,
   "metadata": {},
   "outputs": [
    {
     "data": {
      "text/plain": [
       "(49762, 26)"
      ]
     },
     "execution_count": 4,
     "metadata": {},
     "output_type": "execute_result"
    }
   ],
   "source": [
    "household_data.shape"
   ]
  },
  {
   "cell_type": "code",
   "execution_count": 5,
   "metadata": {},
   "outputs": [
    {
     "data": {
      "text/plain": [
       "(7070, 13)"
      ]
     },
     "execution_count": 5,
     "metadata": {},
     "output_type": "execute_result"
    }
   ],
   "source": [
    "#merge alts_combined data with person file\n",
    "alts_combined_per_data = pd.merge(alts_combined_data, person_data[['person_id','household_id','PNUM']], on=[\"person_id\"], how='left')\n",
    "alts_combined_per_data.shape"
   ]
  },
  {
   "cell_type": "code",
   "execution_count": 6,
   "metadata": {},
   "outputs": [
    {
     "data": {
      "text/plain": [
       "(7070, 14)"
      ]
     },
     "execution_count": 6,
     "metadata": {},
     "output_type": "execute_result"
    }
   ],
   "source": [
    "#merge alts_combined data (with person file) with household file\n",
    "alts_combined_per_hh_data = pd.merge(alts_combined_per_data, household_data[['household_id','HH_ID']], on=[\"household_id\"])\n",
    "alts_combined_per_hh_data.shape"
   ]
  },
  {
   "cell_type": "code",
   "execution_count": 7,
   "metadata": {},
   "outputs": [
    {
     "data": {
      "text/plain": [
       "(1470, 11)"
      ]
     },
     "execution_count": 7,
     "metadata": {},
     "output_type": "execute_result"
    }
   ],
   "source": [
    "#drop duplicate person records and merged columns\n",
    "alts_combined_new_data = alts_combined_per_hh_data.drop_duplicates(subset=['HH_ID','PNUM','variable'])\n",
    "alts_combined_new_data = alts_combined_new_data.drop(columns=['household_id','PNUM','HH_ID'])\n",
    "alts_combined_new_data.shape"
   ]
  },
  {
   "cell_type": "code",
   "execution_count": 8,
   "metadata": {},
   "outputs": [],
   "source": [
    "#write data to file\n",
    "if os.path.exists(\"external_workplace_location_alternatives_combined_orig.csv\")!=True:\n",
    "  shutil.copy2('external_workplace_location_alternatives_combined.csv','external_workplace_location_alternatives_combined_orig.csv')\n",
    "alts_combined_new_data.to_csv(\"external_workplace_location_alternatives_combined.csv\", index=False)"
   ]
  },
  {
   "cell_type": "code",
   "execution_count": 9,
   "metadata": {},
   "outputs": [
    {
     "data": {
      "text/plain": [
       "(707, 5)"
      ]
     },
     "execution_count": 9,
     "metadata": {},
     "output_type": "execute_result"
    }
   ],
   "source": [
    "choosers_combined_data = pd.read_csv(\"external_workplace_location_choosers_combined_orig.csv\")\n",
    "choosers_combined_data.shape"
   ]
  },
  {
   "cell_type": "code",
   "execution_count": 10,
   "metadata": {},
   "outputs": [
    {
     "data": {
      "text/plain": [
       "(707, 6)"
      ]
     },
     "execution_count": 10,
     "metadata": {},
     "output_type": "execute_result"
    }
   ],
   "source": [
    "#merge choosers_combined data with person file\n",
    "choosers_combined_per_data = pd.merge(choosers_combined_data, person_data[['person_id','PNUM']], on=[\"person_id\"], how='left')\n",
    "choosers_combined_per_data.shape"
   ]
  },
  {
   "cell_type": "code",
   "execution_count": 11,
   "metadata": {},
   "outputs": [
    {
     "data": {
      "text/plain": [
       "(707, 7)"
      ]
     },
     "execution_count": 11,
     "metadata": {},
     "output_type": "execute_result"
    }
   ],
   "source": [
    "#merge alts_combined data (with person file) with household file\n",
    "choosers_combined_per_hh_data = pd.merge(choosers_combined_per_data, household_data[['household_id','HH_ID']], on=[\"household_id\"])\n",
    "choosers_combined_per_hh_data.shape"
   ]
  },
  {
   "cell_type": "code",
   "execution_count": 12,
   "metadata": {},
   "outputs": [
    {
     "data": {
      "text/plain": [
       "(147, 7)"
      ]
     },
     "execution_count": 12,
     "metadata": {},
     "output_type": "execute_result"
    }
   ],
   "source": [
    "#drop duplicate person records and merged columns\n",
    "choosers_combined_new_data = choosers_combined_per_hh_data.drop_duplicates(subset=['HH_ID','PNUM'])\n",
    "choosers_combined_new_data.shape"
   ]
  },
  {
   "cell_type": "code",
   "execution_count": 13,
   "metadata": {},
   "outputs": [
    {
     "name": "stderr",
     "output_type": "stream",
     "text": [
      "<ipython-input-13-34d4a584a071>:2: SettingWithCopyWarning: \n",
      "A value is trying to be set on a copy of a slice from a DataFrame.\n",
      "Try using .loc[row_indexer,col_indexer] = value instead\n",
      "\n",
      "See the caveats in the documentation: https://pandas.pydata.org/pandas-docs/stable/user_guide/indexing.html#returning-a-view-versus-a-copy\n",
      "  choosers_combined_new_data['override_choice'] = np.where(choosers_combined_new_data['override_choice']==24333, 24327, choosers_combined_new_data['override_choice'])\n",
      "<ipython-input-13-34d4a584a071>:3: SettingWithCopyWarning: \n",
      "A value is trying to be set on a copy of a slice from a DataFrame.\n",
      "Try using .loc[row_indexer,col_indexer] = value instead\n",
      "\n",
      "See the caveats in the documentation: https://pandas.pydata.org/pandas-docs/stable/user_guide/indexing.html#returning-a-view-versus-a-copy\n",
      "  choosers_combined_new_data['is_external_worker']=True\n"
     ]
    }
   ],
   "source": [
    "# recode workers who chose station 24333 (TAZ 11) to 24327 (TAZ 12); coded incorrectly\n",
    "choosers_combined_new_data['override_choice'] = np.where(choosers_combined_new_data['override_choice']==24333, 24327, choosers_combined_new_data['override_choice'])\n",
    "choosers_combined_new_data['is_external_worker']=True"
   ]
  },
  {
   "cell_type": "code",
   "execution_count": 14,
   "metadata": {},
   "outputs": [],
   "source": [
    "#write data to file\n",
    "if os.path.exists(\"external_workplace_location_choosers_combined_orig.csv\")!=True:\n",
    "  shutil.copy2('external_workplace_location_choosers_combined.csv','external_workplace_location_choosers_combined_orig.csv')\n",
    "choosers_combined_new_data.to_csv(\"external_workplace_location_choosers_combined.csv\", index=False)"
   ]
  },
  {
   "cell_type": "code",
   "execution_count": 15,
   "metadata": {
    "ExecuteTime": {
     "end_time": "2021-03-29T23:52:27.849315Z",
     "start_time": "2021-03-29T23:52:25.469525Z"
    }
   },
   "outputs": [],
   "source": [
    "os.chdir('/projects/SANDAG/2017 On-Call Modeling Services/Area B/TO 05 - ABM3/estimation')\n",
    "modelname = \"external_workplace_location\"\n",
    "\n",
    "from activitysim.estimation.larch import component_model\n",
    "model, data = component_model(modelname, return_data=True)"
   ]
  },
  {
   "cell_type": "markdown",
   "metadata": {},
   "source": [
    "# Review data loaded from the EDB\n",
    "\n",
    "The next step is to read the EDB, including the coefficients, model settings, utilities specification, and chooser and alternative data."
   ]
  },
  {
   "cell_type": "markdown",
   "metadata": {},
   "source": [
    "### Coefficients"
   ]
  },
  {
   "cell_type": "code",
   "execution_count": 16,
   "metadata": {
    "ExecuteTime": {
     "end_time": "2021-03-29T23:52:28.217583Z",
     "start_time": "2021-03-29T23:52:28.207154Z"
    }
   },
   "outputs": [
    {
     "data": {
      "text/html": [
       "<div>\n",
       "<style scoped>\n",
       "    .dataframe tbody tr th:only-of-type {\n",
       "        vertical-align: middle;\n",
       "    }\n",
       "\n",
       "    .dataframe tbody tr th {\n",
       "        vertical-align: top;\n",
       "    }\n",
       "\n",
       "    .dataframe thead th {\n",
       "        text-align: right;\n",
       "    }\n",
       "</style>\n",
       "<table border=\"1\" class=\"dataframe\">\n",
       "  <thead>\n",
       "    <tr style=\"text-align: right;\">\n",
       "      <th></th>\n",
       "      <th>value</th>\n",
       "      <th>constrain</th>\n",
       "    </tr>\n",
       "    <tr>\n",
       "      <th>coefficient_name</th>\n",
       "      <th></th>\n",
       "      <th></th>\n",
       "    </tr>\n",
       "  </thead>\n",
       "  <tbody>\n",
       "    <tr>\n",
       "      <th>coef_mode_logsum</th>\n",
       "      <td>0</td>\n",
       "      <td>F</td>\n",
       "    </tr>\n",
       "    <tr>\n",
       "      <th>coef_dist_capped</th>\n",
       "      <td>0</td>\n",
       "      <td>F</td>\n",
       "    </tr>\n",
       "    <tr>\n",
       "      <th>coef_size</th>\n",
       "      <td>1</td>\n",
       "      <td>T</td>\n",
       "    </tr>\n",
       "  </tbody>\n",
       "</table>\n",
       "</div>"
      ],
      "text/plain": [
       "                  value constrain\n",
       "coefficient_name                 \n",
       "coef_mode_logsum      0         F\n",
       "coef_dist_capped      0         F\n",
       "coef_size             1         T"
      ]
     },
     "execution_count": 16,
     "metadata": {},
     "output_type": "execute_result"
    }
   ],
   "source": [
    "data.coefficients"
   ]
  },
  {
   "cell_type": "markdown",
   "metadata": {},
   "source": [
    "#### Utility specification"
   ]
  },
  {
   "cell_type": "code",
   "execution_count": 17,
   "metadata": {
    "ExecuteTime": {
     "end_time": "2021-03-29T23:52:28.239125Z",
     "start_time": "2021-03-29T23:52:28.219116Z"
    }
   },
   "outputs": [
    {
     "data": {
      "text/html": [
       "<div>\n",
       "<style scoped>\n",
       "    .dataframe tbody tr th:only-of-type {\n",
       "        vertical-align: middle;\n",
       "    }\n",
       "\n",
       "    .dataframe tbody tr th {\n",
       "        vertical-align: top;\n",
       "    }\n",
       "\n",
       "    .dataframe thead th {\n",
       "        text-align: right;\n",
       "    }\n",
       "</style>\n",
       "<table border=\"1\" class=\"dataframe\">\n",
       "  <thead>\n",
       "    <tr style=\"text-align: right;\">\n",
       "      <th></th>\n",
       "      <th>Label</th>\n",
       "      <th>Description</th>\n",
       "      <th>Expression</th>\n",
       "      <th>external_workplace</th>\n",
       "    </tr>\n",
       "  </thead>\n",
       "  <tbody>\n",
       "    <tr>\n",
       "      <th>0</th>\n",
       "      <td>util_dist</td>\n",
       "      <td>NaN</td>\n",
       "      <td>@np.minimum(_DIST,10)</td>\n",
       "      <td>coef_dist_capped</td>\n",
       "    </tr>\n",
       "    <tr>\n",
       "      <th>1</th>\n",
       "      <td>util_no_attractions</td>\n",
       "      <td>No attractions</td>\n",
       "      <td>@df['size_term']==0</td>\n",
       "      <td>-999</td>\n",
       "    </tr>\n",
       "    <tr>\n",
       "      <th>2</th>\n",
       "      <td>mode_choice_logsum</td>\n",
       "      <td>Mode choice logsum</td>\n",
       "      <td>@df.mode_choice_logsum if 'mode_choice_logsum'...</td>\n",
       "      <td>coef_mode_logsum</td>\n",
       "    </tr>\n",
       "  </tbody>\n",
       "</table>\n",
       "</div>"
      ],
      "text/plain": [
       "                 Label         Description  \\\n",
       "0            util_dist                 NaN   \n",
       "1  util_no_attractions      No attractions   \n",
       "2   mode_choice_logsum  Mode choice logsum   \n",
       "\n",
       "                                          Expression external_workplace  \n",
       "0                              @np.minimum(_DIST,10)   coef_dist_capped  \n",
       "1                                @df['size_term']==0               -999  \n",
       "2  @df.mode_choice_logsum if 'mode_choice_logsum'...   coef_mode_logsum  "
      ]
     },
     "execution_count": 17,
     "metadata": {},
     "output_type": "execute_result"
    }
   ],
   "source": [
    "data.spec"
   ]
  },
  {
   "cell_type": "markdown",
   "metadata": {},
   "source": [
    "## Explore data"
   ]
  },
  {
   "cell_type": "code",
   "execution_count": 18,
   "metadata": {
    "ExecuteTime": {
     "end_time": "2021-03-29T23:52:28.266530Z",
     "start_time": "2021-03-29T23:52:28.241888Z"
    }
   },
   "outputs": [
    {
     "data": {
      "text/html": [
       "<div>\n",
       "<style scoped>\n",
       "    .dataframe tbody tr th:only-of-type {\n",
       "        vertical-align: middle;\n",
       "    }\n",
       "\n",
       "    .dataframe tbody tr th {\n",
       "        vertical-align: top;\n",
       "    }\n",
       "\n",
       "    .dataframe thead th {\n",
       "        text-align: right;\n",
       "    }\n",
       "</style>\n",
       "<table border=\"1\" class=\"dataframe\">\n",
       "  <thead>\n",
       "    <tr style=\"text-align: right;\">\n",
       "      <th></th>\n",
       "      <th>person_id</th>\n",
       "      <th>model_choice</th>\n",
       "      <th>override_choice</th>\n",
       "      <th>home_zone_id</th>\n",
       "      <th>household_id</th>\n",
       "      <th>PNUM</th>\n",
       "      <th>HH_ID</th>\n",
       "      <th>is_external_worker</th>\n",
       "    </tr>\n",
       "  </thead>\n",
       "  <tbody>\n",
       "    <tr>\n",
       "      <th>0</th>\n",
       "      <td>38</td>\n",
       "      <td>24327</td>\n",
       "      <td>24327.0</td>\n",
       "      <td>24303</td>\n",
       "      <td>23</td>\n",
       "      <td>2</td>\n",
       "      <td>161004975</td>\n",
       "      <td>True</td>\n",
       "    </tr>\n",
       "    <tr>\n",
       "      <th>1</th>\n",
       "      <td>108</td>\n",
       "      <td>24326</td>\n",
       "      <td>24327.0</td>\n",
       "      <td>16387</td>\n",
       "      <td>55</td>\n",
       "      <td>2</td>\n",
       "      <td>161008944</td>\n",
       "      <td>True</td>\n",
       "    </tr>\n",
       "    <tr>\n",
       "      <th>2</th>\n",
       "      <td>764</td>\n",
       "      <td>24326</td>\n",
       "      <td>24323.0</td>\n",
       "      <td>5391</td>\n",
       "      <td>387</td>\n",
       "      <td>2</td>\n",
       "      <td>161067863</td>\n",
       "      <td>True</td>\n",
       "    </tr>\n",
       "    <tr>\n",
       "      <th>3</th>\n",
       "      <td>962</td>\n",
       "      <td>24326</td>\n",
       "      <td>24327.0</td>\n",
       "      <td>6641</td>\n",
       "      <td>482</td>\n",
       "      <td>1</td>\n",
       "      <td>161080976</td>\n",
       "      <td>True</td>\n",
       "    </tr>\n",
       "    <tr>\n",
       "      <th>4</th>\n",
       "      <td>1536</td>\n",
       "      <td>24327</td>\n",
       "      <td>24327.0</td>\n",
       "      <td>15411</td>\n",
       "      <td>786</td>\n",
       "      <td>2</td>\n",
       "      <td>161135536</td>\n",
       "      <td>True</td>\n",
       "    </tr>\n",
       "    <tr>\n",
       "      <th>...</th>\n",
       "      <td>...</td>\n",
       "      <td>...</td>\n",
       "      <td>...</td>\n",
       "      <td>...</td>\n",
       "      <td>...</td>\n",
       "      <td>...</td>\n",
       "      <td>...</td>\n",
       "      <td>...</td>\n",
       "    </tr>\n",
       "    <tr>\n",
       "      <th>142</th>\n",
       "      <td>95534</td>\n",
       "      <td>24330</td>\n",
       "      <td>24327.0</td>\n",
       "      <td>16268</td>\n",
       "      <td>49046</td>\n",
       "      <td>1</td>\n",
       "      <td>22068544</td>\n",
       "      <td>True</td>\n",
       "    </tr>\n",
       "    <tr>\n",
       "      <th>143</th>\n",
       "      <td>95747</td>\n",
       "      <td>24326</td>\n",
       "      <td>24327.0</td>\n",
       "      <td>15110</td>\n",
       "      <td>49151</td>\n",
       "      <td>1</td>\n",
       "      <td>22078307</td>\n",
       "      <td>True</td>\n",
       "    </tr>\n",
       "    <tr>\n",
       "      <th>144</th>\n",
       "      <td>96195</td>\n",
       "      <td>24328</td>\n",
       "      <td>24323.0</td>\n",
       "      <td>4413</td>\n",
       "      <td>49395</td>\n",
       "      <td>3</td>\n",
       "      <td>22098638</td>\n",
       "      <td>True</td>\n",
       "    </tr>\n",
       "    <tr>\n",
       "      <th>145</th>\n",
       "      <td>96371</td>\n",
       "      <td>24326</td>\n",
       "      <td>24327.0</td>\n",
       "      <td>312</td>\n",
       "      <td>49494</td>\n",
       "      <td>2</td>\n",
       "      <td>22106128</td>\n",
       "      <td>True</td>\n",
       "    </tr>\n",
       "    <tr>\n",
       "      <th>146</th>\n",
       "      <td>96376</td>\n",
       "      <td>24327</td>\n",
       "      <td>24327.0</td>\n",
       "      <td>12862</td>\n",
       "      <td>49496</td>\n",
       "      <td>2</td>\n",
       "      <td>22106405</td>\n",
       "      <td>True</td>\n",
       "    </tr>\n",
       "  </tbody>\n",
       "</table>\n",
       "<p>147 rows × 8 columns</p>\n",
       "</div>"
      ],
      "text/plain": [
       "     person_id  model_choice  override_choice  home_zone_id  household_id  \\\n",
       "0           38         24327          24327.0         24303            23   \n",
       "1          108         24326          24327.0         16387            55   \n",
       "2          764         24326          24323.0          5391           387   \n",
       "3          962         24326          24327.0          6641           482   \n",
       "4         1536         24327          24327.0         15411           786   \n",
       "..         ...           ...              ...           ...           ...   \n",
       "142      95534         24330          24327.0         16268         49046   \n",
       "143      95747         24326          24327.0         15110         49151   \n",
       "144      96195         24328          24323.0          4413         49395   \n",
       "145      96371         24326          24327.0           312         49494   \n",
       "146      96376         24327          24327.0         12862         49496   \n",
       "\n",
       "     PNUM      HH_ID  is_external_worker  \n",
       "0       2  161004975                True  \n",
       "1       2  161008944                True  \n",
       "2       2  161067863                True  \n",
       "3       1  161080976                True  \n",
       "4       2  161135536                True  \n",
       "..    ...        ...                 ...  \n",
       "142     1   22068544                True  \n",
       "143     1   22078307                True  \n",
       "144     3   22098638                True  \n",
       "145     2   22106128                True  \n",
       "146     2   22106405                True  \n",
       "\n",
       "[147 rows x 8 columns]"
      ]
     },
     "execution_count": 18,
     "metadata": {},
     "output_type": "execute_result"
    }
   ],
   "source": [
    "data.chooser_data"
   ]
  },
  {
   "cell_type": "code",
   "execution_count": 19,
   "metadata": {},
   "outputs": [],
   "source": [
    "#pd.crosstab(data.chooser_data.closest_external_zone, data.chooser_data.override_choice, margins=True)"
   ]
  },
  {
   "cell_type": "code",
   "execution_count": 20,
   "metadata": {},
   "outputs": [],
   "source": [
    "#pd.crosstab(data.chooser_data.industry, data.chooser_data.override_choice, margins=True, normalize='index')"
   ]
  },
  {
   "cell_type": "code",
   "execution_count": 21,
   "metadata": {},
   "outputs": [],
   "source": [
    "#pd.crosstab(data.chooser_data.industry, data.chooser_data.override_choice, margins=True)"
   ]
  },
  {
   "cell_type": "code",
   "execution_count": 22,
   "metadata": {},
   "outputs": [],
   "source": [
    "#data.chooser_data['external_worker'] = np.where(data.chooser_data[\"override_choice\"]==1,0,1)"
   ]
  },
  {
   "cell_type": "code",
   "execution_count": 23,
   "metadata": {},
   "outputs": [],
   "source": [
    "#plt.hist(data.chooser_data['distance_int'],range=(0, data.chooser_data['distance_int'].max()), bins=data.chooser_data['distance_int'].max() + 1)\n",
    "#plot_df = data.chooser_data.groupby('distance_int')['external_worker'].mean().mul(100).reindex(range(data.chooser_data.distance_int.min()-1,data.chooser_data.distance_int.max()+1), fill_value=0)\n",
    "\n",
    "#ax = plot_df.plot(kind='bar',rot = 0,title='Share of External Workers by Distance to Closest External Station',ylim=[0, 30], xlabel=\"Distance (mi)\", ylabel=\"Percent\",  figsize=(20, 5))\n",
    "\n",
    "#plt.show()"
   ]
  },
  {
   "cell_type": "code",
   "execution_count": 24,
   "metadata": {},
   "outputs": [],
   "source": [
    "#chooser_data_lt1mi= data.chooser_data[data.chooser_data[\"distance_int\"]<=2]\n",
    "#pd.crosstab(chooser_data_lt1mi.closest_external_zone, chooser_data_lt1mi.override_choice, margins=True)"
   ]
  },
  {
   "cell_type": "markdown",
   "metadata": {},
   "source": [
    "# Set Coefficients"
   ]
  },
  {
   "cell_type": "code",
   "execution_count": 25,
   "metadata": {},
   "outputs": [
    {
     "name": "stdout",
     "output_type": "stream",
     "text": [
      "  P.coef_dist_capped * X('util_dist*(is_external_worker==True)')\n",
      "+ P('-999') * X('util_no_attractions*(is_external_worker==True)')\n",
      "+ P.coef_mode_logsum * X('mode_choice_logsum*(is_external_worker==True)')\n"
     ]
    }
   ],
   "source": [
    "dir(model)\n",
    "print(model.utility_ca)"
   ]
  },
  {
   "cell_type": "code",
   "execution_count": 26,
   "metadata": {},
   "outputs": [],
   "source": [
    "#capping distance at 10 miles\n",
    "#model.utility_ca =   (P.coef_dist * X('fmin(util_dist,10)*(is_external_worker==True)')\n",
    "#+ P.coef_dist_lt_2p5 * X('util_dist_lt_2p5*(is_external_worker==True)')\n",
    "#+ P.coef_dist_1_2 * X('util_dist_1_2*(is_external_worker==True)')\n",
    "#+ P.coef_dist_2_5 * X('util_dist_2_5*(is_external_worker==True)')\n",
    "#+ P.coef_dist_5_15 * X('util_dist_5_15*(is_external_worker==True)')\n",
    "#+ P.coef_dist_15_up * X('util_dist_15_up*(is_external_worker==True)')\n",
    "#+ P('-999') * X('util_no_attractions*(is_external_worker==True)')\n",
    "#+ P.coef_mode_logsum * X('mode_choice_logsum*(is_external_worker==True)'))"
   ]
  },
  {
   "cell_type": "markdown",
   "metadata": {},
   "source": [
    "# Estimate\n",
    "\n",
    "With the model setup for estimation, the next step is to estimate the model coefficients.  Make sure to use a sufficiently large enough household sample and set of zones to avoid an over-specified model, which does not have a numerically stable likelihood maximizing solution.  Larch has a built-in estimation methods including BHHH, and also offers access to more advanced general purpose non-linear optimizers in the `scipy` package, including SLSQP, which allows for bounds and constraints on parameters.  BHHH is the default and typically runs faster, but does not follow constraints on parameters."
   ]
  },
  {
   "cell_type": "code",
   "execution_count": 27,
   "metadata": {
    "ExecuteTime": {
     "end_time": "2021-03-29T23:52:29.797376Z",
     "start_time": "2021-03-29T23:52:28.268155Z"
    }
   },
   "outputs": [
    {
     "name": "stderr",
     "output_type": "stream",
     "text": [
      "req_data does not request avail_ca or avail_co but it is set and being provided\n"
     ]
    }
   ],
   "source": [
    "model.load_data()\n",
    "#model.doctor(repair_ch_av=\"-\")"
   ]
  },
  {
   "cell_type": "code",
   "execution_count": 28,
   "metadata": {
    "ExecuteTime": {
     "end_time": "2021-03-29T23:56:20.839089Z",
     "start_time": "2021-03-29T23:52:57.309044Z"
    },
    "scrolled": false
   },
   "outputs": [
    {
     "data": {
      "text/html": [
       "<h3>Iteration 006 [Optimization terminated successfully] </h3>"
      ],
      "text/plain": [
       "<IPython.core.display.HTML object>"
      ]
     },
     "metadata": {},
     "output_type": "display_data"
    },
    {
     "data": {
      "text/html": [
       "<p>Best LL = -220.1217292043524</p>"
      ],
      "text/plain": [
       "<IPython.core.display.HTML object>"
      ]
     },
     "metadata": {},
     "output_type": "display_data"
    },
    {
     "data": {
      "text/html": [
       "<div>\n",
       "<style scoped>\n",
       "    .dataframe tbody tr th:only-of-type {\n",
       "        vertical-align: middle;\n",
       "    }\n",
       "\n",
       "    .dataframe tbody tr th {\n",
       "        vertical-align: top;\n",
       "    }\n",
       "\n",
       "    .dataframe thead th {\n",
       "        text-align: right;\n",
       "    }\n",
       "</style>\n",
       "<table border=\"1\" class=\"dataframe\">\n",
       "  <thead>\n",
       "    <tr style=\"text-align: right;\">\n",
       "      <th></th>\n",
       "      <th>value</th>\n",
       "      <th>initvalue</th>\n",
       "      <th>nullvalue</th>\n",
       "      <th>minimum</th>\n",
       "      <th>maximum</th>\n",
       "      <th>holdfast</th>\n",
       "      <th>note</th>\n",
       "      <th>best</th>\n",
       "    </tr>\n",
       "  </thead>\n",
       "  <tbody>\n",
       "    <tr>\n",
       "      <th>-999</th>\n",
       "      <td>-999.000000</td>\n",
       "      <td>-999.0</td>\n",
       "      <td>-999.0</td>\n",
       "      <td>-999.0</td>\n",
       "      <td>-999.0</td>\n",
       "      <td>1</td>\n",
       "      <td></td>\n",
       "      <td>-999.000000</td>\n",
       "    </tr>\n",
       "    <tr>\n",
       "      <th>coef_dist_capped</th>\n",
       "      <td>-0.519016</td>\n",
       "      <td>0.0</td>\n",
       "      <td>0.0</td>\n",
       "      <td>-25.0</td>\n",
       "      <td>25.0</td>\n",
       "      <td>0</td>\n",
       "      <td></td>\n",
       "      <td>-0.519016</td>\n",
       "    </tr>\n",
       "    <tr>\n",
       "      <th>coef_mode_logsum</th>\n",
       "      <td>0.064105</td>\n",
       "      <td>0.0</td>\n",
       "      <td>0.0</td>\n",
       "      <td>-25.0</td>\n",
       "      <td>25.0</td>\n",
       "      <td>0</td>\n",
       "      <td></td>\n",
       "      <td>0.064105</td>\n",
       "    </tr>\n",
       "    <tr>\n",
       "      <th>external_workplace_external_work</th>\n",
       "      <td>0.000000</td>\n",
       "      <td>0.0</td>\n",
       "      <td>0.0</td>\n",
       "      <td>0.0</td>\n",
       "      <td>0.0</td>\n",
       "      <td>1</td>\n",
       "      <td></td>\n",
       "      <td>0.000000</td>\n",
       "    </tr>\n",
       "  </tbody>\n",
       "</table>\n",
       "</div>"
      ],
      "text/plain": [
       "                                       value  initvalue  nullvalue  minimum  \\\n",
       "-999                             -999.000000     -999.0     -999.0   -999.0   \n",
       "coef_dist_capped                   -0.519016        0.0        0.0    -25.0   \n",
       "coef_mode_logsum                    0.064105        0.0        0.0    -25.0   \n",
       "external_workplace_external_work    0.000000        0.0        0.0      0.0   \n",
       "\n",
       "                                  maximum  holdfast note        best  \n",
       "-999                               -999.0         1      -999.000000  \n",
       "coef_dist_capped                     25.0         0        -0.519016  \n",
       "coef_mode_logsum                     25.0         0         0.064105  \n",
       "external_workplace_external_work      0.0         1         0.000000  "
      ]
     },
     "metadata": {},
     "output_type": "display_data"
    },
    {
     "data": {
      "text/html": [
       "<div><table style=\"margin-top:1px;\"><tr><th>key</th><th style=\"text-align:left;\">value</th></tr><tr><td>x</td><td style=\"text-align:left;\"><table border=\"1\" class=\"dataframe\">\n",
       "  <thead>\n",
       "    <tr style=\"text-align: right;\">\n",
       "      <th></th>\n",
       "      <th>0</th>\n",
       "    </tr>\n",
       "  </thead>\n",
       "  <tbody>\n",
       "    <tr>\n",
       "      <th>-999</th>\n",
       "      <td>-999.000000</td>\n",
       "    </tr>\n",
       "    <tr>\n",
       "      <th>coef_dist_capped</th>\n",
       "      <td>-0.519016</td>\n",
       "    </tr>\n",
       "    <tr>\n",
       "      <th>coef_mode_logsum</th>\n",
       "      <td>0.064105</td>\n",
       "    </tr>\n",
       "    <tr>\n",
       "      <th>external_workplace_external_work</th>\n",
       "      <td>0.000000</td>\n",
       "    </tr>\n",
       "  </tbody>\n",
       "</table></td></tr><tr><td>loglike</td><td style=\"text-align:left;\">-220.1217292043524</td></tr><tr><td>d_loglike</td><td style=\"text-align:left;\"><table border=\"1\" class=\"dataframe\">\n",
       "  <thead>\n",
       "    <tr style=\"text-align: right;\">\n",
       "      <th></th>\n",
       "      <th>0</th>\n",
       "    </tr>\n",
       "  </thead>\n",
       "  <tbody>\n",
       "    <tr>\n",
       "      <th>-999</th>\n",
       "      <td>0.000000</td>\n",
       "    </tr>\n",
       "    <tr>\n",
       "      <th>coef_dist_capped</th>\n",
       "      <td>0.001745</td>\n",
       "    </tr>\n",
       "    <tr>\n",
       "      <th>coef_mode_logsum</th>\n",
       "      <td>-0.000942</td>\n",
       "    </tr>\n",
       "    <tr>\n",
       "      <th>external_workplace_external_work</th>\n",
       "      <td>0.000000</td>\n",
       "    </tr>\n",
       "  </tbody>\n",
       "</table></td></tr><tr><td>nit</td><td style=\"text-align:left;\">6</td></tr><tr><td>nfev</td><td style=\"text-align:left;\">11</td></tr><tr><td>njev</td><td style=\"text-align:left;\">6</td></tr><tr><td>status</td><td style=\"text-align:left;\">0</td></tr><tr><td>message</td><td style=\"text-align:left;\">'Optimization terminated successfully'</td></tr><tr><td>success</td><td style=\"text-align:left;\">True</td></tr><tr><td>elapsed_time</td><td style=\"text-align:left;\">0:00:00.082356</td></tr><tr><td>method</td><td style=\"text-align:left;\">'SLSQP'</td></tr><tr><td>n_cases</td><td style=\"text-align:left;\">147</td></tr><tr><td>iteration_number</td><td style=\"text-align:left;\">6</td></tr><tr><td>logloss</td><td style=\"text-align:left;\">1.4974267292813088</td></tr></table></div>"
      ],
      "text/plain": [
       "┣                x: -999                               -999.000000\n",
       "┃                   coef_dist_capped                     -0.519016\n",
       "┃                   coef_mode_logsum                      0.064105\n",
       "┃                   external_workplace_external_work      0.000000\n",
       "┃                   dtype: float64\n",
       "┣          loglike: -220.1217292043524\n",
       "┣        d_loglike: -999                                0.000000\n",
       "┃                   coef_dist_capped                    0.001745\n",
       "┃                   coef_mode_logsum                   -0.000942\n",
       "┃                   external_workplace_external_work    0.000000\n",
       "┃                   dtype: float64\n",
       "┣              nit: 6\n",
       "┣             nfev: 11\n",
       "┣             njev: 6\n",
       "┣           status: 0\n",
       "┣          message: 'Optimization terminated successfully'\n",
       "┣          success: True\n",
       "┣     elapsed_time: datetime.timedelta(microseconds=82356)\n",
       "┣           method: 'SLSQP'\n",
       "┣          n_cases: 147\n",
       "┣ iteration_number: 6\n",
       "┣          logloss: 1.4974267292813088"
      ]
     },
     "execution_count": 28,
     "metadata": {},
     "output_type": "execute_result"
    }
   ],
   "source": [
    "model.maximize_loglike(method=\"SLSQP\", options={\"maxiter\": 1000})\n"
   ]
  },
  {
   "cell_type": "markdown",
   "metadata": {},
   "source": [
    "### Estimated coefficients"
   ]
  },
  {
   "cell_type": "code",
   "execution_count": 29,
   "metadata": {
    "ExecuteTime": {
     "end_time": "2021-03-29T20:31:04.183101Z",
     "start_time": "2021-03-29T20:31:04.152275Z"
    }
   },
   "outputs": [
    {
     "name": "stderr",
     "output_type": "stream",
     "text": [
      "C:\\Users\\joel.freedman\\Anaconda3\\envs\\asim_est\\lib\\site-packages\\larch\\util\\excel.py:523: FutureWarning: Use of **kwargs is deprecated, use engine_kwargs instead.\n",
      "  xl = ExcelWriter(filename, engine='xlsxwriter_larch', model=model, **kwargs)\n"
     ]
    },
    {
     "data": {
      "text/plain": [
       "<larch.util.excel.ExcelWriter at 0x22631bcaf40>"
      ]
     },
     "execution_count": 29,
     "metadata": {},
     "output_type": "execute_result"
    }
   ],
   "source": [
    "model.calculate_parameter_covariance()\n",
    "result_dir='/projects/SANDAG/2017 On-Call Modeling Services/Area B/TO 05 - ABM3/estimation/'\n",
    "model.to_xlsx(\n",
    "        result_dir+\"ext_worker_location_004.xlsx\", \n",
    "        data_statistics=True,\n",
    "    )"
   ]
  },
  {
   "cell_type": "markdown",
   "metadata": {
    "colab_type": "text",
    "id": "TojXWivZsx7M"
   },
   "source": [
    "# Output Estimation Results"
   ]
  },
  {
   "cell_type": "code",
   "execution_count": 30,
   "metadata": {
    "ExecuteTime": {
     "end_time": "2021-03-29T20:31:04.194437Z",
     "start_time": "2021-03-29T20:31:04.185054Z"
    }
   },
   "outputs": [],
   "source": [
    "from activitysim.estimation.larch import update_coefficients\n",
    "result_dir = data.edb_directory/\"estimated\"\n",
    "update_coefficients(\n",
    "    model, data, result_dir,\n",
    "    output_file=f\"{modelname}_coefficients_004.csv\",\n",
    ");"
   ]
  },
  {
   "cell_type": "code",
   "execution_count": 31,
   "metadata": {},
   "outputs": [],
   "source": [
    "#larch.__version__"
   ]
  },
  {
   "cell_type": "code",
   "execution_count": 32,
   "metadata": {},
   "outputs": [],
   "source": [
    "#result_dir"
   ]
  },
  {
   "cell_type": "markdown",
   "metadata": {},
   "source": [
    "### Write the model estimation report, including coefficient t-statistic and log likelihood"
   ]
  },
  {
   "cell_type": "markdown",
   "metadata": {},
   "source": [
    "# Next Steps\n",
    "\n",
    "The final step is to either manually or automatically copy the `*_coefficients_revised.csv` file to the configs folder, rename it to `*_coefficients.csv`, and run ActivitySim in simulation mode."
   ]
  },
  {
   "cell_type": "code",
   "execution_count": 33,
   "metadata": {
    "ExecuteTime": {
     "end_time": "2021-03-29T20:31:04.342040Z",
     "start_time": "2021-03-29T20:31:04.332407Z"
    }
   },
   "outputs": [],
   "source": [
    "#pd.read_csv(result_dir/f\"{modelname}_coefficients_revised.csv\")"
   ]
  },
  {
   "cell_type": "code",
   "execution_count": null,
   "metadata": {},
   "outputs": [],
   "source": []
  },
  {
   "cell_type": "code",
   "execution_count": null,
   "metadata": {},
   "outputs": [],
   "source": []
  }
 ],
 "metadata": {
  "colab": {
   "name": "asim_tutorial.ipynb",
   "provenance": [],
   "toc_visible": true
  },
  "kernelspec": {
   "display_name": "Python 3",
   "language": "python",
   "name": "python3"
  },
  "language_info": {
   "codemirror_mode": {
    "name": "ipython",
    "version": 3
   },
   "file_extension": ".py",
   "mimetype": "text/x-python",
   "name": "python",
   "nbconvert_exporter": "python",
   "pygments_lexer": "ipython3",
   "version": "3.9.4"
  },
  "toc": {
   "base_numbering": 1,
   "nav_menu": {},
   "number_sections": true,
   "sideBar": true,
   "skip_h1_title": false,
   "title_cell": "Table of Contents",
   "title_sidebar": "Contents",
   "toc_cell": false,
   "toc_position": {},
   "toc_section_display": true,
   "toc_window_display": true
  }
 },
 "nbformat": 4,
 "nbformat_minor": 1
}
