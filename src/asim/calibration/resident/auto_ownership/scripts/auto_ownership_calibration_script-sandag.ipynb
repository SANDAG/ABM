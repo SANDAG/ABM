{
 "cells": [
  {
   "cell_type": "code",
   "execution_count": 1,
   "metadata": {},
   "outputs": [],
   "source": [
    "import pandas as pd\n",
    "import numpy as np\n",
    "import os\n",
    "import datetime"
   ]
  },
  {
   "cell_type": "code",
   "execution_count": 2,
   "metadata": {},
   "outputs": [],
   "source": [
    "### Run Time Function\n",
    "def print_runtime(t1, t2):\n",
    "    tot_sec = t2.timestamp()-t1.timestamp()\n",
    "    hours = tot_sec//3600\n",
    "    minutes = (tot_sec-hours*3600)//60\n",
    "    seconds = tot_sec-hours*3600-minutes*60\n",
    "\n",
    "    print(\"Run Time:\", hours, 'hrs', minutes, 'mins', round(seconds), \"sec\")\n",
    "    \n",
    "    return"
   ]
  },
  {
   "cell_type": "code",
   "execution_count": 3,
   "metadata": {},
   "outputs": [],
   "source": [
    "### Directory of the simulation.py file\n",
    "simpy_dir = r'C:/abm_runs/rohans'\n",
    "\n",
    "### Location of Configs\n",
    "settings = r'C:/abm_runs/rohans/configs/resident/settings_mp.yaml'\n",
    "configs_resident = r'C:/abm_runs/rohans/configs/resident'\n",
    "configs_common = r'C:/abm_runs/rohans/configs/common'\n",
    "\n",
    "### Location of auto_ownership_coefficients\n",
    "ao_coef_loc = r'C:/abm_runs/rohans/configs/resident'\n",
    "\n",
    "### Location of AO targets\n",
    "base_target_loc = r'C:/abm_runs/rohans/calibration/auto_ownership/targets/ao_targets_2021.csv'\n",
    "\n",
    "### Location of Input and Output data\n",
    "data = r'C:/abm_runs/rohans/input'\n",
    "output_dir = r'C:/abm_runs/rohans/output'"
   ]
  },
  {
   "cell_type": "code",
   "execution_count": 4,
   "metadata": {},
   "outputs": [
    {
     "data": {
      "text/html": [
       "<div>\n",
       "<style scoped>\n",
       "    .dataframe tbody tr th:only-of-type {\n",
       "        vertical-align: middle;\n",
       "    }\n",
       "\n",
       "    .dataframe tbody tr th {\n",
       "        vertical-align: top;\n",
       "    }\n",
       "\n",
       "    .dataframe thead th {\n",
       "        text-align: right;\n",
       "    }\n",
       "</style>\n",
       "<table border=\"1\" class=\"dataframe\">\n",
       "  <thead>\n",
       "    <tr style=\"text-align: right;\">\n",
       "      <th></th>\n",
       "      <th>share</th>\n",
       "    </tr>\n",
       "    <tr>\n",
       "      <th>auto_ownership</th>\n",
       "      <th></th>\n",
       "    </tr>\n",
       "  </thead>\n",
       "  <tbody>\n",
       "    <tr>\n",
       "      <th>0</th>\n",
       "      <td>0.054026</td>\n",
       "    </tr>\n",
       "    <tr>\n",
       "      <th>1</th>\n",
       "      <td>0.295868</td>\n",
       "    </tr>\n",
       "    <tr>\n",
       "      <th>2</th>\n",
       "      <td>0.398939</td>\n",
       "    </tr>\n",
       "    <tr>\n",
       "      <th>3</th>\n",
       "      <td>0.160256</td>\n",
       "    </tr>\n",
       "    <tr>\n",
       "      <th>4</th>\n",
       "      <td>0.090911</td>\n",
       "    </tr>\n",
       "  </tbody>\n",
       "</table>\n",
       "</div>"
      ],
      "text/plain": [
       "                   share\n",
       "auto_ownership          \n",
       "0               0.054026\n",
       "1               0.295868\n",
       "2               0.398939\n",
       "3               0.160256\n",
       "4               0.090911"
      ]
     },
     "execution_count": 4,
     "metadata": {},
     "output_type": "execute_result"
    }
   ],
   "source": [
    "### Define dampening or enhancing factor\n",
    "damp_fac = 1.5\n",
    "\n",
    "### Read in base targets/frequency\n",
    "base_share = pd.read_csv(base_target_loc, index_col=0)\n",
    "base_share"
   ]
  },
  {
   "cell_type": "code",
   "execution_count": null,
   "metadata": {},
   "outputs": [],
   "source": []
  },
  {
   "cell_type": "markdown",
   "metadata": {},
   "source": [
    "### Cold Start: \n",
    "Run ActivitySim up to auto_ownership_simulate model by editing settings_mp.yaml"
   ]
  },
  {
   "cell_type": "code",
   "execution_count": 5,
   "metadata": {},
   "outputs": [],
   "source": [
    "i = 0\n",
    "### Read and backup existing auto_ownership_coefficients\n",
    "ao_coef = pd.read_csv(ao_coef_loc+'/auto_ownership_coefficients.csv')\n",
    "ao_coef.to_csv(ao_coef_loc+'/auto_ownership_coefficients_'+str(i)+'.csv', index=False)"
   ]
  },
  {
   "cell_type": "code",
   "execution_count": 5,
   "metadata": {},
   "outputs": [
    {
     "data": {
      "text/plain": [
       "0"
      ]
     },
     "execution_count": 5,
     "metadata": {},
     "output_type": "execute_result"
    }
   ],
   "source": [
    "start_time = datetime.datetime.now()\n",
    "\n",
    "#Run ActivitySim\n",
    "os.chdir(simpy_dir)\n",
    "asim_command ='python simulation.py -s ' + settings + ' -c ' + configs_resident + ' -c ' + configs_common + ' -d ' + data + ' -o ' + output_dir\n",
    "\n",
    "os.system(asim_command)"
   ]
  },
  {
   "cell_type": "code",
   "execution_count": 6,
   "metadata": {},
   "outputs": [
    {
     "name": "stdout",
     "output_type": "stream",
     "text": [
      "Run Time: 1.0 hrs 38.0 mins 56 sec\n"
     ]
    }
   ],
   "source": [
    "end_time = datetime.datetime.now()\n",
    "print_runtime(start_time, end_time)"
   ]
  },
  {
   "cell_type": "code",
   "execution_count": null,
   "metadata": {},
   "outputs": [],
   "source": []
  },
  {
   "cell_type": "code",
   "execution_count": 8,
   "metadata": {},
   "outputs": [
    {
     "data": {
      "text/html": [
       "<div>\n",
       "<style scoped>\n",
       "    .dataframe tbody tr th:only-of-type {\n",
       "        vertical-align: middle;\n",
       "    }\n",
       "\n",
       "    .dataframe tbody tr th {\n",
       "        vertical-align: top;\n",
       "    }\n",
       "\n",
       "    .dataframe thead th {\n",
       "        text-align: right;\n",
       "    }\n",
       "</style>\n",
       "<table border=\"1\" class=\"dataframe\">\n",
       "  <thead>\n",
       "    <tr style=\"text-align: right;\">\n",
       "      <th></th>\n",
       "      <th>census</th>\n",
       "      <th>model</th>\n",
       "      <th>ratio</th>\n",
       "      <th>constants</th>\n",
       "    </tr>\n",
       "    <tr>\n",
       "      <th>auto_ownership</th>\n",
       "      <th></th>\n",
       "      <th></th>\n",
       "      <th></th>\n",
       "      <th></th>\n",
       "    </tr>\n",
       "  </thead>\n",
       "  <tbody>\n",
       "    <tr>\n",
       "      <th>0</th>\n",
       "      <td>0.054026</td>\n",
       "      <td>0.063727</td>\n",
       "      <td>0.847767</td>\n",
       "      <td>-0.165149</td>\n",
       "    </tr>\n",
       "    <tr>\n",
       "      <th>1</th>\n",
       "      <td>0.295868</td>\n",
       "      <td>0.314506</td>\n",
       "      <td>0.940739</td>\n",
       "      <td>-0.061090</td>\n",
       "    </tr>\n",
       "    <tr>\n",
       "      <th>2</th>\n",
       "      <td>0.398939</td>\n",
       "      <td>0.390553</td>\n",
       "      <td>1.021473</td>\n",
       "      <td>0.021246</td>\n",
       "    </tr>\n",
       "    <tr>\n",
       "      <th>3</th>\n",
       "      <td>0.160256</td>\n",
       "      <td>0.144961</td>\n",
       "      <td>1.105508</td>\n",
       "      <td>0.100305</td>\n",
       "    </tr>\n",
       "    <tr>\n",
       "      <th>4</th>\n",
       "      <td>0.090911</td>\n",
       "      <td>0.086253</td>\n",
       "      <td>1.054008</td>\n",
       "      <td>0.052600</td>\n",
       "    </tr>\n",
       "  </tbody>\n",
       "</table>\n",
       "</div>"
      ],
      "text/plain": [
       "                  census     model     ratio  constants\n",
       "auto_ownership                                         \n",
       "0               0.054026  0.063727  0.847767  -0.165149\n",
       "1               0.295868  0.314506  0.940739  -0.061090\n",
       "2               0.398939  0.390553  1.021473   0.021246\n",
       "3               0.160256  0.144961  1.105508   0.100305\n",
       "4               0.090911  0.086253  1.054008   0.052600"
      ]
     },
     "execution_count": 8,
     "metadata": {},
     "output_type": "execute_result"
    }
   ],
   "source": [
    "### Read households files\n",
    "hh_orig = pd.read_csv(output_dir + \"/final_households.csv\")\n",
    "hh_orig['weights'] = 1/hh_orig['sample_rate']\n",
    "\n",
    "### Remove group quarter (gq) households\n",
    "hh = hh_orig[hh_orig['HHT'].isin([1, 2, 3, 4, 5, 6, 7])]\n",
    "\n",
    "### Calculate asim shares\n",
    "asim_freq = pd.pivot_table(hh, index='auto_ownership', values='weights', aggfunc=np.sum)\n",
    "asim_share = asim_freq/asim_freq.sum()\n",
    "# asim_share.reset_index(inplace=True)\n",
    "\n",
    "### Calculate calibration constants\n",
    "ao_calib = base_share.rename({'share': 'census'}, axis=1)\n",
    "ao_calib['model'] = asim_share['weights']\n",
    "ao_calib['ratio'] = ao_calib['census']/ao_calib['model']\n",
    "ao_calib['constants'] = np.log(ao_calib['ratio'])\n",
    "\n",
    "ao_calib.to_csv('C:/abm_runs/rohans/calibration/auto_ownership/calibration run results/ao_calib_summary_'+str(i)+'.csv')\n",
    "ao_calib"
   ]
  },
  {
   "cell_type": "code",
   "execution_count": 23,
   "metadata": {},
   "outputs": [],
   "source": [
    "# i=1\n",
    "# ### Update auto ownership constants\n",
    "# cali_fac = ao_calib['constants'].drop({1}, axis=0)*damp_fac\n",
    "# ao_coef.loc[97:, 'value'] = np.array(ao_coef.loc[97:, 'value']) + cali_fac.values\n",
    "\n",
    "# ### Save auto ownership constants\n",
    "# ao_coef.to_csv(ao_coef_loc+'/auto_ownership_coefficients_'+str(i)+'.csv', index=False)\n",
    "# ao_coef.to_csv(ao_coef_loc+'/auto_ownership_coefficients.csv', index=False)"
   ]
  },
  {
   "cell_type": "code",
   "execution_count": null,
   "metadata": {},
   "outputs": [],
   "source": []
  },
  {
   "cell_type": "markdown",
   "metadata": {},
   "source": [
    "### Warm Start\n",
    "Edit settings.yaml to resume after and go to write tables"
   ]
  },
  {
   "cell_type": "code",
   "execution_count": 9,
   "metadata": {},
   "outputs": [
    {
     "name": "stdout",
     "output_type": "stream",
     "text": [
      "Iteration - 1\n",
      "Run Time: 0.0 hrs 40.0 mins 27 sec\n",
      "                  census     model     ratio  constants\n",
      "auto_ownership                                         \n",
      "0               0.054026  0.052817  1.022892   0.022633\n",
      "1               0.295868  0.315346  0.938232  -0.063758\n",
      "2               0.398939  0.387497  1.029529   0.029101\n",
      "3               0.160256  0.157842  1.015295   0.015179\n",
      "4               0.090911  0.086498  1.051013   0.049755 \n",
      "\n"
     ]
    }
   ],
   "source": [
    "for i in range(1, 2):\n",
    "    print('Iteration -', i)\n",
    "    \n",
    "    ### Update auto ownership constants\n",
    "    cali_fac = ao_calib['constants'].drop({1}, axis=0)*damp_fac\n",
    "    ao_coef.loc[98:, 'value'] = np.array(ao_coef.loc[98:, 'value']) + cali_fac.values\n",
    "\n",
    "    ### Save auto ownership constants\n",
    "    ao_coef.to_csv(ao_coef_loc+'/auto_ownership_coefficients_'+str(i)+'.csv', index=False)\n",
    "    ao_coef.to_csv(ao_coef_loc+'/auto_ownership_coefficients.csv', index=False)\n",
    "\n",
    "    ### Run ActivitySim\n",
    "    start_time = datetime.datetime.now()\n",
    "    \n",
    "    os.chdir(simpy_dir)\n",
    "    asim_command ='python simulation.py -s ' + settings + ' -c ' + configs_resident + ' -c ' + configs_common + ' -d ' + data + ' -o ' + output_dir\n",
    "    os.system(asim_command)\n",
    "\n",
    "    end_time = datetime.datetime.now()\n",
    "    print_runtime(start_time, end_time)\n",
    "    \n",
    "    ### Read households files\n",
    "    hh_orig = pd.read_csv(output_dir + \"/final_households.csv\")\n",
    "    hh_orig['weights'] = 1/hh_orig['sample_rate']\n",
    "\n",
    "    ### Remove group quarter (gq) households\n",
    "    hh = hh_orig[hh_orig['HHT'].isin([1, 2, 3, 4, 5, 6, 7])]\n",
    "\n",
    "    ### Calculate asim shares\n",
    "    asim_freq = pd.pivot_table(hh, index='auto_ownership', values='weights', aggfunc=np.sum)\n",
    "    asim_share = asim_freq/asim_freq.sum()\n",
    "    asim_share.reset_index(inplace=True)\n",
    "\n",
    "    ### Calculate calibration constants\n",
    "    ao_calib = base_share.rename({'share': 'census'}, axis=1)\n",
    "    ao_calib['model'] = asim_share['weights']\n",
    "    ao_calib['ratio'] = ao_calib['census']/ao_calib['model']\n",
    "    ao_calib['constants'] = np.log(ao_calib['ratio'])\n",
    "\n",
    "    ao_calib.to_csv('C:/abm_runs/rohans/calibration/auto_ownership/calibration run results/ao_calib_summary_'+str(i)+'.csv')\n",
    "    print(ao_calib, '\\n')"
   ]
  },
  {
   "cell_type": "code",
   "execution_count": 11,
   "metadata": {},
   "outputs": [
    {
     "name": "stdout",
     "output_type": "stream",
     "text": [
      "Iteration - 2\n",
      "Run Time: 0.0 hrs 37.0 mins 42 sec\n",
      "                  census     model     ratio  constants\n",
      "auto_ownership                                         \n",
      "0               0.054026  0.053712  1.005844   0.005827\n",
      "1               0.295868  0.309638  0.955529  -0.045490\n",
      "2               0.398939  0.391672  1.018555   0.018385\n",
      "3               0.160256  0.155571  1.030115   0.029671\n",
      "4               0.090911  0.089408  1.016815   0.016675 \n",
      "\n",
      "Iteration - 3\n",
      "Run Time: 0.0 hrs 32.0 mins 48 sec\n",
      "                  census     model     ratio  constants\n",
      "auto_ownership                                         \n",
      "0               0.054026  0.053712  1.005844   0.005827\n",
      "1               0.295868  0.306149  0.966418  -0.034158\n",
      "2               0.398939  0.393179  1.014649   0.014543\n",
      "3               0.160256  0.157956  1.014564   0.014459\n",
      "4               0.090911  0.089004  1.021425   0.021199 \n",
      "\n"
     ]
    }
   ],
   "source": [
    "for i in range(2, 4):\n",
    "    print('Iteration -', i)\n",
    "    \n",
    "    ### Update auto ownership constants\n",
    "    cali_fac = ao_calib['constants'].drop({1}, axis=0)*damp_fac\n",
    "    ao_coef.loc[98:, 'value'] = np.array(ao_coef.loc[98:, 'value']) + cali_fac.values\n",
    "\n",
    "    ### Save auto ownership constants\n",
    "    ao_coef.to_csv(ao_coef_loc+'/auto_ownership_coefficients_'+str(i)+'.csv', index=False)\n",
    "    ao_coef.to_csv(ao_coef_loc+'/auto_ownership_coefficients.csv', index=False)\n",
    "\n",
    "    ### Run ActivitySim\n",
    "    start_time = datetime.datetime.now()\n",
    "    \n",
    "    os.chdir(simpy_dir)\n",
    "    asim_command ='python simulation.py -s ' + settings + ' -c ' + configs_resident + ' -c ' + configs_common + ' -d ' + data + ' -o ' + output_dir\n",
    "    os.system(asim_command)\n",
    "\n",
    "    end_time = datetime.datetime.now()\n",
    "    print_runtime(start_time, end_time)\n",
    "    \n",
    "    ### Read households files\n",
    "    hh_orig = pd.read_csv(output_dir + \"/final_households.csv\")\n",
    "    hh_orig['weights'] = 1/hh_orig['sample_rate']\n",
    "\n",
    "    ### Remove group quarter (gq) households\n",
    "    hh = hh_orig[hh_orig['HHT'].isin([1, 2, 3, 4, 5, 6, 7])]\n",
    "\n",
    "    ### Calculate asim shares\n",
    "    asim_freq = pd.pivot_table(hh, index='auto_ownership', values='weights', aggfunc=np.sum)\n",
    "    asim_share = asim_freq/asim_freq.sum()\n",
    "    asim_share.reset_index(inplace=True)\n",
    "\n",
    "    ### Calculate calibration constants\n",
    "    ao_calib = base_share.rename({'share': 'census'}, axis=1)\n",
    "    ao_calib['model'] = asim_share['weights']\n",
    "    ao_calib['ratio'] = ao_calib['census']/ao_calib['model']\n",
    "    ao_calib['constants'] = np.log(ao_calib['ratio'])\n",
    "\n",
    "    ao_calib.to_csv('C:/abm_runs/rohans/calibration/auto_ownership/calibration run results/ao_calib_summary_'+str(i)+'.csv')\n",
    "    print(ao_calib, '\\n')"
   ]
  },
  {
   "cell_type": "code",
   "execution_count": null,
   "metadata": {},
   "outputs": [],
   "source": []
  },
  {
   "cell_type": "markdown",
   "metadata": {},
   "source": [
    "### Testing"
   ]
  },
  {
   "cell_type": "code",
   "execution_count": null,
   "metadata": {},
   "outputs": [],
   "source": [
    "# i = 1\n",
    "# print('Iteration -', i)\n",
    "    \n",
    "# ### Update auto ownership constants\n",
    "# cali_fac = ao_calib['constants'].drop({1}, axis=0)*damp_fac\n",
    "# ao_coef.loc[98:, 'value'] = np.array(ao_coef.loc[98:, 'value']) + cali_fac.values"
   ]
  },
  {
   "cell_type": "code",
   "execution_count": null,
   "metadata": {},
   "outputs": [],
   "source": [
    "# ### Save auto ownership constants\n",
    "# ao_coef.to_csv(ao_coef_loc+'/auto_ownership_coefficients_'+str(i)+'.csv', index=False)\n",
    "# ao_coef.to_csv(ao_coef_loc+'/auto_ownership_coefficients.csv', index=False)"
   ]
  },
  {
   "cell_type": "code",
   "execution_count": 13,
   "metadata": {},
   "outputs": [
    {
     "name": "stdout",
     "output_type": "stream",
     "text": [
      "Run Time: 0.0 hrs 32.0 mins 25 sec\n"
     ]
    }
   ],
   "source": [
    "# ### Run ActivitySim\n",
    "# start_time = datetime.datetime.now()\n",
    "\n",
    "# os.chdir(simpy_dir)\n",
    "# asim_command ='python simulation.py -s ' + settings + ' -c ' + configs_resident + ' -c ' + configs_common + ' -d ' + data + ' -o ' + output_dir\n",
    "# os.system(asim_command)\n",
    "\n",
    "# end_time = datetime.datetime.now()\n",
    "# print_runtime(start_time, end_time)"
   ]
  },
  {
   "cell_type": "code",
   "execution_count": 14,
   "metadata": {},
   "outputs": [
    {
     "data": {
      "text/html": [
       "<div>\n",
       "<style scoped>\n",
       "    .dataframe tbody tr th:only-of-type {\n",
       "        vertical-align: middle;\n",
       "    }\n",
       "\n",
       "    .dataframe tbody tr th {\n",
       "        vertical-align: top;\n",
       "    }\n",
       "\n",
       "    .dataframe thead th {\n",
       "        text-align: right;\n",
       "    }\n",
       "</style>\n",
       "<table border=\"1\" class=\"dataframe\">\n",
       "  <thead>\n",
       "    <tr style=\"text-align: right;\">\n",
       "      <th></th>\n",
       "      <th>auto_ownership</th>\n",
       "      <th>weights</th>\n",
       "    </tr>\n",
       "  </thead>\n",
       "  <tbody>\n",
       "    <tr>\n",
       "      <th>0</th>\n",
       "      <td>1</td>\n",
       "      <td>0.398707</td>\n",
       "    </tr>\n",
       "    <tr>\n",
       "      <th>1</th>\n",
       "      <td>2</td>\n",
       "      <td>0.372920</td>\n",
       "    </tr>\n",
       "    <tr>\n",
       "      <th>2</th>\n",
       "      <td>3</td>\n",
       "      <td>0.147883</td>\n",
       "    </tr>\n",
       "    <tr>\n",
       "      <th>3</th>\n",
       "      <td>4</td>\n",
       "      <td>0.080490</td>\n",
       "    </tr>\n",
       "  </tbody>\n",
       "</table>\n",
       "</div>"
      ],
      "text/plain": [
       "   auto_ownership   weights\n",
       "0               1  0.398707\n",
       "1               2  0.372920\n",
       "2               3  0.147883\n",
       "3               4  0.080490"
      ]
     },
     "execution_count": 14,
     "metadata": {},
     "output_type": "execute_result"
    }
   ],
   "source": [
    "# ### Read households files\n",
    "# hh = pd.read_csv(output_dir + \"/final_households.csv\")\n",
    "# hh['weights'] = 1/hh['sample_rate']\n",
    "\n",
    "# ### Calculate asim shares\n",
    "# asim_freq = pd.pivot_table(hh, index='auto_ownership', values='weights', aggfunc=np.sum)\n",
    "# asim_share = asim_freq/asim_freq.sum()\n",
    "# asim_share.reset_index(inplace=True)\n",
    "# asim_share"
   ]
  },
  {
   "cell_type": "code",
   "execution_count": null,
   "metadata": {},
   "outputs": [],
   "source": [
    "# ### Calculate calibration constants\n",
    "# ao_calib = base_share.rename({'share': 'census'}, axis=1)\n",
    "# ao_calib['model'] = asim_share['weights']\n",
    "# ao_calib['ratio'] = ao_calib['census']/ao_calib['model']\n",
    "# ao_calib['constants'] = np.log(ao_calib['ratio'])\n",
    "\n",
    "# ao_calib.to_csv('C:/abm_runs/rohans/calibration/auto_ownership/calibration run results/ao_calib_summary_'+str(i)+'.csv')\n",
    "# print(ao_calib, '\\n')"
   ]
  },
  {
   "cell_type": "code",
   "execution_count": null,
   "metadata": {},
   "outputs": [],
   "source": []
  }
 ],
 "metadata": {
  "interpreter": {
   "hash": "e3f79b2c8f03c3912a9a1752447f15ee37a3803b944720cd5a99857629ad6fa8"
  },
  "kernelspec": {
   "display_name": "Python 3 (ipykernel)",
   "language": "python",
   "name": "python3"
  },
  "language_info": {
   "codemirror_mode": {
    "name": "ipython",
    "version": 3
   },
   "file_extension": ".py",
   "mimetype": "text/x-python",
   "name": "python",
   "nbconvert_exporter": "python",
   "pygments_lexer": "ipython3",
   "version": "3.9.16"
  }
 },
 "nbformat": 4,
 "nbformat_minor": 2
}
