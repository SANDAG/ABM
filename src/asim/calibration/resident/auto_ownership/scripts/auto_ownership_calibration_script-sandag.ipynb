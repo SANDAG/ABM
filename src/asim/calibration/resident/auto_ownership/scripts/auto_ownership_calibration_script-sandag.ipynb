{
 "cells": [
  {
   "cell_type": "code",
   "execution_count": 1,
   "metadata": {},
   "outputs": [],
   "source": [
    "import pandas as pd\n",
    "import numpy as np\n",
    "import os\n",
    "import datetime"
   ]
  },
  {
   "cell_type": "code",
   "execution_count": 2,
   "metadata": {},
   "outputs": [],
   "source": [
    "### Run Time Function\n",
    "def print_runtime(t1, t2):\n",
    "    tot_sec = t2.timestamp()-t1.timestamp()\n",
    "    hours = tot_sec//3600\n",
    "    minutes = (tot_sec-hours*3600)//60\n",
    "    seconds = tot_sec-hours*3600-minutes*60\n",
    "\n",
    "    print(\"Run Time:\", hours, 'hrs', minutes, 'mins', round(seconds), \"sec\")\n",
    "    \n",
    "    return"
   ]
  },
  {
   "cell_type": "code",
   "execution_count": 3,
   "metadata": {},
   "outputs": [],
   "source": [
    "### Directory of the simulation.py file\n",
    "simpy_dir = r'C:/abm_runs/rohans'\n",
    "\n",
    "### Location of Configs\n",
    "settings = r'C:/abm_runs/rohans/configs/resident/settings_mp.yaml'\n",
    "configs_resident = r'C:/abm_runs/rohans/configs/resident'\n",
    "configs_common = r'C:/abm_runs/rohans/configs/common'\n",
    "\n",
    "### Location of auto_ownership_coefficients\n",
    "ao_coef_loc = r'C:/abm_runs/rohans/configs/resident'\n",
    "\n",
    "### Location of AO targets\n",
    "base_target_loc = r'C:/abm_runs/rohans/ao_calibration/targets/ao_targets_2021.csv'\n",
    "\n",
    "### Location of Input and Output data\n",
    "data = r'C:/abm_runs/rohans/input'\n",
    "output_dir = r'C:/abm_runs/rohans/output'"
   ]
  },
  {
   "cell_type": "code",
   "execution_count": 4,
   "metadata": {},
   "outputs": [
    {
     "data": {
      "text/html": [
       "<div>\n",
       "<style scoped>\n",
       "    .dataframe tbody tr th:only-of-type {\n",
       "        vertical-align: middle;\n",
       "    }\n",
       "\n",
       "    .dataframe tbody tr th {\n",
       "        vertical-align: top;\n",
       "    }\n",
       "\n",
       "    .dataframe thead th {\n",
       "        text-align: right;\n",
       "    }\n",
       "</style>\n",
       "<table border=\"1\" class=\"dataframe\">\n",
       "  <thead>\n",
       "    <tr style=\"text-align: right;\">\n",
       "      <th></th>\n",
       "      <th>share</th>\n",
       "    </tr>\n",
       "    <tr>\n",
       "      <th>auto_ownership</th>\n",
       "      <th></th>\n",
       "    </tr>\n",
       "  </thead>\n",
       "  <tbody>\n",
       "    <tr>\n",
       "      <th>0</th>\n",
       "      <td>0.054026</td>\n",
       "    </tr>\n",
       "    <tr>\n",
       "      <th>1</th>\n",
       "      <td>0.295868</td>\n",
       "    </tr>\n",
       "    <tr>\n",
       "      <th>2</th>\n",
       "      <td>0.398939</td>\n",
       "    </tr>\n",
       "    <tr>\n",
       "      <th>3</th>\n",
       "      <td>0.160256</td>\n",
       "    </tr>\n",
       "    <tr>\n",
       "      <th>4</th>\n",
       "      <td>0.090911</td>\n",
       "    </tr>\n",
       "  </tbody>\n",
       "</table>\n",
       "</div>"
      ],
      "text/plain": [
       "                   share\n",
       "auto_ownership          \n",
       "0               0.054026\n",
       "1               0.295868\n",
       "2               0.398939\n",
       "3               0.160256\n",
       "4               0.090911"
      ]
     },
     "execution_count": 4,
     "metadata": {},
     "output_type": "execute_result"
    }
   ],
   "source": [
    "### Define dampening or enhancing factor\n",
    "damp_fac = 1.5\n",
    "\n",
    "### Read in base targets/frequency\n",
    "base_share = pd.read_csv(base_target_loc, index_col=0)\n",
    "base_share"
   ]
  },
  {
   "cell_type": "code",
   "execution_count": null,
   "metadata": {},
   "outputs": [],
   "source": []
  },
  {
   "cell_type": "markdown",
   "metadata": {},
   "source": [
    "### Cold Start: \n",
    "Run ActivitySim up to joint tour composition model by editing settings.yaml"
   ]
  },
  {
   "cell_type": "code",
   "execution_count": 19,
   "metadata": {},
   "outputs": [],
   "source": [
    "i = 0\n",
    "### Read and backup existing auto_ownership_coefficients\n",
    "ao_coef = pd.read_csv(ao_coef_loc+'/auto_ownership_coefficients.csv')\n",
    "ao_coef.to_csv(ao_coef_loc+'/auto_ownership_coefficients_'+str(i)+'.csv', index=False)"
   ]
  },
  {
   "cell_type": "code",
   "execution_count": 5,
   "metadata": {},
   "outputs": [
    {
     "data": {
      "text/plain": [
       "0"
      ]
     },
     "execution_count": 5,
     "metadata": {},
     "output_type": "execute_result"
    }
   ],
   "source": [
    "start_time = datetime.datetime.now()\n",
    "\n",
    "#Run ActivitySim\n",
    "os.chdir(simpy_dir)\n",
    "asim_command ='python simulation.py -s ' + settings + ' -c ' + configs_resident + ' -c ' + configs_common + ' -d ' + data + ' -o ' + output_dir\n",
    "\n",
    "os.system(asim_command)"
   ]
  },
  {
   "cell_type": "code",
   "execution_count": 6,
   "metadata": {},
   "outputs": [
    {
     "name": "stdout",
     "output_type": "stream",
     "text": [
      "Run Time: 1.0 hrs 30.0 mins 36 sec\n"
     ]
    }
   ],
   "source": [
    "end_time = datetime.datetime.now()\n",
    "print_runtime(start_time, end_time)"
   ]
  },
  {
   "cell_type": "code",
   "execution_count": null,
   "metadata": {},
   "outputs": [],
   "source": []
  },
  {
   "cell_type": "code",
   "execution_count": 22,
   "metadata": {},
   "outputs": [
    {
     "data": {
      "text/html": [
       "<div>\n",
       "<style scoped>\n",
       "    .dataframe tbody tr th:only-of-type {\n",
       "        vertical-align: middle;\n",
       "    }\n",
       "\n",
       "    .dataframe tbody tr th {\n",
       "        vertical-align: top;\n",
       "    }\n",
       "\n",
       "    .dataframe thead th {\n",
       "        text-align: right;\n",
       "    }\n",
       "</style>\n",
       "<table border=\"1\" class=\"dataframe\">\n",
       "  <thead>\n",
       "    <tr style=\"text-align: right;\">\n",
       "      <th></th>\n",
       "      <th>census</th>\n",
       "      <th>model</th>\n",
       "      <th>ratio</th>\n",
       "      <th>constants</th>\n",
       "    </tr>\n",
       "    <tr>\n",
       "      <th>auto_ownership</th>\n",
       "      <th></th>\n",
       "      <th></th>\n",
       "      <th></th>\n",
       "      <th></th>\n",
       "    </tr>\n",
       "  </thead>\n",
       "  <tbody>\n",
       "    <tr>\n",
       "      <th>0</th>\n",
       "      <td>0.054026</td>\n",
       "      <td>0.134283</td>\n",
       "      <td>0.402328</td>\n",
       "      <td>-0.910487</td>\n",
       "    </tr>\n",
       "    <tr>\n",
       "      <th>1</th>\n",
       "      <td>0.295868</td>\n",
       "      <td>0.300773</td>\n",
       "      <td>0.983691</td>\n",
       "      <td>-0.016444</td>\n",
       "    </tr>\n",
       "    <tr>\n",
       "      <th>2</th>\n",
       "      <td>0.398939</td>\n",
       "      <td>0.354860</td>\n",
       "      <td>1.124215</td>\n",
       "      <td>0.117085</td>\n",
       "    </tr>\n",
       "    <tr>\n",
       "      <th>3</th>\n",
       "      <td>0.160256</td>\n",
       "      <td>0.131713</td>\n",
       "      <td>1.216703</td>\n",
       "      <td>0.196145</td>\n",
       "    </tr>\n",
       "    <tr>\n",
       "      <th>4</th>\n",
       "      <td>0.090911</td>\n",
       "      <td>0.078370</td>\n",
       "      <td>1.160023</td>\n",
       "      <td>0.148440</td>\n",
       "    </tr>\n",
       "  </tbody>\n",
       "</table>\n",
       "</div>"
      ],
      "text/plain": [
       "                  census     model     ratio  constants\n",
       "auto_ownership                                         \n",
       "0               0.054026  0.134283  0.402328  -0.910487\n",
       "1               0.295868  0.300773  0.983691  -0.016444\n",
       "2               0.398939  0.354860  1.124215   0.117085\n",
       "3               0.160256  0.131713  1.216703   0.196145\n",
       "4               0.090911  0.078370  1.160023   0.148440"
      ]
     },
     "execution_count": 22,
     "metadata": {},
     "output_type": "execute_result"
    }
   ],
   "source": [
    "### Read households files\n",
    "hh = pd.read_csv(output_dir + \"/final_households.csv\")\n",
    "hh['weights'] = 1/hh['sample_rate']\n",
    "\n",
    "### Calculate asim shares\n",
    "asim_freq = pd.pivot_table(hh, index='auto_ownership', values='weights', aggfunc=np.sum)\n",
    "asim_share = asim_freq/asim_freq.sum()\n",
    "# asim_share.reset_index(inplace=True)\n",
    "\n",
    "### Calculate calibration constants\n",
    "ao_calib = base_share.rename({'share': 'census'}, axis=1)\n",
    "ao_calib['model'] = asim_share['weights']\n",
    "ao_calib['ratio'] = ao_calib['census']/ao_calib['model']\n",
    "ao_calib['constants'] = np.log(ao_calib['ratio'])\n",
    "\n",
    "ao_calib.to_csv('C:/abm_runs/rohans/ao_calibration/ao_calib_summary_'+str(i)+'.csv')\n",
    "ao_calib"
   ]
  },
  {
   "cell_type": "code",
   "execution_count": 23,
   "metadata": {},
   "outputs": [],
   "source": [
    "# i=1\n",
    "# ### Update auto ownership constants\n",
    "# cali_fac = ao_calib['constants'].drop({1}, axis=0)*damp_fac\n",
    "# ao_coef.loc[97:, 'value'] = np.array(ao_coef.loc[97:, 'value']) + cali_fac.values\n",
    "\n",
    "# ### Save auto ownership constants\n",
    "# ao_coef.to_csv(ao_coef_loc+'/auto_ownership_coefficients_'+str(i)+'.csv', index=False)\n",
    "# ao_coef.to_csv(ao_coef_loc+'/auto_ownership_coefficients.csv', index=False)"
   ]
  },
  {
   "cell_type": "code",
   "execution_count": null,
   "metadata": {},
   "outputs": [],
   "source": []
  },
  {
   "cell_type": "markdown",
   "metadata": {},
   "source": [
    "### Warm Start\n",
    "Edit settings.yaml to resume after and go to write tables"
   ]
  },
  {
   "cell_type": "code",
   "execution_count": 24,
   "metadata": {},
   "outputs": [
    {
     "name": "stdout",
     "output_type": "stream",
     "text": [
      "Iteration - 1\n",
      "Run Time: 0.0 hrs 31.0 mins 14 sec\n",
      "                  census     model     ratio  constants\n",
      "auto_ownership                                         \n",
      "0               0.054026  0.077490  0.697200  -0.360683\n",
      "1               0.295868  0.325457  0.909086  -0.095316\n",
      "2               0.398939  0.369540  1.079556   0.076550\n",
      "3               0.160256  0.147270  1.088178   0.084505\n",
      "4               0.090911  0.080243  1.132941   0.124817 \n",
      "\n"
     ]
    }
   ],
   "source": [
    "for i in range(1, 2):\n",
    "    print('Iteration -', i)\n",
    "    \n",
    "    ### Update auto ownership constants\n",
    "    cali_fac = ao_calib['constants'].drop({1}, axis=0)*damp_fac\n",
    "    ao_coef.loc[98:, 'value'] = np.array(ao_coef.loc[98:, 'value']) + cali_fac.values\n",
    "\n",
    "    ### Save auto ownership constants\n",
    "    ao_coef.to_csv(ao_coef_loc+'/auto_ownership_coefficients_'+str(i)+'.csv', index=False)\n",
    "    ao_coef.to_csv(ao_coef_loc+'/auto_ownership_coefficients.csv', index=False)\n",
    "\n",
    "    ### Run ActivitySim\n",
    "    start_time = datetime.datetime.now()\n",
    "    \n",
    "    os.chdir(simpy_dir)\n",
    "    asim_command ='python simulation.py -s ' + settings + ' -c ' + configs_resident + ' -c ' + configs_common + ' -d ' + data + ' -o ' + output_dir\n",
    "    os.system(asim_command)\n",
    "\n",
    "    end_time = datetime.datetime.now()\n",
    "    print_runtime(start_time, end_time)\n",
    "    \n",
    "    ### Read households files\n",
    "    hh = pd.read_csv(output_dir + \"/final_households.csv\")\n",
    "    hh['weights'] = 1/hh['sample_rate']\n",
    "\n",
    "    ### Calculate asim shares\n",
    "    asim_freq = pd.pivot_table(hh, index='auto_ownership', values='weights', aggfunc=np.sum)\n",
    "    asim_share = asim_freq/asim_freq.sum()\n",
    "    asim_share.reset_index(inplace=True)\n",
    "\n",
    "    ### Calculate calibration constants\n",
    "    ao_calib = base_share.rename({'share': 'census'}, axis=1)\n",
    "    ao_calib['model'] = asim_share['weights']\n",
    "    ao_calib['ratio'] = ao_calib['census']/ao_calib['model']\n",
    "    ao_calib['constants'] = np.log(ao_calib['ratio'])\n",
    "\n",
    "    ao_calib.to_csv('C:/abm_runs/rohans/ao_calibration/ao_calib_summary_'+str(i)+'.csv')\n",
    "    print(ao_calib, '\\n')"
   ]
  },
  {
   "cell_type": "code",
   "execution_count": 25,
   "metadata": {},
   "outputs": [
    {
     "name": "stdout",
     "output_type": "stream",
     "text": [
      "Iteration - 2\n",
      "Run Time: 0.0 hrs 31.0 mins 0 sec\n",
      "                  census     model     ratio  constants\n",
      "auto_ownership                                         \n",
      "0               0.054026  0.061243  0.882153  -0.125390\n",
      "1               0.295868  0.327013  0.904758  -0.100088\n",
      "2               0.398939  0.377610  1.056484   0.054947\n",
      "3               0.160256  0.149083  1.074942   0.072267\n",
      "4               0.090911  0.085050  1.068912   0.066642 \n",
      "\n",
      "Iteration - 3\n",
      "Run Time: 0.0 hrs 30.0 mins 54 sec\n",
      "                  census     model     ratio  constants\n",
      "auto_ownership                                         \n",
      "0               0.054026  0.056067  0.963603  -0.037076\n",
      "1               0.295868  0.322543  0.917297  -0.086324\n",
      "2               0.398939  0.382630  1.042623   0.041740\n",
      "3               0.160256  0.152773  1.048979   0.047817\n",
      "4               0.090911  0.085987  1.057269   0.055689 \n",
      "\n",
      "Iteration - 4\n",
      "Run Time: 0.0 hrs 30.0 mins 53 sec\n",
      "                  census     model     ratio  constants\n",
      "auto_ownership                                         \n",
      "0               0.054026  0.054427  0.992638  -0.007389\n",
      "1               0.295868  0.317180  0.932808  -0.069556\n",
      "2               0.398939  0.386523  1.032121   0.031616\n",
      "3               0.160256  0.154397  1.037950   0.037247\n",
      "4               0.090911  0.087473  1.039300   0.038547 \n",
      "\n"
     ]
    }
   ],
   "source": [
    "for i in range(2, 5):\n",
    "    print('Iteration -', i)\n",
    "    \n",
    "    ### Update auto ownership constants\n",
    "    cali_fac = ao_calib['constants'].drop({1}, axis=0)*damp_fac\n",
    "    ao_coef.loc[98:, 'value'] = np.array(ao_coef.loc[98:, 'value']) + cali_fac.values\n",
    "\n",
    "    ### Save auto ownership constants\n",
    "    ao_coef.to_csv(ao_coef_loc+'/auto_ownership_coefficients_'+str(i)+'.csv', index=False)\n",
    "    ao_coef.to_csv(ao_coef_loc+'/auto_ownership_coefficients.csv', index=False)\n",
    "\n",
    "    ### Run ActivitySim\n",
    "    start_time = datetime.datetime.now()\n",
    "    \n",
    "    os.chdir(simpy_dir)\n",
    "    asim_command ='python simulation.py -s ' + settings + ' -c ' + configs_resident + ' -c ' + configs_common + ' -d ' + data + ' -o ' + output_dir\n",
    "    os.system(asim_command)\n",
    "\n",
    "    end_time = datetime.datetime.now()\n",
    "    print_runtime(start_time, end_time)\n",
    "    \n",
    "    ### Read households files\n",
    "    hh = pd.read_csv(output_dir + \"/final_households.csv\")\n",
    "    hh['weights'] = 1/hh['sample_rate']\n",
    "\n",
    "    ### Calculate asim shares\n",
    "    asim_freq = pd.pivot_table(hh, index='auto_ownership', values='weights', aggfunc=np.sum)\n",
    "    asim_share = asim_freq/asim_freq.sum()\n",
    "    asim_share.reset_index(inplace=True)\n",
    "\n",
    "    ### Calculate calibration constants\n",
    "    ao_calib = base_share.rename({'share': 'census'}, axis=1)\n",
    "    ao_calib['model'] = asim_share['weights']\n",
    "    ao_calib['ratio'] = ao_calib['census']/ao_calib['model']\n",
    "    ao_calib['constants'] = np.log(ao_calib['ratio'])\n",
    "\n",
    "    ao_calib.to_csv('C:/abm_runs/rohans/ao_calibration/ao_calib_summary_'+str(i)+'.csv')\n",
    "    print(ao_calib, '\\n')"
   ]
  },
  {
   "cell_type": "code",
   "execution_count": 26,
   "metadata": {},
   "outputs": [
    {
     "name": "stdout",
     "output_type": "stream",
     "text": [
      "Iteration - 5\n",
      "Run Time: 0.0 hrs 31.0 mins 5 sec\n",
      "                  census     model     ratio  constants\n",
      "auto_ownership                                         \n",
      "0               0.054026  0.054047  0.999618  -0.000382\n",
      "1               0.295868  0.312520  0.946717  -0.054755\n",
      "2               0.398939  0.389383  1.024541   0.024244\n",
      "3               0.160256  0.155880  1.028073   0.027686\n",
      "4               0.090911  0.088170  1.031088   0.030614 \n",
      "\n",
      "Iteration - 6\n",
      "Run Time: 0.0 hrs 31.0 mins 17 sec\n",
      "                  census     model     ratio  constants\n",
      "auto_ownership                                         \n",
      "0               0.054026  0.053960  1.001223   0.001222\n",
      "1               0.295868  0.308920  0.957750  -0.043169\n",
      "2               0.398939  0.391377  1.019322   0.019138\n",
      "3               0.160256  0.156833  1.021824   0.021589\n",
      "4               0.090911  0.088910  1.022506   0.022256 \n",
      "\n",
      "Iteration - 7\n",
      "Run Time: 0.0 hrs 31.0 mins 51 sec\n",
      "                  census     model     ratio  constants\n",
      "auto_ownership                                         \n",
      "0               0.054026  0.053960  1.001223   0.001222\n",
      "1               0.295868  0.305913  0.967163  -0.033388\n",
      "2               0.398939  0.393253  1.014458   0.014355\n",
      "3               0.160256  0.157547  1.017197   0.017051\n",
      "4               0.090911  0.089327  1.017736   0.017581 \n",
      "\n"
     ]
    }
   ],
   "source": [
    "for i in range(5, 8):\n",
    "    print('Iteration -', i)\n",
    "    \n",
    "    ### Update auto ownership constants\n",
    "    cali_fac = ao_calib['constants'].drop({1}, axis=0)*damp_fac\n",
    "    ao_coef.loc[98:, 'value'] = np.array(ao_coef.loc[98:, 'value']) + cali_fac.values\n",
    "\n",
    "    ### Save auto ownership constants\n",
    "    ao_coef.to_csv(ao_coef_loc+'/auto_ownership_coefficients_'+str(i)+'.csv', index=False)\n",
    "    ao_coef.to_csv(ao_coef_loc+'/auto_ownership_coefficients.csv', index=False)\n",
    "\n",
    "    ### Run ActivitySim\n",
    "    start_time = datetime.datetime.now()\n",
    "    \n",
    "    os.chdir(simpy_dir)\n",
    "    asim_command ='python simulation.py -s ' + settings + ' -c ' + configs_resident + ' -c ' + configs_common + ' -d ' + data + ' -o ' + output_dir\n",
    "    os.system(asim_command)\n",
    "\n",
    "    end_time = datetime.datetime.now()\n",
    "    print_runtime(start_time, end_time)\n",
    "    \n",
    "    ### Read households files\n",
    "    hh = pd.read_csv(output_dir + \"/final_households.csv\")\n",
    "    hh['weights'] = 1/hh['sample_rate']\n",
    "\n",
    "    ### Calculate asim shares\n",
    "    asim_freq = pd.pivot_table(hh, index='auto_ownership', values='weights', aggfunc=np.sum)\n",
    "    asim_share = asim_freq/asim_freq.sum()\n",
    "    asim_share.reset_index(inplace=True)\n",
    "\n",
    "    ### Calculate calibration constants\n",
    "    ao_calib = base_share.rename({'share': 'census'}, axis=1)\n",
    "    ao_calib['model'] = asim_share['weights']\n",
    "    ao_calib['ratio'] = ao_calib['census']/ao_calib['model']\n",
    "    ao_calib['constants'] = np.log(ao_calib['ratio'])\n",
    "\n",
    "    ao_calib.to_csv('C:/abm_runs/rohans/ao_calibration/ao_calib_summary_'+str(i)+'.csv')\n",
    "    print(ao_calib, '\\n')"
   ]
  },
  {
   "cell_type": "code",
   "execution_count": null,
   "metadata": {},
   "outputs": [],
   "source": []
  },
  {
   "cell_type": "markdown",
   "metadata": {},
   "source": [
    "### Testing"
   ]
  },
  {
   "cell_type": "code",
   "execution_count": null,
   "metadata": {},
   "outputs": [],
   "source": [
    "# i = 1\n",
    "# print('Iteration -', i)\n",
    "    \n",
    "# ### Update auto ownership constants\n",
    "# cali_fac = ao_calib['constants'].drop({1}, axis=0)*damp_fac\n",
    "# ao_coef.loc[98:, 'value'] = np.array(ao_coef.loc[98:, 'value']) + cali_fac.values"
   ]
  },
  {
   "cell_type": "code",
   "execution_count": null,
   "metadata": {},
   "outputs": [],
   "source": [
    "# ### Save auto ownership constants\n",
    "# ao_coef.to_csv(ao_coef_loc+'/auto_ownership_coefficients_'+str(i)+'.csv', index=False)\n",
    "# ao_coef.to_csv(ao_coef_loc+'/auto_ownership_coefficients.csv', index=False)"
   ]
  },
  {
   "cell_type": "code",
   "execution_count": 13,
   "metadata": {},
   "outputs": [
    {
     "name": "stdout",
     "output_type": "stream",
     "text": [
      "Run Time: 0.0 hrs 32.0 mins 25 sec\n"
     ]
    }
   ],
   "source": [
    "# ### Run ActivitySim\n",
    "# start_time = datetime.datetime.now()\n",
    "\n",
    "# os.chdir(simpy_dir)\n",
    "# asim_command ='python simulation.py -s ' + settings + ' -c ' + configs_resident + ' -c ' + configs_common + ' -d ' + data + ' -o ' + output_dir\n",
    "# os.system(asim_command)\n",
    "\n",
    "# end_time = datetime.datetime.now()\n",
    "# print_runtime(start_time, end_time)"
   ]
  },
  {
   "cell_type": "code",
   "execution_count": 14,
   "metadata": {},
   "outputs": [
    {
     "data": {
      "text/html": [
       "<div>\n",
       "<style scoped>\n",
       "    .dataframe tbody tr th:only-of-type {\n",
       "        vertical-align: middle;\n",
       "    }\n",
       "\n",
       "    .dataframe tbody tr th {\n",
       "        vertical-align: top;\n",
       "    }\n",
       "\n",
       "    .dataframe thead th {\n",
       "        text-align: right;\n",
       "    }\n",
       "</style>\n",
       "<table border=\"1\" class=\"dataframe\">\n",
       "  <thead>\n",
       "    <tr style=\"text-align: right;\">\n",
       "      <th></th>\n",
       "      <th>auto_ownership</th>\n",
       "      <th>weights</th>\n",
       "    </tr>\n",
       "  </thead>\n",
       "  <tbody>\n",
       "    <tr>\n",
       "      <th>0</th>\n",
       "      <td>1</td>\n",
       "      <td>0.398707</td>\n",
       "    </tr>\n",
       "    <tr>\n",
       "      <th>1</th>\n",
       "      <td>2</td>\n",
       "      <td>0.372920</td>\n",
       "    </tr>\n",
       "    <tr>\n",
       "      <th>2</th>\n",
       "      <td>3</td>\n",
       "      <td>0.147883</td>\n",
       "    </tr>\n",
       "    <tr>\n",
       "      <th>3</th>\n",
       "      <td>4</td>\n",
       "      <td>0.080490</td>\n",
       "    </tr>\n",
       "  </tbody>\n",
       "</table>\n",
       "</div>"
      ],
      "text/plain": [
       "   auto_ownership   weights\n",
       "0               1  0.398707\n",
       "1               2  0.372920\n",
       "2               3  0.147883\n",
       "3               4  0.080490"
      ]
     },
     "execution_count": 14,
     "metadata": {},
     "output_type": "execute_result"
    }
   ],
   "source": [
    "# ### Read households files\n",
    "# hh = pd.read_csv(output_dir + \"/final_households.csv\")\n",
    "# hh['weights'] = 1/hh['sample_rate']\n",
    "\n",
    "# ### Calculate asim shares\n",
    "# asim_freq = pd.pivot_table(hh, index='auto_ownership', values='weights', aggfunc=np.sum)\n",
    "# asim_share = asim_freq/asim_freq.sum()\n",
    "# asim_share.reset_index(inplace=True)\n",
    "# asim_share"
   ]
  },
  {
   "cell_type": "code",
   "execution_count": null,
   "metadata": {},
   "outputs": [],
   "source": [
    "# ### Calculate calibration constants\n",
    "# ao_calib = base_share.rename({'share': 'census'}, axis=1)\n",
    "# ao_calib['model'] = asim_share['weights']\n",
    "# ao_calib['ratio'] = ao_calib['census']/ao_calib['model']\n",
    "# ao_calib['constants'] = np.log(ao_calib['ratio'])\n",
    "\n",
    "# ao_calib.to_csv('C:/abm_runs/rohans/ao_calibration/ao_calib_summary_'+str(i)+'.csv')\n",
    "# print(ao_calib, '\\n')"
   ]
  },
  {
   "cell_type": "code",
   "execution_count": null,
   "metadata": {},
   "outputs": [],
   "source": []
  }
 ],
 "metadata": {
  "interpreter": {
   "hash": "e3f79b2c8f03c3912a9a1752447f15ee37a3803b944720cd5a99857629ad6fa8"
  },
  "kernelspec": {
   "display_name": "Python 3 (ipykernel)",
   "language": "python",
   "name": "python3"
  },
  "language_info": {
   "codemirror_mode": {
    "name": "ipython",
    "version": 3
   },
   "file_extension": ".py",
   "mimetype": "text/x-python",
   "name": "python",
   "nbconvert_exporter": "python",
   "pygments_lexer": "ipython3",
   "version": "3.9.16"
  }
 },
 "nbformat": 4,
 "nbformat_minor": 2
}
