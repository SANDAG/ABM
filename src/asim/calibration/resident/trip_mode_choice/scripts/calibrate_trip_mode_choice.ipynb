{
 "cells": [
  {
   "cell_type": "markdown",
   "metadata": {},
   "source": [
    "## Calibrating Trip Mode Choice\n",
    "This script will iteratively perform updates to the trip mode choice coefficients config file in order to match model outputs to calibration targets."
   ]
  },
  {
   "cell_type": "markdown",
   "metadata": {},
   "source": [
    "### Load Libraries"
   ]
  },
  {
   "cell_type": "code",
   "execution_count": 1,
   "metadata": {
    "scrolled": false
   },
   "outputs": [
    {
     "name": "stdout",
     "output_type": "stream",
     "text": [
      "No problems found in input dictionaries\n"
     ]
    }
   ],
   "source": [
    "import pandas as pd\n",
    "import numpy as np\n",
    "import os\n",
    "# import matplotlib\n",
    "import matplotlib.pyplot as plt\n",
    "import seaborn as sns\n",
    "sns.set()\n",
    "\n",
    "from IPython.display import display\n",
    "import importlib\n",
    "import asim_trip_calib_util\n",
    "importlib.reload(asim_trip_calib_util)\n",
    "# from asim_trip_calib_util import *\n",
    "# check to make sure the dictionaries specifying names for calibration targets and activitysim outputs are consistent\n",
    "asim_trip_calib_util.check_input_dictionaries_for_consistency()"
   ]
  },
  {
   "cell_type": "markdown",
   "metadata": {},
   "source": [
    "### Required Inputs\n",
    "This script requires a working version of ActivitySim installed in the conda environment.  Input data sources are:\n",
    "* Initial model output directory that includes household, tour and trip files\n",
    "* trip mode choice calibration target tables. Tables should be indexed by trip mode and columns should be tour mode.  Tables should be broken down by tour purpose\n",
    "* Model config directory containing the trip mode choice coefficients\n",
    "\n",
    "Changes in tour, trip modes and purposes can be implemented by changing the dictionaries at the top of asim_trip_calib_util_CMAP.py"
   ]
  },
  {
   "cell_type": "code",
   "execution_count": 2,
   "metadata": {},
   "outputs": [],
   "source": [
    "# csv file containing calibration targets by tour mode choice.\n",
    "# Column names and acceptable values should be set in dict at top of script\n",
    "trip_mode_choice_calib_targets_file = r\"C:\\abm_runs\\rohans\\calibration\\trip_mc\\targets\\trip_mode_choice_calibration_targets_2024-01-23_updated.csv\"\n",
    "\n",
    "# directory of the simulation.py file\n",
    "simpy_dir = r\"C:\\abm_runs\\rohans\"\n",
    "\n",
    "# location of configuration files\n",
    "settings_dir = r\"C:\\abm_runs\\rohans\\configs\\resident\\settings_mp.yaml\"\n",
    "configs_resident_dir = r\"C:\\abm_runs\\rohans\\configs\\resident\"\n",
    "configs_common_dir = r\"C:\\abm_runs\\rohans\\configs\\common\"\n",
    "\n",
    "warm_start_settings_mp_file = r\"C:\\abm_runs\\rohans\\calibration\\trip_mc\\scripts\\settings_mp_warm_start.yaml\"\n",
    "cold_start_settings_mp_file = r\"C:\\abm_runs\\rohans\\calibration\\trip_mc\\scripts\\settings_mp_cold_start.yaml\"\n",
    "trip_mc_coef_file = None \n",
    "\n",
    "# input data location\n",
    "data_dir = r\"C:\\abm_runs\\rohans\\input_2022\"\n",
    "\n",
    "# output location\n",
    "output_dir = r\"C:\\abm_runs\\rohans\\calibration\\trip_mc\\output\\calibration_output_an_iter_cold\"\n",
    "activitysim_run_dir = r\"C:\\abm_runs\\rohans\\calibration\\trip_mc\\output\\activitysim_run_dir\"\n",
    "\n",
    "# calibration iterations\n",
    "calibration_iterations_to_run = 5\n",
    "\n",
    "# want to do intial model run first?\n",
    "want_to_do_initial_model_run = True  # True or False\n",
    "\n",
    "# calibration settings\n",
    "max_ASC_adjust = 5 # maximum allowed adjustment per iteration\n",
    "damping_factor = 1 # constant multiplied to all adjustments\n",
    "adjust_when_zero_counts = 2 # coefficient change when have target counts but no model counts (or vise-versa)\n"
   ]
  },
  {
   "cell_type": "markdown",
   "metadata": {},
   "source": [
    "--------------- User should not have to change anything below this line ----------------------"
   ]
  },
  {
   "cell_type": "markdown",
   "metadata": {},
   "source": [
    "## Initial Model Run"
   ]
  },
  {
   "cell_type": "code",
   "execution_count": 3,
   "metadata": {},
   "outputs": [],
   "source": [
    "### Change directory to model setup\n",
    "### i.e. the location of simulation.py script\n",
    "os.chdir(simpy_dir)"
   ]
  },
  {
   "cell_type": "code",
   "execution_count": 9,
   "metadata": {},
   "outputs": [
    {
     "name": "stdout",
     "output_type": "stream",
     "text": [
      "ActivitySim run started at:  2024-05-16 14:45:16.374744\n",
      "python simulation.py -s C:\\abm_runs\\rohans\\calibration\\trip_mc\\scripts\\settings_mp_cold_start.yaml -c C:\\abm_runs\\rohans\\calibration\\trip_mc\\output\\activitysim_run_dir\\configs -c C:\\abm_runs\\rohans\\configs\\common -d C:\\abm_runs\\rohans\\input_2022 -o C:\\abm_runs\\rohans\\calibration\\trip_mc\\output\\activitysim_run_dir\n",
      "ActivitySim ended at 2024-05-16 19:11:18.495818\n",
      "Run Time:  15962.12 secs =  266.03533333333337  mins\n"
     ]
    }
   ],
   "source": [
    "if want_to_do_initial_model_run:\n",
    "    asim_trip_calib_util.run_activitysim(\n",
    "        data_dir=data_dir,  # data inputs for ActivitySim\n",
    "        configs_resident_dir=configs_resident_dir,  # these files are copied to the config section of the run directory\n",
    "        configs_common_dir=configs_common_dir,  # these files are copied to the config section of the run directory\n",
    "        run_dir=activitysim_run_dir,  # ActivitySim run directory\n",
    "        output_dir=output_dir,  # location to store run model outputs\n",
    "        settings_file=cold_start_settings_mp_file,  # optional: ActivitySim settings.yaml to replace the one in configs_dir\n",
    "        trip_mc_coef_file=trip_mc_coef_file  # optional: trip_mode_choice_coefficients.csv to replace the one in configs_dir\n",
    "    )\n",
    "    \n",
    "    # _ = asim_trip_calib_util.perform_trip_mode_choice_model_calibration(\n",
    "    #     asim_output_dir=output_dir, # folder containing the activitysim model output\n",
    "    #     asim_configs_dir=os.path.join(activitysim_run_dir, 'configs'),  # folder containing activitysim trip mode choice config files\n",
    "    #     trip_mode_choice_calib_targets_file=trip_mode_choice_calib_targets_file,  # folder containing trip mode choice calibration tables\n",
    "    #     max_ASC_adjust=max_ASC_adjust,  \n",
    "    #     damping_factor=damping_factor,  # constant multiplied to all adjustments\n",
    "    #     adjust_when_zero_counts=adjust_when_zero_counts,\n",
    "    #     output_dir=output_dir,  # location to write model calibration steps\n",
    "    # )\n",
    "    # trip_mc_coef_file = os.path.join(output_dir, 'trip_mode_choice_coefficients.csv') \n",
    "else:\n",
    "    print(\"No initial model run performed.\")\n",
    "    "
   ]
  },
  {
   "cell_type": "code",
   "execution_count": 10,
   "metadata": {},
   "outputs": [
    {
     "name": "stdout",
     "output_type": "stream",
     "text": [
      "Sample rate of  1 results in  12523739 out of 12523739 tours\n"
     ]
    },
    {
     "ename": "FileNotFoundError",
     "evalue": "[Errno 2] No such file or directory: 'C:\\\\abm_runs\\\\rohans\\\\calibration\\\\trip_mc\\\\output\\\\activitysim_run_dir\\\\configs\\\\trip_mode_choice_coefficients.csv'",
     "output_type": "error",
     "traceback": [
      "\u001b[1;31m---------------------------------------------------------------------------\u001b[0m",
      "\u001b[1;31mFileNotFoundError\u001b[0m                         Traceback (most recent call last)",
      "Input \u001b[1;32mIn [10]\u001b[0m, in \u001b[0;36m<cell line: 1>\u001b[1;34m()\u001b[0m\n\u001b[1;32m----> 1\u001b[0m _ \u001b[38;5;241m=\u001b[39m \u001b[43masim_trip_calib_util\u001b[49m\u001b[38;5;241;43m.\u001b[39;49m\u001b[43mperform_trip_mode_choice_model_calibration\u001b[49m\u001b[43m(\u001b[49m\n\u001b[0;32m      2\u001b[0m \u001b[43m        \u001b[49m\u001b[43masim_output_dir\u001b[49m\u001b[38;5;241;43m=\u001b[39;49m\u001b[43moutput_dir\u001b[49m\u001b[43m,\u001b[49m\u001b[43m \u001b[49m\u001b[38;5;66;43;03m# folder containing the activitysim model output\u001b[39;49;00m\n\u001b[0;32m      3\u001b[0m \u001b[43m        \u001b[49m\u001b[43masim_configs_dir\u001b[49m\u001b[38;5;241;43m=\u001b[39;49m\u001b[43mos\u001b[49m\u001b[38;5;241;43m.\u001b[39;49m\u001b[43mpath\u001b[49m\u001b[38;5;241;43m.\u001b[39;49m\u001b[43mjoin\u001b[49m\u001b[43m(\u001b[49m\u001b[43mactivitysim_run_dir\u001b[49m\u001b[43m,\u001b[49m\u001b[43m \u001b[49m\u001b[38;5;124;43m'\u001b[39;49m\u001b[38;5;124;43mconfigs\u001b[39;49m\u001b[38;5;124;43m'\u001b[39;49m\u001b[43m)\u001b[49m\u001b[43m,\u001b[49m\u001b[43m  \u001b[49m\u001b[38;5;66;43;03m# folder containing activitysim trip mode choice config files\u001b[39;49;00m\n\u001b[0;32m      4\u001b[0m \u001b[43m        \u001b[49m\u001b[43mtrip_mode_choice_calib_targets_file\u001b[49m\u001b[38;5;241;43m=\u001b[39;49m\u001b[43mtrip_mode_choice_calib_targets_file\u001b[49m\u001b[43m,\u001b[49m\u001b[43m  \u001b[49m\u001b[38;5;66;43;03m# folder containing trip mode choice calibration tables\u001b[39;49;00m\n\u001b[0;32m      5\u001b[0m \u001b[43m        \u001b[49m\u001b[43mmax_ASC_adjust\u001b[49m\u001b[38;5;241;43m=\u001b[39;49m\u001b[43mmax_ASC_adjust\u001b[49m\u001b[43m,\u001b[49m\u001b[43m  \u001b[49m\n\u001b[0;32m      6\u001b[0m \u001b[43m        \u001b[49m\u001b[43mdamping_factor\u001b[49m\u001b[38;5;241;43m=\u001b[39;49m\u001b[43mdamping_factor\u001b[49m\u001b[43m,\u001b[49m\u001b[43m  \u001b[49m\u001b[38;5;66;43;03m# constant multiplied to all adjustments\u001b[39;49;00m\n\u001b[0;32m      7\u001b[0m \u001b[43m        \u001b[49m\u001b[43madjust_when_zero_counts\u001b[49m\u001b[38;5;241;43m=\u001b[39;49m\u001b[43madjust_when_zero_counts\u001b[49m\u001b[43m,\u001b[49m\n\u001b[0;32m      8\u001b[0m \u001b[43m        \u001b[49m\u001b[43moutput_dir\u001b[49m\u001b[38;5;241;43m=\u001b[39;49m\u001b[43moutput_dir\u001b[49m\u001b[43m,\u001b[49m\u001b[43m  \u001b[49m\u001b[38;5;66;43;03m# location to write model calibration steps\u001b[39;49;00m\n\u001b[0;32m      9\u001b[0m \u001b[43m    \u001b[49m\u001b[43m)\u001b[49m\n",
      "File \u001b[1;32mc:\\abm_runs\\rohans\\calibration\\trip_mc\\scripts\\asim_trip_calib_util.py:1225\u001b[0m, in \u001b[0;36mperform_trip_mode_choice_model_calibration\u001b[1;34m(asim_output_dir, asim_configs_dir, trip_mode_choice_calib_targets_file, max_ASC_adjust, damping_factor, adjust_when_zero_counts, output_dir)\u001b[0m\n\u001b[0;32m   1221\u001b[0m asim_trip_mc_tables, num_trips_full_model, asim_trips_df \u001b[38;5;241m=\u001b[39m \\\n\u001b[0;32m   1222\u001b[0m     process_asim_tables_for_trip_mode_choice(asim_output_dir)\n\u001b[0;32m   1224\u001b[0m \u001b[38;5;66;03m# trip mode choice constants read from config file\u001b[39;00m\n\u001b[1;32m-> 1225\u001b[0m original_trip_mc_constants_df \u001b[38;5;241m=\u001b[39m \u001b[43mread_trip_mode_choice_constants\u001b[49m\u001b[43m(\u001b[49m\u001b[43masim_configs_dir\u001b[49m\u001b[43m)\u001b[49m\n\u001b[0;32m   1227\u001b[0m \u001b[38;5;66;03m# melt trip mode choice coefficient file\u001b[39;00m\n\u001b[0;32m   1228\u001b[0m \u001b[38;5;66;03m# original_trip_mc_constants_df, original_trip_mc_constants_df_omit, \\\u001b[39;00m\n\u001b[0;32m   1229\u001b[0m \u001b[38;5;66;03m#     trip_mc_coef_col_order, trip_mc_coef_row_order = \\\u001b[39;00m\n\u001b[0;32m   1230\u001b[0m \u001b[38;5;66;03m#     melt_trip_mc_coef_file(original_trip_mc_constants_df, output_dir)\u001b[39;00m\n\u001b[0;32m   1231\u001b[0m \n\u001b[0;32m   1232\u001b[0m \u001b[38;5;66;03m# Calibration targets from survey data\u001b[39;00m\n\u001b[0;32m   1233\u001b[0m trip_mc_calib_target_tables \u001b[38;5;241m=\u001b[39m read_trip_mode_choice_calibration_file(\n\u001b[0;32m   1234\u001b[0m     trip_mode_choice_calib_targets_file)\n",
      "File \u001b[1;32mc:\\abm_runs\\rohans\\calibration\\trip_mc\\scripts\\asim_trip_calib_util.py:554\u001b[0m, in \u001b[0;36mread_trip_mode_choice_constants\u001b[1;34m(configs_dir, coef_file)\u001b[0m\n\u001b[0;32m    552\u001b[0m \u001b[38;5;28;01mdef\u001b[39;00m \u001b[38;5;21mread_trip_mode_choice_constants\u001b[39m(configs_dir, coef_file\u001b[38;5;241m=\u001b[39m\u001b[38;5;124m\"\u001b[39m\u001b[38;5;124mtrip_mode_choice_coefficients.csv\u001b[39m\u001b[38;5;124m\"\u001b[39m):\n\u001b[0;32m    553\u001b[0m     constants_config_path \u001b[38;5;241m=\u001b[39m os\u001b[38;5;241m.\u001b[39mpath\u001b[38;5;241m.\u001b[39mjoin(configs_dir, coef_file)\n\u001b[1;32m--> 554\u001b[0m     trip_mc_constants_df \u001b[38;5;241m=\u001b[39m \u001b[43mpd\u001b[49m\u001b[38;5;241;43m.\u001b[39;49m\u001b[43mread_csv\u001b[49m\u001b[43m(\u001b[49m\u001b[43mconstants_config_path\u001b[49m\u001b[43m)\u001b[49m\n\u001b[0;32m    555\u001b[0m     \u001b[38;5;28;01mreturn\u001b[39;00m trip_mc_constants_df\n",
      "File \u001b[1;32mc:\\Users\\alie\\.conda\\envs\\asim_baydag\\lib\\site-packages\\pandas\\util\\_decorators.py:211\u001b[0m, in \u001b[0;36mdeprecate_kwarg.<locals>._deprecate_kwarg.<locals>.wrapper\u001b[1;34m(*args, **kwargs)\u001b[0m\n\u001b[0;32m    209\u001b[0m     \u001b[38;5;28;01melse\u001b[39;00m:\n\u001b[0;32m    210\u001b[0m         kwargs[new_arg_name] \u001b[38;5;241m=\u001b[39m new_arg_value\n\u001b[1;32m--> 211\u001b[0m \u001b[38;5;28;01mreturn\u001b[39;00m func(\u001b[38;5;241m*\u001b[39margs, \u001b[38;5;241m*\u001b[39m\u001b[38;5;241m*\u001b[39mkwargs)\n",
      "File \u001b[1;32mc:\\Users\\alie\\.conda\\envs\\asim_baydag\\lib\\site-packages\\pandas\\util\\_decorators.py:331\u001b[0m, in \u001b[0;36mdeprecate_nonkeyword_arguments.<locals>.decorate.<locals>.wrapper\u001b[1;34m(*args, **kwargs)\u001b[0m\n\u001b[0;32m    325\u001b[0m \u001b[38;5;28;01mif\u001b[39;00m \u001b[38;5;28mlen\u001b[39m(args) \u001b[38;5;241m>\u001b[39m num_allow_args:\n\u001b[0;32m    326\u001b[0m     warnings\u001b[38;5;241m.\u001b[39mwarn(\n\u001b[0;32m    327\u001b[0m         msg\u001b[38;5;241m.\u001b[39mformat(arguments\u001b[38;5;241m=\u001b[39m_format_argument_list(allow_args)),\n\u001b[0;32m    328\u001b[0m         \u001b[38;5;167;01mFutureWarning\u001b[39;00m,\n\u001b[0;32m    329\u001b[0m         stacklevel\u001b[38;5;241m=\u001b[39mfind_stack_level(),\n\u001b[0;32m    330\u001b[0m     )\n\u001b[1;32m--> 331\u001b[0m \u001b[38;5;28;01mreturn\u001b[39;00m func(\u001b[38;5;241m*\u001b[39margs, \u001b[38;5;241m*\u001b[39m\u001b[38;5;241m*\u001b[39mkwargs)\n",
      "File \u001b[1;32mc:\\Users\\alie\\.conda\\envs\\asim_baydag\\lib\\site-packages\\pandas\\io\\parsers\\readers.py:950\u001b[0m, in \u001b[0;36mread_csv\u001b[1;34m(filepath_or_buffer, sep, delimiter, header, names, index_col, usecols, squeeze, prefix, mangle_dupe_cols, dtype, engine, converters, true_values, false_values, skipinitialspace, skiprows, skipfooter, nrows, na_values, keep_default_na, na_filter, verbose, skip_blank_lines, parse_dates, infer_datetime_format, keep_date_col, date_parser, dayfirst, cache_dates, iterator, chunksize, compression, thousands, decimal, lineterminator, quotechar, quoting, doublequote, escapechar, comment, encoding, encoding_errors, dialect, error_bad_lines, warn_bad_lines, on_bad_lines, delim_whitespace, low_memory, memory_map, float_precision, storage_options)\u001b[0m\n\u001b[0;32m    935\u001b[0m kwds_defaults \u001b[38;5;241m=\u001b[39m _refine_defaults_read(\n\u001b[0;32m    936\u001b[0m     dialect,\n\u001b[0;32m    937\u001b[0m     delimiter,\n\u001b[1;32m   (...)\u001b[0m\n\u001b[0;32m    946\u001b[0m     defaults\u001b[38;5;241m=\u001b[39m{\u001b[38;5;124m\"\u001b[39m\u001b[38;5;124mdelimiter\u001b[39m\u001b[38;5;124m\"\u001b[39m: \u001b[38;5;124m\"\u001b[39m\u001b[38;5;124m,\u001b[39m\u001b[38;5;124m\"\u001b[39m},\n\u001b[0;32m    947\u001b[0m )\n\u001b[0;32m    948\u001b[0m kwds\u001b[38;5;241m.\u001b[39mupdate(kwds_defaults)\n\u001b[1;32m--> 950\u001b[0m \u001b[38;5;28;01mreturn\u001b[39;00m \u001b[43m_read\u001b[49m\u001b[43m(\u001b[49m\u001b[43mfilepath_or_buffer\u001b[49m\u001b[43m,\u001b[49m\u001b[43m \u001b[49m\u001b[43mkwds\u001b[49m\u001b[43m)\u001b[49m\n",
      "File \u001b[1;32mc:\\Users\\alie\\.conda\\envs\\asim_baydag\\lib\\site-packages\\pandas\\io\\parsers\\readers.py:605\u001b[0m, in \u001b[0;36m_read\u001b[1;34m(filepath_or_buffer, kwds)\u001b[0m\n\u001b[0;32m    602\u001b[0m _validate_names(kwds\u001b[38;5;241m.\u001b[39mget(\u001b[38;5;124m\"\u001b[39m\u001b[38;5;124mnames\u001b[39m\u001b[38;5;124m\"\u001b[39m, \u001b[38;5;28;01mNone\u001b[39;00m))\n\u001b[0;32m    604\u001b[0m \u001b[38;5;66;03m# Create the parser.\u001b[39;00m\n\u001b[1;32m--> 605\u001b[0m parser \u001b[38;5;241m=\u001b[39m TextFileReader(filepath_or_buffer, \u001b[38;5;241m*\u001b[39m\u001b[38;5;241m*\u001b[39mkwds)\n\u001b[0;32m    607\u001b[0m \u001b[38;5;28;01mif\u001b[39;00m chunksize \u001b[38;5;129;01mor\u001b[39;00m iterator:\n\u001b[0;32m    608\u001b[0m     \u001b[38;5;28;01mreturn\u001b[39;00m parser\n",
      "File \u001b[1;32mc:\\Users\\alie\\.conda\\envs\\asim_baydag\\lib\\site-packages\\pandas\\io\\parsers\\readers.py:1442\u001b[0m, in \u001b[0;36mTextFileReader.__init__\u001b[1;34m(self, f, engine, **kwds)\u001b[0m\n\u001b[0;32m   1439\u001b[0m     \u001b[38;5;28mself\u001b[39m\u001b[38;5;241m.\u001b[39moptions[\u001b[38;5;124m\"\u001b[39m\u001b[38;5;124mhas_index_names\u001b[39m\u001b[38;5;124m\"\u001b[39m] \u001b[38;5;241m=\u001b[39m kwds[\u001b[38;5;124m\"\u001b[39m\u001b[38;5;124mhas_index_names\u001b[39m\u001b[38;5;124m\"\u001b[39m]\n\u001b[0;32m   1441\u001b[0m \u001b[38;5;28mself\u001b[39m\u001b[38;5;241m.\u001b[39mhandles: IOHandles \u001b[38;5;241m|\u001b[39m \u001b[38;5;28;01mNone\u001b[39;00m \u001b[38;5;241m=\u001b[39m \u001b[38;5;28;01mNone\u001b[39;00m\n\u001b[1;32m-> 1442\u001b[0m \u001b[38;5;28mself\u001b[39m\u001b[38;5;241m.\u001b[39m_engine \u001b[38;5;241m=\u001b[39m \u001b[38;5;28;43mself\u001b[39;49m\u001b[38;5;241;43m.\u001b[39;49m\u001b[43m_make_engine\u001b[49m\u001b[43m(\u001b[49m\u001b[43mf\u001b[49m\u001b[43m,\u001b[49m\u001b[43m \u001b[49m\u001b[38;5;28;43mself\u001b[39;49m\u001b[38;5;241;43m.\u001b[39;49m\u001b[43mengine\u001b[49m\u001b[43m)\u001b[49m\n",
      "File \u001b[1;32mc:\\Users\\alie\\.conda\\envs\\asim_baydag\\lib\\site-packages\\pandas\\io\\parsers\\readers.py:1735\u001b[0m, in \u001b[0;36mTextFileReader._make_engine\u001b[1;34m(self, f, engine)\u001b[0m\n\u001b[0;32m   1733\u001b[0m     \u001b[38;5;28;01mif\u001b[39;00m \u001b[38;5;124m\"\u001b[39m\u001b[38;5;124mb\u001b[39m\u001b[38;5;124m\"\u001b[39m \u001b[38;5;129;01mnot\u001b[39;00m \u001b[38;5;129;01min\u001b[39;00m mode:\n\u001b[0;32m   1734\u001b[0m         mode \u001b[38;5;241m+\u001b[39m\u001b[38;5;241m=\u001b[39m \u001b[38;5;124m\"\u001b[39m\u001b[38;5;124mb\u001b[39m\u001b[38;5;124m\"\u001b[39m\n\u001b[1;32m-> 1735\u001b[0m \u001b[38;5;28mself\u001b[39m\u001b[38;5;241m.\u001b[39mhandles \u001b[38;5;241m=\u001b[39m \u001b[43mget_handle\u001b[49m\u001b[43m(\u001b[49m\n\u001b[0;32m   1736\u001b[0m \u001b[43m    \u001b[49m\u001b[43mf\u001b[49m\u001b[43m,\u001b[49m\n\u001b[0;32m   1737\u001b[0m \u001b[43m    \u001b[49m\u001b[43mmode\u001b[49m\u001b[43m,\u001b[49m\n\u001b[0;32m   1738\u001b[0m \u001b[43m    \u001b[49m\u001b[43mencoding\u001b[49m\u001b[38;5;241;43m=\u001b[39;49m\u001b[38;5;28;43mself\u001b[39;49m\u001b[38;5;241;43m.\u001b[39;49m\u001b[43moptions\u001b[49m\u001b[38;5;241;43m.\u001b[39;49m\u001b[43mget\u001b[49m\u001b[43m(\u001b[49m\u001b[38;5;124;43m\"\u001b[39;49m\u001b[38;5;124;43mencoding\u001b[39;49m\u001b[38;5;124;43m\"\u001b[39;49m\u001b[43m,\u001b[49m\u001b[43m \u001b[49m\u001b[38;5;28;43;01mNone\u001b[39;49;00m\u001b[43m)\u001b[49m\u001b[43m,\u001b[49m\n\u001b[0;32m   1739\u001b[0m \u001b[43m    \u001b[49m\u001b[43mcompression\u001b[49m\u001b[38;5;241;43m=\u001b[39;49m\u001b[38;5;28;43mself\u001b[39;49m\u001b[38;5;241;43m.\u001b[39;49m\u001b[43moptions\u001b[49m\u001b[38;5;241;43m.\u001b[39;49m\u001b[43mget\u001b[49m\u001b[43m(\u001b[49m\u001b[38;5;124;43m\"\u001b[39;49m\u001b[38;5;124;43mcompression\u001b[39;49m\u001b[38;5;124;43m\"\u001b[39;49m\u001b[43m,\u001b[49m\u001b[43m \u001b[49m\u001b[38;5;28;43;01mNone\u001b[39;49;00m\u001b[43m)\u001b[49m\u001b[43m,\u001b[49m\n\u001b[0;32m   1740\u001b[0m \u001b[43m    \u001b[49m\u001b[43mmemory_map\u001b[49m\u001b[38;5;241;43m=\u001b[39;49m\u001b[38;5;28;43mself\u001b[39;49m\u001b[38;5;241;43m.\u001b[39;49m\u001b[43moptions\u001b[49m\u001b[38;5;241;43m.\u001b[39;49m\u001b[43mget\u001b[49m\u001b[43m(\u001b[49m\u001b[38;5;124;43m\"\u001b[39;49m\u001b[38;5;124;43mmemory_map\u001b[39;49m\u001b[38;5;124;43m\"\u001b[39;49m\u001b[43m,\u001b[49m\u001b[43m \u001b[49m\u001b[38;5;28;43;01mFalse\u001b[39;49;00m\u001b[43m)\u001b[49m\u001b[43m,\u001b[49m\n\u001b[0;32m   1741\u001b[0m \u001b[43m    \u001b[49m\u001b[43mis_text\u001b[49m\u001b[38;5;241;43m=\u001b[39;49m\u001b[43mis_text\u001b[49m\u001b[43m,\u001b[49m\n\u001b[0;32m   1742\u001b[0m \u001b[43m    \u001b[49m\u001b[43merrors\u001b[49m\u001b[38;5;241;43m=\u001b[39;49m\u001b[38;5;28;43mself\u001b[39;49m\u001b[38;5;241;43m.\u001b[39;49m\u001b[43moptions\u001b[49m\u001b[38;5;241;43m.\u001b[39;49m\u001b[43mget\u001b[49m\u001b[43m(\u001b[49m\u001b[38;5;124;43m\"\u001b[39;49m\u001b[38;5;124;43mencoding_errors\u001b[39;49m\u001b[38;5;124;43m\"\u001b[39;49m\u001b[43m,\u001b[49m\u001b[43m \u001b[49m\u001b[38;5;124;43m\"\u001b[39;49m\u001b[38;5;124;43mstrict\u001b[39;49m\u001b[38;5;124;43m\"\u001b[39;49m\u001b[43m)\u001b[49m\u001b[43m,\u001b[49m\n\u001b[0;32m   1743\u001b[0m \u001b[43m    \u001b[49m\u001b[43mstorage_options\u001b[49m\u001b[38;5;241;43m=\u001b[39;49m\u001b[38;5;28;43mself\u001b[39;49m\u001b[38;5;241;43m.\u001b[39;49m\u001b[43moptions\u001b[49m\u001b[38;5;241;43m.\u001b[39;49m\u001b[43mget\u001b[49m\u001b[43m(\u001b[49m\u001b[38;5;124;43m\"\u001b[39;49m\u001b[38;5;124;43mstorage_options\u001b[39;49m\u001b[38;5;124;43m\"\u001b[39;49m\u001b[43m,\u001b[49m\u001b[43m \u001b[49m\u001b[38;5;28;43;01mNone\u001b[39;49;00m\u001b[43m)\u001b[49m\u001b[43m,\u001b[49m\n\u001b[0;32m   1744\u001b[0m \u001b[43m\u001b[49m\u001b[43m)\u001b[49m\n\u001b[0;32m   1745\u001b[0m \u001b[38;5;28;01massert\u001b[39;00m \u001b[38;5;28mself\u001b[39m\u001b[38;5;241m.\u001b[39mhandles \u001b[38;5;129;01mis\u001b[39;00m \u001b[38;5;129;01mnot\u001b[39;00m \u001b[38;5;28;01mNone\u001b[39;00m\n\u001b[0;32m   1746\u001b[0m f \u001b[38;5;241m=\u001b[39m \u001b[38;5;28mself\u001b[39m\u001b[38;5;241m.\u001b[39mhandles\u001b[38;5;241m.\u001b[39mhandle\n",
      "File \u001b[1;32mc:\\Users\\alie\\.conda\\envs\\asim_baydag\\lib\\site-packages\\pandas\\io\\common.py:856\u001b[0m, in \u001b[0;36mget_handle\u001b[1;34m(path_or_buf, mode, encoding, compression, memory_map, is_text, errors, storage_options)\u001b[0m\n\u001b[0;32m    851\u001b[0m \u001b[38;5;28;01melif\u001b[39;00m \u001b[38;5;28misinstance\u001b[39m(handle, \u001b[38;5;28mstr\u001b[39m):\n\u001b[0;32m    852\u001b[0m     \u001b[38;5;66;03m# Check whether the filename is to be opened in binary mode.\u001b[39;00m\n\u001b[0;32m    853\u001b[0m     \u001b[38;5;66;03m# Binary mode does not support 'encoding' and 'newline'.\u001b[39;00m\n\u001b[0;32m    854\u001b[0m     \u001b[38;5;28;01mif\u001b[39;00m ioargs\u001b[38;5;241m.\u001b[39mencoding \u001b[38;5;129;01mand\u001b[39;00m \u001b[38;5;124m\"\u001b[39m\u001b[38;5;124mb\u001b[39m\u001b[38;5;124m\"\u001b[39m \u001b[38;5;129;01mnot\u001b[39;00m \u001b[38;5;129;01min\u001b[39;00m ioargs\u001b[38;5;241m.\u001b[39mmode:\n\u001b[0;32m    855\u001b[0m         \u001b[38;5;66;03m# Encoding\u001b[39;00m\n\u001b[1;32m--> 856\u001b[0m         handle \u001b[38;5;241m=\u001b[39m \u001b[38;5;28;43mopen\u001b[39;49m\u001b[43m(\u001b[49m\n\u001b[0;32m    857\u001b[0m \u001b[43m            \u001b[49m\u001b[43mhandle\u001b[49m\u001b[43m,\u001b[49m\n\u001b[0;32m    858\u001b[0m \u001b[43m            \u001b[49m\u001b[43mioargs\u001b[49m\u001b[38;5;241;43m.\u001b[39;49m\u001b[43mmode\u001b[49m\u001b[43m,\u001b[49m\n\u001b[0;32m    859\u001b[0m \u001b[43m            \u001b[49m\u001b[43mencoding\u001b[49m\u001b[38;5;241;43m=\u001b[39;49m\u001b[43mioargs\u001b[49m\u001b[38;5;241;43m.\u001b[39;49m\u001b[43mencoding\u001b[49m\u001b[43m,\u001b[49m\n\u001b[0;32m    860\u001b[0m \u001b[43m            \u001b[49m\u001b[43merrors\u001b[49m\u001b[38;5;241;43m=\u001b[39;49m\u001b[43merrors\u001b[49m\u001b[43m,\u001b[49m\n\u001b[0;32m    861\u001b[0m \u001b[43m            \u001b[49m\u001b[43mnewline\u001b[49m\u001b[38;5;241;43m=\u001b[39;49m\u001b[38;5;124;43m\"\u001b[39;49m\u001b[38;5;124;43m\"\u001b[39;49m\u001b[43m,\u001b[49m\n\u001b[0;32m    862\u001b[0m \u001b[43m        \u001b[49m\u001b[43m)\u001b[49m\n\u001b[0;32m    863\u001b[0m     \u001b[38;5;28;01melse\u001b[39;00m:\n\u001b[0;32m    864\u001b[0m         \u001b[38;5;66;03m# Binary mode\u001b[39;00m\n\u001b[0;32m    865\u001b[0m         handle \u001b[38;5;241m=\u001b[39m \u001b[38;5;28mopen\u001b[39m(handle, ioargs\u001b[38;5;241m.\u001b[39mmode)\n",
      "\u001b[1;31mFileNotFoundError\u001b[0m: [Errno 2] No such file or directory: 'C:\\\\abm_runs\\\\rohans\\\\calibration\\\\trip_mc\\\\output\\\\activitysim_run_dir\\\\configs\\\\trip_mode_choice_coefficients.csv'"
     ]
    }
   ],
   "source": [
    "_ = asim_trip_calib_util.perform_trip_mode_choice_model_calibration(\n",
    "        asim_output_dir=output_dir, # folder containing the activitysim model output\n",
    "        asim_configs_dir=os.path.join(activitysim_run_dir, 'configs'),  # folder containing activitysim trip mode choice config files\n",
    "        trip_mode_choice_calib_targets_file=trip_mode_choice_calib_targets_file,  # folder containing trip mode choice calibration tables\n",
    "        max_ASC_adjust=max_ASC_adjust,  \n",
    "        damping_factor=damping_factor,  # constant multiplied to all adjustments\n",
    "        adjust_when_zero_counts=adjust_when_zero_counts,\n",
    "        output_dir=output_dir,  # location to write model calibration steps\n",
    "    )"
   ]
  },
  {
   "cell_type": "markdown",
   "metadata": {},
   "source": [
    "## Iterating"
   ]
  },
  {
   "cell_type": "code",
   "execution_count": 9,
   "metadata": {
    "collapsed": true
   },
   "outputs": [
    {
     "name": "stdout",
     "output_type": "stream",
     "text": [
      "ActivitySim run started at:  2024-05-14 12:13:38.539136\n",
      "python simulation.py -s C:\\abm_runs\\rohans\\calibration\\trip_mc\\scripts\\settings_mp_warm_start.yaml -c C:\\abm_runs\\rohans\\calibration\\trip_mc\\output\\activitysim_run_dir\\configs -c C:\\abm_runs\\rohans\\configs\\common -d C:\\abm_runs\\rohans\\input_2022 -o C:\\abm_runs\\rohans\\calibration\\trip_mc\\output\\activitysim_run_dir\n",
      "ActivitySim ended at 2024-05-14 16:14:59.984177\n",
      "Run Time:  14481.45 secs =  241.35750000000002  mins\n"
     ]
    },
    {
     "ename": "AssertionError",
     "evalue": "ActivitySim run not completed! See ActivitySim log file for details.",
     "output_type": "error",
     "traceback": [
      "\u001b[1;31m---------------------------------------------------------------------------\u001b[0m",
      "\u001b[1;31mAssertionError\u001b[0m                            Traceback (most recent call last)",
      "Input \u001b[1;32mIn [9]\u001b[0m, in \u001b[0;36m<cell line: 6>\u001b[1;34m()\u001b[0m\n\u001b[0;32m      4\u001b[0m start_iter_num \u001b[38;5;241m=\u001b[39m \u001b[38;5;241m1\u001b[39m\n\u001b[0;32m      6\u001b[0m \u001b[38;5;28;01mfor\u001b[39;00m i \u001b[38;5;129;01min\u001b[39;00m \u001b[38;5;28mrange\u001b[39m(start_iter_num, calibration_iterations_to_run\u001b[38;5;241m+\u001b[39mstart_iter_num):\n\u001b[1;32m----> 7\u001b[0m     \u001b[43masim_trip_calib_util\u001b[49m\u001b[38;5;241;43m.\u001b[39;49m\u001b[43mrun_activitysim\u001b[49m\u001b[43m(\u001b[49m\n\u001b[0;32m      8\u001b[0m \u001b[43m        \u001b[49m\u001b[43mdata_dir\u001b[49m\u001b[38;5;241;43m=\u001b[39;49m\u001b[43mdata_dir\u001b[49m\u001b[43m,\u001b[49m\u001b[43m  \u001b[49m\u001b[38;5;66;43;03m# data inputs for ActivitySim\u001b[39;49;00m\n\u001b[0;32m      9\u001b[0m \u001b[43m        \u001b[49m\u001b[43mconfigs_resident_dir\u001b[49m\u001b[38;5;241;43m=\u001b[39;49m\u001b[43mconfigs_resident_dir\u001b[49m\u001b[43m,\u001b[49m\u001b[43m  \u001b[49m\u001b[38;5;66;43;03m# these files are copied to the config section of the run directory\u001b[39;49;00m\n\u001b[0;32m     10\u001b[0m \u001b[43m        \u001b[49m\u001b[43mconfigs_common_dir\u001b[49m\u001b[38;5;241;43m=\u001b[39;49m\u001b[43mconfigs_common_dir\u001b[49m\u001b[43m,\u001b[49m\u001b[43m  \u001b[49m\u001b[38;5;66;43;03m# these files are copied to the config section of the run directory\u001b[39;49;00m\n\u001b[0;32m     11\u001b[0m \u001b[43m        \u001b[49m\u001b[43mrun_dir\u001b[49m\u001b[38;5;241;43m=\u001b[39;49m\u001b[43mactivitysim_run_dir\u001b[49m\u001b[43m,\u001b[49m\u001b[43m  \u001b[49m\u001b[38;5;66;43;03m# ActivitySim run directory\u001b[39;49;00m\n\u001b[0;32m     12\u001b[0m \u001b[43m        \u001b[49m\u001b[43moutput_dir\u001b[49m\u001b[38;5;241;43m=\u001b[39;49m\u001b[43miteration_output_dir\u001b[49m\u001b[43m,\u001b[49m\u001b[43m  \u001b[49m\u001b[38;5;66;43;03m# location to store run model outputs\u001b[39;49;00m\n\u001b[0;32m     13\u001b[0m \u001b[43m        \u001b[49m\u001b[43msettings_file\u001b[49m\u001b[38;5;241;43m=\u001b[39;49m\u001b[43mwarm_start_settings_mp_file\u001b[49m\u001b[43m,\u001b[49m\u001b[43m  \u001b[49m\u001b[38;5;66;43;03m# optional: ActivitySim settings.yaml to replace the one in configs_dir\u001b[39;49;00m\n\u001b[0;32m     14\u001b[0m \u001b[43m        \u001b[49m\u001b[43mtrip_mc_coef_file\u001b[49m\u001b[38;5;241;43m=\u001b[39;49m\u001b[43mtrip_mc_coef_file\u001b[49m\u001b[43m  \u001b[49m\u001b[38;5;66;43;03m# optional: trip_mode_choice_coefficients.csv to replace the one in configs_dir\u001b[39;49;00m\n\u001b[0;32m     15\u001b[0m \u001b[43m    \u001b[49m\u001b[43m)\u001b[49m\n\u001b[0;32m     17\u001b[0m     _ \u001b[38;5;241m=\u001b[39m asim_trip_calib_util\u001b[38;5;241m.\u001b[39mperform_trip_mode_choice_model_calibration(\n\u001b[0;32m     18\u001b[0m         asim_output_dir\u001b[38;5;241m=\u001b[39miteration_output_dir, \u001b[38;5;66;03m# folder containing the activitysim model output\u001b[39;00m\n\u001b[0;32m     19\u001b[0m         asim_configs_dir\u001b[38;5;241m=\u001b[39mos\u001b[38;5;241m.\u001b[39mpath\u001b[38;5;241m.\u001b[39mjoin(activitysim_run_dir, \u001b[38;5;124m'\u001b[39m\u001b[38;5;124mconfigs\u001b[39m\u001b[38;5;124m'\u001b[39m),  \u001b[38;5;66;03m# folder containing activitysim trip mode choice config files\u001b[39;00m\n\u001b[1;32m   (...)\u001b[0m\n\u001b[0;32m     24\u001b[0m         output_dir\u001b[38;5;241m=\u001b[39miteration_output_dir,  \u001b[38;5;66;03m# location to write model calibration steps\u001b[39;00m\n\u001b[0;32m     25\u001b[0m     )\n\u001b[0;32m     26\u001b[0m     trip_mc_coef_file \u001b[38;5;241m=\u001b[39m os\u001b[38;5;241m.\u001b[39mpath\u001b[38;5;241m.\u001b[39mjoin(iteration_output_dir, \u001b[38;5;124m'\u001b[39m\u001b[38;5;124mtrip_mode_choice_coefficients.csv\u001b[39m\u001b[38;5;124m'\u001b[39m) \n",
      "File \u001b[1;32mc:\\abm_runs\\rohans\\calibration\\trip_mc\\scripts\\asim_trip_calib_util.py:1324\u001b[0m, in \u001b[0;36mrun_activitysim\u001b[1;34m(data_dir, configs_resident_dir, configs_common_dir, run_dir, output_dir, settings_file, trip_mc_coef_file)\u001b[0m\n\u001b[0;32m   1319\u001b[0m     shutil\u001b[38;5;241m.\u001b[39mcopyfile(trip_mc_coef_file, os\u001b[38;5;241m.\u001b[39mpath\u001b[38;5;241m.\u001b[39mjoin(run_config_resident_dir, \u001b[38;5;124m'\u001b[39m\u001b[38;5;124mtrip_mode_choice_coefficients.csv\u001b[39m\u001b[38;5;124m'\u001b[39m))\n\u001b[0;32m   1321\u001b[0m activitysim_run_command \u001b[38;5;241m=\u001b[39m \u001b[38;5;124m'\u001b[39m\u001b[38;5;124mpython simulation.py -s \u001b[39m\u001b[38;5;124m'\u001b[39m \u001b[38;5;241m+\u001b[39m settings_file \u001b[38;5;241m+\u001b[39m \u001b[38;5;124m'\u001b[39m\u001b[38;5;124m -c \u001b[39m\u001b[38;5;124m'\u001b[39m \u001b[38;5;241m+\u001b[39m run_config_resident_dir \\\n\u001b[0;32m   1322\u001b[0m     \u001b[38;5;241m+\u001b[39m \u001b[38;5;124m'\u001b[39m\u001b[38;5;124m -c \u001b[39m\u001b[38;5;124m'\u001b[39m \u001b[38;5;241m+\u001b[39m configs_common_dir \u001b[38;5;241m+\u001b[39m \u001b[38;5;124m'\u001b[39m\u001b[38;5;124m -d \u001b[39m\u001b[38;5;124m'\u001b[39m \u001b[38;5;241m+\u001b[39m data_dir \u001b[38;5;241m+\u001b[39m \u001b[38;5;124m'\u001b[39m\u001b[38;5;124m -o \u001b[39m\u001b[38;5;124m'\u001b[39m \u001b[38;5;241m+\u001b[39m run_dir\n\u001b[1;32m-> 1324\u001b[0m \u001b[43mlaunch_activitysim\u001b[49m\u001b[43m(\u001b[49m\u001b[43mactivitysim_run_command\u001b[49m\u001b[43m)\u001b[49m\n\u001b[0;32m   1326\u001b[0m activitysim_output_tables \u001b[38;5;241m=\u001b[39m [\n\u001b[0;32m   1327\u001b[0m     \u001b[38;5;124m'\u001b[39m\u001b[38;5;124mfinal_households.csv\u001b[39m\u001b[38;5;124m'\u001b[39m,\n\u001b[0;32m   1328\u001b[0m     \u001b[38;5;124m'\u001b[39m\u001b[38;5;124mfinal_persons.csv\u001b[39m\u001b[38;5;124m'\u001b[39m,\n\u001b[1;32m   (...)\u001b[0m\n\u001b[0;32m   1332\u001b[0m     \u001b[38;5;124m'\u001b[39m\u001b[38;5;124mactivitysim.log\u001b[39m\u001b[38;5;124m'\u001b[39m,\n\u001b[0;32m   1333\u001b[0m ]\n\u001b[0;32m   1335\u001b[0m \u001b[38;5;28;01mfor\u001b[39;00m asim_table \u001b[38;5;129;01min\u001b[39;00m activitysim_output_tables:\n",
      "File \u001b[1;32mc:\\abm_runs\\rohans\\calibration\\trip_mc\\scripts\\asim_trip_calib_util.py:1131\u001b[0m, in \u001b[0;36mlaunch_activitysim\u001b[1;34m(activitysim_run_command)\u001b[0m\n\u001b[0;32m   1129\u001b[0m run_time \u001b[38;5;241m=\u001b[39m \u001b[38;5;28mround\u001b[39m(time\u001b[38;5;241m.\u001b[39mtime() \u001b[38;5;241m-\u001b[39m start_time, \u001b[38;5;241m2\u001b[39m)\n\u001b[0;32m   1130\u001b[0m \u001b[38;5;28mprint\u001b[39m(\u001b[38;5;124m\"\u001b[39m\u001b[38;5;124mRun Time: \u001b[39m\u001b[38;5;124m\"\u001b[39m, run_time, \u001b[38;5;124m\"\u001b[39m\u001b[38;5;124msecs = \u001b[39m\u001b[38;5;124m\"\u001b[39m, run_time\u001b[38;5;241m/\u001b[39m\u001b[38;5;241m60\u001b[39m, \u001b[38;5;124m\"\u001b[39m\u001b[38;5;124m mins\u001b[39m\u001b[38;5;124m\"\u001b[39m)\n\u001b[1;32m-> 1131\u001b[0m \u001b[38;5;28;01massert\u001b[39;00m ret_value \u001b[38;5;241m==\u001b[39m \u001b[38;5;241m0\u001b[39m, \u001b[38;5;124m\"\u001b[39m\u001b[38;5;124mActivitySim run not completed! See ActivitySim log file for details.\u001b[39m\u001b[38;5;124m\"\u001b[39m\n",
      "\u001b[1;31mAssertionError\u001b[0m: ActivitySim run not completed! See ActivitySim log file for details."
     ]
    }
   ],
   "source": [
    "iteration_output_dir = output_dir.strip('_cold') + '_10'\n",
    "\n",
    "calibration_iterations_to_run = 3\n",
    "start_iter_num = 1\n",
    "\n",
    "for i in range(start_iter_num, calibration_iterations_to_run+start_iter_num):\n",
    "    asim_trip_calib_util.run_activitysim(\n",
    "        data_dir=data_dir,  # data inputs for ActivitySim\n",
    "        configs_resident_dir=configs_resident_dir,  # these files are copied to the config section of the run directory\n",
    "        configs_common_dir=configs_common_dir,  # these files are copied to the config section of the run directory\n",
    "        run_dir=activitysim_run_dir,  # ActivitySim run directory\n",
    "        output_dir=iteration_output_dir,  # location to store run model outputs\n",
    "        settings_file=warm_start_settings_mp_file,  # optional: ActivitySim settings.yaml to replace the one in configs_dir\n",
    "        trip_mc_coef_file=trip_mc_coef_file  # optional: trip_mode_choice_coefficients.csv to replace the one in configs_dir\n",
    "    )\n",
    "    \n",
    "    _ = asim_trip_calib_util.perform_trip_mode_choice_model_calibration(\n",
    "        asim_output_dir=iteration_output_dir, # folder containing the activitysim model output\n",
    "        asim_configs_dir=os.path.join(activitysim_run_dir, 'configs'),  # folder containing activitysim trip mode choice config files\n",
    "        trip_mode_choice_calib_targets_file=trip_mode_choice_calib_targets_file,  # folder containing trip mode choice calibration tables\n",
    "        max_ASC_adjust=max_ASC_adjust,  \n",
    "        damping_factor=damping_factor,  # constant multiplied to all adjustments\n",
    "        adjust_when_zero_counts=adjust_when_zero_counts,\n",
    "        output_dir=iteration_output_dir,  # location to write model calibration steps\n",
    "    )\n",
    "    trip_mc_coef_file = os.path.join(iteration_output_dir, 'trip_mode_choice_coefficients.csv') \n",
    "    iteration_output_dir = iteration_output_dir.strip('_'+str(i)) + '_' + str(i+1)\n",
    "\n",
    "print(\"\\n\\n\", \"Final coefficient table written to: \", trip_mc_coef_file)"
   ]
  },
  {
   "cell_type": "code",
   "execution_count": null,
   "metadata": {},
   "outputs": [],
   "source": [
    "# trip_mc_coef_file = r'C:\\abm_runs\\rohans\\calibration\\trip_mc\\output\\calibration_output_an_iter_3\\trip_mode_choice_coefficients.csv'\n",
    "# iteration_output_dir = output_dir.strip('_cold') + '_4'\n",
    "\n",
    "# print(trip_mc_coef_file)\n",
    "# print(iteration_output_dir)"
   ]
  },
  {
   "cell_type": "code",
   "execution_count": null,
   "metadata": {},
   "outputs": [],
   "source": [
    "# calibration_iterations_to_run = 3\n",
    "# start_iter_num = 4\n",
    "\n",
    "# for i in range(start_iter_num, calibration_iterations_to_run+start_iter_num):\n",
    "#     asim_trip_calib_util.run_activitysim(\n",
    "#         data_dir=data_dir,  # data inputs for ActivitySim\n",
    "#         configs_resident_dir=configs_resident_dir,  # these files are copied to the config section of the run directory\n",
    "#         configs_common_dir=configs_common_dir,  # these files are copied to the config section of the run directory\n",
    "#         run_dir=activitysim_run_dir,  # ActivitySim run directory\n",
    "#         output_dir=iteration_output_dir,  # location to store run model outputs\n",
    "#         settings_file=warm_start_settings_mp_file,  # optional: ActivitySim settings.yaml to replace the one in configs_dir\n",
    "#         trip_mc_coef_file=trip_mc_coef_file  # optional: trip_mode_choice_coefficients.csv to replace the one in configs_dir\n",
    "#     )\n",
    "    \n",
    "#     _ = asim_trip_calib_util.perform_trip_mode_choice_model_calibration(\n",
    "#         asim_output_dir=iteration_output_dir, # folder containing the activitysim model output\n",
    "#         asim_configs_dir=os.path.join(activitysim_run_dir, 'configs'),  # folder containing activitysim trip mode choice config files\n",
    "#         trip_mode_choice_calib_targets_file=trip_mode_choice_calib_targets_file,  # folder containing trip mode choice calibration tables\n",
    "#         max_ASC_adjust=max_ASC_adjust,  \n",
    "#         damping_factor=damping_factor,  # constant multiplied to all adjustments\n",
    "#         adjust_when_zero_counts=adjust_when_zero_counts,\n",
    "#         output_dir=iteration_output_dir,  # location to write model calibration steps\n",
    "#     )\n",
    "#     trip_mc_coef_file = os.path.join(iteration_output_dir, 'trip_mode_choice_coefficients.csv') \n",
    "#     iteration_output_dir = iteration_output_dir.strip('_'+str(i)) + '_' + str(i+1)\n",
    "\n",
    "# print(\"\\n\\n\", \"Final coefficient table written to: \", trip_mc_coef_file)"
   ]
  },
  {
   "cell_type": "code",
   "execution_count": null,
   "metadata": {},
   "outputs": [],
   "source": []
  }
 ],
 "metadata": {
  "kernelspec": {
   "display_name": "Python 3 (ipykernel)",
   "language": "python",
   "name": "python3"
  },
  "language_info": {
   "codemirror_mode": {
    "name": "ipython",
    "version": 3
   },
   "file_extension": ".py",
   "mimetype": "text/x-python",
   "name": "python",
   "nbconvert_exporter": "python",
   "pygments_lexer": "ipython3",
   "version": "3.9.16"
  },
  "vscode": {
   "interpreter": {
    "hash": "2eb7c6f9f406f6f9f49420dd65650c4cb08a10ab5f4a505e57e75dbf5eb536c1"
   }
  }
 },
 "nbformat": 4,
 "nbformat_minor": 4
}
