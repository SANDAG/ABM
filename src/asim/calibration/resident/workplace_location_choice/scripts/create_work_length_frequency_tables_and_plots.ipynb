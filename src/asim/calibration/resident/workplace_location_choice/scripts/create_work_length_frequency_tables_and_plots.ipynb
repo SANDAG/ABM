{
 "cells": [
  {
   "cell_type": "code",
   "execution_count": null,
   "metadata": {},
   "outputs": [],
   "source": [
    "import os\n",
    "import numpy as np\n",
    "import pandas as pd\n",
    "import openmatrix as omx\n",
    "import datetime\n",
    "import matplotlib.pyplot as plt\n",
    "import seaborn as sns\n",
    "\n",
    "sns.set()\n",
    "pd.set_option(\"display.max_columns\", 100)\n",
    "start_time = datetime.datetime.now()"
   ]
  },
  {
   "cell_type": "code",
   "execution_count": null,
   "metadata": {},
   "outputs": [],
   "source": [
    "### Run Time Function\n",
    "def print_runtime(t1, t2):\n",
    "    tot_sec = t2.timestamp()-t1.timestamp()\n",
    "    hours = tot_sec//3600\n",
    "    minutes = (tot_sec-hours*3600)//60\n",
    "    seconds = tot_sec-hours*3600-minutes*60\n",
    "\n",
    "    print(\"Run Time:\", hours, 'hrs', minutes, 'mins', round(seconds), \"sec\")\n",
    "    \n",
    "    return"
   ]
  },
  {
   "cell_type": "code",
   "execution_count": null,
   "metadata": {},
   "outputs": [],
   "source": [
    "# Define Data Paths\n",
    "### Activitysim output data\n",
    "asim_output_loc = r\"C:\\abm_runs\\rohans\\output\"\n",
    "\n",
    "### 2022 survey data\n",
    "raw_2022_loc = r\"C:\\abm_runs\\rohans\\calibration\\workplace_location\\data\\hts\\sandag_2022_survey\\sandag_hts\"\n",
    "\n",
    "### Processed survey data - 2016 & 2022\n",
    "survey_loc= r\"C:\\abm_runs\\rohans\\calibration\\workplace_location\\data\\hts\\survey_data\"\n",
    "\n",
    "### landuse file\n",
    "landuse_loc = r\"C:\\abm_runs\\rohans\\input_2022\\land_use.csv\"\n",
    "\n",
    "### traffic skims file\n",
    "skims_loc = r\"C:\\abm_runs\\rohans\\input_2022\\traffic_skims_MD.omx\" \n",
    "\n",
    "### zone shape files\n",
    "maz_loc = r\"C:\\abm_runs\\rohans\\calibration\\shp\\mgra15\\mgra15.shp\"\n",
    "taz_loc = r\"C:\\abm_runs\\rohans\\calibration\\shp\\taz15\\taz15.shp\"\n",
    "\n",
    "### Location to save outputs\n",
    "output_loc = r\"C:\\abm_runs\\rohans\\calibration\\workplace_location\\output\""
   ]
  },
  {
   "cell_type": "code",
   "execution_count": null,
   "metadata": {},
   "outputs": [],
   "source": [
    "### Read common files\n",
    "landuse_df = pd.read_csv(landuse_loc)\n",
    "skims = omx.open_file(skims_loc)\n",
    "dist_mtx = np.array(skims['SOV_NT_M_DIST__MD']) \n",
    "\n",
    "### Create crosswalks\n",
    "maz_taz_xwalk = pd.Series(landuse_df.TAZ.values, index=landuse_df.MAZ).to_dict()\n",
    "\n",
    "### Read data\n",
    "asim_per = pd.read_csv(os.path.join(asim_output_loc, 'final_persons.csv'))\n",
    "asim_hh = pd.read_csv(os.path.join(asim_output_loc, 'final_households.csv'))"
   ]
  },
  {
   "cell_type": "code",
   "execution_count": null,
   "metadata": {},
   "outputs": [],
   "source": []
  },
  {
   "cell_type": "markdown",
   "metadata": {},
   "source": [
    "### Process ActivitySim Data"
   ]
  },
  {
   "cell_type": "code",
   "execution_count": null,
   "metadata": {},
   "outputs": [],
   "source": [
    "### Read data\n",
    "asim_per = pd.read_csv(os.path.join(asim_output_loc, 'final_persons.csv'))\n",
    "asim_hh = pd.read_csv(os.path.join(asim_output_loc, 'final_households.csv'))\n",
    "\n",
    "### Get weights\n",
    "asim_per = pd.merge(asim_per, asim_hh[['household_id', 'sample_rate']], how='left', on=['household_id'], suffixes=('', '_x'))\n",
    "asim_per['weight'] = 1/asim_per['sample_rate']\n",
    "\n",
    "### Get home and work TAZs\n",
    "asim_per['home_taz'] = asim_per['home_zone_id'].map(maz_taz_xwalk)\n",
    "asim_per['work_taz'] = asim_per['workplace_zone_id'].map(maz_taz_xwalk)\n",
    "\n",
    "### Get workers from all persons\n",
    "workers = asim_per[asim_per['is_worker']==1]\n",
    "\n",
    "### Get persons working within modeling region\n",
    "home_zone_workers = workers[workers['work_taz']>12]\n",
    "\n",
    "print('Total workers: {:,.0f} \\nTotal workers in SANDAG Region: {:,.0f}'.format(workers.weight.sum(), home_zone_workers.weight.sum()))"
   ]
  },
  {
   "cell_type": "code",
   "execution_count": null,
   "metadata": {},
   "outputs": [],
   "source": [
    "### Function to get distance from skims\n",
    "def get_distance(origin, destination, mtx=dist_mtx):\n",
    "    dist = mtx[int(origin-1), int(destination-1)]\n",
    "    return dist"
   ]
  },
  {
   "cell_type": "code",
   "execution_count": null,
   "metadata": {},
   "outputs": [],
   "source": [
    "### Calculate distance between home and work locations\n",
    "home_zone_workers['work_distance'] = home_zone_workers.apply(lambda x: get_distance(x.home_taz, x.work_taz), axis=1)\n",
    "\n",
    "### Code work distance for workers\n",
    "home_zone_workers.loc[home_zone_workers['work_distance']<=2, 'Work Distance (miles)'] = '1. 0-2'\n",
    "home_zone_workers.loc[(home_zone_workers['work_distance']>2)&(home_zone_workers['work_distance']<=5), 'Work Distance (miles)'] = '2. 2-5'\n",
    "home_zone_workers.loc[(home_zone_workers['work_distance']>5)&(home_zone_workers['work_distance']<=10), 'Work Distance (miles)'] = '3. 5-10'\n",
    "home_zone_workers.loc[(home_zone_workers['work_distance']>10)&(home_zone_workers['work_distance']<=20), 'Work Distance (miles)'] = '4. 10-20'\n",
    "home_zone_workers.loc[(home_zone_workers['work_distance']>20)&(home_zone_workers['work_distance']<=30), 'Work Distance (miles)'] = '5. 20-30'\n",
    "home_zone_workers.loc[home_zone_workers['work_distance']>30, 'Work Distance (miles)'] = '6. >30'\n",
    "\n",
    "### Create work length frequency table\n",
    "freq_pivot = pd.pivot_table(home_zone_workers, index='Work Distance (miles)', values='weight', aggfunc=['count', np.sum]).round().astype(int)\n",
    "freq_pivot.columns = freq_pivot.columns.get_level_values(0)\n",
    "freq_pivot.rename({'count': 'Asim Frequency', 'sum': 'Asim Frequency (Weighted)'}, axis=1, inplace=True)\n",
    "freq_pivot.loc['Total'] = freq_pivot.sum(axis=0)\n",
    "freq_pivot['Asim Share'] = round(freq_pivot['Asim Frequency (Weighted)']/freq_pivot.loc['Total', 'Asim Frequency (Weighted)'], 6)\n",
    "freq_pivot"
   ]
  },
  {
   "cell_type": "code",
   "execution_count": null,
   "metadata": {},
   "outputs": [],
   "source": []
  },
  {
   "cell_type": "markdown",
   "metadata": {},
   "source": [
    "### Process HTS Data"
   ]
  },
  {
   "cell_type": "code",
   "execution_count": null,
   "metadata": {},
   "outputs": [],
   "source": [
    "### Read and process HTS data\n",
    "### 2022 raw data\n",
    "raw_hh_22 = pd.read_csv(os.path.join(raw_2022_loc, 'hh.csv'))\n",
    "raw_per_22 = pd.read_csv(os.path.join(raw_2022_loc, 'person.csv'))\n",
    "\n",
    "### Processed and Combined HTS data\n",
    "hts_per = pd.read_csv(os.path.join(survey_loc, 'combined_persons.csv'))\n",
    "hts_hh = pd.read_csv(os.path.join(survey_loc, 'combined_households.csv'))\n",
    "\n",
    "### Only keep 2022 HTS data\n",
    "hts_per = hts_per[hts_per['survey_year']==2022].reset_index(drop=True)\n",
    "hts_hh = hts_hh[hts_hh['survey_year']==2022].reset_index(drop=True)\n",
    "\n",
    "### Add home_zone_id households\n",
    "hts_hh_home_zone = hts_hh[['HH_ID', 'home_zone_id']].value_counts().reset_index(name='count').drop(['count'], axis=1)\n",
    "hts_per = pd.merge(hts_per, hts_hh_home_zone, how='left', on='HH_ID', suffixes=('', '_x'))\n",
    "\n",
    "### Get home and work TAZs\n",
    "hts_per['home_taz'] = hts_per['home_zone_id'].map(maz_taz_xwalk)\n",
    "hts_per['work_taz'] = hts_per['workplace_zone_id'].map(maz_taz_xwalk)\n",
    "\n",
    "### Get person weights\n",
    "hts_per_weight_df = raw_per_22[['hh_id', 'person_num', 'person_weight']].rename(columns={'hh_id': 'HH_ID', 'person_num': 'PER_ID', 'person_weight': 'weight'})\n",
    "hts_per = pd.merge(hts_per, hts_per_weight_df, how='left', on=['HH_ID', 'PER_ID'], suffixes=('', '_x'))"
   ]
  },
  {
   "cell_type": "code",
   "execution_count": null,
   "metadata": {},
   "outputs": [],
   "source": [
    "### Get workers from all persons\n",
    "hts_workers = hts_per[hts_per['is_worker']==1]\n",
    "\n",
    "### Get persons working within modeling region\n",
    "hts_home_zone_workers = hts_workers[hts_workers['work_taz']>12]\n",
    "\n",
    "### Get unique records\n",
    "cols_to_keep = ['HH_ID', 'PER_ID', 'survey_year', 'home_taz', 'work_taz', 'weight']\n",
    "unique_hts_workers = hts_workers[cols_to_keep].value_counts().reset_index(name='count')\n",
    "unique_hts_home_zone_workers = hts_home_zone_workers[cols_to_keep].value_counts().reset_index(name='count')\n",
    "\n",
    "print('Total HTS workers: {:,.0f}'.format(hts_workers.weight.sum()))\n",
    "print('Total HTS workers in SANDAG Region: {:,.0f}'.format(unique_hts_home_zone_workers.weight.sum()))"
   ]
  },
  {
   "cell_type": "code",
   "execution_count": null,
   "metadata": {},
   "outputs": [],
   "source": [
    "### Calculate distance between home and work locations\n",
    "unique_hts_home_zone_workers['work_distance'] = unique_hts_home_zone_workers.apply(lambda x: get_distance(x.home_taz, x.work_taz), axis=1)\n",
    "\n",
    "### Code work distance for workers\n",
    "unique_hts_home_zone_workers.loc[unique_hts_home_zone_workers['work_distance']<=2, 'Work Distance (miles)'] = '1. 0-2'\n",
    "unique_hts_home_zone_workers.loc[(unique_hts_home_zone_workers['work_distance']>2)&(unique_hts_home_zone_workers['work_distance']<=5), 'Work Distance (miles)'] = '2. 2-5'\n",
    "unique_hts_home_zone_workers.loc[(unique_hts_home_zone_workers['work_distance']>5)&(unique_hts_home_zone_workers['work_distance']<=10), 'Work Distance (miles)'] = '3. 5-10'\n",
    "unique_hts_home_zone_workers.loc[(unique_hts_home_zone_workers['work_distance']>10)&(unique_hts_home_zone_workers['work_distance']<=20), 'Work Distance (miles)'] = '4. 10-20'\n",
    "unique_hts_home_zone_workers.loc[(unique_hts_home_zone_workers['work_distance']>20)&(unique_hts_home_zone_workers['work_distance']<=30), 'Work Distance (miles)'] = '5. 20-30'\n",
    "unique_hts_home_zone_workers.loc[unique_hts_home_zone_workers['work_distance']>30, 'Work Distance (miles)'] = '6. >30'\n",
    "\n",
    "### Create work length frequency table\n",
    "hts_freq_pivot = pd.pivot_table(unique_hts_home_zone_workers, index='Work Distance (miles)', values='weight', aggfunc=['count', np.sum]).round().astype(int)\n",
    "hts_freq_pivot.columns = hts_freq_pivot.columns.get_level_values(0)\n",
    "hts_freq_pivot.rename({'count': 'HTS Frequency', 'sum': 'HTS Frequency (Weighted)'}, axis=1, inplace=True)\n",
    "hts_freq_pivot.loc['Total'] = hts_freq_pivot.sum(axis=0)\n",
    "hts_freq_pivot['HTS Share'] = round(hts_freq_pivot['HTS Frequency (Weighted)']/hts_freq_pivot.loc['Total', 'HTS Frequency (Weighted)'], 6)\n",
    "hts_freq_pivot"
   ]
  },
  {
   "cell_type": "markdown",
   "metadata": {},
   "source": [
    "### Summarize ActivitySim and HTS"
   ]
  },
  {
   "cell_type": "code",
   "execution_count": null,
   "metadata": {},
   "outputs": [],
   "source": [
    "### Combine HTS and Asim frequency tables\n",
    "comb_freq_pivot = pd.concat([hts_freq_pivot, freq_pivot], axis=1)\n",
    "comb_freq_pivot['Diff Share'] = comb_freq_pivot['Asim Share'] - comb_freq_pivot['HTS Share']\n",
    "comb_freq_pivot['HTS/Asim'] = comb_freq_pivot['HTS Share']/comb_freq_pivot['Asim Share']\n",
    "comb_freq_pivot['Calibration Constant'] = np.log(comb_freq_pivot['HTS/Asim'])\n",
    "comb_freq_pivot = comb_freq_pivot.rename({'1. 0-2': '0-2', '2. 2-5': '2-5', '3. 5-10': '5-10', '4. 10-20': '10-20', '5. 20-30': '20-30', '6. >30': '>30'}, axis=0).reset_index()\n",
    "\n",
    "# comb_freq_pivot.to_csv(os.path.join(output_loc, r'work_length_freq_comparison.csv'), index=False)\n",
    "comb_freq_pivot"
   ]
  },
  {
   "cell_type": "code",
   "execution_count": null,
   "metadata": {},
   "outputs": [],
   "source": [
    "### Process data for plot\n",
    "unique_hts_home_zone_workers['Source'] = 'HTS'\n",
    "home_zone_workers['Source'] = 'ActivitySim'\n",
    "\n",
    "plot_cols = ['Work Distance (miles)', 'weight', 'Source']\n",
    "plot_df = pd.concat([unique_hts_home_zone_workers[plot_cols], home_zone_workers[plot_cols]], \n",
    "                    ignore_index=True).sort_values('Work Distance (miles)')\n",
    "\n",
    "### Plot work length frequency distribution\n",
    "### HTS vs ActivitySim\n",
    "fig, ax = plt.subplots(figsize=(15, 10))\n",
    "\n",
    "xticks_labels = ['0 - 2', '2 - 5', '5 - 10', '10 - 20', '20 - 30', '>30']\n",
    "\n",
    "sns.histplot(plot_df,\n",
    "             x='Work Distance (miles)',\n",
    "             weights='weight',\n",
    "             hue='Source',\n",
    "             hue_order=['HTS', 'ActivitySim'],\n",
    "             common_norm=False,\n",
    "             stat='percent', \n",
    "             multiple='dodge',\n",
    "             shrink=.9)\n",
    "\n",
    "ax.set_xlabel('Work Distance (in miles)')\n",
    "ax.set_ylabel('Percent of Workers')\n",
    "ax.set_xticks(np.arange(len(xticks_labels)), labels=xticks_labels)\n",
    "plt.show()"
   ]
  },
  {
   "cell_type": "code",
   "execution_count": null,
   "metadata": {},
   "outputs": [],
   "source": [
    "# ### Plot work length frequency distribution [Another Format]\n",
    "# ### HTS vs ActivitySim\n",
    "# fig, ax = plt.subplots(figsize=(15, 10))\n",
    "\n",
    "# df_target = unique_hts_home_zone_workers.sort_values('Work Distance (miles)')\n",
    "# df_model = home_zone_workers.sort_values('Work Distance (miles)')\n",
    "\n",
    "# xticks_labels = ['0 - 2', '2 - 5', '5 - 10', '10 - 20', '20 - 30', '>30']\n",
    "\n",
    "# sns.histplot(df_target,\n",
    "#              x='Work Distance (miles)',\n",
    "#              weights='weight',\n",
    "#              stat='percent',\n",
    "#              label='HTS') \n",
    "# sns.histplot(df_model,\n",
    "#              x='Work Distance (miles)',\n",
    "#              weights='weight',\n",
    "#              stat='percent',\n",
    "#              label='ActivitySim') \n",
    "\n",
    "# ax.set_xlabel('Work Distance (in miles)')\n",
    "# ax.set_ylabel('Percent of Workers')\n",
    "# ax.set_xticks(np.arange(len(xticks_labels)), labels=xticks_labels)\n",
    "# ax.legend()\n",
    "# plt.show()"
   ]
  },
  {
   "cell_type": "code",
   "execution_count": null,
   "metadata": {},
   "outputs": [],
   "source": [
    "### Plot work length frequency distribution\n",
    "### HTS vs ActivitySim\n",
    "fig, ax = plt.subplots(figsize=(16, 8))\n",
    "\n",
    "clipping_point = 50\n",
    "bin_size = 1\n",
    "\n",
    "sns.distplot(unique_hts_home_zone_workers.work_distance.clip(upper=clipping_point), \n",
    "            bins=int(clipping_point/bin_size), \n",
    "            hist_kws={'weights':unique_hts_home_zone_workers.weight.values},\n",
    "            label='HTS') \n",
    "sns.distplot(home_zone_workers.work_distance.clip(upper=clipping_point), \n",
    "             bins=int(clipping_point/bin_size), \n",
    "             hist_kws={'weights':home_zone_workers.weight.values},\n",
    "             label='ActivitySim') \n",
    "\n",
    "ax.set_xlabel('Work Distance (in miles)')\n",
    "ax.legend()\n",
    "plt.show()"
   ]
  },
  {
   "cell_type": "code",
   "execution_count": null,
   "metadata": {},
   "outputs": [],
   "source": []
  },
  {
   "cell_type": "code",
   "execution_count": null,
   "metadata": {},
   "outputs": [],
   "source": [
    "end_time = datetime.datetime.now()\n",
    "print(\"Start Time:\", start_time)\n",
    "print(\"End Time:\", end_time)\n",
    "print_runtime(start_time, end_time)"
   ]
  }
 ],
 "metadata": {
  "kernelspec": {
   "display_name": "asim_baydag",
   "language": "python",
   "name": "python3"
  },
  "language_info": {
   "codemirror_mode": {
    "name": "ipython",
    "version": 3
   },
   "file_extension": ".py",
   "mimetype": "text/x-python",
   "name": "python",
   "nbconvert_exporter": "python",
   "pygments_lexer": "ipython3",
   "version": "3.9.17"
  },
  "orig_nbformat": 4
 },
 "nbformat": 4,
 "nbformat_minor": 2
}
