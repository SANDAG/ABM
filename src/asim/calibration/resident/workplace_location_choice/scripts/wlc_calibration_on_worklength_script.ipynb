{
 "cells": [
  {
   "cell_type": "code",
   "execution_count": 1,
   "metadata": {},
   "outputs": [],
   "source": [
    "import os\n",
    "import numpy as np\n",
    "import pandas as pd\n",
    "import openmatrix as omx\n",
    "import datetime\n",
    "import matplotlib.pyplot as plt\n",
    "import seaborn as sns\n",
    "\n",
    "sns.set()\n",
    "pd.set_option('display.max_columns', 100)"
   ]
  },
  {
   "cell_type": "code",
   "execution_count": 2,
   "metadata": {},
   "outputs": [],
   "source": [
    "# Define data paths and parameters\n",
    "### Directory of the simulation.py file\n",
    "simpy_dir = r\"C:\\abm_runs\\rohans\"\n",
    "\n",
    "### Location of Configs\n",
    "settings = r\"C:\\abm_runs\\rohans\\configs\\resident\\settings_mp.yaml\"\n",
    "configs_resident = r\"C:\\abm_runs\\rohans\\configs\\resident\"\n",
    "configs_common = r\"C:\\abm_runs\\rohans\\configs\\common\"\n",
    "\n",
    "### Location of Input and Output data\n",
    "data = r\"C:\\abm_runs\\rohans\\input_2022\"\n",
    "output_dir = r\"C:\\abm_runs\\rohans\\output\"\n",
    "\n",
    "### Location of calibration targets\n",
    "target_loc = r\"C:\\abm_runs\\rohans\\calibration\\workplace_location\\targets\\work_length_targets.csv\"\n",
    "\n",
    "### Landuse data\n",
    "landuse_loc = os.path.join(data, \"land_use.csv\")\n",
    "\n",
    "### Traffic skims file\n",
    "skims_loc = os.path.join(data, \"traffic_skims_MD.omx\" )\n",
    "\n",
    "### Asim output files\n",
    "person_loc = os.path.join(output_dir, \"final_persons.csv\")\n",
    "hh_loc = os.path.join(output_dir, \"final_households.csv\")\n",
    "\n",
    "### Number of calibration iterations\n",
    "iterations = 3\n",
    "\n",
    "### Crosswalk b/w target index to coefficient name in configs\n",
    "coef_xwalk = {\n",
    "    '0-2': 'coef_distance_0_2miles',\n",
    "    '2-5': 'coef_distance_2_5miles',\n",
    "    '5-10': 'coef_distance_5_10miles',\n",
    "    '10-20': 'coef_distance_10_20miles',\n",
    "    '20-30': 'coef_distance_20_30miles',\n",
    "    '>30': 'coef_distance_30plusmiles'\n",
    "}"
   ]
  },
  {
   "cell_type": "code",
   "execution_count": 3,
   "metadata": {},
   "outputs": [
    {
     "name": "stdout",
     "output_type": "stream",
     "text": [
      "HTS Targets: \n",
      "                hts_freq  hts_freq_wt  hts_share\n",
      "work_distance                                  \n",
      "0-2                 293       151489   0.140469\n",
      "2-5                 302       186977   0.173376\n",
      "5-10                458       284815   0.264097\n",
      "10-20               583       327491   0.303669\n",
      "20-30               172        90401   0.083825\n",
      ">30                  64        37275   0.034564\n"
     ]
    }
   ],
   "source": [
    "# Read data\n",
    "### Input files\n",
    "landuse_df = pd.read_csv(landuse_loc)\n",
    "skims = omx.open_file(skims_loc)\n",
    "dist_mtx = np.array(skims['SOV_NT_M_DIST__MD']) \n",
    "\n",
    "### WLC coefficients\n",
    "workplace_coef = pd.read_csv(os.path.join(configs_resident, 'workplace_location_coefficients.csv'), index_col='coefficient_name')\n",
    "\n",
    "### Targets\n",
    "target_freq = pd.read_csv(target_loc).set_index('work_distance')\n",
    "print('HTS Targets: \\n', target_freq)"
   ]
  },
  {
   "cell_type": "code",
   "execution_count": 4,
   "metadata": {},
   "outputs": [],
   "source": [
    "### Create crosswalk b/w MAZs and TAZs\n",
    "maz_taz_xwalk = pd.Series(landuse_df.TAZ.values, index=landuse_df.MAZ).to_dict()"
   ]
  },
  {
   "cell_type": "code",
   "execution_count": 5,
   "metadata": {},
   "outputs": [],
   "source": [
    "### Run Time Function\n",
    "def print_runtime(t1, t2):\n",
    "    tot_sec = t2.timestamp()-t1.timestamp()\n",
    "    hours = tot_sec//3600\n",
    "    minutes = (tot_sec-hours*3600)//60\n",
    "    seconds = tot_sec-hours*3600-minutes*60\n",
    "\n",
    "    print('Run Time:', hours, 'hrs', minutes, 'mins', round(seconds), 'sec')\n",
    "    \n",
    "    return"
   ]
  },
  {
   "cell_type": "code",
   "execution_count": null,
   "metadata": {},
   "outputs": [],
   "source": []
  },
  {
   "cell_type": "markdown",
   "metadata": {},
   "source": [
    "### Cold Start: \n",
    "Run ActivitySim up to workplace_location model by editing settings_mp.yaml"
   ]
  },
  {
   "cell_type": "code",
   "execution_count": 6,
   "metadata": {},
   "outputs": [
    {
     "name": "stdout",
     "output_type": "stream",
     "text": [
      "ActivitySim Run Command: \n",
      " python simulation.py -s C:\\abm_runs\\rohans\\configs\\resident\\settings_mp.yaml -c C:\\abm_runs\\rohans\\configs\\resident -c C:\\abm_runs\\rohans\\configs\\common -d C:\\abm_runs\\rohans\\input_2022 -o C:\\abm_runs\\rohans\\output \n",
      "\n"
     ]
    },
    {
     "data": {
      "text/plain": [
       "0"
      ]
     },
     "execution_count": 6,
     "metadata": {},
     "output_type": "execute_result"
    }
   ],
   "source": [
    "### Change directory to model setup\n",
    "### i.e. the location of simulation.py script\n",
    "os.chdir(simpy_dir)\n",
    "\n",
    "### Command to run ActivitySim\n",
    "asim_command ='python simulation.py -s ' + settings + ' -c ' + configs_resident + ' -c ' + configs_common + ' -d ' + data + ' -o ' + output_dir\n",
    "print('ActivitySim Run Command: \\n', asim_command, '\\n')\n",
    "\n",
    "#Run ActivitySim\n",
    "start_time = datetime.datetime.now()\n",
    "os.system(asim_command)"
   ]
  },
  {
   "cell_type": "code",
   "execution_count": 7,
   "metadata": {},
   "outputs": [
    {
     "name": "stdout",
     "output_type": "stream",
     "text": [
      "Run Time: 0.0 hrs 59.0 mins 54 sec\n"
     ]
    }
   ],
   "source": [
    "end_time = datetime.datetime.now()\n",
    "print_runtime(start_time, end_time)"
   ]
  },
  {
   "cell_type": "code",
   "execution_count": null,
   "metadata": {},
   "outputs": [],
   "source": []
  },
  {
   "cell_type": "code",
   "execution_count": 9,
   "metadata": {},
   "outputs": [],
   "source": [
    "# Functions needed to summarize data and calculate calibration coefficients\n",
    "### Function to get distance from skims\n",
    "def get_distance(origin, destination, mtx=dist_mtx):\n",
    "    dist = mtx[int(origin-1), int(destination-1)]\n",
    "    return dist\n",
    "\n",
    "### Function to calculate calibration coefficients by reading asim outputs\n",
    "def calculate_calib_coef(person_loc=person_loc, \n",
    "                         hh_loc=hh_loc, \n",
    "                         maz_taz_xwalk=maz_taz_xwalk, \n",
    "                         target_freq=target_freq, \n",
    "                         coef_xwalk=coef_xwalk):\n",
    "    ### Read model output files\n",
    "    per = pd.read_csv(person_loc, usecols=['person_id', 'household_id', 'is_worker', 'home_zone_id', 'work_from_home', 'workplace_zone_id'])\n",
    "    hh = pd.read_csv(hh_loc, usecols=['household_id', 'sample_rate'])\n",
    "\n",
    "    ### Get weights\n",
    "    per = pd.merge(per, hh[['household_id', 'sample_rate']], how='left', on=['household_id'], suffixes=('', '_x'))\n",
    "    per['weight'] = 1/per['sample_rate']\n",
    "\n",
    "    ### Get home and work TAZs\n",
    "    per['home_taz'] = per['home_zone_id'].map(maz_taz_xwalk)\n",
    "    per['work_taz'] = per['workplace_zone_id'].map(maz_taz_xwalk)\n",
    "\n",
    "    ### Get workers from all persons\n",
    "    workers = per[per['is_worker']==1]\n",
    "\n",
    "    ### Get persons working within modeling region\n",
    "    home_zone_workers = workers[workers['work_taz']>12]\n",
    "\n",
    "    ### Calculate distance between home and work locations\n",
    "    home_zone_workers['work_dist'] = home_zone_workers.apply(lambda x: get_distance(x.home_taz, x.work_taz), axis=1)\n",
    "\n",
    "    ### Create a new column with labels for work distances\n",
    "    home_zone_workers.loc[home_zone_workers['work_dist']<=2, 'work_distance'] = '0-2'\n",
    "    home_zone_workers.loc[(home_zone_workers['work_dist']>2)&(home_zone_workers['work_dist']<=5), 'work_distance'] = '2-5'\n",
    "    home_zone_workers.loc[(home_zone_workers['work_dist']>5)&(home_zone_workers['work_dist']<=10), 'work_distance'] = '5-10'\n",
    "    home_zone_workers.loc[(home_zone_workers['work_dist']>10)&(home_zone_workers['work_dist']<=20), 'work_distance'] = '10-20'\n",
    "    home_zone_workers.loc[(home_zone_workers['work_dist']>20)&(home_zone_workers['work_dist']<=30), 'work_distance'] = '20-30'\n",
    "    home_zone_workers.loc[home_zone_workers['work_dist']>30, 'work_distance'] = '>30'\n",
    "\n",
    "    ### Create work length frequency table\n",
    "    asim_freq = pd.pivot_table(home_zone_workers, index='work_distance', values='weight', aggfunc=['count', np.sum]).round().astype(int)\n",
    "    asim_freq.columns = asim_freq.columns.get_level_values(0)\n",
    "    asim_freq.rename({'count': 'asim_freq', 'sum': 'asim_freq_wt'}, axis=1, inplace=True)\n",
    "    asim_freq['asim_share'] = round(asim_freq['asim_freq_wt']/asim_freq['asim_freq_wt'].sum(), 6)\n",
    "\n",
    "    ### Calculate calibration coefficients\n",
    "    calib_df = pd.concat([target_freq, asim_freq], axis=1)\n",
    "    calib_df['ratio'] = calib_df['hts_share']/calib_df['asim_share']\n",
    "    calib_df['calib_coef'] = np.log(calib_df['ratio'])\n",
    "    calib_df.rename(index=coef_xwalk, inplace=True)\n",
    "    \n",
    "    return calib_df"
   ]
  },
  {
   "cell_type": "code",
   "execution_count": null,
   "metadata": {},
   "outputs": [],
   "source": []
  },
  {
   "cell_type": "markdown",
   "metadata": {},
   "source": [
    "### Warm Start:\n",
    "Use _resume_after_ feature in settings_mp.yaml to start the run from workplace_location\n",
    "\n",
    "Do multiple calibration runs to achieve the set targets"
   ]
  },
  {
   "cell_type": "code",
   "execution_count": 11,
   "metadata": {},
   "outputs": [
    {
     "name": "stderr",
     "output_type": "stream",
     "text": [
      "C:\\Users\\rsirupa\\AppData\\Local\\Temp\\13\\ipykernel_9700\\546268781.py:32: SettingWithCopyWarning: \n",
      "A value is trying to be set on a copy of a slice from a DataFrame.\n",
      "Try using .loc[row_indexer,col_indexer] = value instead\n",
      "\n",
      "See the caveats in the documentation: https://pandas.pydata.org/pandas-docs/stable/user_guide/indexing.html#returning-a-view-versus-a-copy\n",
      "  home_zone_workers['work_dist'] = home_zone_workers.apply(lambda x: get_distance(x.home_taz, x.work_taz), axis=1)\n",
      "C:\\Users\\rsirupa\\AppData\\Local\\Temp\\13\\ipykernel_9700\\546268781.py:35: SettingWithCopyWarning: \n",
      "A value is trying to be set on a copy of a slice from a DataFrame.\n",
      "Try using .loc[row_indexer,col_indexer] = value instead\n",
      "\n",
      "See the caveats in the documentation: https://pandas.pydata.org/pandas-docs/stable/user_guide/indexing.html#returning-a-view-versus-a-copy\n",
      "  home_zone_workers.loc[home_zone_workers['work_dist']<=2, 'work_distance'] = '0-2'\n"
     ]
    },
    {
     "name": "stdout",
     "output_type": "stream",
     "text": [
      "                           hts_freq  hts_freq_wt  hts_share  asim_freq  \\\n",
      "work_distance                                                            \n",
      "coef_distance_0_2miles          293       151489   0.140469      51183   \n",
      "coef_distance_2_5miles          302       186977   0.173376      68544   \n",
      "coef_distance_5_10miles         458       284815   0.264097      70057   \n",
      "coef_distance_10_20miles        583       327491   0.303669      61832   \n",
      "coef_distance_20_30miles        172        90401   0.083825      19531   \n",
      "coef_distance_30plusmiles        64        37275   0.034564       7118   \n",
      "\n",
      "                           asim_freq_wt  asim_share     ratio  calib_coef  \n",
      "work_distance                                                              \n",
      "coef_distance_0_2miles           217800    0.183936  0.763684   -0.269601  \n",
      "coef_distance_2_5miles           291677    0.246327  0.703845   -0.351197  \n",
      "coef_distance_5_10miles          298115    0.251764  1.048986    0.047824  \n",
      "coef_distance_10_20miles         263115    0.222205  1.366616    0.312338  \n",
      "coef_distance_20_30miles          83111    0.070189  1.194275    0.177540  \n",
      "coef_distance_30plusmiles         30289    0.025580  1.351212    0.301002  \n",
      "Starting Iteration - 1\n",
      "Run Time: 0.0 hrs 35.0 mins 28 sec\n"
     ]
    },
    {
     "name": "stderr",
     "output_type": "stream",
     "text": [
      "C:\\Users\\rsirupa\\AppData\\Local\\Temp\\13\\ipykernel_9700\\546268781.py:32: SettingWithCopyWarning: \n",
      "A value is trying to be set on a copy of a slice from a DataFrame.\n",
      "Try using .loc[row_indexer,col_indexer] = value instead\n",
      "\n",
      "See the caveats in the documentation: https://pandas.pydata.org/pandas-docs/stable/user_guide/indexing.html#returning-a-view-versus-a-copy\n",
      "  home_zone_workers['work_dist'] = home_zone_workers.apply(lambda x: get_distance(x.home_taz, x.work_taz), axis=1)\n",
      "C:\\Users\\rsirupa\\AppData\\Local\\Temp\\13\\ipykernel_9700\\546268781.py:35: SettingWithCopyWarning: \n",
      "A value is trying to be set on a copy of a slice from a DataFrame.\n",
      "Try using .loc[row_indexer,col_indexer] = value instead\n",
      "\n",
      "See the caveats in the documentation: https://pandas.pydata.org/pandas-docs/stable/user_guide/indexing.html#returning-a-view-versus-a-copy\n",
      "  home_zone_workers.loc[home_zone_workers['work_dist']<=2, 'work_distance'] = '0-2'\n"
     ]
    },
    {
     "name": "stdout",
     "output_type": "stream",
     "text": [
      "                           hts_freq  hts_freq_wt  hts_share  asim_freq  \\\n",
      "work_distance                                                            \n",
      "coef_distance_0_2miles          293       151489   0.140469      43686   \n",
      "coef_distance_2_5miles          302       186977   0.173376      52476   \n",
      "coef_distance_5_10miles         458       284815   0.264097      74044   \n",
      "coef_distance_10_20miles        583       327491   0.303669      78470   \n",
      "coef_distance_20_30miles        172        90401   0.083825      21251   \n",
      "coef_distance_30plusmiles        64        37275   0.034564       8338   \n",
      "\n",
      "                           asim_freq_wt  asim_share     ratio  calib_coef  \n",
      "work_distance                                                              \n",
      "coef_distance_0_2miles           185898    0.156994  0.894741   -0.111221  \n",
      "coef_distance_2_5miles           223302    0.188583  0.919362   -0.084076  \n",
      "coef_distance_5_10miles          315081    0.266092  0.992503   -0.007526  \n",
      "coef_distance_10_20miles         333915    0.281997  1.076852    0.074042  \n",
      "coef_distance_20_30miles          90430    0.076370  1.097617    0.093141  \n",
      "coef_distance_30plusmiles         35481    0.029964  1.153518    0.142816  \n",
      "Starting Iteration - 2\n",
      "Run Time: 0.0 hrs 34.0 mins 55 sec\n"
     ]
    },
    {
     "name": "stderr",
     "output_type": "stream",
     "text": [
      "C:\\Users\\rsirupa\\AppData\\Local\\Temp\\13\\ipykernel_9700\\546268781.py:32: SettingWithCopyWarning: \n",
      "A value is trying to be set on a copy of a slice from a DataFrame.\n",
      "Try using .loc[row_indexer,col_indexer] = value instead\n",
      "\n",
      "See the caveats in the documentation: https://pandas.pydata.org/pandas-docs/stable/user_guide/indexing.html#returning-a-view-versus-a-copy\n",
      "  home_zone_workers['work_dist'] = home_zone_workers.apply(lambda x: get_distance(x.home_taz, x.work_taz), axis=1)\n",
      "C:\\Users\\rsirupa\\AppData\\Local\\Temp\\13\\ipykernel_9700\\546268781.py:35: SettingWithCopyWarning: \n",
      "A value is trying to be set on a copy of a slice from a DataFrame.\n",
      "Try using .loc[row_indexer,col_indexer] = value instead\n",
      "\n",
      "See the caveats in the documentation: https://pandas.pydata.org/pandas-docs/stable/user_guide/indexing.html#returning-a-view-versus-a-copy\n",
      "  home_zone_workers.loc[home_zone_workers['work_dist']<=2, 'work_distance'] = '0-2'\n"
     ]
    },
    {
     "name": "stdout",
     "output_type": "stream",
     "text": [
      "                           hts_freq  hts_freq_wt  hts_share  asim_freq  \\\n",
      "work_distance                                                            \n",
      "coef_distance_0_2miles          293       151489   0.140469      40695   \n",
      "coef_distance_2_5miles          302       186977   0.173376      49290   \n",
      "coef_distance_5_10miles         458       284815   0.264097      74082   \n",
      "coef_distance_10_20miles        583       327491   0.303669      82613   \n",
      "coef_distance_20_30miles        172        90401   0.083825      22566   \n",
      "coef_distance_30plusmiles        64        37275   0.034564       9019   \n",
      "\n",
      "                           asim_freq_wt  asim_share     ratio  calib_coef  \n",
      "work_distance                                                              \n",
      "coef_distance_0_2miles           173170    0.146245  0.960505   -0.040296  \n",
      "coef_distance_2_5miles           209745    0.177133  0.978790   -0.021438  \n",
      "coef_distance_5_10miles          315243    0.266228  0.991996   -0.008037  \n",
      "coef_distance_10_20miles         351545    0.296886  1.022847    0.022590  \n",
      "coef_distance_20_30miles          96026    0.081096  1.033651    0.033098  \n",
      "coef_distance_30plusmiles         38379    0.032412  1.066395    0.064284  \n",
      "Starting Iteration - 3\n",
      "Run Time: 0.0 hrs 34.0 mins 45 sec\n"
     ]
    },
    {
     "name": "stderr",
     "output_type": "stream",
     "text": [
      "C:\\Users\\rsirupa\\AppData\\Local\\Temp\\13\\ipykernel_9700\\546268781.py:32: SettingWithCopyWarning: \n",
      "A value is trying to be set on a copy of a slice from a DataFrame.\n",
      "Try using .loc[row_indexer,col_indexer] = value instead\n",
      "\n",
      "See the caveats in the documentation: https://pandas.pydata.org/pandas-docs/stable/user_guide/indexing.html#returning-a-view-versus-a-copy\n",
      "  home_zone_workers['work_dist'] = home_zone_workers.apply(lambda x: get_distance(x.home_taz, x.work_taz), axis=1)\n",
      "C:\\Users\\rsirupa\\AppData\\Local\\Temp\\13\\ipykernel_9700\\546268781.py:35: SettingWithCopyWarning: \n",
      "A value is trying to be set on a copy of a slice from a DataFrame.\n",
      "Try using .loc[row_indexer,col_indexer] = value instead\n",
      "\n",
      "See the caveats in the documentation: https://pandas.pydata.org/pandas-docs/stable/user_guide/indexing.html#returning-a-view-versus-a-copy\n",
      "  home_zone_workers.loc[home_zone_workers['work_dist']<=2, 'work_distance'] = '0-2'\n"
     ]
    },
    {
     "name": "stdout",
     "output_type": "stream",
     "text": [
      "                           hts_freq  hts_freq_wt  hts_share  asim_freq  \\\n",
      "work_distance                                                            \n",
      "coef_distance_0_2miles          293       151489   0.140469      39645   \n",
      "coef_distance_2_5miles          302       186977   0.173376      48479   \n",
      "coef_distance_5_10miles         458       284815   0.264097      73757   \n",
      "coef_distance_10_20miles        583       327491   0.303669      83917   \n",
      "coef_distance_20_30miles        172        90401   0.083825      23021   \n",
      "coef_distance_30plusmiles        64        37275   0.034564       9446   \n",
      "\n",
      "                           asim_freq_wt  asim_share     ratio  calib_coef  \n",
      "work_distance                                                              \n",
      "coef_distance_0_2miles           168702    0.142472  0.985941   -0.014159  \n",
      "coef_distance_2_5miles           206294    0.174219  0.995161   -0.004850  \n",
      "coef_distance_5_10miles          313860    0.265060  0.996367   -0.003640  \n",
      "coef_distance_10_20miles         357094    0.301572  1.006954    0.006929  \n",
      "coef_distance_20_30miles          97962    0.082731  1.013224    0.013137  \n",
      "coef_distance_30plusmiles         40196    0.033946  1.018205    0.018042  \n",
      "Starting Iteration - 4\n",
      "Run Time: 0.0 hrs 34.0 mins 43 sec\n"
     ]
    }
   ],
   "source": [
    "for i in range(1, 5):\n",
    "    calib_df = calculate_calib_coef()\n",
    "    print(calib_df)\n",
    "\n",
    "    ### Save previous coefficients\n",
    "    workplace_coef.to_csv(os.path.join(configs_resident, 'workplace_location_coefficients_'+str(i-1)+'.csv'))\n",
    "\n",
    "    ### Update and save coefficients\n",
    "    workplace_coef.loc[coef_xwalk.values(), 'value'] += calib_df.loc[coef_xwalk.values(), 'calib_coef']\n",
    "    workplace_coef.to_csv(os.path.join(configs_resident, 'workplace_location_coefficients.csv'))\n",
    "\n",
    "    ### Run ActivitySim\n",
    "    print('Starting Iteration -', i)\n",
    "    start_time = datetime.datetime.now()\n",
    "    os.system(asim_command)\n",
    "\n",
    "    end_time = datetime.datetime.now()\n",
    "    print_runtime(start_time, end_time)"
   ]
  },
  {
   "cell_type": "code",
   "execution_count": 14,
   "metadata": {},
   "outputs": [
    {
     "name": "stderr",
     "output_type": "stream",
     "text": [
      "C:\\Users\\rsirupa\\AppData\\Local\\Temp\\13\\ipykernel_9700\\546268781.py:32: SettingWithCopyWarning: \n",
      "A value is trying to be set on a copy of a slice from a DataFrame.\n",
      "Try using .loc[row_indexer,col_indexer] = value instead\n",
      "\n",
      "See the caveats in the documentation: https://pandas.pydata.org/pandas-docs/stable/user_guide/indexing.html#returning-a-view-versus-a-copy\n",
      "  home_zone_workers['work_dist'] = home_zone_workers.apply(lambda x: get_distance(x.home_taz, x.work_taz), axis=1)\n",
      "C:\\Users\\rsirupa\\AppData\\Local\\Temp\\13\\ipykernel_9700\\546268781.py:35: SettingWithCopyWarning: \n",
      "A value is trying to be set on a copy of a slice from a DataFrame.\n",
      "Try using .loc[row_indexer,col_indexer] = value instead\n",
      "\n",
      "See the caveats in the documentation: https://pandas.pydata.org/pandas-docs/stable/user_guide/indexing.html#returning-a-view-versus-a-copy\n",
      "  home_zone_workers.loc[home_zone_workers['work_dist']<=2, 'work_distance'] = '0-2'\n"
     ]
    },
    {
     "data": {
      "text/html": [
       "<div>\n",
       "<style scoped>\n",
       "    .dataframe tbody tr th:only-of-type {\n",
       "        vertical-align: middle;\n",
       "    }\n",
       "\n",
       "    .dataframe tbody tr th {\n",
       "        vertical-align: top;\n",
       "    }\n",
       "\n",
       "    .dataframe thead th {\n",
       "        text-align: right;\n",
       "    }\n",
       "</style>\n",
       "<table border=\"1\" class=\"dataframe\">\n",
       "  <thead>\n",
       "    <tr style=\"text-align: right;\">\n",
       "      <th></th>\n",
       "      <th>hts_freq</th>\n",
       "      <th>hts_freq_wt</th>\n",
       "      <th>hts_share</th>\n",
       "      <th>asim_freq</th>\n",
       "      <th>asim_freq_wt</th>\n",
       "      <th>asim_share</th>\n",
       "      <th>ratio</th>\n",
       "      <th>calib_coef</th>\n",
       "    </tr>\n",
       "    <tr>\n",
       "      <th>work_distance</th>\n",
       "      <th></th>\n",
       "      <th></th>\n",
       "      <th></th>\n",
       "      <th></th>\n",
       "      <th></th>\n",
       "      <th></th>\n",
       "      <th></th>\n",
       "      <th></th>\n",
       "    </tr>\n",
       "  </thead>\n",
       "  <tbody>\n",
       "    <tr>\n",
       "      <th>coef_distance_0_2miles</th>\n",
       "      <td>293</td>\n",
       "      <td>151489</td>\n",
       "      <td>0.140469</td>\n",
       "      <td>39156</td>\n",
       "      <td>166621</td>\n",
       "      <td>0.140714</td>\n",
       "      <td>0.998259</td>\n",
       "      <td>-0.001743</td>\n",
       "    </tr>\n",
       "    <tr>\n",
       "      <th>coef_distance_2_5miles</th>\n",
       "      <td>302</td>\n",
       "      <td>186977</td>\n",
       "      <td>0.173376</td>\n",
       "      <td>48272</td>\n",
       "      <td>205413</td>\n",
       "      <td>0.173475</td>\n",
       "      <td>0.999429</td>\n",
       "      <td>-0.000571</td>\n",
       "    </tr>\n",
       "    <tr>\n",
       "      <th>coef_distance_5_10miles</th>\n",
       "      <td>458</td>\n",
       "      <td>284815</td>\n",
       "      <td>0.264097</td>\n",
       "      <td>73511</td>\n",
       "      <td>312813</td>\n",
       "      <td>0.264176</td>\n",
       "      <td>0.999701</td>\n",
       "      <td>-0.000299</td>\n",
       "    </tr>\n",
       "    <tr>\n",
       "      <th>coef_distance_10_20miles</th>\n",
       "      <td>583</td>\n",
       "      <td>327491</td>\n",
       "      <td>0.303669</td>\n",
       "      <td>84430</td>\n",
       "      <td>359277</td>\n",
       "      <td>0.303416</td>\n",
       "      <td>1.000834</td>\n",
       "      <td>0.000833</td>\n",
       "    </tr>\n",
       "    <tr>\n",
       "      <th>coef_distance_20_30miles</th>\n",
       "      <td>172</td>\n",
       "      <td>90401</td>\n",
       "      <td>0.083825</td>\n",
       "      <td>23311</td>\n",
       "      <td>99196</td>\n",
       "      <td>0.083773</td>\n",
       "      <td>1.000621</td>\n",
       "      <td>0.000621</td>\n",
       "    </tr>\n",
       "    <tr>\n",
       "      <th>coef_distance_30plusmiles</th>\n",
       "      <td>64</td>\n",
       "      <td>37275</td>\n",
       "      <td>0.034564</td>\n",
       "      <td>9585</td>\n",
       "      <td>40787</td>\n",
       "      <td>0.034445</td>\n",
       "      <td>1.003455</td>\n",
       "      <td>0.003449</td>\n",
       "    </tr>\n",
       "  </tbody>\n",
       "</table>\n",
       "</div>"
      ],
      "text/plain": [
       "                           hts_freq  hts_freq_wt  hts_share  asim_freq  \\\n",
       "work_distance                                                            \n",
       "coef_distance_0_2miles          293       151489   0.140469      39156   \n",
       "coef_distance_2_5miles          302       186977   0.173376      48272   \n",
       "coef_distance_5_10miles         458       284815   0.264097      73511   \n",
       "coef_distance_10_20miles        583       327491   0.303669      84430   \n",
       "coef_distance_20_30miles        172        90401   0.083825      23311   \n",
       "coef_distance_30plusmiles        64        37275   0.034564       9585   \n",
       "\n",
       "                           asim_freq_wt  asim_share     ratio  calib_coef  \n",
       "work_distance                                                              \n",
       "coef_distance_0_2miles           166621    0.140714  0.998259   -0.001743  \n",
       "coef_distance_2_5miles           205413    0.173475  0.999429   -0.000571  \n",
       "coef_distance_5_10miles          312813    0.264176  0.999701   -0.000299  \n",
       "coef_distance_10_20miles         359277    0.303416  1.000834    0.000833  \n",
       "coef_distance_20_30miles          99196    0.083773  1.000621    0.000621  \n",
       "coef_distance_30plusmiles         40787    0.034445  1.003455    0.003449  "
      ]
     },
     "execution_count": 14,
     "metadata": {},
     "output_type": "execute_result"
    }
   ],
   "source": [
    "### Create the work distance frequency distribution summary after calibration\n",
    "calculate_calib_coef()"
   ]
  },
  {
   "cell_type": "code",
   "execution_count": null,
   "metadata": {},
   "outputs": [],
   "source": []
  }
 ],
 "metadata": {
  "interpreter": {
   "hash": "e3f79b2c8f03c3912a9a1752447f15ee37a3803b944720cd5a99857629ad6fa8"
  },
  "kernelspec": {
   "display_name": "Python 3 (ipykernel)",
   "language": "python",
   "name": "python3"
  },
  "language_info": {
   "codemirror_mode": {
    "name": "ipython",
    "version": 3
   },
   "file_extension": ".py",
   "mimetype": "text/x-python",
   "name": "python",
   "nbconvert_exporter": "python",
   "pygments_lexer": "ipython3",
   "version": "3.9.17"
  }
 },
 "nbformat": 4,
 "nbformat_minor": 2
}
